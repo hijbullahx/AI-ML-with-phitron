{
 "cells": [
  {
   "cell_type": "markdown",
   "id": "a19b9db6",
   "metadata": {},
   "source": [
    "1 . Create a 1D, 2D, and 3D NumPy array and print their dimensions and shapes."
   ]
  },
  {
   "cell_type": "code",
   "execution_count": 1,
   "id": "68df3f54",
   "metadata": {},
   "outputs": [
    {
     "name": "stdout",
     "output_type": "stream",
     "text": [
      "1D Array: \n",
      "[1 2 3 4 5 6]\n",
      "\n",
      "2D Array: \n",
      "[[1 2 3]\n",
      " [4 5 6]]\n",
      "\n",
      "3D Array: \n",
      "[[[ 1  2  3]\n",
      "  [ 4  5  6]]\n",
      "\n",
      " [[ 7  8  9]\n",
      "  [10 11 12]]]\n"
     ]
    }
   ],
   "source": [
    "import numpy as np\n",
    "# 1D Array\n",
    "D1_arr = np.array([1,2,3,4,5,6])\n",
    "print(f\"1D Array: \\n{D1_arr}\\n\")\n",
    "\n",
    "# 2D Array\n",
    "D2_arr = np.array([[1,2,3], #Row 1\n",
    "                   [4,5,6]])#Row 2\n",
    "print(f\"2D Array: \\n{D2_arr}\\n\")\n",
    "\n",
    "# 3D Array\n",
    "D3_arr = np.array([\n",
    "                  #First Floor\n",
    "                  [[1,2,3], #Row 1\n",
    "                   [4,5,6]],#Row 2\n",
    "                   #Second Floor\n",
    "                   [[7,8,9], #Row 1\n",
    "                   [10,11,12]]#Row 2\n",
    "                   ])\n",
    "print(f\"3D Array: \\n{D3_arr}\")"
   ]
  },
  {
   "cell_type": "markdown",
   "id": "25c369ef",
   "metadata": {},
   "source": [
    "2 . Create:\n",
    "\n",
    "an array of zeros of shape (3,3)\n",
    "\n",
    "\n",
    "an array of ones of shape (2,5)\n",
    "\n",
    "\n",
    "an array filled with 7\n"
   ]
  },
  {
   "cell_type": "code",
   "execution_count": 9,
   "id": "05cba92b",
   "metadata": {},
   "outputs": [
    {
     "name": "stdout",
     "output_type": "stream",
     "text": [
      "An array of zeros of shape (3,3): \n",
      "[[0 0 0]\n",
      " [0 0 0]\n",
      " [0 0 0]] \n",
      "\n",
      "An array of ones of shape (2,5): \n",
      "[[1 1 1 1 1]\n",
      " [1 1 1 1 1]] \n",
      "\n",
      "An array filled with 7: \n",
      "[7 7 7 7 7]\n",
      "\n"
     ]
    }
   ],
   "source": [
    "#an array of zeros of shape (3,3)\n",
    "import numpy as np\n",
    "arr_0 = np.zeros((3,3), dtype= np.int64)\n",
    "print(f\"An array of zeros of shape (3,3): \\n{arr_0} \\n\")\n",
    "\n",
    "#an array of ones of shape (2,5)\n",
    "arr_1 = np.ones((2,5), dtype= np.int64)\n",
    "print(f\"An array of ones of shape (2,5): \\n{arr_1} \\n\")\n",
    "\n",
    "#An array filled with 7\n",
    "arr_7 = np.full((5,),7)\n",
    "print(f\"An array filled with 7: \\n{arr_7}\\n\")"
   ]
  },
  {
   "cell_type": "markdown",
   "id": "64941111",
   "metadata": {},
   "source": [
    "3 . Create an array of even numbers between 10 and 50 using arange.\n"
   ]
  },
  {
   "cell_type": "code",
   "execution_count": 3,
   "id": "5247b032",
   "metadata": {},
   "outputs": [
    {
     "name": "stdout",
     "output_type": "stream",
     "text": [
      "[10 12 14 16 18 20 22 24 26 28 30 32 34 36 38 40 42 44 46 48]\n"
     ]
    }
   ],
   "source": [
    "import numpy as np\n",
    "\n",
    "even = np.arange(10,50,2)\n",
    "print(even)"
   ]
  },
  {
   "cell_type": "markdown",
   "id": "c9f45701",
   "metadata": {},
   "source": [
    "4 . Create a 4×4 matrix from 0–15. Then , extract:\n",
    "\n",
    "the first row\n",
    "\n",
    "\n",
    "the last column\n",
    "\n",
    "\n",
    "a 2×2 subarray from the center\n"
   ]
  },
  {
   "cell_type": "code",
   "execution_count": 11,
   "id": "8b725350",
   "metadata": {},
   "outputs": [
    {
     "name": "stdout",
     "output_type": "stream",
     "text": [
      "[[ 0  1  2  3]\n",
      " [ 4  5  6  7]\n",
      " [ 8  9 10 11]\n",
      " [12 13 14 15]]\n",
      "\n",
      "First Row: \n",
      "[[0 1 2 3]]\n",
      "\n",
      "Last Column: \n",
      "[[ 3]\n",
      " [ 7]\n",
      " [11]\n",
      " [15]]\n",
      "\n",
      "2x2 sub array from centere: \n",
      "[[ 5  6]\n",
      " [ 9 10]]\n"
     ]
    }
   ],
   "source": [
    "mat = np.arange(0,16).reshape(4,4)\n",
    "print(mat)\n",
    "\n",
    "frst_row = mat[0:1,]\n",
    "lst_clmn = mat[::, 3:]\n",
    "cntr_prtn = mat[1:3, 1:3]\n",
    "print(f\"\\nFirst Row: \\n{frst_row}\")\n",
    "print(f\"\\nLast Column: \\n{lst_clmn}\")\n",
    "print(f\"\\n2x2 sub array from centere: \\n{cntr_prtn}\")\n",
    "\n"
   ]
  },
  {
   "cell_type": "markdown",
   "id": "73635518",
   "metadata": {},
   "source": [
    "5 . Add a 1D array [1,2,3] to each row of a 3×3 matrix.\n"
   ]
  },
  {
   "cell_type": "code",
   "execution_count": 30,
   "id": "a3652cd0",
   "metadata": {},
   "outputs": [],
   "source": [
    "arr = np.random.randint(1,20, size= (3,3) )"
   ]
  },
  {
   "cell_type": "code",
   "execution_count": 40,
   "id": "5510632b",
   "metadata": {},
   "outputs": [
    {
     "name": "stdout",
     "output_type": "stream",
     "text": [
      "Main Array: \n",
      "[[12 19 16]\n",
      " [ 9 12 10]\n",
      " [ 4 18  1]]\n",
      "\n",
      "Added Array: \n",
      "[[13 21 19]\n",
      " [10 14 13]\n",
      " [ 5 20  4]]\n",
      "\n"
     ]
    }
   ],
   "source": [
    "c_arr = arr.copy()\n",
    "print(f\"Main Array: \\n{c_arr}\\n\")\n",
    "D1_arr = [1,2,3]\n",
    "add_arr = c_arr + D1_arr\n",
    "print(f\"Added Array: \\n{add_arr}\\n\")"
   ]
  },
  {
   "cell_type": "markdown",
   "id": "4261d043",
   "metadata": {},
   "source": [
    "6 . Given two arrays A and B, compute:\n",
    "\n",
    "(A + B) / 2\n",
    "\n",
    "A**2 + B**2\n"
   ]
  },
  {
   "cell_type": "code",
   "execution_count": 45,
   "id": "886336b0",
   "metadata": {},
   "outputs": [
    {
     "name": "stdout",
     "output_type": "stream",
     "text": [
      "(A + B) / 2 : [ 1.5  2.5  3.5 29.   5.5]\n",
      "A**2 + B**2 : [   5   13   25 2932   61]\n"
     ]
    }
   ],
   "source": [
    "A = np.array([1,2,3,4,5])\n",
    "B = np.array([2,3,4,54,6])\n",
    "\n",
    "print(f\"(A + B) / 2 : {(A+B)/2}\")\n",
    "print(f\"A**2 + B**2 : {(A**2)+ (B**2)}\")"
   ]
  }
 ],
 "metadata": {
  "kernelspec": {
   "display_name": "Python 3.11 (latest)",
   "language": "python",
   "name": "python-3.11"
  },
  "language_info": {
   "codemirror_mode": {
    "name": "ipython",
    "version": 3
   },
   "file_extension": ".py",
   "mimetype": "text/x-python",
   "name": "python",
   "nbconvert_exporter": "python",
   "pygments_lexer": "ipython3",
   "version": "3.11.9"
  }
 },
 "nbformat": 4,
 "nbformat_minor": 5
}
