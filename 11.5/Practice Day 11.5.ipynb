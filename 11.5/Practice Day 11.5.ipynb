{
 "cells": [
  {
   "cell_type": "markdown",
   "id": "a19b9db6",
   "metadata": {},
   "source": [
    "1 . Create a 1D, 2D, and 3D NumPy array and print their dimensions and shapes."
   ]
  },
  {
   "cell_type": "code",
   "execution_count": 17,
   "id": "68df3f54",
   "metadata": {},
   "outputs": [
    {
     "name": "stdout",
     "output_type": "stream",
     "text": [
      "1D Array: \n",
      "[1 2 3 4 5 6]\n",
      "\n",
      "2D Array: \n",
      "[[1 2 3]\n",
      " [4 5 6]]\n",
      "\n",
      "3D Array: \n",
      "[[[ 1  2  3]\n",
      "  [ 4  5  6]]\n",
      "\n",
      " [[ 7  8  9]\n",
      "  [10 11 12]]]\n"
     ]
    }
   ],
   "source": [
    "import numpy as np\n",
    "# 1D Array\n",
    "D1_arr = np.array([1,2,3,4,5,6])\n",
    "print(f\"1D Array: \\n{D1_arr}\\n\")\n",
    "\n",
    "# 2D Array\n",
    "D2_arr = np.array([[1,2,3], #Row 1\n",
    "                   [4,5,6]])#Row 2\n",
    "print(f\"2D Array: \\n{D2_arr}\\n\")\n",
    "\n",
    "# 3D Array\n",
    "D3_arr = np.array([\n",
    "                  #First Floor\n",
    "                  [[1,2,3], #Row 1\n",
    "                   [4,5,6]],#Row 2\n",
    "                   #Second Floor\n",
    "                   [[7,8,9], #Row 1\n",
    "                   [10,11,12]]#Row 2\n",
    "                   ])\n",
    "print(f\"3D Array: \\n{D3_arr}\")"
   ]
  }
 ],
 "metadata": {
  "kernelspec": {
   "display_name": "Python 3.11 (latest)",
   "language": "python",
   "name": "python-3.11"
  },
  "language_info": {
   "codemirror_mode": {
    "name": "ipython",
    "version": 3
   },
   "file_extension": ".py",
   "mimetype": "text/x-python",
   "name": "python",
   "nbconvert_exporter": "python",
   "pygments_lexer": "ipython3",
   "version": "3.11.9"
  }
 },
 "nbformat": 4,
 "nbformat_minor": 5
}
