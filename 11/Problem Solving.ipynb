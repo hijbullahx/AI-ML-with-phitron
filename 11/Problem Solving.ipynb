{
 "cells": [
  {
   "cell_type": "markdown",
   "id": "a9847ede",
   "metadata": {},
   "source": [
    "1. https://www.deep-ml.com/problems/4\n",
    "\n",
    "2. https://www.deep-ml.com/problems/1\n"
   ]
  },
  {
   "cell_type": "code",
   "execution_count": 1,
   "id": "f74422c1",
   "metadata": {},
   "outputs": [],
   "source": [
    "import numpy as np\n",
    "\n",
    "def calculate_matrix_mean(matrix: list[list[float]], mode: str) -> list[float]:\n",
    "  mat= np.array(matrix)\n",
    "  if mode == 'row':\n",
    "    means = np.mean(matrix, axis = 1).tolist()\n",
    "  else:\n",
    "    means = np.mean(matrix, axis = 0).tolist()\n",
    "  return means\n"
   ]
  },
  {
   "cell_type": "code",
   "execution_count": 2,
   "id": "57897621",
   "metadata": {},
   "outputs": [],
   "source": [
    "import numpy as np\n",
    "def matrix_dot_vector(a: list[list[int|float]], b: list[int|float]) -> list[int|float]:\n",
    "  a = np.array(a)\n",
    "  b = np.array(b)\n",
    "  shape_a = a.shape\n",
    "  if shape_a[1] != b.size:\n",
    "    return -1\n",
    "    \n",
    "  dot = np.dot(a,b).tolist()\n",
    "  return dot"
   ]
  },
  {
   "cell_type": "code",
   "execution_count": 3,
   "id": "1f9208d1",
   "metadata": {},
   "outputs": [
    {
     "name": "stdout",
     "output_type": "stream",
     "text": [
      "(2, 3)\n"
     ]
    }
   ],
   "source": [
    "a = np.array([1,2,3,4,5,6])\n",
    "b = a.reshape(2,3)\n",
    "print(b.shape)"
   ]
  },
  {
   "cell_type": "code",
   "execution_count": 4,
   "id": "e5481f2d",
   "metadata": {},
   "outputs": [
    {
     "name": "stdout",
     "output_type": "stream",
     "text": [
      "1.0\n"
     ]
    }
   ],
   "source": [
    "print(np.sin(np.pi/2))"
   ]
  },
  {
   "cell_type": "code",
   "execution_count": 5,
   "id": "0f2abb36",
   "metadata": {},
   "outputs": [
    {
     "name": "stdout",
     "output_type": "stream",
     "text": [
      "[5 7 9]\n"
     ]
    }
   ],
   "source": [
    "a = np.array([1,2,3])\n",
    "b = np.array([4,5,6])\n",
    "print(a+b)"
   ]
  },
  {
   "cell_type": "code",
   "execution_count": 6,
   "id": "4c9f8627",
   "metadata": {},
   "outputs": [
    {
     "name": "stdout",
     "output_type": "stream",
     "text": [
      "[1 2 3]\n"
     ]
    }
   ],
   "source": [
    "a = np.array([1,2,3])\n",
    "print(np.sort(a))"
   ]
  },
  {
   "cell_type": "code",
   "execution_count": 7,
   "id": "93a5b521",
   "metadata": {},
   "outputs": [
    {
     "name": "stdout",
     "output_type": "stream",
     "text": [
      "[[19 22]\n",
      " [43 50]]\n"
     ]
    }
   ],
   "source": [
    "A = np.array([[1, 2], [3, 4]])\n",
    "B = np.array([[5, 6], [7, 8]])\n",
    "dot_p = np.dot(A,B)\n",
    "print(dot_p)\n"
   ]
  },
  {
   "cell_type": "markdown",
   "id": "1bab7548",
   "metadata": {},
   "source": [
    "1. https://www.deep-ml.com/problems/2"
   ]
  },
  {
   "cell_type": "code",
   "execution_count": 9,
   "id": "0baf091b",
   "metadata": {},
   "outputs": [],
   "source": [
    "import numpy as np\n",
    "def transpose_matrix(a: list[list[int|float]]) -> list[list[int|float]]:\n",
    "  b = np.transpose(a).tolist()\n",
    "  return b"
   ]
  }
 ],
 "metadata": {
  "kernelspec": {
   "display_name": "Python 3.11 (latest)",
   "language": "python",
   "name": "python-3.11"
  },
  "language_info": {
   "codemirror_mode": {
    "name": "ipython",
    "version": 3
   },
   "file_extension": ".py",
   "mimetype": "text/x-python",
   "name": "python",
   "nbconvert_exporter": "python",
   "pygments_lexer": "ipython3",
   "version": "3.11.9"
  }
 },
 "nbformat": 4,
 "nbformat_minor": 5
}
