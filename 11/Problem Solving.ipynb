{
 "cells": [
  {
   "cell_type": "markdown",
   "id": "a9847ede",
   "metadata": {},
   "source": [
    "1. https://www.deep-ml.com/problems/4\n",
    "\n",
    "2. https://www.deep-ml.com/problems/1\n"
   ]
  },
  {
   "cell_type": "code",
   "execution_count": 13,
   "id": "f74422c1",
   "metadata": {},
   "outputs": [],
   "source": [
    "import numpy as np\n",
    "\n",
    "def calculate_matrix_mean(matrix: list[list[float]], mode: str) -> list[float]:\n",
    "  mat= np.array(matrix)\n",
    "  if mode == 'row':\n",
    "    means = np.mean(matrix, axis = 1).tolist()\n",
    "  else:\n",
    "    means = np.mean(matrix, axis = 0).tolist()\n",
    "  return means\n"
   ]
  },
  {
   "cell_type": "code",
   "execution_count": 3,
   "id": "57897621",
   "metadata": {},
   "outputs": [],
   "source": [
    "import numpy as np\n",
    "def matrix_dot_vector(a: list[list[int|float]], b: list[int|float]) -> list[int|float]:\n",
    "  a = np.array(a)\n",
    "  b = np.array(b)\n",
    "  shape_a = a.shape\n",
    "  if shape_a[1] != b.size:\n",
    "    return -1\n",
    "    \n",
    "  dot = np.dot(a,b).tolist()\n",
    "  return dot"
   ]
  }
 ],
 "metadata": {
  "kernelspec": {
   "display_name": "Python 3.11 (latest)",
   "language": "python",
   "name": "python-3.11"
  },
  "language_info": {
   "codemirror_mode": {
    "name": "ipython",
    "version": 3
   },
   "file_extension": ".py",
   "mimetype": "text/x-python",
   "name": "python",
   "nbconvert_exporter": "python",
   "pygments_lexer": "ipython3",
   "version": "3.11.9"
  }
 },
 "nbformat": 4,
 "nbformat_minor": 5
}
