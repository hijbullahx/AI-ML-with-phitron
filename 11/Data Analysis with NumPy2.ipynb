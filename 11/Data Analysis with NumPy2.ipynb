{
 "cells": [
  {
   "cell_type": "markdown",
   "id": "bd250cec",
   "metadata": {},
   "source": [
    "# 11.1 ndarray Manipulation -1\n"
   ]
  },
  {
   "cell_type": "code",
   "execution_count": 1,
   "id": "8c8a473b",
   "metadata": {},
   "outputs": [
    {
     "name": "stdout",
     "output_type": "stream",
     "text": [
      "(10, 5)\n",
      "[[48 99 80 81 76]\n",
      " [ 6 75 16 37 15]\n",
      " [92 84 26 79 61]\n",
      " [48 41 32 72 11]\n",
      " [49 67 38 13  7]\n",
      " [80 70 60 38 23]\n",
      " [59 32 27 76 97]\n",
      " [32 98 58 56 49]\n",
      " [92 95 13 46 34]\n",
      " [79 33 89 21 78]]\n",
      "2\n"
     ]
    }
   ],
   "source": [
    "import numpy as np\n",
    "arr = np.random.randint(1,100, size = (10,5)) #sample = 10, feature = 5\n",
    "print(arr.shape)\n",
    "print(arr)\n",
    "print(arr.ndim)"
   ]
  },
  {
   "cell_type": "code",
   "execution_count": 2,
   "id": "184082d0",
   "metadata": {},
   "outputs": [
    {
     "name": "stdout",
     "output_type": "stream",
     "text": [
      "(2, 25)\n",
      "[[48 99 80 81 76  6 75 16 37 15 92 84 26 79 61 48 41 32 72 11 49 67 38 13\n",
      "   7]\n",
      " [80 70 60 38 23 59 32 27 76 97 32 98 58 56 49 92 95 13 46 34 79 33 89 21\n",
      "  78]]\n",
      "2\n"
     ]
    }
   ],
   "source": [
    "# Changing shape\n",
    "b = arr.reshape(2,25)\n",
    "print(b.shape)\n",
    "print(b)\n",
    "print(b.ndim)"
   ]
  },
  {
   "cell_type": "code",
   "execution_count": 3,
   "id": "cbdb7358",
   "metadata": {},
   "outputs": [
    {
     "name": "stdout",
     "output_type": "stream",
     "text": [
      "[48 99 80 81 76  6 75 16 37 15 92 84 26 79 61 48 41 32 72 11 49 67 38 13\n",
      "  7 80 70 60 38 23 59 32 27 76 97 32 98 58 56 49 92 95 13 46 34 79 33 89\n",
      " 21 78]\n"
     ]
    }
   ],
   "source": [
    "# Changing Dimension\n",
    "# 1D\n",
    "flatten = b.flatten()\n",
    "print(flatten)"
   ]
  },
  {
   "cell_type": "code",
   "execution_count": 4,
   "id": "bef803f5",
   "metadata": {},
   "outputs": [
    {
     "name": "stdout",
     "output_type": "stream",
     "text": [
      "[48 80 99 70 80 60 81 38 76 23  6 59 75 32 16 27 37 76 15 97 92 32 84 98\n",
      " 26 58 79 56 61 49 48 92 41 95 32 13 72 46 11 34 49 79 67 33 38 89 13 21\n",
      "  7 78]\n"
     ]
    }
   ],
   "source": [
    "column_wise_flattening = np.ravel(b, order= 'F')\n",
    "print(column_wise_flattening)"
   ]
  },
  {
   "cell_type": "code",
   "execution_count": 5,
   "id": "51c90d94",
   "metadata": {},
   "outputs": [
    {
     "name": "stdout",
     "output_type": "stream",
     "text": [
      "[[3 1 5]\n",
      " [7 8 6]]\n",
      "[[21 29 26]\n",
      " [22 22 21]]\n"
     ]
    }
   ],
   "source": [
    "a = np.random.randint(1,10, size = (2,3))\n",
    "b = np.random.randint(20,30, size = (2,3))\n",
    "\n",
    "print(a)\n",
    "print(b)"
   ]
  },
  {
   "cell_type": "code",
   "execution_count": 6,
   "id": "46ab4feb",
   "metadata": {},
   "outputs": [
    {
     "name": "stdout",
     "output_type": "stream",
     "text": [
      "[[ 3  1  5]\n",
      " [ 7  8  6]\n",
      " [21 29 26]\n",
      " [22 22 21]]\n",
      "[[ 3  1  5 21 29 26]\n",
      " [ 7  8  6 22 22 21]]\n"
     ]
    }
   ],
   "source": [
    "# Concatenat\n",
    "\n",
    "\n",
    "con = np.concatenate((a,b), axis = 0) #row wise\n",
    "print(con)\n",
    "con_c = np.concatenate((a,b), axis = 1) #Column wise\n",
    "print(con_c)"
   ]
  },
  {
   "cell_type": "markdown",
   "id": "31b5b36b",
   "metadata": {},
   "source": [
    "# 11.2 ndarray Manipulation - 2\n"
   ]
  },
  {
   "cell_type": "code",
   "execution_count": 7,
   "id": "b3de5da0",
   "metadata": {},
   "outputs": [
    {
     "name": "stdout",
     "output_type": "stream",
     "text": [
      "[[100  30]\n",
      " [ 20 400]\n",
      " [ 30  50]]\n"
     ]
    }
   ],
   "source": [
    "# Transpose\n",
    "mat = np.array([[100,20,30],[30,400,50]])\n",
    "\n",
    "Transpose = mat.T\n",
    "print(Transpose)"
   ]
  },
  {
   "cell_type": "code",
   "execution_count": 8,
   "id": "3778f9c1",
   "metadata": {},
   "outputs": [
    {
     "name": "stdout",
     "output_type": "stream",
     "text": [
      "[7 7 8 1 3 3 2 2 4 8]\n"
     ]
    }
   ],
   "source": [
    "#Array split\n",
    "\n",
    "a = np.random.randint(1,10, size= (10,))\n",
    "print(a)"
   ]
  },
  {
   "cell_type": "code",
   "execution_count": 9,
   "id": "e617895e",
   "metadata": {},
   "outputs": [
    {
     "name": "stdout",
     "output_type": "stream",
     "text": [
      "[array([7, 7, 8, 1], dtype=int32), array([3, 3, 2], dtype=int32), array([2, 4, 8], dtype=int32)]\n"
     ]
    }
   ],
   "source": [
    "splitted_array = np.array_split(a, 3)\n",
    "print(splitted_array)"
   ]
  },
  {
   "cell_type": "markdown",
   "id": "9347257c",
   "metadata": {},
   "source": [
    "# 11.3 ndarray Arithmetic Operators and Mathematical function"
   ]
  },
  {
   "cell_type": "code",
   "execution_count": 10,
   "id": "80e085c7",
   "metadata": {},
   "outputs": [
    {
     "name": "stdout",
     "output_type": "stream",
     "text": [
      "[12 23 34 45]\n",
      "[ 8 17 26 35]\n",
      "[ 20  60 120 200]\n",
      "[5.         6.66666667 7.5        8.        ]\n",
      "[0 2 2 0]\n"
     ]
    }
   ],
   "source": [
    "#mathematical operator\n",
    "#Faster for vectorization\n",
    "x = np.array([10,20,30,40])\n",
    "y = np.array([2,3,4,5])\n",
    "\n",
    "add = x+y\n",
    "\n",
    "print(add)\n",
    "\n",
    "sub = x-y\n",
    "\n",
    "print(sub)\n",
    "\n",
    "mul = x*y\n",
    "print(mul)\n",
    "\n",
    "div = x/y\n",
    "print(div)\n",
    "\n",
    "rem = x%y\n",
    "print(rem)"
   ]
  },
  {
   "cell_type": "code",
   "execution_count": 11,
   "id": "e6625687",
   "metadata": {},
   "outputs": [
    {
     "name": "stdout",
     "output_type": "stream",
     "text": [
      "[-0.54402111  0.91294525 -0.98803162  0.74511316]\n",
      "[-0.83907153  0.40808206  0.15425145 -0.66693806]\n",
      "[ 0.64836083  2.23716094 -6.4053312  -1.11721493]\n"
     ]
    }
   ],
   "source": [
    "#mathematical function\n",
    "\n",
    "#trigonometry\n",
    "sin_val = np.sin(x)\n",
    "cos_val = np.cos(x)\n",
    "tan_val = np.tan(x)\n",
    "\n",
    "print(sin_val)\n",
    "print(cos_val)\n",
    "print(tan_val)\n"
   ]
  },
  {
   "cell_type": "code",
   "execution_count": 12,
   "id": "236261ce",
   "metadata": {},
   "outputs": [
    {
     "name": "stdout",
     "output_type": "stream",
     "text": [
      "[ 572.95779513 1145.91559026 1718.87338539 2291.83118052]\n",
      "[0.17453293 0.34906585 0.52359878 0.6981317 ]\n"
     ]
    }
   ],
   "source": [
    "#Converting Degree<->Radian\n",
    "#radian to degree\n",
    "deg_con = np.rad2deg(x)\n",
    "print(deg_con)\n",
    "#degree to radian\n",
    "red_con = np.deg2rad(x)\n",
    "print(red_con)"
   ]
  },
  {
   "cell_type": "code",
   "execution_count": 13,
   "id": "02a7d688",
   "metadata": {},
   "outputs": [
    {
     "name": "stdout",
     "output_type": "stream",
     "text": [
      "[10 20 30 40]\n",
      "[1.         1.30103    1.47712125 1.60205999]\n",
      "[3.32192809 4.32192809 4.9068906  5.32192809]\n"
     ]
    }
   ],
   "source": [
    "#log\n",
    "print(x)\n",
    "bas_10_log = np.log10(x)\n",
    "print(bas_10_log)\n",
    "\n",
    "bas_2_log = np.log2(x)\n",
    "print(bas_2_log)"
   ]
  },
  {
   "cell_type": "code",
   "execution_count": 14,
   "id": "5d657721",
   "metadata": {},
   "outputs": [
    {
     "name": "stdout",
     "output_type": "stream",
     "text": [
      "[3.16227766 4.47213595 5.47722558 6.32455532]\n",
      "100\n",
      "[ 10  30  60 100]\n"
     ]
    }
   ],
   "source": [
    "#Square root\n",
    "\n",
    "sqr_rt = np.sqrt(x)\n",
    "print(sqr_rt)\n",
    "\n",
    "sum = np.sum(x)\n",
    "print(sum)\n",
    "c_sum = np.cumulative_sum(x)\n",
    "print(c_sum)"
   ]
  },
  {
   "cell_type": "markdown",
   "id": "32283228",
   "metadata": {},
   "source": [
    "# 11.4 Numpy Broadcasting"
   ]
  },
  {
   "cell_type": "code",
   "execution_count": 15,
   "id": "e25f60e4",
   "metadata": {},
   "outputs": [
    {
     "name": "stdout",
     "output_type": "stream",
     "text": [
      "[12 10 18 12]\n"
     ]
    }
   ],
   "source": [
    "x  = np.array([10,8,16,10])\n",
    "\n",
    "result = x+2\n",
    "print(result)"
   ]
  },
  {
   "cell_type": "code",
   "execution_count": 16,
   "id": "fcf63c3b",
   "metadata": {},
   "outputs": [
    {
     "name": "stdout",
     "output_type": "stream",
     "text": [
      "[[100  20  30]\n",
      " [ 30 400  50]]\n",
      "[[102  22  32]\n",
      " [ 32 402  52]]\n",
      "[[101  22  33]\n",
      " [ 31 402  53]]\n"
     ]
    }
   ],
   "source": [
    "print(mat)\n",
    "matrix = mat\n",
    "result = matrix + 2\n",
    "print(result)\n",
    "\n",
    "vector = np.array([1,2,3])\n",
    "result = matrix + vector\n",
    "print(result)"
   ]
  },
  {
   "cell_type": "markdown",
   "id": "39724222",
   "metadata": {},
   "source": [
    "# 11.5 Numpy Logical Functions"
   ]
  },
  {
   "cell_type": "code",
   "execution_count": 17,
   "id": "fd748203",
   "metadata": {},
   "outputs": [
    {
     "name": "stdout",
     "output_type": "stream",
     "text": [
      "[ True  True  True  True]\n"
     ]
    }
   ],
   "source": [
    "greatter_than = x>y\n",
    "print(greatter_than)"
   ]
  },
  {
   "cell_type": "code",
   "execution_count": 18,
   "id": "adca9588",
   "metadata": {},
   "outputs": [
    {
     "name": "stdout",
     "output_type": "stream",
     "text": [
      "True\n",
      "True\n"
     ]
    }
   ],
   "source": [
    "print(np.all(greatter_than))\n",
    "print(np.any(greatter_than))"
   ]
  },
  {
   "cell_type": "markdown",
   "id": "556c3d6c",
   "metadata": {},
   "source": [
    "# 11.6 ndarray Sorting\n"
   ]
  },
  {
   "cell_type": "code",
   "execution_count": 19,
   "id": "5e2b39d4",
   "metadata": {},
   "outputs": [
    {
     "name": "stdout",
     "output_type": "stream",
     "text": [
      "[10  8 16 10]\n",
      "[10  8 16 10]\n",
      "[ 8 10 10 16]\n"
     ]
    }
   ],
   "source": [
    "#Inplace sorting\n",
    "\n",
    "print(x)\n",
    "\n",
    "z = x.copy()\n",
    "print(z)\n",
    "z.sort()\n",
    "\n",
    "print(z)"
   ]
  },
  {
   "cell_type": "code",
   "execution_count": 20,
   "id": "0f9f2f57",
   "metadata": {},
   "outputs": [
    {
     "name": "stdout",
     "output_type": "stream",
     "text": [
      "[10  8 16 10]\n",
      "[ 8 10 10 16]\n",
      "[10  8 16 10]\n"
     ]
    }
   ],
   "source": [
    "# Copy sort\n",
    "print(x)\n",
    "sort_arr = np.sort(x)\n",
    "print(sort_arr)\n",
    "print(x)"
   ]
  },
  {
   "cell_type": "code",
   "execution_count": 21,
   "id": "f44c7393",
   "metadata": {},
   "outputs": [
    {
     "name": "stdout",
     "output_type": "stream",
     "text": [
      "[[100  20  30]\n",
      " [ 30 400  50]]\n",
      "[[ 20  30 100]\n",
      " [ 30  50 400]]\n",
      "[[ 30  20  30]\n",
      " [100 400  50]]\n"
     ]
    }
   ],
   "source": [
    "#2D array sorting\n",
    "\n",
    "print(mat)\n",
    "\n",
    "n_mat = mat\n",
    "#horizon  axis = 1\n",
    "\n",
    "hor_sort=np.sort(mat, axis=1)\n",
    "print(hor_sort)\n",
    "\n",
    "#verticat\n",
    "vert_sort = np.sort(mat, axis=0)\n",
    "print(vert_sort)\n"
   ]
  },
  {
   "cell_type": "markdown",
   "id": "fd168781",
   "metadata": {},
   "source": [
    "# 11.7 ndarray Searching"
   ]
  },
  {
   "cell_type": "code",
   "execution_count": 22,
   "id": "39389e47",
   "metadata": {},
   "outputs": [
    {
     "name": "stdout",
     "output_type": "stream",
     "text": [
      "[10  8 16 10]\n",
      "(array([2]),)\n",
      "(array([0, 2, 3]),)\n"
     ]
    }
   ],
   "source": [
    "print(x)\n",
    "\n",
    "index = np.where(x==16)\n",
    "print(index)\n",
    "index = np.where(x>8)#return index\n",
    "print(index)"
   ]
  },
  {
   "cell_type": "code",
   "execution_count": 23,
   "id": "345a7c55",
   "metadata": {},
   "outputs": [
    {
     "name": "stdout",
     "output_type": "stream",
     "text": [
      "[10  0 16 10]\n"
     ]
    }
   ],
   "source": [
    "#If value is less than 8 , rewrite as 0\n",
    "arr = np.where(x>8,x,0)#returns array\n",
    "print(arr)"
   ]
  },
  {
   "cell_type": "code",
   "execution_count": 24,
   "id": "5954c8b3",
   "metadata": {},
   "outputs": [
    {
     "name": "stdout",
     "output_type": "stream",
     "text": [
      "[[100  20  30]\n",
      " [ 30 400  50]]\n"
     ]
    }
   ],
   "source": [
    "print(mat)"
   ]
  },
  {
   "cell_type": "code",
   "execution_count": 25,
   "id": "95536462",
   "metadata": {},
   "outputs": [
    {
     "name": "stdout",
     "output_type": "stream",
     "text": [
      "(array([0, 1]), array([0, 1]))\n",
      "[[100   0   0]\n",
      " [  0 400   0]]\n"
     ]
    }
   ],
   "source": [
    "index = np.where(mat>80)#return index\n",
    "print(index)\n",
    "index = np.where(mat>80,mat,0)#return index\n",
    "print(index)"
   ]
  },
  {
   "cell_type": "code",
   "execution_count": 26,
   "id": "ac6c604f",
   "metadata": {},
   "outputs": [
    {
     "name": "stdout",
     "output_type": "stream",
     "text": [
      "[10  8 16 10]\n",
      "2\n"
     ]
    }
   ],
   "source": [
    "#max value index\n",
    "print(x)\n",
    "max_val = np.argmax(x)\n",
    "print(max_val)"
   ]
  },
  {
   "cell_type": "code",
   "execution_count": 27,
   "id": "96caa9f0",
   "metadata": {},
   "outputs": [
    {
     "name": "stdout",
     "output_type": "stream",
     "text": [
      "[10  8 16 10]\n",
      "1\n"
     ]
    }
   ],
   "source": [
    "#min value index\n",
    "print(x)\n",
    "min_val = np.argmin(x)\n",
    "print(min_val)"
   ]
  },
  {
   "cell_type": "markdown",
   "id": "68b91a24",
   "metadata": {},
   "source": [
    "# 11.8 ndarray Counting"
   ]
  },
  {
   "cell_type": "code",
   "execution_count": 28,
   "id": "659e9e85",
   "metadata": {},
   "outputs": [
    {
     "name": "stdout",
     "output_type": "stream",
     "text": [
      "[23 50 92 81 62 41 34 37 91 11 84 78 38 81 82 97 56 20 87 46 31 49 39 61\n",
      " 50 69 18 81 17 79 50 30 55 83 31 14 70 86 31 59 63 54 80 78 65 44 79 57\n",
      " 32 44 44 66 19  7 37 12 92 90 39 50 71  2 75 13 32 99 95  7 97 22 11 41\n",
      " 28 97  4 13 37 64  9 53 32 49 90  5 18 14 65 43 17 87 12 16  1 22 41 39\n",
      " 29 14 22 32]\n"
     ]
    }
   ],
   "source": [
    "arr_1d = np.random.randint(1,100, size=(100,))\n",
    "print(arr_1d)"
   ]
  },
  {
   "cell_type": "code",
   "execution_count": 29,
   "id": "de824b45",
   "metadata": {},
   "outputs": [
    {
     "name": "stdout",
     "output_type": "stream",
     "text": [
      "2\n"
     ]
    }
   ],
   "source": [
    "value_gr_60 = np.count_nonzero(arr_1d==7)\n",
    "print(value_gr_60)"
   ]
  },
  {
   "cell_type": "code",
   "execution_count": 30,
   "id": "e16b2348",
   "metadata": {},
   "outputs": [
    {
     "name": "stdout",
     "output_type": "stream",
     "text": [
      "[ 1  2  4  5  7  9 11 12 13 14 16 17 18 19 20 22 23 28 29 30 31 32 34 37\n",
      " 38 39 41 43 44 46 49 50 53 54 55 56 57 59 61 62 63 64 65 66 69 70 71 75\n",
      " 78 79 80 81 82 83 84 86 87 90 91 92 95 97 99]\n",
      "[1 1 1 1 2 1 2 2 2 3 1 2 2 1 1 3 1 1 1 1 3 4 1 3 1 3 3 1 3 1 2 4 1 1 1 1 1\n",
      " 1 1 1 1 1 2 1 1 1 1 1 2 2 1 3 1 1 1 1 2 2 1 2 1 3 1]\n"
     ]
    }
   ],
   "source": [
    "unq_val,count = np.unique(arr_1d,return_counts=True)\n",
    "print(unq_val)\n",
    "print(count)"
   ]
  },
  {
   "cell_type": "markdown",
   "id": "b17bdc03",
   "metadata": {},
   "source": [
    "# 11.9 Statistical function"
   ]
  },
  {
   "cell_type": "code",
   "execution_count": 34,
   "id": "42d504b7",
   "metadata": {},
   "outputs": [
    {
     "name": "stdout",
     "output_type": "stream",
     "text": [
      "[[  1.  56.  97.  42.]\n",
      " [  2.  44.  81.  55.]\n",
      " [  3.  78.  88.  72.]\n",
      " [  4.  90.  97.  79.]\n",
      " [  5.  83.  98.  40.]\n",
      " [  6.  60.  49.  91.]\n",
      " [  7.  83.  96.  58.]\n",
      " [  8.  68.  53.  87.]\n",
      " [  9.  74.  62.  88.]\n",
      " [ 10.  64.  56.  93.]\n",
      " [ 11.  47.  43.  60.]\n",
      " [ 12.  84.  56.  42.]\n",
      " [ 13.  74.  51.  67.]\n",
      " [ 14.  92.  43.  59.]\n",
      " [ 15.  86.  98.  59.]\n",
      " [ 16.  87.  94.  52.]\n",
      " [ 17.  57.  83.  59.]\n",
      " [ 18.  57.  83.  51.]\n",
      " [ 19.  43.  99.  95.]\n",
      " [ 20.  98.  48.  69.]\n",
      " [ 21.  80.  57.  65.]\n",
      " [ 22.  45.  64.  81.]\n",
      " [ 23.  86.  97.  73.]\n",
      " [ 24.  50.  86.  98.]\n",
      " [ 25.  75.  49.  91.]\n",
      " [ 26.  40.  86.  98.]\n",
      " [ 27.  97.  80.  67.]\n",
      " [ 28.  95.  46.  56.]\n",
      " [ 29.  90.  87.  49.]\n",
      " [ 30.  87.  60.  96.]\n",
      " [ 31.  58.  98.  76.]\n",
      " [ 32.  45.  42.  98.]\n",
      " [ 33.  93.  53.  86.]\n",
      " [ 34.  54.  97.  56.]\n",
      " [ 35.  89.  55.  76.]\n",
      " [ 36.  77.  46.  56.]\n",
      " [ 37.  71.  45.  89.]\n",
      " [ 38.  54.  96.  75.]\n",
      " [ 39.  64.  83.  77.]\n",
      " [ 40.  84.  80.  42.]\n",
      " [ 41.  69.  81.  72.]\n",
      " [ 42.  54.  81.  88.]\n",
      " [ 43.  40.  62.  75.]\n",
      " [ 44.  44.  88.  75.]\n",
      " [ 45.  71.  93.  73.]\n",
      " [ 46.  71.  63.  77.]\n",
      " [ 47.  43.  61.  76.]\n",
      " [ 48.  59.  83.  45.]\n",
      " [ 49.  89.  73.  70.]\n",
      " [ 50.  50.  58.  63.]\n",
      " [ 51.  85.  47.  93.]\n",
      " [ 52.  65.  75.  42.]\n",
      " [ 53.  42.  70.  54.]\n",
      " [ 54.  52.  67.  68.]\n",
      " [ 55.  96.  40.  99.]\n",
      " [ 56.  55.  81.  72.]\n",
      " [ 57.  66.  70.  60.]\n",
      " [ 58.  82.  65.  42.]\n",
      " [ 59.  99.  75.  88.]\n",
      " [ 60.  56.  52.  65.]\n",
      " [ 61.  51. 100.  68.]\n",
      " [ 62.  64.  87.  74.]\n",
      " [ 63.  67.  61.  49.]\n",
      " [ 64.  59.  85.  67.]\n",
      " [ 65.  95.  83.  55.]\n",
      " [ 66.  68.  85.  71.]\n",
      " [ 67.  40.  40.  42.]\n",
      " [ 68.  72.  94.  75.]\n",
      " [ 69.  85.  63.  64.]\n",
      " [ 70.  85.  87.  50.]\n",
      " [ 71.  44.  63.  65.]\n",
      " [ 72.  87.  56.  61.]\n",
      " [ 73.  66.  89.  54.]\n",
      " [ 74.  71.  93.  56.]\n",
      " [ 75.  89.  52.  55.]\n",
      " [ 76.  56.  40.  80.]\n",
      " [ 77.  57.  60.  46.]\n",
      " [ 78.  58.  44.  86.]\n",
      " [ 79.  80.  74.  83.]\n",
      " [ 80.  92. 100.  60.]\n",
      " [ 81.  87.  61.  50.]\n",
      " [ 82.  91.  66.  64.]\n",
      " [ 83.  66.  84.  53.]\n",
      " [ 84.  65.  46.  56.]\n",
      " [ 85.  77.  45.  73.]\n",
      " [ 86.  86.  48.  61.]\n",
      " [ 87.  66.  46.  48.]\n",
      " [ 88.  46.  48.  66.]\n",
      " [ 89.  68.  69.  75.]\n",
      " [ 90.  52.  55.  67.]\n",
      " [ 91.  59.  95.  44.]\n",
      " [ 92.  55.  62.  42.]\n",
      " [ 93.  43.  75.  64.]\n",
      " [ 94.  96.  62.  65.]\n",
      " [ 95.  76.  61.  95.]\n",
      " [ 96.  84.  72.  49.]\n",
      " [ 97.  62.  48.  78.]\n",
      " [ 98.  97.  74.  86.]\n",
      " [ 99.  55.  94.  54.]\n",
      " [100.  53.  89.  58.]]\n"
     ]
    }
   ],
   "source": [
    "#data loading\n",
    "data = np.genfromtxt('students_scores.csv',delimiter=',', skip_header=1)\n",
    "print(data)\n"
   ]
  },
  {
   "cell_type": "code",
   "execution_count": 43,
   "id": "9dd943a6",
   "metadata": {},
   "outputs": [
    {
     "name": "stdout",
     "output_type": "stream",
     "text": [
      "[[56. 44. 78. 90. 83. 60. 83. 68. 74. 64. 47. 84. 74. 92. 86. 87. 57. 57.\n",
      "  43. 98. 80. 45. 86. 50. 75. 40. 97. 95. 90. 87. 58. 45. 93. 54. 89. 77.\n",
      "  71. 54. 64. 84. 69. 54. 40. 44. 71. 71. 43. 59. 89. 50. 85. 65. 42. 52.\n",
      "  96. 55. 66. 82. 99. 56. 51. 64. 67. 59. 95. 68. 40. 72. 85. 85. 44. 87.\n",
      "  66. 71. 89. 56. 57. 58. 80. 92. 87. 91. 66. 65. 77. 86. 66. 46. 68. 52.\n",
      "  59. 55. 43. 96. 76. 84. 62. 97. 55. 53.]]\n",
      "99.0\n",
      "40.0\n",
      "69.17\n",
      "68.0\n",
      "17.122531938939403\n"
     ]
    }
   ],
   "source": [
    "#slicing\n",
    "math_marks = data[::,1:2]\n",
    "print(math_marks.T)\n",
    "\n",
    "max_math_marks = np.max(math_marks)\n",
    "print(max_math_marks)\n",
    "min_math_marks = np.min(math_marks)\n",
    "print(min_math_marks)\n",
    "avg_math_marks = np.mean(math_marks)\n",
    "print(avg_math_marks)\n",
    "median_math_marks = np.median(math_marks)\n",
    "print(median_math_marks)\n",
    "\n",
    "#Standard Deviation\n",
    "\n",
    "std_math_marks = np.std(math_marks)\n",
    "print(std_math_marks)\n"
   ]
  }
 ],
 "metadata": {
  "kernelspec": {
   "display_name": "Python 3.11 (latest)",
   "language": "python",
   "name": "python-3.11"
  },
  "language_info": {
   "codemirror_mode": {
    "name": "ipython",
    "version": 3
   },
   "file_extension": ".py",
   "mimetype": "text/x-python",
   "name": "python",
   "nbconvert_exporter": "python",
   "pygments_lexer": "ipython3",
   "version": "3.11.9"
  }
 },
 "nbformat": 4,
 "nbformat_minor": 5
}
