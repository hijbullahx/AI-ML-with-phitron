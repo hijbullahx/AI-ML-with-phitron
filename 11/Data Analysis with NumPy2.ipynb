{
 "cells": [
  {
   "cell_type": "markdown",
   "id": "bd250cec",
   "metadata": {},
   "source": [
    "# 11.1 ndarray Manipulation -1\n"
   ]
  },
  {
   "cell_type": "code",
   "execution_count": 69,
   "id": "8c8a473b",
   "metadata": {},
   "outputs": [
    {
     "name": "stdout",
     "output_type": "stream",
     "text": [
      "(10, 5)\n",
      "[[77  4 73 90 47]\n",
      " [93 42 18 11 11]\n",
      " [79 50 14 17 53]\n",
      " [26 94 68 66 12]\n",
      " [10 18 35 14 48]\n",
      " [87 69 96 65 14]\n",
      " [26 17 89 38 48]\n",
      " [50 68 18 78 86]\n",
      " [50 69 39 79 97]\n",
      " [21 38 28 79 95]]\n",
      "2\n"
     ]
    }
   ],
   "source": [
    "import numpy as np\n",
    "arr = np.random.randint(1,100, size = (10,5)) #sample = 10, feature = 5\n",
    "print(arr.shape)\n",
    "print(arr)\n",
    "print(arr.ndim)"
   ]
  },
  {
   "cell_type": "code",
   "execution_count": 70,
   "id": "184082d0",
   "metadata": {},
   "outputs": [
    {
     "name": "stdout",
     "output_type": "stream",
     "text": [
      "(2, 25)\n",
      "[[77  4 73 90 47 93 42 18 11 11 79 50 14 17 53 26 94 68 66 12 10 18 35 14\n",
      "  48]\n",
      " [87 69 96 65 14 26 17 89 38 48 50 68 18 78 86 50 69 39 79 97 21 38 28 79\n",
      "  95]]\n",
      "2\n"
     ]
    }
   ],
   "source": [
    "# Changing shape\n",
    "b = arr.reshape(2,25)\n",
    "print(b.shape)\n",
    "print(b)\n",
    "print(b.ndim)"
   ]
  },
  {
   "cell_type": "code",
   "execution_count": 71,
   "id": "cbdb7358",
   "metadata": {},
   "outputs": [
    {
     "name": "stdout",
     "output_type": "stream",
     "text": [
      "[77  4 73 90 47 93 42 18 11 11 79 50 14 17 53 26 94 68 66 12 10 18 35 14\n",
      " 48 87 69 96 65 14 26 17 89 38 48 50 68 18 78 86 50 69 39 79 97 21 38 28\n",
      " 79 95]\n"
     ]
    }
   ],
   "source": [
    "# Changing Dimension\n",
    "# 1D\n",
    "flatten = b.flatten()\n",
    "print(flatten)"
   ]
  },
  {
   "cell_type": "code",
   "execution_count": 72,
   "id": "bef803f5",
   "metadata": {},
   "outputs": [
    {
     "name": "stdout",
     "output_type": "stream",
     "text": [
      "[77 87  4 69 73 96 90 65 47 14 93 26 42 17 18 89 11 38 11 48 79 50 50 68\n",
      " 14 18 17 78 53 86 26 50 94 69 68 39 66 79 12 97 10 21 18 38 35 28 14 79\n",
      " 48 95]\n"
     ]
    }
   ],
   "source": [
    "column_wise_flattening = np.ravel(b, order= 'F')\n",
    "print(column_wise_flattening)"
   ]
  },
  {
   "cell_type": "code",
   "execution_count": 73,
   "id": "51c90d94",
   "metadata": {},
   "outputs": [
    {
     "name": "stdout",
     "output_type": "stream",
     "text": [
      "[[5 1 1]\n",
      " [8 5 5]]\n",
      "[[28 20 23]\n",
      " [23 23 21]]\n"
     ]
    }
   ],
   "source": [
    "a = np.random.randint(1,10, size = (2,3))\n",
    "b = np.random.randint(20,30, size = (2,3))\n",
    "\n",
    "print(a)\n",
    "print(b)"
   ]
  },
  {
   "cell_type": "code",
   "execution_count": 74,
   "id": "46ab4feb",
   "metadata": {},
   "outputs": [
    {
     "name": "stdout",
     "output_type": "stream",
     "text": [
      "[[ 5  1  1]\n",
      " [ 8  5  5]\n",
      " [28 20 23]\n",
      " [23 23 21]]\n",
      "[[ 5  1  1 28 20 23]\n",
      " [ 8  5  5 23 23 21]]\n"
     ]
    }
   ],
   "source": [
    "# Concatenat\n",
    "\n",
    "\n",
    "con = np.concatenate((a,b), axis = 0) #row wise\n",
    "print(con)\n",
    "con_c = np.concatenate((a,b), axis = 1) #Column wise\n",
    "print(con_c)"
   ]
  },
  {
   "cell_type": "markdown",
   "id": "31b5b36b",
   "metadata": {},
   "source": [
    "# 11.2 ndarray Manipulation - 2\n"
   ]
  },
  {
   "cell_type": "code",
   "execution_count": 75,
   "id": "b3de5da0",
   "metadata": {},
   "outputs": [
    {
     "name": "stdout",
     "output_type": "stream",
     "text": [
      "[[100  30]\n",
      " [ 20 400]\n",
      " [ 30  50]]\n"
     ]
    }
   ],
   "source": [
    "# Transpose\n",
    "mat = np.array([[100,20,30],[30,400,50]])\n",
    "\n",
    "Transpose = mat.T\n",
    "print(Transpose)"
   ]
  },
  {
   "cell_type": "code",
   "execution_count": 76,
   "id": "3778f9c1",
   "metadata": {},
   "outputs": [
    {
     "name": "stdout",
     "output_type": "stream",
     "text": [
      "[3 1 8 8 4 3 9 2 6 4]\n"
     ]
    }
   ],
   "source": [
    "#Array split\n",
    "\n",
    "a = np.random.randint(1,10, size= (10,))\n",
    "print(a)"
   ]
  },
  {
   "cell_type": "code",
   "execution_count": 77,
   "id": "e617895e",
   "metadata": {},
   "outputs": [
    {
     "name": "stdout",
     "output_type": "stream",
     "text": [
      "[array([3, 1, 8, 8], dtype=int32), array([4, 3, 9], dtype=int32), array([2, 6, 4], dtype=int32)]\n"
     ]
    }
   ],
   "source": [
    "splitted_array = np.array_split(a, 3)\n",
    "print(splitted_array)"
   ]
  },
  {
   "cell_type": "markdown",
   "id": "9347257c",
   "metadata": {},
   "source": [
    "# 11.3 ndarray Arithmetic Operators and Mathematical function"
   ]
  },
  {
   "cell_type": "code",
   "execution_count": 78,
   "id": "80e085c7",
   "metadata": {},
   "outputs": [
    {
     "name": "stdout",
     "output_type": "stream",
     "text": [
      "[12 23 34 45]\n",
      "[ 8 17 26 35]\n",
      "[ 20  60 120 200]\n",
      "[5.         6.66666667 7.5        8.        ]\n",
      "[0 2 2 0]\n"
     ]
    }
   ],
   "source": [
    "#mathematical operator\n",
    "#Faster for vectorization\n",
    "x = np.array([10,20,30,40])\n",
    "y = np.array([2,3,4,5])\n",
    "\n",
    "add = x+y\n",
    "\n",
    "print(add)\n",
    "\n",
    "sub = x-y\n",
    "\n",
    "print(sub)\n",
    "\n",
    "mul = x*y\n",
    "print(mul)\n",
    "\n",
    "div = x/y\n",
    "print(div)\n",
    "\n",
    "rem = x%y\n",
    "print(rem)"
   ]
  },
  {
   "cell_type": "code",
   "execution_count": 79,
   "id": "e6625687",
   "metadata": {},
   "outputs": [
    {
     "name": "stdout",
     "output_type": "stream",
     "text": [
      "[-0.54402111  0.91294525 -0.98803162  0.74511316]\n",
      "[-0.83907153  0.40808206  0.15425145 -0.66693806]\n",
      "[ 0.64836083  2.23716094 -6.4053312  -1.11721493]\n"
     ]
    }
   ],
   "source": [
    "#mathematical function\n",
    "\n",
    "#trigonometry\n",
    "sin_val = np.sin(x)\n",
    "cos_val = np.cos(x)\n",
    "tan_val = np.tan(x)\n",
    "\n",
    "print(sin_val)\n",
    "print(cos_val)\n",
    "print(tan_val)\n"
   ]
  },
  {
   "cell_type": "code",
   "execution_count": 80,
   "id": "236261ce",
   "metadata": {},
   "outputs": [
    {
     "name": "stdout",
     "output_type": "stream",
     "text": [
      "[ 572.95779513 1145.91559026 1718.87338539 2291.83118052]\n",
      "[0.17453293 0.34906585 0.52359878 0.6981317 ]\n"
     ]
    }
   ],
   "source": [
    "#Converting Degree<->Radian\n",
    "#radian to degree\n",
    "deg_con = np.rad2deg(x)\n",
    "print(deg_con)\n",
    "#degree to radian\n",
    "red_con = np.deg2rad(x)\n",
    "print(red_con)"
   ]
  },
  {
   "cell_type": "code",
   "execution_count": 81,
   "id": "02a7d688",
   "metadata": {},
   "outputs": [
    {
     "name": "stdout",
     "output_type": "stream",
     "text": [
      "[10 20 30 40]\n",
      "[1.         1.30103    1.47712125 1.60205999]\n",
      "[3.32192809 4.32192809 4.9068906  5.32192809]\n"
     ]
    }
   ],
   "source": [
    "#log\n",
    "print(x)\n",
    "bas_10_log = np.log10(x)\n",
    "print(bas_10_log)\n",
    "\n",
    "bas_2_log = np.log2(x)\n",
    "print(bas_2_log)"
   ]
  },
  {
   "cell_type": "code",
   "execution_count": 82,
   "id": "5d657721",
   "metadata": {},
   "outputs": [
    {
     "name": "stdout",
     "output_type": "stream",
     "text": [
      "[3.16227766 4.47213595 5.47722558 6.32455532]\n",
      "100\n",
      "[ 10  30  60 100]\n"
     ]
    }
   ],
   "source": [
    "#Square root\n",
    "\n",
    "sqr_rt = np.sqrt(x)\n",
    "print(sqr_rt)\n",
    "\n",
    "sum = np.sum(x)\n",
    "print(sum)\n",
    "c_sum = np.cumulative_sum(x)\n",
    "print(c_sum)"
   ]
  },
  {
   "cell_type": "markdown",
   "id": "32283228",
   "metadata": {},
   "source": [
    "# 11.4 Numpy Broadcasting"
   ]
  },
  {
   "cell_type": "code",
   "execution_count": 83,
   "id": "e25f60e4",
   "metadata": {},
   "outputs": [
    {
     "name": "stdout",
     "output_type": "stream",
     "text": [
      "[12 10 18 12]\n"
     ]
    }
   ],
   "source": [
    "x  = np.array([10,8,16,10])\n",
    "\n",
    "result = x+2\n",
    "print(result)"
   ]
  },
  {
   "cell_type": "code",
   "execution_count": 84,
   "id": "fcf63c3b",
   "metadata": {},
   "outputs": [
    {
     "name": "stdout",
     "output_type": "stream",
     "text": [
      "[[100  20  30]\n",
      " [ 30 400  50]]\n",
      "[[102  22  32]\n",
      " [ 32 402  52]]\n",
      "[[101  22  33]\n",
      " [ 31 402  53]]\n"
     ]
    }
   ],
   "source": [
    "print(mat)\n",
    "matrix = mat\n",
    "result = matrix + 2\n",
    "print(result)\n",
    "\n",
    "vector = np.array([1,2,3])\n",
    "result = matrix + vector\n",
    "print(result)"
   ]
  },
  {
   "cell_type": "markdown",
   "id": "39724222",
   "metadata": {},
   "source": [
    "# 11.5 Numpy Logical Functions"
   ]
  },
  {
   "cell_type": "code",
   "execution_count": 85,
   "id": "fd748203",
   "metadata": {},
   "outputs": [
    {
     "name": "stdout",
     "output_type": "stream",
     "text": [
      "[ True  True  True  True]\n"
     ]
    }
   ],
   "source": [
    "greatter_than = x>y\n",
    "print(greatter_than)"
   ]
  },
  {
   "cell_type": "code",
   "execution_count": 86,
   "id": "adca9588",
   "metadata": {},
   "outputs": [
    {
     "name": "stdout",
     "output_type": "stream",
     "text": [
      "True\n",
      "True\n"
     ]
    }
   ],
   "source": [
    "print(np.all(greatter_than))\n",
    "print(np.any(greatter_than))"
   ]
  },
  {
   "cell_type": "markdown",
   "id": "556c3d6c",
   "metadata": {},
   "source": [
    "# 11.6 ndarray Sorting\n"
   ]
  },
  {
   "cell_type": "code",
   "execution_count": 87,
   "id": "5e2b39d4",
   "metadata": {},
   "outputs": [
    {
     "name": "stdout",
     "output_type": "stream",
     "text": [
      "[10  8 16 10]\n",
      "[10  8 16 10]\n",
      "[ 8 10 10 16]\n"
     ]
    }
   ],
   "source": [
    "#Inplace sorting\n",
    "\n",
    "print(x)\n",
    "\n",
    "z = x.copy()\n",
    "print(z)\n",
    "z.sort()\n",
    "\n",
    "print(z)"
   ]
  },
  {
   "cell_type": "code",
   "execution_count": 88,
   "id": "0f9f2f57",
   "metadata": {},
   "outputs": [
    {
     "name": "stdout",
     "output_type": "stream",
     "text": [
      "[10  8 16 10]\n",
      "[ 8 10 10 16]\n",
      "[10  8 16 10]\n"
     ]
    }
   ],
   "source": [
    "# Copy sort\n",
    "print(x)\n",
    "sort_arr = np.sort(x)\n",
    "print(sort_arr)\n",
    "print(x)"
   ]
  },
  {
   "cell_type": "code",
   "execution_count": null,
   "id": "f44c7393",
   "metadata": {},
   "outputs": [
    {
     "name": "stdout",
     "output_type": "stream",
     "text": [
      "[[100  20  30]\n",
      " [ 30 400  50]]\n",
      "[[ 20  30 100]\n",
      " [ 30  50 400]]\n",
      "[[ 30  20  30]\n",
      " [100 400  50]]\n",
      "[[100  20  30]\n",
      " [ 30 400  50]]\n"
     ]
    }
   ],
   "source": [
    "#2D array sorting\n",
    "\n",
    "print(mat)\n",
    "\n",
    "n_mat = mat\n",
    "#horizon  axis = 1\n",
    "\n",
    "hor_sort=np.sort(mat, axis=1)\n",
    "print(hor_sort)\n",
    "\n",
    "#verticat\n",
    "vert_sort = np.sort(mat, axis=0)\n",
    "print(vert_sort)\n"
   ]
  }
 ],
 "metadata": {
  "kernelspec": {
   "display_name": "Python 3.11 (latest)",
   "language": "python",
   "name": "python-3.11"
  },
  "language_info": {
   "codemirror_mode": {
    "name": "ipython",
    "version": 3
   },
   "file_extension": ".py",
   "mimetype": "text/x-python",
   "name": "python",
   "nbconvert_exporter": "python",
   "pygments_lexer": "ipython3",
   "version": "3.11.9"
  }
 },
 "nbformat": 4,
 "nbformat_minor": 5
}
