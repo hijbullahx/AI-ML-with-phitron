{
 "cells": [
  {
   "cell_type": "markdown",
   "id": "bd250cec",
   "metadata": {},
   "source": [
    "# 11.1 ndarray Manipulation -1\n"
   ]
  },
  {
   "cell_type": "code",
   "execution_count": 147,
   "id": "8c8a473b",
   "metadata": {},
   "outputs": [
    {
     "name": "stdout",
     "output_type": "stream",
     "text": [
      "(10, 5)\n",
      "[[85 44 14  8 35]\n",
      " [ 7  9 52 98 85]\n",
      " [90 93 42 44 13]\n",
      " [79 43 78 30  1]\n",
      " [82 72 25  6 48]\n",
      " [21 45 79 86 87]\n",
      " [49 23 34  1 71]\n",
      " [61  7 83 39 28]\n",
      " [45 21 69 92 56]\n",
      " [47 32 76  7 16]]\n",
      "2\n"
     ]
    }
   ],
   "source": [
    "import numpy as np\n",
    "arr = np.random.randint(1,100, size = (10,5)) #sample = 10, feature = 5\n",
    "print(arr.shape)\n",
    "print(arr)\n",
    "print(arr.ndim)"
   ]
  },
  {
   "cell_type": "code",
   "execution_count": 148,
   "id": "184082d0",
   "metadata": {},
   "outputs": [
    {
     "name": "stdout",
     "output_type": "stream",
     "text": [
      "(2, 25)\n",
      "[[85 44 14  8 35  7  9 52 98 85 90 93 42 44 13 79 43 78 30  1 82 72 25  6\n",
      "  48]\n",
      " [21 45 79 86 87 49 23 34  1 71 61  7 83 39 28 45 21 69 92 56 47 32 76  7\n",
      "  16]]\n",
      "2\n"
     ]
    }
   ],
   "source": [
    "# Changing shape\n",
    "b = arr.reshape(2,25)\n",
    "print(b.shape)\n",
    "print(b)\n",
    "print(b.ndim)"
   ]
  },
  {
   "cell_type": "code",
   "execution_count": 149,
   "id": "cbdb7358",
   "metadata": {},
   "outputs": [
    {
     "name": "stdout",
     "output_type": "stream",
     "text": [
      "[85 44 14  8 35  7  9 52 98 85 90 93 42 44 13 79 43 78 30  1 82 72 25  6\n",
      " 48 21 45 79 86 87 49 23 34  1 71 61  7 83 39 28 45 21 69 92 56 47 32 76\n",
      "  7 16]\n"
     ]
    }
   ],
   "source": [
    "# Changing Dimension\n",
    "# 1D\n",
    "flatten = b.flatten()\n",
    "print(flatten)"
   ]
  },
  {
   "cell_type": "code",
   "execution_count": 150,
   "id": "bef803f5",
   "metadata": {},
   "outputs": [
    {
     "name": "stdout",
     "output_type": "stream",
     "text": [
      "[85 21 44 45 14 79  8 86 35 87  7 49  9 23 52 34 98  1 85 71 90 61 93  7\n",
      " 42 83 44 39 13 28 79 45 43 21 78 69 30 92  1 56 82 47 72 32 25 76  6  7\n",
      " 48 16]\n"
     ]
    }
   ],
   "source": [
    "column_wise_flattening = np.ravel(b, order= 'F')\n",
    "print(column_wise_flattening)"
   ]
  },
  {
   "cell_type": "code",
   "execution_count": 151,
   "id": "51c90d94",
   "metadata": {},
   "outputs": [
    {
     "name": "stdout",
     "output_type": "stream",
     "text": [
      "[[8 2 6]\n",
      " [8 4 5]]\n",
      "[[25 23 23]\n",
      " [20 22 28]]\n"
     ]
    }
   ],
   "source": [
    "a = np.random.randint(1,10, size = (2,3))\n",
    "b = np.random.randint(20,30, size = (2,3))\n",
    "\n",
    "print(a)\n",
    "print(b)"
   ]
  },
  {
   "cell_type": "code",
   "execution_count": 152,
   "id": "46ab4feb",
   "metadata": {},
   "outputs": [
    {
     "name": "stdout",
     "output_type": "stream",
     "text": [
      "[[ 8  2  6]\n",
      " [ 8  4  5]\n",
      " [25 23 23]\n",
      " [20 22 28]]\n",
      "[[ 8  2  6 25 23 23]\n",
      " [ 8  4  5 20 22 28]]\n"
     ]
    }
   ],
   "source": [
    "# Concatenat\n",
    "\n",
    "\n",
    "con = np.concatenate((a,b), axis = 0) #row wise\n",
    "print(con)\n",
    "con_c = np.concatenate((a,b), axis = 1) #Column wise\n",
    "print(con_c)"
   ]
  },
  {
   "cell_type": "markdown",
   "id": "31b5b36b",
   "metadata": {},
   "source": [
    "# 11.2 ndarray Manipulation - 2\n"
   ]
  },
  {
   "cell_type": "code",
   "execution_count": 153,
   "id": "b3de5da0",
   "metadata": {},
   "outputs": [
    {
     "name": "stdout",
     "output_type": "stream",
     "text": [
      "[[100  30]\n",
      " [ 20 400]\n",
      " [ 30  50]]\n"
     ]
    }
   ],
   "source": [
    "# Transpose\n",
    "mat = np.array([[100,20,30],[30,400,50]])\n",
    "\n",
    "Transpose = mat.T\n",
    "print(Transpose)"
   ]
  },
  {
   "cell_type": "code",
   "execution_count": 154,
   "id": "3778f9c1",
   "metadata": {},
   "outputs": [
    {
     "name": "stdout",
     "output_type": "stream",
     "text": [
      "[3 4 8 5 3 2 9 2 7 5]\n"
     ]
    }
   ],
   "source": [
    "#Array split\n",
    "\n",
    "a = np.random.randint(1,10, size= (10,))\n",
    "print(a)"
   ]
  },
  {
   "cell_type": "code",
   "execution_count": 155,
   "id": "e617895e",
   "metadata": {},
   "outputs": [
    {
     "name": "stdout",
     "output_type": "stream",
     "text": [
      "[array([3, 4, 8, 5], dtype=int32), array([3, 2, 9], dtype=int32), array([2, 7, 5], dtype=int32)]\n"
     ]
    }
   ],
   "source": [
    "splitted_array = np.array_split(a, 3)\n",
    "print(splitted_array)"
   ]
  },
  {
   "cell_type": "markdown",
   "id": "9347257c",
   "metadata": {},
   "source": [
    "# 11.3 ndarray Arithmetic Operators and Mathematical function"
   ]
  },
  {
   "cell_type": "code",
   "execution_count": 156,
   "id": "80e085c7",
   "metadata": {},
   "outputs": [
    {
     "name": "stdout",
     "output_type": "stream",
     "text": [
      "[12 23 34 45]\n",
      "[ 8 17 26 35]\n",
      "[ 20  60 120 200]\n",
      "[5.         6.66666667 7.5        8.        ]\n",
      "[0 2 2 0]\n"
     ]
    }
   ],
   "source": [
    "#mathematical operator\n",
    "#Faster for vectorization\n",
    "x = np.array([10,20,30,40])\n",
    "y = np.array([2,3,4,5])\n",
    "\n",
    "add = x+y\n",
    "\n",
    "print(add)\n",
    "\n",
    "sub = x-y\n",
    "\n",
    "print(sub)\n",
    "\n",
    "mul = x*y\n",
    "print(mul)\n",
    "\n",
    "div = x/y\n",
    "print(div)\n",
    "\n",
    "rem = x%y\n",
    "print(rem)"
   ]
  },
  {
   "cell_type": "code",
   "execution_count": 157,
   "id": "e6625687",
   "metadata": {},
   "outputs": [
    {
     "name": "stdout",
     "output_type": "stream",
     "text": [
      "[-0.54402111  0.91294525 -0.98803162  0.74511316]\n",
      "[-0.83907153  0.40808206  0.15425145 -0.66693806]\n",
      "[ 0.64836083  2.23716094 -6.4053312  -1.11721493]\n"
     ]
    }
   ],
   "source": [
    "#mathematical function\n",
    "\n",
    "#trigonometry\n",
    "sin_val = np.sin(x)\n",
    "cos_val = np.cos(x)\n",
    "tan_val = np.tan(x)\n",
    "\n",
    "print(sin_val)\n",
    "print(cos_val)\n",
    "print(tan_val)\n"
   ]
  },
  {
   "cell_type": "code",
   "execution_count": 158,
   "id": "236261ce",
   "metadata": {},
   "outputs": [
    {
     "name": "stdout",
     "output_type": "stream",
     "text": [
      "[ 572.95779513 1145.91559026 1718.87338539 2291.83118052]\n",
      "[0.17453293 0.34906585 0.52359878 0.6981317 ]\n"
     ]
    }
   ],
   "source": [
    "#Converting Degree<->Radian\n",
    "#radian to degree\n",
    "deg_con = np.rad2deg(x)\n",
    "print(deg_con)\n",
    "#degree to radian\n",
    "red_con = np.deg2rad(x)\n",
    "print(red_con)"
   ]
  },
  {
   "cell_type": "code",
   "execution_count": 159,
   "id": "02a7d688",
   "metadata": {},
   "outputs": [
    {
     "name": "stdout",
     "output_type": "stream",
     "text": [
      "[10 20 30 40]\n",
      "[1.         1.30103    1.47712125 1.60205999]\n",
      "[3.32192809 4.32192809 4.9068906  5.32192809]\n"
     ]
    }
   ],
   "source": [
    "#log\n",
    "print(x)\n",
    "bas_10_log = np.log10(x)\n",
    "print(bas_10_log)\n",
    "\n",
    "bas_2_log = np.log2(x)\n",
    "print(bas_2_log)"
   ]
  },
  {
   "cell_type": "code",
   "execution_count": 160,
   "id": "5d657721",
   "metadata": {},
   "outputs": [
    {
     "name": "stdout",
     "output_type": "stream",
     "text": [
      "[3.16227766 4.47213595 5.47722558 6.32455532]\n",
      "100\n",
      "[ 10  30  60 100]\n"
     ]
    }
   ],
   "source": [
    "#Square root\n",
    "\n",
    "sqr_rt = np.sqrt(x)\n",
    "print(sqr_rt)\n",
    "\n",
    "sum = np.sum(x)\n",
    "print(sum)\n",
    "c_sum = np.cumulative_sum(x)\n",
    "print(c_sum)"
   ]
  },
  {
   "cell_type": "markdown",
   "id": "32283228",
   "metadata": {},
   "source": [
    "# 11.4 Numpy Broadcasting"
   ]
  },
  {
   "cell_type": "code",
   "execution_count": 161,
   "id": "e25f60e4",
   "metadata": {},
   "outputs": [
    {
     "name": "stdout",
     "output_type": "stream",
     "text": [
      "[12 10 18 12]\n"
     ]
    }
   ],
   "source": [
    "x  = np.array([10,8,16,10])\n",
    "\n",
    "result = x+2\n",
    "print(result)"
   ]
  },
  {
   "cell_type": "code",
   "execution_count": 162,
   "id": "fcf63c3b",
   "metadata": {},
   "outputs": [
    {
     "name": "stdout",
     "output_type": "stream",
     "text": [
      "[[100  20  30]\n",
      " [ 30 400  50]]\n",
      "[[102  22  32]\n",
      " [ 32 402  52]]\n",
      "[[101  22  33]\n",
      " [ 31 402  53]]\n"
     ]
    }
   ],
   "source": [
    "print(mat)\n",
    "matrix = mat\n",
    "result = matrix + 2\n",
    "print(result)\n",
    "\n",
    "vector = np.array([1,2,3])\n",
    "result = matrix + vector\n",
    "print(result)"
   ]
  },
  {
   "cell_type": "markdown",
   "id": "39724222",
   "metadata": {},
   "source": [
    "# 11.5 Numpy Logical Functions"
   ]
  },
  {
   "cell_type": "code",
   "execution_count": 163,
   "id": "fd748203",
   "metadata": {},
   "outputs": [
    {
     "name": "stdout",
     "output_type": "stream",
     "text": [
      "[ True  True  True  True]\n"
     ]
    }
   ],
   "source": [
    "greatter_than = x>y\n",
    "print(greatter_than)"
   ]
  },
  {
   "cell_type": "code",
   "execution_count": 164,
   "id": "adca9588",
   "metadata": {},
   "outputs": [
    {
     "name": "stdout",
     "output_type": "stream",
     "text": [
      "True\n",
      "True\n"
     ]
    }
   ],
   "source": [
    "print(np.all(greatter_than))\n",
    "print(np.any(greatter_than))"
   ]
  },
  {
   "cell_type": "markdown",
   "id": "556c3d6c",
   "metadata": {},
   "source": [
    "# 11.6 ndarray Sorting\n"
   ]
  },
  {
   "cell_type": "code",
   "execution_count": 165,
   "id": "5e2b39d4",
   "metadata": {},
   "outputs": [
    {
     "name": "stdout",
     "output_type": "stream",
     "text": [
      "[10  8 16 10]\n",
      "[10  8 16 10]\n",
      "[ 8 10 10 16]\n"
     ]
    }
   ],
   "source": [
    "#Inplace sorting\n",
    "\n",
    "print(x)\n",
    "\n",
    "z = x.copy()\n",
    "print(z)\n",
    "z.sort()\n",
    "\n",
    "print(z)"
   ]
  },
  {
   "cell_type": "code",
   "execution_count": 166,
   "id": "0f9f2f57",
   "metadata": {},
   "outputs": [
    {
     "name": "stdout",
     "output_type": "stream",
     "text": [
      "[10  8 16 10]\n",
      "[ 8 10 10 16]\n",
      "[10  8 16 10]\n"
     ]
    }
   ],
   "source": [
    "# Copy sort\n",
    "print(x)\n",
    "sort_arr = np.sort(x)\n",
    "print(sort_arr)\n",
    "print(x)"
   ]
  },
  {
   "cell_type": "code",
   "execution_count": 167,
   "id": "f44c7393",
   "metadata": {},
   "outputs": [
    {
     "name": "stdout",
     "output_type": "stream",
     "text": [
      "[[100  20  30]\n",
      " [ 30 400  50]]\n",
      "[[ 20  30 100]\n",
      " [ 30  50 400]]\n",
      "[[ 30  20  30]\n",
      " [100 400  50]]\n"
     ]
    }
   ],
   "source": [
    "#2D array sorting\n",
    "\n",
    "print(mat)\n",
    "\n",
    "n_mat = mat\n",
    "#horizon  axis = 1\n",
    "\n",
    "hor_sort=np.sort(mat, axis=1)\n",
    "print(hor_sort)\n",
    "\n",
    "#verticat\n",
    "vert_sort = np.sort(mat, axis=0)\n",
    "print(vert_sort)\n"
   ]
  },
  {
   "cell_type": "markdown",
   "id": "fd168781",
   "metadata": {},
   "source": [
    "# 11.7 ndarray Searching"
   ]
  },
  {
   "cell_type": "code",
   "execution_count": 168,
   "id": "39389e47",
   "metadata": {},
   "outputs": [
    {
     "name": "stdout",
     "output_type": "stream",
     "text": [
      "[10  8 16 10]\n",
      "(array([2]),)\n",
      "(array([0, 2, 3]),)\n"
     ]
    }
   ],
   "source": [
    "print(x)\n",
    "\n",
    "index = np.where(x==16)\n",
    "print(index)\n",
    "index = np.where(x>8)#return index\n",
    "print(index)"
   ]
  },
  {
   "cell_type": "code",
   "execution_count": 169,
   "id": "345a7c55",
   "metadata": {},
   "outputs": [
    {
     "name": "stdout",
     "output_type": "stream",
     "text": [
      "[10  0 16 10]\n"
     ]
    }
   ],
   "source": [
    "#If value is less than 8 , rewrite as 0\n",
    "arr = np.where(x>8,x,0)#returns array\n",
    "print(arr)"
   ]
  },
  {
   "cell_type": "code",
   "execution_count": 170,
   "id": "5954c8b3",
   "metadata": {},
   "outputs": [
    {
     "name": "stdout",
     "output_type": "stream",
     "text": [
      "[[100  20  30]\n",
      " [ 30 400  50]]\n"
     ]
    }
   ],
   "source": [
    "print(mat)"
   ]
  },
  {
   "cell_type": "code",
   "execution_count": 171,
   "id": "95536462",
   "metadata": {},
   "outputs": [
    {
     "name": "stdout",
     "output_type": "stream",
     "text": [
      "(array([0, 1]), array([0, 1]))\n",
      "[[100   0   0]\n",
      " [  0 400   0]]\n"
     ]
    }
   ],
   "source": [
    "index = np.where(mat>80)#return index\n",
    "print(index)\n",
    "index = np.where(mat>80,mat,0)#return index\n",
    "print(index)"
   ]
  },
  {
   "cell_type": "code",
   "execution_count": 172,
   "id": "ac6c604f",
   "metadata": {},
   "outputs": [
    {
     "name": "stdout",
     "output_type": "stream",
     "text": [
      "[10  8 16 10]\n",
      "2\n"
     ]
    }
   ],
   "source": [
    "#max value index\n",
    "print(x)\n",
    "max_val = np.argmax(x)\n",
    "print(max_val)"
   ]
  },
  {
   "cell_type": "code",
   "execution_count": 173,
   "id": "96caa9f0",
   "metadata": {},
   "outputs": [
    {
     "name": "stdout",
     "output_type": "stream",
     "text": [
      "[10  8 16 10]\n",
      "1\n"
     ]
    }
   ],
   "source": [
    "#min value index\n",
    "print(x)\n",
    "min_val = np.argmin(x)\n",
    "print(min_val)"
   ]
  },
  {
   "cell_type": "markdown",
   "id": "68b91a24",
   "metadata": {},
   "source": [
    "# 11.8 ndarray Counting"
   ]
  },
  {
   "cell_type": "code",
   "execution_count": 174,
   "id": "659e9e85",
   "metadata": {},
   "outputs": [
    {
     "name": "stdout",
     "output_type": "stream",
     "text": [
      "[61 67 25 20 24 48 53 57 12  4 57 31 28 24 92 89 38 21 36 69 50 81 73 23\n",
      "  8 19 26  4 13 66 25 67 47 71 15 83 21 86 84 32 79 19 41 67 65 45 45 62\n",
      " 66 34 13 77 73 55 95 59 65 87  8  4 90 96 54 18 30 97  7 25 82 54 31 58\n",
      " 26 67 84 34 89 23 77 85 84 71 30 57 11  8 69 64 83 22 98 58 68 16 84 30\n",
      " 93 12 60 62]\n"
     ]
    }
   ],
   "source": [
    "arr_1d = np.random.randint(1,100, size=(100,))\n",
    "print(arr_1d)"
   ]
  },
  {
   "cell_type": "code",
   "execution_count": 180,
   "id": "de824b45",
   "metadata": {},
   "outputs": [
    {
     "name": "stdout",
     "output_type": "stream",
     "text": [
      "1\n"
     ]
    }
   ],
   "source": [
    "value_gr_60 = np.count_nonzero(arr_1d==7)\n",
    "print(value_gr_60)"
   ]
  },
  {
   "cell_type": "code",
   "execution_count": 181,
   "id": "e16b2348",
   "metadata": {},
   "outputs": [
    {
     "name": "stdout",
     "output_type": "stream",
     "text": [
      "[ 4  7  8 11 12 13 15 16 18 19 20 21 22 23 24 25 26 28 30 31 32 34 36 38\n",
      " 41 45 47 48 50 53 54 55 57 58 59 60 61 62 64 65 66 67 68 69 71 73 77 79\n",
      " 81 82 83 84 85 86 87 89 90 92 93 95 96 97 98]\n",
      "[3 1 3 1 2 2 1 1 1 2 1 2 1 2 2 3 2 1 3 2 1 2 1 1 1 2 1 1 1 1 2 1 3 2 1 1 1\n",
      " 2 1 2 2 4 1 2 2 2 2 1 1 1 2 4 1 1 1 2 1 1 1 1 1 1 1]\n"
     ]
    }
   ],
   "source": [
    "unq_val,count = np.unique(arr_1d,return_counts=True)\n",
    "print(unq_val)\n",
    "print(count)"
   ]
  }
 ],
 "metadata": {
  "kernelspec": {
   "display_name": "Python 3.11 (latest)",
   "language": "python",
   "name": "python-3.11"
  },
  "language_info": {
   "codemirror_mode": {
    "name": "ipython",
    "version": 3
   },
   "file_extension": ".py",
   "mimetype": "text/x-python",
   "name": "python",
   "nbconvert_exporter": "python",
   "pygments_lexer": "ipython3",
   "version": "3.11.9"
  }
 },
 "nbformat": 4,
 "nbformat_minor": 5
}
