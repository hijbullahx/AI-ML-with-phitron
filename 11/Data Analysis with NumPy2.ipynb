{
 "cells": [
  {
   "cell_type": "markdown",
   "id": "bd250cec",
   "metadata": {},
   "source": [
    "# 11.1 ndarray Manipulation -1\n"
   ]
  },
  {
   "cell_type": "code",
   "execution_count": 23,
   "id": "8c8a473b",
   "metadata": {},
   "outputs": [
    {
     "name": "stdout",
     "output_type": "stream",
     "text": [
      "(10, 5)\n",
      "[[44 81 49 90 53]\n",
      " [23 81 13 98 90]\n",
      " [ 2  3 87 78 44]\n",
      " [45 84 33 78 11]\n",
      " [32 40 66 20 76]\n",
      " [32 11 29 16  1]\n",
      " [41 70 20 95 74]\n",
      " [ 8  3 31 86 42]\n",
      " [64 68 34 58 88]\n",
      " [ 3 68 95 78 87]]\n",
      "2\n"
     ]
    }
   ],
   "source": [
    "import numpy as np\n",
    "arr = np.random.randint(1,100, size = (10,5)) #sample = 10, feature = 5\n",
    "print(arr.shape)\n",
    "print(arr)\n",
    "print(arr.ndim)"
   ]
  },
  {
   "cell_type": "code",
   "execution_count": 24,
   "id": "184082d0",
   "metadata": {},
   "outputs": [
    {
     "name": "stdout",
     "output_type": "stream",
     "text": [
      "(2, 25)\n",
      "[[44 81 49 90 53 23 81 13 98 90  2  3 87 78 44 45 84 33 78 11 32 40 66 20\n",
      "  76]\n",
      " [32 11 29 16  1 41 70 20 95 74  8  3 31 86 42 64 68 34 58 88  3 68 95 78\n",
      "  87]]\n",
      "2\n"
     ]
    }
   ],
   "source": [
    "# Changing shape\n",
    "b = arr.reshape(2,25)\n",
    "print(b.shape)\n",
    "print(b)\n",
    "print(b.ndim)"
   ]
  },
  {
   "cell_type": "code",
   "execution_count": 26,
   "id": "cbdb7358",
   "metadata": {},
   "outputs": [
    {
     "name": "stdout",
     "output_type": "stream",
     "text": [
      "[44 81 49 90 53 23 81 13 98 90  2  3 87 78 44 45 84 33 78 11 32 40 66 20\n",
      " 76 32 11 29 16  1 41 70 20 95 74  8  3 31 86 42 64 68 34 58 88  3 68 95\n",
      " 78 87]\n"
     ]
    }
   ],
   "source": [
    "# Changing Dimension\n",
    "# 1D\n",
    "flatten = b.flatten()\n",
    "print(flatten)"
   ]
  },
  {
   "cell_type": "code",
   "execution_count": 29,
   "id": "bef803f5",
   "metadata": {},
   "outputs": [
    {
     "name": "stdout",
     "output_type": "stream",
     "text": [
      "[44 32 81 11 49 29 90 16 53  1 23 41 81 70 13 20 98 95 90 74  2  8  3  3\n",
      " 87 31 78 86 44 42 45 64 84 68 33 34 78 58 11 88 32  3 40 68 66 95 20 78\n",
      " 76 87]\n"
     ]
    }
   ],
   "source": [
    "column_wise_flattening = np.ravel(b, order= 'F')\n",
    "print(column_wise_flattening)"
   ]
  },
  {
   "cell_type": "code",
   "execution_count": 30,
   "id": "51c90d94",
   "metadata": {},
   "outputs": [
    {
     "name": "stdout",
     "output_type": "stream",
     "text": [
      "[[1 9 7]\n",
      " [3 7 7]]\n",
      "[[25 24 22]\n",
      " [22 21 29]]\n"
     ]
    }
   ],
   "source": [
    "a = np.random.randint(1,10, size = (2,3))\n",
    "b = np.random.randint(20,30, size = (2,3))\n",
    "\n",
    "print(a)\n",
    "print(b)"
   ]
  },
  {
   "cell_type": "code",
   "execution_count": 33,
   "id": "46ab4feb",
   "metadata": {},
   "outputs": [
    {
     "name": "stdout",
     "output_type": "stream",
     "text": [
      "[[ 1  9  7]\n",
      " [ 3  7  7]\n",
      " [25 24 22]\n",
      " [22 21 29]]\n",
      "[[ 1  9  7 25 24 22]\n",
      " [ 3  7  7 22 21 29]]\n"
     ]
    }
   ],
   "source": [
    "# Concatenat\n",
    "\n",
    "\n",
    "con = np.concatenate((a,b), axis = 0) #row wise\n",
    "print(con)\n",
    "con_c = np.concatenate((a,b), axis = 1) #Column wise\n",
    "print(con_c)"
   ]
  }
 ],
 "metadata": {
  "kernelspec": {
   "display_name": "Python 3.11 (latest)",
   "language": "python",
   "name": "python-3.11"
  },
  "language_info": {
   "codemirror_mode": {
    "name": "ipython",
    "version": 3
   },
   "file_extension": ".py",
   "mimetype": "text/x-python",
   "name": "python",
   "nbconvert_exporter": "python",
   "pygments_lexer": "ipython3",
   "version": "3.11.9"
  }
 },
 "nbformat": 4,
 "nbformat_minor": 5
}
