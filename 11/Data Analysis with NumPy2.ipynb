{
 "cells": [
  {
   "cell_type": "markdown",
   "id": "bd250cec",
   "metadata": {},
   "source": [
    "# 11.1 ndarray Manipulation -1\n"
   ]
  },
  {
   "cell_type": "code",
   "execution_count": 1,
   "id": "8c8a473b",
   "metadata": {},
   "outputs": [
    {
     "name": "stdout",
     "output_type": "stream",
     "text": [
      "(10, 5)\n",
      "[[ 8  6 98 41 69]\n",
      " [77  8  2 15 65]\n",
      " [78 73 53 61 79]\n",
      " [54  2  5 63 75]\n",
      " [12 87 62  3 77]\n",
      " [41 10  3 64 11]\n",
      " [91 50 98  7 59]\n",
      " [14 54 49 52 25]\n",
      " [72 72 16 81 18]\n",
      " [40 25 75 49 81]]\n",
      "2\n"
     ]
    }
   ],
   "source": [
    "import numpy as np\n",
    "arr = np.random.randint(1,100, size = (10,5)) #sample = 10, feature = 5\n",
    "print(arr.shape)\n",
    "print(arr)\n",
    "print(arr.ndim)"
   ]
  },
  {
   "cell_type": "code",
   "execution_count": 2,
   "id": "184082d0",
   "metadata": {},
   "outputs": [
    {
     "name": "stdout",
     "output_type": "stream",
     "text": [
      "(2, 25)\n",
      "[[ 8  6 98 41 69 77  8  2 15 65 78 73 53 61 79 54  2  5 63 75 12 87 62  3\n",
      "  77]\n",
      " [41 10  3 64 11 91 50 98  7 59 14 54 49 52 25 72 72 16 81 18 40 25 75 49\n",
      "  81]]\n",
      "2\n"
     ]
    }
   ],
   "source": [
    "# Changing shape\n",
    "b = arr.reshape(2,25)\n",
    "print(b.shape)\n",
    "print(b)\n",
    "print(b.ndim)"
   ]
  },
  {
   "cell_type": "code",
   "execution_count": 3,
   "id": "cbdb7358",
   "metadata": {},
   "outputs": [
    {
     "name": "stdout",
     "output_type": "stream",
     "text": [
      "[ 8  6 98 41 69 77  8  2 15 65 78 73 53 61 79 54  2  5 63 75 12 87 62  3\n",
      " 77 41 10  3 64 11 91 50 98  7 59 14 54 49 52 25 72 72 16 81 18 40 25 75\n",
      " 49 81]\n"
     ]
    }
   ],
   "source": [
    "# Changing Dimension\n",
    "# 1D\n",
    "flatten = b.flatten()\n",
    "print(flatten)"
   ]
  },
  {
   "cell_type": "code",
   "execution_count": 4,
   "id": "bef803f5",
   "metadata": {},
   "outputs": [
    {
     "name": "stdout",
     "output_type": "stream",
     "text": [
      "[ 8 41  6 10 98  3 41 64 69 11 77 91  8 50  2 98 15  7 65 59 78 14 73 54\n",
      " 53 49 61 52 79 25 54 72  2 72  5 16 63 81 75 18 12 40 87 25 62 75  3 49\n",
      " 77 81]\n"
     ]
    }
   ],
   "source": [
    "column_wise_flattening = np.ravel(b, order= 'F')\n",
    "print(column_wise_flattening)"
   ]
  },
  {
   "cell_type": "code",
   "execution_count": 5,
   "id": "51c90d94",
   "metadata": {},
   "outputs": [
    {
     "name": "stdout",
     "output_type": "stream",
     "text": [
      "[[3 8 4]\n",
      " [1 2 8]]\n",
      "[[29 29 21]\n",
      " [29 29 22]]\n"
     ]
    }
   ],
   "source": [
    "a = np.random.randint(1,10, size = (2,3))\n",
    "b = np.random.randint(20,30, size = (2,3))\n",
    "\n",
    "print(a)\n",
    "print(b)"
   ]
  },
  {
   "cell_type": "code",
   "execution_count": 6,
   "id": "46ab4feb",
   "metadata": {},
   "outputs": [
    {
     "name": "stdout",
     "output_type": "stream",
     "text": [
      "[[ 3  8  4]\n",
      " [ 1  2  8]\n",
      " [29 29 21]\n",
      " [29 29 22]]\n",
      "[[ 3  8  4 29 29 21]\n",
      " [ 1  2  8 29 29 22]]\n"
     ]
    }
   ],
   "source": [
    "# Concatenat\n",
    "\n",
    "\n",
    "con = np.concatenate((a,b), axis = 0) #row wise\n",
    "print(con)\n",
    "con_c = np.concatenate((a,b), axis = 1) #Column wise\n",
    "print(con_c)"
   ]
  },
  {
   "cell_type": "markdown",
   "id": "31b5b36b",
   "metadata": {},
   "source": [
    "# 11.2 ndarray Manipulation - 2\n"
   ]
  },
  {
   "cell_type": "code",
   "execution_count": 7,
   "id": "b3de5da0",
   "metadata": {},
   "outputs": [
    {
     "name": "stdout",
     "output_type": "stream",
     "text": [
      "[[10 30]\n",
      " [20 40]\n",
      " [30 50]]\n"
     ]
    }
   ],
   "source": [
    "# Transpose\n",
    "mat = np.array([[10,20,30],[30,40,50]])\n",
    "\n",
    "Transpose = mat.T\n",
    "print(Transpose)"
   ]
  },
  {
   "cell_type": "code",
   "execution_count": 8,
   "id": "3778f9c1",
   "metadata": {},
   "outputs": [
    {
     "name": "stdout",
     "output_type": "stream",
     "text": [
      "[1 8 9 2 3 9 3 8 4 4]\n"
     ]
    }
   ],
   "source": [
    "#Array split\n",
    "\n",
    "a = np.random.randint(1,10, size= (10,))\n",
    "print(a)"
   ]
  },
  {
   "cell_type": "code",
   "execution_count": 9,
   "id": "e617895e",
   "metadata": {},
   "outputs": [
    {
     "name": "stdout",
     "output_type": "stream",
     "text": [
      "[array([1, 8, 9, 2], dtype=int32), array([3, 9, 3], dtype=int32), array([8, 4, 4], dtype=int32)]\n"
     ]
    }
   ],
   "source": [
    "splitted_array = np.array_split(a, 3)\n",
    "print(splitted_array)"
   ]
  },
  {
   "cell_type": "markdown",
   "id": "9347257c",
   "metadata": {},
   "source": [
    "# 11.3 ndarray Arithmetic Operators and Mathematical function"
   ]
  },
  {
   "cell_type": "code",
   "execution_count": 10,
   "id": "80e085c7",
   "metadata": {},
   "outputs": [
    {
     "name": "stdout",
     "output_type": "stream",
     "text": [
      "[12 23 34 45]\n",
      "[ 8 17 26 35]\n",
      "[ 20  60 120 200]\n",
      "[5.         6.66666667 7.5        8.        ]\n",
      "[0 2 2 0]\n"
     ]
    }
   ],
   "source": [
    "#mathematical operator\n",
    "#Faster for vectorization\n",
    "x = np.array([10,20,30,40])\n",
    "y = np.array([2,3,4,5])\n",
    "\n",
    "add = x+y\n",
    "\n",
    "print(add)\n",
    "\n",
    "sub = x-y\n",
    "\n",
    "print(sub)\n",
    "\n",
    "mul = x*y\n",
    "print(mul)\n",
    "\n",
    "div = x/y\n",
    "print(div)\n",
    "\n",
    "rem = x%y\n",
    "print(rem)"
   ]
  },
  {
   "cell_type": "code",
   "execution_count": 11,
   "id": "e6625687",
   "metadata": {},
   "outputs": [
    {
     "name": "stdout",
     "output_type": "stream",
     "text": [
      "[-0.54402111  0.91294525 -0.98803162  0.74511316]\n",
      "[-0.83907153  0.40808206  0.15425145 -0.66693806]\n",
      "[ 0.64836083  2.23716094 -6.4053312  -1.11721493]\n"
     ]
    }
   ],
   "source": [
    "#mathematical function\n",
    "\n",
    "#trigonometry\n",
    "sin_val = np.sin(x)\n",
    "cos_val = np.cos(x)\n",
    "tan_val = np.tan(x)\n",
    "\n",
    "print(sin_val)\n",
    "print(cos_val)\n",
    "print(tan_val)\n"
   ]
  },
  {
   "cell_type": "code",
   "execution_count": 13,
   "id": "236261ce",
   "metadata": {},
   "outputs": [
    {
     "name": "stdout",
     "output_type": "stream",
     "text": [
      "[ 572.95779513 1145.91559026 1718.87338539 2291.83118052]\n",
      "[0.17453293 0.34906585 0.52359878 0.6981317 ]\n"
     ]
    }
   ],
   "source": [
    "#Converting Degree<->Radian\n",
    "#radian to degree\n",
    "deg_con = np.rad2deg(x)\n",
    "print(deg_con)\n",
    "#degree to radian\n",
    "red_con = np.deg2rad(x)\n",
    "print(red_con)"
   ]
  },
  {
   "cell_type": "code",
   "execution_count": 21,
   "id": "02a7d688",
   "metadata": {},
   "outputs": [
    {
     "name": "stdout",
     "output_type": "stream",
     "text": [
      "[10 20 30 40]\n",
      "[1.         1.30103    1.47712125 1.60205999]\n",
      "[3.32192809 4.32192809 4.9068906  5.32192809]\n"
     ]
    }
   ],
   "source": [
    "#log\n",
    "print(x)\n",
    "bas_10_log = np.log10(x)\n",
    "print(bas_10_log)\n",
    "\n",
    "bas_2_log = np.log2(x)\n",
    "print(bas_2_log)"
   ]
  },
  {
   "cell_type": "code",
   "execution_count": 27,
   "id": "5d657721",
   "metadata": {},
   "outputs": [
    {
     "name": "stdout",
     "output_type": "stream",
     "text": [
      "[3.16227766 4.47213595 5.47722558 6.32455532]\n",
      "100\n",
      "[ 10  30  60 100]\n"
     ]
    }
   ],
   "source": [
    "#Square root\n",
    "\n",
    "sqr_rt = np.sqrt(x)\n",
    "print(sqr_rt)\n",
    "\n",
    "sum = np.sum(x)\n",
    "print(sum)\n",
    "c_sum = np.cumulative_sum(x)\n",
    "print(c_sum)"
   ]
  }
 ],
 "metadata": {
  "kernelspec": {
   "display_name": "Python 3.11 (latest)",
   "language": "python",
   "name": "python-3.11"
  },
  "language_info": {
   "codemirror_mode": {
    "name": "ipython",
    "version": 3
   },
   "file_extension": ".py",
   "mimetype": "text/x-python",
   "name": "python",
   "nbconvert_exporter": "python",
   "pygments_lexer": "ipython3",
   "version": "3.11.9"
  }
 },
 "nbformat": 4,
 "nbformat_minor": 5
}
