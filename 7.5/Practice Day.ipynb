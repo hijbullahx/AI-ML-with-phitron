{
  "cells": [
    {
      "cell_type": "markdown",
      "source": [
        "# Problem 1: Common Friends (Set Operations)\n",
        "Problem:\n",
        " Given two sets of friends from two people, find the mutual friends, unique friends of each, and the total number of unique friends.\n",
        "Example Input:\n",
        "a_friends = {\"Rahim\", \"Karim\", \"Sakib\", \"Jamal\"}\n",
        "b_friends = {\"Sakib\", \"Jamal\", \"Rafiq\", \"Nadim\"}\n",
        "\n",
        "Expected Output:\n",
        "Mutual friends: {'Sakib', 'Jamal'}\n",
        "Unique to A: {'Rahim', 'Karim'}\n",
        "Unique to B: {'Rafiq', 'Nadim'}\n",
        "Total unique friends: 6\n"
      ],
      "metadata": {
        "id": "2uwXzNlysXv9"
      },
      "id": "2uwXzNlysXv9"
    },
    {
      "cell_type": "code",
      "source": [
        "a = {\"Rahim\", \"Karim\", \"Sakib\", \"Jamal\"}\n",
        "b = {\"Sakib\", \"Jamal\", \"Rafiq\", \"Nadim\"}\n",
        "\n",
        "\n",
        "def mutual(a_friends,b_friends):\n",
        "  return a_friends.intersection(b_friends)\n",
        "\n",
        "def unique_a(a_friends, b_friends):\n",
        "  return a_friends.difference(b_friends)\n",
        "\n",
        "def unique_b(a_friends, b_friends):\n",
        "  return b_friends.difference(a_friends)\n",
        "Mutual = mutual(a, b)\n",
        "Unique_A = unique_a(a, b)\n",
        "Unique_B = unique_b(a, b)\n",
        "\n",
        "print(f\"Mututal Friends: {Mutual}\")\n",
        "print(f\"Unique to A: {Unique_A}\")\n",
        "print(f\"Unique to B: {Unique_B}\")\n",
        "\n",
        "print(f\"Total unique friends: {len(Unique_A)+len(Unique_B)+len(Mutual)}\")\n"
      ],
      "metadata": {
        "colab": {
          "base_uri": "https://localhost:8080/"
        },
        "id": "VveMiLcMsd91",
        "outputId": "ba362431-6dd2-42db-80b2-916c5fec75b0"
      },
      "id": "VveMiLcMsd91",
      "execution_count": 15,
      "outputs": [
        {
          "output_type": "stream",
          "name": "stdout",
          "text": [
            "Mututal Friends: {'Jamal', 'Sakib'}\n",
            "Unique to A: {'Rahim', 'Karim'}\n",
            "Unique to B: {'Nadim', 'Rafiq'}\n",
            "Total unique friends: 6\n"
          ]
        }
      ]
    },
    {
      "cell_type": "markdown",
      "source": [
        "# Problem 2: Sort Students by Marks (Tuple + Dictionary)\n",
        "Problem:\n",
        " You are given a list of tuples — each containing a student’s name and mark.\n",
        " Sort them in descending order of marks and print the top 3 scorers.\n",
        "Example Input:\n",
        "students = [(\"Rafi\", 89), (\"Sumi\", 95), (\"Hasan\", 90), (\"Nila\", 75), (\"Anik\", 98)]\n",
        "\n",
        "Expected Output:\n",
        "Top 3 students:\n",
        "Anik - 98\n",
        "Sumi - 95\n",
        "Hasan - 90\n"
      ],
      "metadata": {
        "id": "WZh4Z048v1Ss"
      },
      "id": "WZh4Z048v1Ss"
    },
    {
      "cell_type": "code",
      "source": [
        "students = [(\"Rafi\", 89), (\"Sumi\", 95), (\"Hasan\", 90), (\"Nila\", 75), (\"Anik\", 98)]\n",
        "sorted_students = sorted(students, key = lambda x: x[1], reverse = True)\n",
        "print(\"Top 3 students:\")\n",
        "for i in range(3):\n",
        "  print(f\"{sorted_students[i][0]}-{sorted_students[i][1]}\")\n"
      ],
      "metadata": {
        "colab": {
          "base_uri": "https://localhost:8080/"
        },
        "id": "iZTyHQdRv7G4",
        "outputId": "9940e5bf-838f-49f3-f651-1484fe079e42"
      },
      "id": "iZTyHQdRv7G4",
      "execution_count": 20,
      "outputs": [
        {
          "output_type": "stream",
          "name": "stdout",
          "text": [
            "Top 3 students:\n",
            "Anik-98\n",
            "Sumi-95\n",
            "Hasan-90\n"
          ]
        }
      ]
    },
    {
      "cell_type": "markdown",
      "source": [
        "# Problem 3: Word Length Filter (Lambda + Filter)\n",
        "Problem:\n",
        " Given a list of words, use filter() and lambda to return only words whose length is greater than 4.\n",
        "\n",
        "Example Input:\n",
        "words = [\"sun\", \"planet\", \"moon\", \"star\", \"universe\"]\n",
        "\n",
        "Expected Output:\n",
        "['planet', 'universe']\n",
        "\n"
      ],
      "metadata": {
        "id": "Bi2IQrOq2KFc"
      },
      "id": "Bi2IQrOq2KFc"
    },
    {
      "cell_type": "code",
      "source": [
        "words = [\"sun\", \"planet\", \"moon\", \"star\", \"universe\"]\n",
        "\n",
        "filtering = list(filter(lambda x: len(x)> 4, words))\n",
        "print(filtering)"
      ],
      "metadata": {
        "colab": {
          "base_uri": "https://localhost:8080/"
        },
        "id": "av1I1Tfe2PpP",
        "outputId": "deed8458-c78f-4b40-fff8-e63dd866fc23"
      },
      "id": "av1I1Tfe2PpP",
      "execution_count": 21,
      "outputs": [
        {
          "output_type": "stream",
          "name": "stdout",
          "text": [
            "['planet', 'universe']\n"
          ]
        }
      ]
    },
    {
      "cell_type": "markdown",
      "source": [
        "# Problem 4: Square of Even Numbers (Map + Filter + Lambda)\n",
        "Problem:\n",
        "Write a one-line Python expression using map(), filter(), and lambda that takes a list of integers and returns the squares of even numbers only.\n",
        "\n",
        "Example Input:\n",
        "nums = [1, 2, 3, 4, 5, 6]\n",
        "\n",
        "\n",
        "Expected Output:\n",
        "[4, 16, 36]\n"
      ],
      "metadata": {
        "id": "wsmuGh6J8hYG"
      },
      "id": "wsmuGh6J8hYG"
    },
    {
      "cell_type": "code",
      "source": [
        "n = list(map(int, input().split()))\n",
        "lst = list (map(lambda x: x**2, filter(lambda x:x%2==0, n )))\n",
        "print(lst)"
      ],
      "metadata": {
        "colab": {
          "base_uri": "https://localhost:8080/"
        },
        "id": "dD0sqef58oha",
        "outputId": "4855e8b0-6de6-477c-c249-3cc417ba2c1f"
      },
      "id": "dD0sqef58oha",
      "execution_count": 29,
      "outputs": [
        {
          "output_type": "stream",
          "name": "stdout",
          "text": [
            "1 2 3 4 5 6\n",
            "[4, 16, 36]\n"
          ]
        }
      ]
    },
    {
      "cell_type": "markdown",
      "source": [
        "# Problem 5: Write and Read a File\n",
        "Problem:\n",
        "Write a Python program to:\n",
        "Create a text file named data.txt\n",
        "\n",
        "\n",
        "1. Write “Learning Python is fun!” into it.\n",
        "\n",
        "\n",
        "2. Read the file and print its content.\n"
      ],
      "metadata": {
        "id": "gYKycStqBIiE"
      },
      "id": "gYKycStqBIiE"
    },
    {
      "cell_type": "code",
      "source": [
        "with open(\"./sample_data/data.txt\", \"w+\") as file:\n",
        "  file.write(\"Learning Python is fun!\")\n",
        "  file.seek(0)\n",
        "  print(file.read())"
      ],
      "metadata": {
        "id": "hX0iNjd0BSo7",
        "outputId": "63eba06d-6eab-4e8d-ba62-1d92421479c9",
        "colab": {
          "base_uri": "https://localhost:8080/"
        }
      },
      "id": "hX0iNjd0BSo7",
      "execution_count": 33,
      "outputs": [
        {
          "output_type": "stream",
          "name": "stdout",
          "text": [
            "Learning Python is fun!\n"
          ]
        }
      ]
    },
    {
      "cell_type": "markdown",
      "source": [
        "# Problem 6: Count Lines in a File\n",
        "Problem:\n",
        "Write a Python program to count how many lines are in a text file named story.txt.\n",
        "\n",
        "If the file does not exist, handle the exception and print an error message, otherwise read the text file ( test it with both conditions ). Print a message finally."
      ],
      "metadata": {
        "id": "A-P9vINoDe6k"
      },
      "id": "A-P9vINoDe6k"
    },
    {
      "cell_type": "code",
      "source": [
        "try:\n",
        "  with open(\"./sample_data/story.txt\", \"r\") as file:\n",
        "    lines = file.readlines()\n",
        "except FileNotFoundError as e:\n",
        "  print(e)\n",
        "else:\n",
        "  print(len(lines))\n",
        "\n",
        "finally:\n",
        "  print(\"This is final\")"
      ],
      "metadata": {
        "id": "_7bsY2xKDnd6",
        "outputId": "03f570ef-c2d5-4952-9eb8-1f3b6c77716f",
        "colab": {
          "base_uri": "https://localhost:8080/"
        }
      },
      "id": "_7bsY2xKDnd6",
      "execution_count": 41,
      "outputs": [
        {
          "output_type": "stream",
          "name": "stdout",
          "text": [
            "11\n",
            "This is final\n"
          ]
        }
      ]
    }
  ],
  "metadata": {
    "kernelspec": {
      "display_name": "Python 3.11 (latest)",
      "language": "python",
      "name": "python-3.11"
    },
    "language_info": {
      "codemirror_mode": {
        "name": "ipython",
        "version": 3
      },
      "file_extension": ".py",
      "mimetype": "text/x-python",
      "name": "python",
      "nbconvert_exporter": "python",
      "pygments_lexer": "ipython3",
      "version": "3.11.9"
    },
    "colab": {
      "provenance": []
    }
  },
  "nbformat": 4,
  "nbformat_minor": 5
}