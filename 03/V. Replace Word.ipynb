{
 "cells": [
  {
   "cell_type": "markdown",
   "id": "bb1905aa",
   "metadata": {},
   "source": [
    "# V. Replace Word\n",
    "Given a string S\n",
    ". Print S\n",
    " after replacing every sub-string that is equal to \"EGYPT\" with space.\n",
    "\n",
    "Input\n",
    "Only one line contains a string S\n",
    " (1≤|S|≤103)\n",
    " where |S| is the length of the string and it consists of only uppercase English letters.\n",
    "\n",
    "Output\n",
    "Print the result as required above.\n",
    "\n",
    "Examples\n",
    "InputCopy\n",
    "BRITISHEGYPTGHANA\n",
    "Output\n",
    "BRITISH GHANA\n",
    "Input\n",
    "ITALYKOREAEGYPTEGYPTALGERIAEGYPTZ\n",
    "OutputCopy\n",
    "ITALYKOREA  ALGERIA Z\n",
    "\n",
    "https://codeforces.com/group/MWSDmqGsZm/contest/219856/problem/V"
   ]
  },
  {
   "cell_type": "code",
   "execution_count": 4,
   "id": "1f8e713c",
   "metadata": {},
   "outputs": [
    {
     "name": "stdout",
     "output_type": "stream",
     "text": [
      "ITALYKOREA  ALGERIA Z\n"
     ]
    }
   ],
   "source": [
    "s = input()\n",
    "new_s = s.replace(\"EGYPT\", \" \")\n",
    "print(new_s)"
   ]
  }
 ],
 "metadata": {
  "kernelspec": {
   "display_name": "Python 3.11 (latest)",
   "language": "python",
   "name": "python-3.11"
  },
  "language_info": {
   "codemirror_mode": {
    "name": "ipython",
    "version": 3
   },
   "file_extension": ".py",
   "mimetype": "text/x-python",
   "name": "python",
   "nbconvert_exporter": "python",
   "pygments_lexer": "ipython3",
   "version": "3.11.9"
  }
 },
 "nbformat": 4,
 "nbformat_minor": 5
}
