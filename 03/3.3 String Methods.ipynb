{
 "cells": [
  {
   "cell_type": "code",
   "execution_count": 26,
   "id": "4dc237d4",
   "metadata": {},
   "outputs": [
    {
     "name": "stdout",
     "output_type": "stream",
     "text": [
      "md. taher bin omar hijbullah hijbullah\n",
      "38\n",
      "True\n"
     ]
    }
   ],
   "source": [
    "string = \"Md. Taher Bin Omar Hijbullah Hijbullah\"\n",
    "\n",
    "processed_string = string.lower()\n",
    "\n",
    "print(processed_string)\n",
    "\n",
    "#Length\n",
    "print(len(string))\n",
    "\n",
    "#Finding a word\n",
    "print(\"md.\" in processed_string)\n",
    "\n",
    "#Finding a substring position\n"
   ]
  },
  {
   "cell_type": "code",
   "execution_count": 27,
   "id": "b1af7e55",
   "metadata": {},
   "outputs": [
    {
     "name": "stdout",
     "output_type": "stream",
     "text": [
      "19\n"
     ]
    }
   ],
   "source": [
    "#Finding a substring position\n",
    "index = processed_string.find(\"hijbullah\")\n",
    "print(index)"
   ]
  },
  {
   "cell_type": "code",
   "execution_count": 28,
   "id": "1e46079c",
   "metadata": {},
   "outputs": [
    {
     "name": "stdout",
     "output_type": "stream",
     "text": [
      "29\n"
     ]
    }
   ],
   "source": [
    "#Reverse Find\n",
    "r_index = processed_string.rfind(\"hijbullah\")\n",
    "print(r_index)"
   ]
  },
  {
   "cell_type": "code",
   "execution_count": 29,
   "id": "246ac49b",
   "metadata": {},
   "outputs": [
    {
     "name": "stdout",
     "output_type": "stream",
     "text": [
      "5\n"
     ]
    }
   ],
   "source": [
    "#Counting substring\n",
    "count = processed_string.count(\"h\")\n",
    "print(count)"
   ]
  },
  {
   "cell_type": "code",
   "execution_count": 30,
   "id": "35333acd",
   "metadata": {},
   "outputs": [
    {
     "name": "stdout",
     "output_type": "stream",
     "text": [
      "Md. Taher Bin Omar Tijbullah Tijbullah\n",
      "md. taher bin omar hijbullah hijbullah\n"
     ]
    }
   ],
   "source": [
    "#Replaceing a substring\n",
    "new_string = string.replace(\"H\", \"T\")\n",
    "print(new_string)\n",
    "print(processed_string)"
   ]
  }
 ],
 "metadata": {
  "kernelspec": {
   "display_name": "Python 3.11 (latest)",
   "language": "python",
   "name": "python-3.11"
  },
  "language_info": {
   "codemirror_mode": {
    "name": "ipython",
    "version": 3
   },
   "file_extension": ".py",
   "mimetype": "text/x-python",
   "name": "python",
   "nbconvert_exporter": "python",
   "pygments_lexer": "ipython3",
   "version": "3.11.9"
  }
 },
 "nbformat": 4,
 "nbformat_minor": 5
}
