{
 "cells": [
  {
   "cell_type": "code",
   "execution_count": 33,
   "id": "4ebb3628",
   "metadata": {},
   "outputs": [
    {
     "name": "stdout",
     "output_type": "stream",
     "text": [
      "<class 'list'>\n",
      "<class 'list'>\n"
     ]
    }
   ],
   "source": [
    "#Declaration\n",
    "numbers = [100,20,30,20,40,50]\n",
    "print(type(numbers))\n",
    "mix = ['h', 2 ,3.4]\n",
    "print(type(mix))"
   ]
  },
  {
   "cell_type": "code",
   "execution_count": 30,
   "id": "592238b6",
   "metadata": {},
   "outputs": [
    {
     "name": "stdout",
     "output_type": "stream",
     "text": [
      "20\n",
      "[100, 20, 30, 90, 40, 50]\n"
     ]
    }
   ],
   "source": [
    "## access list \n",
    "print(numbers[3])\n",
    "\n",
    "numbers[3] = 90 #Mutable feature\n",
    "print(numbers)"
   ]
  },
  {
   "cell_type": "code",
   "execution_count": 31,
   "id": "e12c6ba4",
   "metadata": {},
   "outputs": [
    {
     "name": "stdout",
     "output_type": "stream",
     "text": [
      "[100, 20, 30, 90]\n"
     ]
    }
   ],
   "source": [
    "# slicing\n",
    "new_list = numbers[0:4]\n",
    "print(new_list)"
   ]
  },
  {
   "cell_type": "code",
   "execution_count": 32,
   "id": "2f9925bc",
   "metadata": {},
   "outputs": [
    {
     "name": "stdout",
     "output_type": "stream",
     "text": [
      "[100, 20, 30, 90, 40, 50, 80]\n",
      "[2, 100, 20, 30, 90, 40, 50, 80]\n",
      "[2, 100, 20, 30, 90, 40, 50]\n",
      "[2, 20, 30, 90, 40, 50]\n"
     ]
    }
   ],
   "source": [
    "#Modification\n",
    "##append\n",
    "\n",
    "numbers.append(80)\n",
    "print(numbers)\n",
    "\n",
    "#insertion at any position\n",
    "numbers.insert(0,2)\n",
    "print(numbers)\n",
    "\n",
    "# Deleting\n",
    "numbers.pop()\n",
    "print(numbers)\n",
    "\n",
    "#specific delete\n",
    "numbers.remove(100)\n",
    "print(numbers)"
   ]
  }
 ],
 "metadata": {
  "kernelspec": {
   "display_name": "Python 3.11 (latest)",
   "language": "python",
   "name": "python-3.11"
  },
  "language_info": {
   "codemirror_mode": {
    "name": "ipython",
    "version": 3
   },
   "file_extension": ".py",
   "mimetype": "text/x-python",
   "name": "python",
   "nbconvert_exporter": "python",
   "pygments_lexer": "ipython3",
   "version": "3.11.9"
  }
 },
 "nbformat": 4,
 "nbformat_minor": 5
}
