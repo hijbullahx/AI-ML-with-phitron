{
 "cells": [
  {
   "cell_type": "code",
   "execution_count": 1,
   "id": "40076bf6",
   "metadata": {},
   "outputs": [
    {
     "name": "stdout",
     "output_type": "stream",
     "text": [
      "i\n"
     ]
    }
   ],
   "source": [
    "word = \"Pythonista\"\n",
    "print(word[-4])"
   ]
  },
  {
   "cell_type": "code",
   "execution_count": 2,
   "id": "df0ecb9e",
   "metadata": {},
   "outputs": [
    {
     "name": "stdout",
     "output_type": "stream",
     "text": [
      "loo\n"
     ]
    }
   ],
   "source": [
    "s = \"HelloWorld\"\n",
    "print(s[2:8:2])"
   ]
  },
  {
   "cell_type": "code",
   "execution_count": 3,
   "id": "7614b0a5",
   "metadata": {},
   "outputs": [
    {
     "name": "stdout",
     "output_type": "stream",
     "text": [
      "2\n"
     ]
    }
   ],
   "source": [
    "text = \"banana banana\"\n",
    "print(text.count(\"ana\"))"
   ]
  },
  {
   "cell_type": "code",
   "execution_count": 4,
   "id": "c95188c2",
   "metadata": {},
   "outputs": [
    {
     "name": "stdout",
     "output_type": "stream",
     "text": [
      " blue- green-red\n"
     ]
    }
   ],
   "source": [
    "msg = \"red, green, blue\"\n",
    "colors = msg.split(\",\")\n",
    "print(\"-\".join(colors[::-1]))"
   ]
  },
  {
   "cell_type": "code",
   "execution_count": 5,
   "id": "36cac4dc",
   "metadata": {},
   "outputs": [
    {
     "name": "stdout",
     "output_type": "stream",
     "text": [
      "[2, 4, 12, 8, 10]\n"
     ]
    }
   ],
   "source": [
    "nums = [2,4,6,8,10]\n",
    "nums[2] = nums[2]*nums[0]\n",
    "print(nums)"
   ]
  },
  {
   "cell_type": "code",
   "execution_count": null,
   "id": "480173ae",
   "metadata": {},
   "outputs": [
    {
     "name": "stdout",
     "output_type": "stream",
     "text": [
      "['d', 'b']\n"
     ]
    }
   ],
   "source": [
    "#PP\n",
    "letters = ['a', 'b', 'c', 'd', 'e']\n",
    "print(letters[1:4][::-2])\n",
    "\n",
    "##letters[1:4] মানে index 1 থেকে 3 পর্যন্ত → ['b','c','d']  নেয়া। \n",
    "#এখন [::-2] মানে উল্টে গিয়ে প্রতি দুই index আগানো তাহলে ['b','c','d'] উল্টালে হয় ['d','c','b'],   \n",
    "#তারপর প্রতি 2 স্টেপে নিলে → ['d','b'] হয়। \n"
   ]
  },
  {
   "cell_type": "code",
   "execution_count": 8,
   "id": "d5d30e6b",
   "metadata": {},
   "outputs": [
    {
     "name": "stdout",
     "output_type": "stream",
     "text": [
      "2\n"
     ]
    }
   ],
   "source": [
    "stack = []\n",
    "for i in range(1,4):\n",
    "  stack.append(i)\n",
    "\n",
    "stack.pop()\n",
    "print(stack[-1])"
   ]
  },
  {
   "cell_type": "code",
   "execution_count": 9,
   "id": "97a63b88",
   "metadata": {},
   "outputs": [
    {
     "name": "stdout",
     "output_type": "stream",
     "text": [
      "30\n"
     ]
    }
   ],
   "source": [
    "queue = [10,20,30,40]\n",
    "queue.pop(1)\n",
    "queue.append(50)\n",
    "queue.pop(0)\n",
    "print(queue[0])"
   ]
  },
  {
   "cell_type": "code",
   "execution_count": 10,
   "id": "daac21ae",
   "metadata": {},
   "outputs": [
    {
     "name": "stdout",
     "output_type": "stream",
     "text": [
      "[4, 16]\n"
     ]
    }
   ],
   "source": [
    "nums = [1,2,3,4]\n",
    "sqares = [x**2 for x in nums if x%2 == 0]\n",
    "print(sqares)"
   ]
  },
  {
   "cell_type": "code",
   "execution_count": 12,
   "id": "09215ed8",
   "metadata": {},
   "outputs": [
    {
     "name": "stdout",
     "output_type": "stream",
     "text": [
      "[1, 2, 3]\n"
     ]
    }
   ],
   "source": [
    "x = [1,2,3,2,4]\n",
    "x.remove(4)\n",
    "x.pop()\n",
    "print(x)"
   ]
  }
 ],
 "metadata": {
  "kernelspec": {
   "display_name": "Python 3.11 (latest)",
   "language": "python",
   "name": "python-3.11"
  },
  "language_info": {
   "codemirror_mode": {
    "name": "ipython",
    "version": 3
   },
   "file_extension": ".py",
   "mimetype": "text/x-python",
   "name": "python",
   "nbconvert_exporter": "python",
   "pygments_lexer": "ipython3",
   "version": "3.11.9"
  }
 },
 "nbformat": 4,
 "nbformat_minor": 5
}
