{
 "cells": [
  {
   "cell_type": "markdown",
   "id": "046d7f46",
   "metadata": {},
   "source": [
    "# M. Replace MinMax\n",
    "Given a number N and an array A of N numbers. Print the array after doing the following operations:\n",
    "\n",
    "Find minimum number in these numbers.\n",
    "Find maximum number in these numbers.\n",
    "Swap minimum number with maximum number.\n",
    "Input\n",
    "First line contains a number N (2 ≤ N ≤ 1000) number of elements.\n",
    "\n",
    "Second line contains N numbers ( - 105 ≤ Ai ≤ 105)\n",
    "\n",
    "It's guaranteed that all numbers are distinct.\n",
    "\n",
    "Input\n",
    "5 \n",
    "4 1 3 10 8\n",
    "\n",
    "Output\n",
    "4 10 3 1 8 \n",
    "\n",
    "https://codeforces.com/group/MWSDmqGsZm/contest/219774/problem/M"
   ]
  },
  {
   "cell_type": "code",
   "execution_count": 15,
   "id": "92ebb0c8",
   "metadata": {},
   "outputs": [
    {
     "name": "stdout",
     "output_type": "stream",
     "text": [
      "4 10 3 1 8 "
     ]
    }
   ],
   "source": [
    "n = int(input())\n",
    "x = list(map(int, input().split()[:n]))\n",
    "min_val = min(x)\n",
    "max_val = max(x)\n",
    "index_min_val = x.index(min_val)\n",
    "index_max_val = x.index(max_val)\n",
    "\n",
    "x[index_max_val] = min_val\n",
    "x[index_min_val] = max_val\n",
    "\n",
    "for i in range(len(x)):\n",
    "  print(x[i], end = \" \")"
   ]
  }
 ],
 "metadata": {
  "kernelspec": {
   "display_name": "Python 3.11 (latest)",
   "language": "python",
   "name": "python-3.11"
  },
  "language_info": {
   "codemirror_mode": {
    "name": "ipython",
    "version": 3
   },
   "file_extension": ".py",
   "mimetype": "text/x-python",
   "name": "python",
   "nbconvert_exporter": "python",
   "pygments_lexer": "ipython3",
   "version": "3.11.9"
  }
 },
 "nbformat": 4,
 "nbformat_minor": 5
}
