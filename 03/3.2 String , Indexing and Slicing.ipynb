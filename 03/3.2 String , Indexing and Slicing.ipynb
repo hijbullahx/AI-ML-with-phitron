{
 "cells": [
  {
   "cell_type": "code",
   "execution_count": 3,
   "id": "3924eda6",
   "metadata": {},
   "outputs": [
    {
     "name": "stdout",
     "output_type": "stream",
     "text": [
      "Hello! How are you?\n",
      "<class 'str'>\n"
     ]
    }
   ],
   "source": [
    "prompt = \"Hello! How are you?\"\n",
    "print(prompt)\n",
    "print(type(prompt))"
   ]
  },
  {
   "cell_type": "code",
   "execution_count": 5,
   "id": "fb11e3d1",
   "metadata": {},
   "outputs": [
    {
     "name": "stdout",
     "output_type": "stream",
     "text": [
      "Hi, Tum kese ho?\n",
      "khana khakye aya?\n",
      "Or jakar khaoge?\n",
      "kab jaoge?\n"
     ]
    }
   ],
   "source": [
    "## For multi line:\n",
    "message = \"\"\"Hi, Tum kese ho?\n",
    "khana khakye aya?\n",
    "Or jakar khaoge?\n",
    "kab jaoge?\"\"\"  \n",
    "print(message)"
   ]
  },
  {
   "cell_type": "markdown",
   "id": "f1b6cc5e",
   "metadata": {},
   "source": [
    "# Indexing and Slicing"
   ]
  },
  {
   "cell_type": "code",
   "execution_count": 6,
   "id": "f1f2e949",
   "metadata": {},
   "outputs": [
    {
     "name": "stdout",
     "output_type": "stream",
     "text": [
      "j\n"
     ]
    }
   ],
   "source": [
    "\n",
    "string = \"hijbullah\"\n",
    "print(string[2])"
   ]
  },
  {
   "cell_type": "code",
   "execution_count": 18,
   "id": "969fbf35",
   "metadata": {},
   "outputs": [
    {
     "name": "stdout",
     "output_type": "stream",
     "text": [
      "Hi, Tum kese ho?\n"
     ]
    }
   ],
   "source": [
    "first_msg = message[0:16]\n",
    "print(first_msg)"
   ]
  },
  {
   "cell_type": "code",
   "execution_count": 23,
   "id": "4d03839f",
   "metadata": {},
   "outputs": [
    {
     "name": "stdout",
     "output_type": "stream",
     "text": [
      "?\n",
      "o\n",
      "h\n",
      " \n",
      "e\n"
     ]
    }
   ],
   "source": [
    "print(first_msg[-1])\n",
    "print(first_msg[-2])\n",
    "print(first_msg[-3])\n",
    "print(first_msg[-4])\n",
    "print(first_msg[-5])"
   ]
  }
 ],
 "metadata": {
  "kernelspec": {
   "display_name": "Python 3.11 (latest)",
   "language": "python",
   "name": "python-3.11"
  },
  "language_info": {
   "codemirror_mode": {
    "name": "ipython",
    "version": 3
   },
   "file_extension": ".py",
   "mimetype": "text/x-python",
   "name": "python",
   "nbconvert_exporter": "python",
   "pygments_lexer": "ipython3",
   "version": "3.11.9"
  }
 },
 "nbformat": 4,
 "nbformat_minor": 5
}
