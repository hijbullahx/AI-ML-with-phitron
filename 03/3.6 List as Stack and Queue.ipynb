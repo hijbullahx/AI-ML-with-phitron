{
 "cells": [
  {
   "cell_type": "markdown",
   "id": "da87bef3",
   "metadata": {},
   "source": [
    "# Stack as List"
   ]
  },
  {
   "cell_type": "code",
   "execution_count": 40,
   "id": "b60531bc",
   "metadata": {},
   "outputs": [
    {
     "name": "stdout",
     "output_type": "stream",
     "text": [
      "The Top:5\n",
      "Deleted:5\n",
      "Updated List: [1, 2, 3, 4]\n",
      "\n",
      "The Top:4\n",
      "Deleted:4\n",
      "Updated List: [1, 2, 3]\n",
      "\n",
      "The Top:3\n",
      "Deleted:3\n",
      "Updated List: [1, 2]\n",
      "\n",
      "The Top:2\n",
      "Deleted:2\n",
      "Updated List: [1]\n",
      "\n"
     ]
    }
   ],
   "source": [
    "stack = []\n",
    "\n",
    "#Push in stack\n",
    "stack.append(1)\n",
    "stack.append(2)\n",
    "stack.append(3)\n",
    "stack.append(4)\n",
    "stack.append(5)\n",
    "\n",
    "#getting the top element\n",
    "print(f\"The Top:{stack[-1]}\")\n",
    "print(f\"Deleted:{stack.pop()}\")\n",
    "print(f\"Updated List: {stack}\\n\")\n",
    "\n",
    "print(f\"The Top:{stack[-1]}\")\n",
    "print(f\"Deleted:{stack.pop()}\")\n",
    "print(f\"Updated List: {stack}\\n\")\n",
    "\n",
    "print(f\"The Top:{stack[-1]}\")\n",
    "print(f\"Deleted:{stack.pop()}\")\n",
    "print(f\"Updated List: {stack}\\n\")\n",
    "\n",
    "print(f\"The Top:{stack[-1]}\")\n",
    "print(f\"Deleted:{stack.pop()}\")\n",
    "print(f\"Updated List: {stack}\\n\")\n"
   ]
  },
  {
   "cell_type": "markdown",
   "id": "b6328ea9",
   "metadata": {},
   "source": [
    "# Queue as List"
   ]
  },
  {
   "cell_type": "code",
   "execution_count": 41,
   "id": "50942cf6",
   "metadata": {},
   "outputs": [
    {
     "name": "stdout",
     "output_type": "stream",
     "text": [
      "Deleted: 1\n",
      "Front: 2\n",
      "Updated List: [2, 3, 4, 5, 6]\n",
      "\n",
      "Deleted: 2\n",
      "Front: 3\n",
      "Updated List: [3, 4, 5, 6]\n",
      "\n",
      "Deleted: 3\n",
      "Front: 4\n",
      "Updated List: [4, 5, 6]\n",
      "\n",
      "Deleted: 4\n",
      "Front: 5\n",
      "Updated List: [5, 6]\n",
      "\n"
     ]
    }
   ],
   "source": [
    "queue = []\n",
    "\n",
    "#Insertion\n",
    "queue.append(1)\n",
    "queue.append(2)\n",
    "queue.append(3)\n",
    "queue.append(4)\n",
    "queue.append(5)\n",
    "queue.append(6)\n",
    "\n",
    "#Remove\n",
    "print(f\"Deleted: {queue.pop(0)}\")\n",
    "#accessing the front\n",
    "print(f\"Front: {queue[0]}\")\n",
    "print(f\"Updated List: {queue}\\n\")\n",
    "\n",
    "\n",
    "#Remove\n",
    "print(f\"Deleted: {queue.pop(0)}\")\n",
    "#accessing the front\n",
    "print(f\"Front: {queue[0]}\")\n",
    "print(f\"Updated List: {queue}\\n\")\n",
    "\n",
    "#Remove\n",
    "print(f\"Deleted: {queue.pop(0)}\")\n",
    "#accessing the front\n",
    "print(f\"Front: {queue[0]}\")\n",
    "print(f\"Updated List: {queue}\\n\")\n",
    "\n",
    "#Remove\n",
    "print(f\"Deleted: {queue.pop(0)}\")\n",
    "#accessing the front\n",
    "print(f\"Front: {queue[0]}\")\n",
    "print(f\"Updated List: {queue}\\n\")\n"
   ]
  }
 ],
 "metadata": {
  "kernelspec": {
   "display_name": "Python 3.11 (latest)",
   "language": "python",
   "name": "python-3.11"
  },
  "language_info": {
   "codemirror_mode": {
    "name": "ipython",
    "version": 3
   },
   "file_extension": ".py",
   "mimetype": "text/x-python",
   "name": "python",
   "nbconvert_exporter": "python",
   "pygments_lexer": "ipython3",
   "version": "3.11.9"
  }
 },
 "nbformat": 4,
 "nbformat_minor": 5
}
