{
 "cells": [
  {
   "cell_type": "code",
   "execution_count": 1,
   "id": "f6806c18",
   "metadata": {},
   "outputs": [
    {
     "name": "stdout",
     "output_type": "stream",
     "text": [
      "['Apple', 'Orrange', 'Lichi']\n"
     ]
    }
   ],
   "source": [
    "fruites = ['apple', 'orrange', 'lichi']\n",
    "\n",
    "capitalize_fruits = [fruit.capitalize() for fruit  in fruites]\n",
    "print(capitalize_fruits)"
   ]
  }
 ],
 "metadata": {
  "kernelspec": {
   "display_name": "Python 3.11 (latest)",
   "language": "python",
   "name": "python-3.11"
  },
  "language_info": {
   "codemirror_mode": {
    "name": "ipython",
    "version": 3
   },
   "file_extension": ".py",
   "mimetype": "text/x-python",
   "name": "python",
   "nbconvert_exporter": "python",
   "pygments_lexer": "ipython3",
   "version": "3.11.9"
  }
 },
 "nbformat": 4,
 "nbformat_minor": 5
}
