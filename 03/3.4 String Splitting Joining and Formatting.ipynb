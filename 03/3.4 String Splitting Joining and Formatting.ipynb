{
 "cells": [
  {
   "cell_type": "markdown",
   "id": "65dc891b",
   "metadata": {},
   "source": [
    "# Splitting"
   ]
  },
  {
   "cell_type": "code",
   "execution_count": 23,
   "id": "6e063867",
   "metadata": {},
   "outputs": [
    {
     "name": "stdout",
     "output_type": "stream",
     "text": [
      "['What', 'is', 'Phitron', '?']\n"
     ]
    }
   ],
   "source": [
    "prompt = \"What is Phitron ? \"\n",
    "tokens = prompt.split()\n",
    "print(tokens)"
   ]
  },
  {
   "cell_type": "code",
   "execution_count": 24,
   "id": "decbde77",
   "metadata": {},
   "outputs": [
    {
     "name": "stdout",
     "output_type": "stream",
     "text": [
      "['What', 'is', 'Phitron ? ']\n",
      "<class 'list'>\n"
     ]
    }
   ],
   "source": [
    "#split without space\n",
    "prompt = \"What-is-Phitron ? \"\n",
    "tokens = prompt.split(\"-\")\n",
    "print(tokens)\n",
    "print(type(tokens))"
   ]
  },
  {
   "cell_type": "markdown",
   "id": "374975e7",
   "metadata": {},
   "source": [
    "# Joining"
   ]
  },
  {
   "cell_type": "code",
   "execution_count": 25,
   "id": "faefabb1",
   "metadata": {},
   "outputs": [
    {
     "name": "stdout",
     "output_type": "stream",
     "text": [
      "What#is#Phitron ? \n",
      "<class 'str'>\n"
     ]
    }
   ],
   "source": [
    "sentence = \"#\".join(tokens)\n",
    "print(sentence)\n",
    "print(type(sentence))"
   ]
  },
  {
   "cell_type": "markdown",
   "id": "792af29f",
   "metadata": {},
   "source": [
    "# Formatted String"
   ]
  },
  {
   "cell_type": "code",
   "execution_count": null,
   "id": "e85f451d",
   "metadata": {},
   "outputs": [
    {
     "name": "stdout",
     "output_type": "stream",
     "text": [
      "My name is: HIJBULLAH, My age is: 23, and My height is: 5.74 .\n",
      "\n",
      "#\n"
     ]
    }
   ],
   "source": [
    "name = \"Hijbullah\"\n",
    "age = 23\n",
    "height = 5.743\n",
    "\n",
    "info = (f\"My name is: {name.upper()}, My age is: {age}, and My height is: {height:.3} .\\n\")\n",
    "print(info)\n"
   ]
  },
  {
   "cell_type": "code",
   "execution_count": 30,
   "id": "8912c896",
   "metadata": {},
   "outputs": [
    {
     "name": "stdout",
     "output_type": "stream",
     "text": [
      "Model Accuracy is :  83.330% \n"
     ]
    }
   ],
   "source": [
    "model_accuracy = 0.8333\n",
    "print(f\"Model Accuracy is : {model_accuracy : .3%} \")"
   ]
  }
 ],
 "metadata": {
  "kernelspec": {
   "display_name": "Python 3.11 (latest)",
   "language": "python",
   "name": "python-3.11"
  },
  "language_info": {
   "codemirror_mode": {
    "name": "ipython",
    "version": 3
   },
   "file_extension": ".py",
   "mimetype": "text/x-python",
   "name": "python",
   "nbconvert_exporter": "python",
   "pygments_lexer": "ipython3",
   "version": "3.11.9"
  }
 },
 "nbformat": 4,
 "nbformat_minor": 5
}
