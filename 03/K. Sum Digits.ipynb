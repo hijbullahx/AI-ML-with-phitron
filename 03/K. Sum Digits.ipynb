{
 "cells": [
  {
   "cell_type": "markdown",
   "id": "449452ba",
   "metadata": {},
   "source": [
    "# K. Sum Digits\n",
    "\n",
    "Given a number N and an array A of N digits (not separated by space). Print the summation of these digits.\n",
    "\n",
    "Input\n",
    "First line contains a number N (1  ≤  N  ≤  106) number of digits.\n",
    "\n",
    "Second line contains N digits (0 ≤ Ai ≤ 9).\n",
    "\n",
    "Output\n",
    "Print the summation of these digits.\n",
    "\n",
    "Example\n",
    "Input\n",
    "5\n",
    "13305\n",
    "Output\n",
    "12\n",
    "\n",
    "https://codeforces.com/group/MWSDmqGsZm/contest/219774/problem/K"
   ]
  },
  {
   "cell_type": "code",
   "execution_count": 14,
   "id": "3dbd8685",
   "metadata": {},
   "outputs": [
    {
     "name": "stdout",
     "output_type": "stream",
     "text": [
      "12\n"
     ]
    }
   ],
   "source": [
    "n = int(input())\n",
    "digit = input()\n",
    "s= 0\n",
    "if len(digit) == n:\n",
    "  for d in digit:\n",
    "    s = s+int(d)\n",
    "print(s)"
   ]
  }
 ],
 "metadata": {
  "kernelspec": {
   "display_name": "Python 3.11 (latest)",
   "language": "python",
   "name": "python-3.11"
  },
  "language_info": {
   "codemirror_mode": {
    "name": "ipython",
    "version": 3
   },
   "file_extension": ".py",
   "mimetype": "text/x-python",
   "name": "python",
   "nbconvert_exporter": "python",
   "pygments_lexer": "ipython3",
   "version": "3.11.9"
  }
 },
 "nbformat": 4,
 "nbformat_minor": 5
}
