{
 "cells": [
  {
   "cell_type": "markdown",
   "id": "ba3139cd",
   "metadata": {},
   "source": [
    "# H. Good or Bad\n",
    "Given a string S. Determine whether this string is Good or Bad.\n",
    "\n",
    "Note: The string is Good if and only if it has \"010\" or \"101\" as one of its sub-strings and it's not necessary to have both of them.\n",
    "\n",
    "A substring of a string is a contiguous subsequence of that string. So, string \"forces\" is substring of string \"codeforces\", but string \"coder\" is not.\n",
    "\n",
    "Input\n",
    "The first line contains a number T (1 ≤ T ≤ 100) number of test cases.\n",
    "\n",
    "Each of the T following lines contains a string S (1 ≤ |S| ≤ 105) where |S| is the length of the string..\n",
    "\n",
    "It's guaranteed that S contains only '1s' and '0s'.\n",
    "\n",
    "Output\n",
    "For each test case, print \"Good\" if the string is Good otherwise, print \"Bad\".\n",
    "\n",
    "Example\n",
    "Input\n",
    "2\n",
    "11111110\n",
    "10101010101010\n",
    "Output\n",
    "Bad\n",
    "Good\n",
    "\n",
    "https://codeforces.com/group/MWSDmqGsZm/contest/219856/problem/H"
   ]
  },
  {
   "cell_type": "code",
   "execution_count": 10,
   "id": "a3fc24bb",
   "metadata": {},
   "outputs": [
    {
     "name": "stdout",
     "output_type": "stream",
     "text": [
      "Bad\n",
      "Good\n"
     ]
    }
   ],
   "source": [
    "n = int(input())\n",
    "\n",
    "for i in range(n):\n",
    "  d = input()\n",
    "  if \"010\" in d:\n",
    "    print(\"Good\")\n",
    "  elif \"101\" in d:\n",
    "    print(\"Good\")\n",
    "  else:\n",
    "    print(\"Bad\")"
   ]
  },
  {
   "cell_type": "code",
   "execution_count": null,
   "id": "e6a4aa0a",
   "metadata": {},
   "outputs": [],
   "source": []
  }
 ],
 "metadata": {
  "kernelspec": {
   "display_name": "Python 3.11 (latest)",
   "language": "python",
   "name": "python-3.11"
  },
  "language_info": {
   "codemirror_mode": {
    "name": "ipython",
    "version": 3
   },
   "file_extension": ".py",
   "mimetype": "text/x-python",
   "name": "python",
   "nbconvert_exporter": "python",
   "pygments_lexer": "ipython3",
   "version": "3.11.9"
  }
 },
 "nbformat": 4,
 "nbformat_minor": 5
}
