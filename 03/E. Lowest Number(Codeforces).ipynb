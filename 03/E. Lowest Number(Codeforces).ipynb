{
 "cells": [
  {
   "cell_type": "markdown",
   "id": "f32cc677",
   "metadata": {},
   "source": [
    "# E. Lowest Number\n",
    "Given a number N and an array A of N numbers. Print the lowest number and its position.\n",
    "\n",
    "Note: if there are more than one answer print first one's position.\n",
    "\n",
    "Input\n",
    "First line contains a number N (2 ≤ N ≤ 1000) number of elements.\n",
    "\n",
    "Second line contains N numbers (-105  ≤  Ai  ≤  105).\n",
    "\n",
    "Output\n",
    "Print the lowest number and its position (1-index).\n",
    "\n",
    "Input\n",
    "3\n",
    "1 2 3\n",
    "Output\n",
    "1 1\n",
    "\n",
    "Input\n",
    "5\n",
    "5 6 2 3 2\n",
    "Output\n",
    "2 3\n",
    "\n",
    "\n",
    "https://codeforces.com/group/MWSDmqGsZm/contest/219774/problem/E"
   ]
  },
  {
   "cell_type": "code",
   "execution_count": 22,
   "id": "e0c2e8f9",
   "metadata": {},
   "outputs": [
    {
     "name": "stdout",
     "output_type": "stream",
     "text": [
      "0 1\n"
     ]
    }
   ],
   "source": [
    "n = int(input())\n",
    "x = list(map(int, input().split()[:n]))\n",
    "min_val = min(x)\n",
    "pos_min_val = x.index(min_val)+1\n",
    "print(min_val, pos_min_val)\n",
    "\n"
   ]
  }
 ],
 "metadata": {
  "kernelspec": {
   "display_name": "Python 3.11 (latest)",
   "language": "python",
   "name": "python-3.11"
  },
  "language_info": {
   "codemirror_mode": {
    "name": "ipython",
    "version": 3
   },
   "file_extension": ".py",
   "mimetype": "text/x-python",
   "name": "python",
   "nbconvert_exporter": "python",
   "pygments_lexer": "ipython3",
   "version": "3.11.9"
  }
 },
 "nbformat": 4,
 "nbformat_minor": 5
}
