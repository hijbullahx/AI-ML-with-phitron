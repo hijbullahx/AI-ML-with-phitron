{
  "cells": [
    {
      "cell_type": "markdown",
      "id": "e6af6408",
      "metadata": {
        "id": "e6af6408"
      },
      "source": [
        "# 8.0 Module Introduction"
      ]
    },
    {
      "cell_type": "markdown",
      "source": [
        "1. OOP Intro\n",
        "2. Class & Objects\n",
        "3. OOP Pillurs\n",
        "4. Inheritence\n",
        "5. Polymorphism\n",
        "6. Encapsulation\n",
        "7. Abstraction"
      ],
      "metadata": {
        "id": "KlaSedQ-KM0z"
      },
      "id": "KlaSedQ-KM0z"
    }
  ],
  "metadata": {
    "language_info": {
      "name": "python"
    },
    "colab": {
      "provenance": []
    }
  },
  "nbformat": 4,
  "nbformat_minor": 5
}