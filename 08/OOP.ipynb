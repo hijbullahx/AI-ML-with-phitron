{
  "cells": [
    {
      "cell_type": "markdown",
      "id": "e6af6408",
      "metadata": {
        "id": "e6af6408"
      },
      "source": [
        "# 8.0 Module Introduction"
      ]
    },
    {
      "cell_type": "markdown",
      "source": [
        "1. OOP Intro\n",
        "2. Class & Objects\n",
        "3. OOP Pillurs\n",
        "4. Inheritence\n",
        "5. Polymorphism\n",
        "6. Encapsulation\n",
        "7. Abstraction"
      ],
      "metadata": {
        "id": "KlaSedQ-KM0z"
      },
      "id": "KlaSedQ-KM0z"
    },
    {
      "cell_type": "markdown",
      "source": [
        "# 8.1 Introduction to OOP"
      ],
      "metadata": {
        "id": "JML5tjzsKkwp"
      },
      "id": "JML5tjzsKkwp"
    },
    {
      "cell_type": "markdown",
      "source": [
        "# 8.2 Class and Objects Theory"
      ],
      "metadata": {
        "id": "P8Tc1tCmZ5Qd"
      },
      "id": "P8Tc1tCmZ5Qd"
    },
    {
      "cell_type": "markdown",
      "source": [
        "# 8.3 Class and Object implementation"
      ],
      "metadata": {
        "id": "VuYbuJzEiPFZ"
      },
      "id": "VuYbuJzEiPFZ"
    },
    {
      "cell_type": "code",
      "source": [
        "#class attribute\n",
        "class Phone:\n",
        "  category = \"Elcetronics\""
      ],
      "metadata": {
        "id": "8Efe9PCLifIJ"
      },
      "id": "8Efe9PCLifIJ",
      "execution_count": 31,
      "outputs": []
    },
    {
      "cell_type": "code",
      "source": [
        "#Creating Objects\n",
        "apple = Phone()\n",
        "apple.category = \"Super\"\n",
        "blueberry  = Phone()\n",
        "motorola = Phone()\n",
        "print(apple.category)\n",
        "print(blueberry.category)\n",
        "print(motorola.category)"
      ],
      "metadata": {
        "colab": {
          "base_uri": "https://localhost:8080/"
        },
        "id": "uRjEfEbYkZ1r",
        "outputId": "5ff992e3-7b42-41bb-e7ea-7877530e0b5d"
      },
      "id": "uRjEfEbYkZ1r",
      "execution_count": 32,
      "outputs": [
        {
          "output_type": "stream",
          "name": "stdout",
          "text": [
            "Super\n",
            "Elcetronics\n",
            "Elcetronics\n"
          ]
        }
      ]
    },
    {
      "cell_type": "code",
      "source": [
        "#Instance Attribute\n",
        "\n",
        "class Phone:\n",
        "  category = \"Elcetronics\"\n",
        "\n",
        "  #Constructor\n",
        "  def __init__(self, model, battery, camera, battery_percentage=100):\n",
        "    self.model = model\n",
        "    self.battery = battery\n",
        "    self.camera = camera\n",
        "    self.battery_percentage = battery_percentage\n",
        "  #Methods\n",
        "  def charge(self,hour):\n",
        "    print(f\"charge completed by {hour}\")\n",
        "  def capture(self,photo):\n",
        "    if(self.battery_percentage)<=0:\n",
        "      print(\"Battery is dead\")\n",
        "    else:\n",
        "      self.battery_percentage -= photo\n",
        "      print(f\"Photo captured in {self.model}\")\n",
        "#New Class\n",
        "class Cooling_Mechanism:\n",
        "  def __init__(self, cooling_method):\n",
        "    self.cooling_method = cooling_method\n",
        "\n",
        "  #methods\n",
        "  def cooling_on(self):\n",
        "    print(f\"The system is being cool by {self.cooling_method}\")"
      ],
      "metadata": {
        "id": "rg5eao51lErE"
      },
      "id": "rg5eao51lErE",
      "execution_count": 41,
      "outputs": []
    },
    {
      "cell_type": "code",
      "source": [
        "#Creating Objects\n",
        "apple = Phone(\"Iphone 17\",3000,40)\n",
        "blueberry  = Phone(\"B-17\", 4000, 30)\n",
        "motorola = Phone(\"M-17\", 3500, 35)\n",
        "\n",
        "print(motorola.camera)\n",
        "print(apple.battery_percentage)"
      ],
      "metadata": {
        "colab": {
          "base_uri": "https://localhost:8080/"
        },
        "id": "EYrXTBZ3l33c",
        "outputId": "6d658016-db9b-4bba-a29b-6b79aea3dc01"
      },
      "id": "EYrXTBZ3l33c",
      "execution_count": 34,
      "outputs": [
        {
          "output_type": "stream",
          "name": "stdout",
          "text": [
            "35\n",
            "100\n"
          ]
        }
      ]
    },
    {
      "cell_type": "code",
      "source": [
        "\n",
        "apple.capture(10)\n",
        "print(apple.battery_percentage)\n",
        "\n"
      ],
      "metadata": {
        "colab": {
          "base_uri": "https://localhost:8080/"
        },
        "id": "0YlMDfkOuiaX",
        "outputId": "2af7b7a4-11ed-4535-d22f-556cb6af9f37"
      },
      "id": "0YlMDfkOuiaX",
      "execution_count": 35,
      "outputs": [
        {
          "output_type": "stream",
          "name": "stdout",
          "text": [
            "Photo captured in Iphone 17\n",
            "90\n"
          ]
        }
      ]
    },
    {
      "cell_type": "code",
      "source": [
        "print(motorola.battery_percentage)"
      ],
      "metadata": {
        "id": "_wZ8HCsoyS-T",
        "outputId": "6a0067c4-01b3-45bf-a758-a4314a1779e9",
        "colab": {
          "base_uri": "https://localhost:8080/"
        }
      },
      "id": "_wZ8HCsoyS-T",
      "execution_count": 36,
      "outputs": [
        {
          "output_type": "stream",
          "name": "stdout",
          "text": [
            "100\n"
          ]
        }
      ]
    },
    {
      "cell_type": "markdown",
      "source": [
        "# 8.4 OOP Inheritance"
      ],
      "metadata": {
        "id": "6ATKvAWJmqUB"
      },
      "id": "6ATKvAWJmqUB"
    },
    {
      "cell_type": "code",
      "source": [
        "#Child Class/ Derived class\n",
        "class SmartPhone(Phone):\n",
        "  def __init__(self, model, battery,camera, processor):\n",
        "    super().__init__(model, battery, camera)\n",
        "    self.processor = processor\n",
        "  def charge(self, hour):\n",
        "    print(\"fast charging in process\")\n",
        "    super().charge(hour)"
      ],
      "metadata": {
        "id": "hD3vYK4knLJV"
      },
      "id": "hD3vYK4knLJV",
      "execution_count": 39,
      "outputs": []
    },
    {
      "cell_type": "code",
      "source": [
        "pro = SmartPhone(\"X\", 5000, 100, \"SD\")\n",
        "print(pro.model)\n",
        "\n",
        "pro.charge(1)"
      ],
      "metadata": {
        "colab": {
          "base_uri": "https://localhost:8080/"
        },
        "id": "nbOQZomVoAf_",
        "outputId": "36dfcf32-fa1e-4ca5-b280-bac511acbce8"
      },
      "id": "nbOQZomVoAf_",
      "execution_count": 40,
      "outputs": [
        {
          "output_type": "stream",
          "name": "stdout",
          "text": [
            "X\n",
            "fast charging in process\n",
            "charge completed by 1\n"
          ]
        }
      ]
    },
    {
      "cell_type": "markdown",
      "source": [
        "## Multiple Inheritance"
      ],
      "metadata": {
        "id": "kmYrx5NTqcFI"
      },
      "id": "kmYrx5NTqcFI"
    },
    {
      "cell_type": "code",
      "source": [
        "class SmartPhone_cool(SmartPhone, Cooling_Mechanism):\n",
        "  def __init__(self, model, battery, camera, processor, cooling_method):\n",
        "    SmartPhone.__init__(self,model, battery, camera, processor)\n",
        "    Cooling_Mechanism.__init__(self,cooling_method)"
      ],
      "metadata": {
        "id": "1qKYuh3Pty80"
      },
      "id": "1qKYuh3Pty80",
      "execution_count": 43,
      "outputs": []
    },
    {
      "cell_type": "code",
      "source": [
        "pro_cooling = SmartPhone_cool(\"Y\", 50000, 100, \"SSD\", \"Ni\")\n",
        "print(pro_cooling.processor)#SmartPhone Class\n",
        "print(pro_cooling.battery) #Phone Class\n",
        "print(pro_cooling.cooling_method)#Cooling_Mechanism\n",
        "print(pro_cooling.cooling_on())#Cooling_Mechnis class method\n",
        "print(pro_cooling.charge(1))#SmartPhone er modified charge jeta phone class theke inherited"
      ],
      "metadata": {
        "colab": {
          "base_uri": "https://localhost:8080/"
        },
        "id": "HgRPpQfivJKp",
        "outputId": "53243d66-0632-4528-adb7-060ba5f19f15"
      },
      "id": "HgRPpQfivJKp",
      "execution_count": 45,
      "outputs": [
        {
          "output_type": "stream",
          "name": "stdout",
          "text": [
            "SSD\n",
            "50000\n",
            "Ni\n",
            "The system is being cool by Ni\n",
            "None\n",
            "fast charging in process\n",
            "charge completed by 1\n",
            "None\n"
          ]
        }
      ]
    },
    {
      "cell_type": "markdown",
      "source": [
        "# 8.5 OOP Polymorphism\n"
      ],
      "metadata": {
        "id": "9MzvAgZrxjka"
      },
      "id": "9MzvAgZrxjka"
    },
    {
      "cell_type": "code",
      "source": [
        "class Camera:\n",
        "  def __init__(self, name):\n",
        "    self.name = name\n",
        "  #Method\n",
        "  def capture(self):\n",
        "    print(\"A photo is captured\")"
      ],
      "metadata": {
        "id": "UNtLQAe9x7gg"
      },
      "id": "UNtLQAe9x7gg",
      "execution_count": 46,
      "outputs": []
    },
    {
      "cell_type": "code",
      "source": [
        "class Smart(Camera): #Inherited Camera\n",
        "  def __init__(self, name, resolution):\n",
        "    super().__init__(name)\n",
        "    self.resulation = resolution\n",
        "\n",
        "  #method Overriding\n",
        "  def capture(self):\n",
        "    print(\"Photo is captured by a phone\")\n",
        "\n",
        "\n",
        "class DSLR(Camera): #Inherited Camera\n",
        "  def __init__(self, name, resolution):\n",
        "    super().__init__(name)\n",
        "    self.resulation = resolution\n",
        "\n",
        "  #method Overriding\n",
        "  def capture(self):\n",
        "    print(\"Photo is captured by a DSLR\")\n",
        "\n",
        "class Drone(Camera): #Inherited Camera\n",
        "  def __init__(self, name, resolution):\n",
        "    super().__init__(name)\n",
        "    self.resulation = resolution\n",
        "  #method Overriding\n",
        "  def capture(self):\n",
        "    print(\"Photo is captured by a Drone\")"
      ],
      "metadata": {
        "id": "RWOu6Nb6yiAP"
      },
      "id": "RWOu6Nb6yiAP",
      "execution_count": 53,
      "outputs": []
    },
    {
      "cell_type": "code",
      "source": [
        "#Creating Objects\n",
        "phone = Smart(\"Phone\", 30)\n",
        "dslr = DSLR(\"DSLR\", 200)\n",
        "drone = Drone(\"Drone\", 150)"
      ],
      "metadata": {
        "id": "z8Z2i3GJzZdg"
      },
      "id": "z8Z2i3GJzZdg",
      "execution_count": 55,
      "outputs": []
    },
    {
      "cell_type": "code",
      "source": [
        "#Calling\n",
        "phone.capture()\n",
        "dslr.capture()\n",
        "drone.capture()"
      ],
      "metadata": {
        "colab": {
          "base_uri": "https://localhost:8080/"
        },
        "id": "oc1SW9kQ0CK_",
        "outputId": "c72b2233-c1a3-450f-c62a-5b99af665992"
      },
      "id": "oc1SW9kQ0CK_",
      "execution_count": 56,
      "outputs": [
        {
          "output_type": "stream",
          "name": "stdout",
          "text": [
            "Photo is captured by a phone\n",
            "Photo is captured by a DSLR\n",
            "Photo is captured by a Drone\n"
          ]
        }
      ]
    },
    {
      "cell_type": "markdown",
      "source": [
        "# 8.6 OOP Encapsulation"
      ],
      "metadata": {
        "id": "bzknUuze_ABl"
      },
      "id": "bzknUuze_ABl"
    },
    {
      "cell_type": "code",
      "source": [
        "class Mobile:\n",
        "  def __init__(self, name, model, imei):\n",
        "    self.__name = name\n",
        "    self.__model = model\n",
        "    self.__imei = imei #__ = private\n",
        "  def charge(self):\n",
        "    print(\"Phone is charging\")\n",
        "\n",
        "# Method for getting private\n",
        "  def imei_getter(self):\n",
        "    return self.__imei\n",
        "  def model_getter(self):\n",
        "    return self.__model\n",
        "  def name_getter(self):\n",
        "    return self.__name\n",
        "\n",
        "#For bring change in private\n",
        "  def name_setter(self, name):\n",
        "    self.__name = name\n"
      ],
      "metadata": {
        "id": "_ooPufVRAa2p"
      },
      "id": "_ooPufVRAa2p",
      "execution_count": 83,
      "outputs": []
    },
    {
      "cell_type": "code",
      "source": [
        "#object\n",
        "iphone = Mobile(\"Phone\", \"17\", \"12324213\")"
      ],
      "metadata": {
        "id": "Qe39c1gGC6Co"
      },
      "id": "Qe39c1gGC6Co",
      "execution_count": 84,
      "outputs": []
    },
    {
      "cell_type": "code",
      "source": [
        "#calling\n",
        "print(iphone.name_getter())\n",
        "iphone.name_setter(\"Hijbullah\")\n",
        "print(iphone.name_getter())\n",
        "print(iphone.model_getter())\n",
        "print(iphone.imei_getter())\n",
        "\n",
        "\n"
      ],
      "metadata": {
        "colab": {
          "base_uri": "https://localhost:8080/"
        },
        "id": "zoUkEld6DEYD",
        "outputId": "0bd8bd3f-5407-4743-ea14-67f215e27755"
      },
      "id": "zoUkEld6DEYD",
      "execution_count": 85,
      "outputs": [
        {
          "output_type": "stream",
          "name": "stdout",
          "text": [
            "Phone\n",
            "Hijbullah\n",
            "17\n",
            "12324213\n"
          ]
        }
      ]
    },
    {
      "cell_type": "markdown",
      "source": [
        "# 8.7 OOP Abstraction"
      ],
      "metadata": {
        "id": "35QPBxixQD49"
      },
      "id": "35QPBxixQD49"
    },
    {
      "cell_type": "code",
      "source": [
        "from abc import ABC, abstractmethod\n",
        "\n",
        "class Telephone(ABC):\n",
        "  @abstractmethod\n",
        "  def make_call(self):\n",
        "    pass\n",
        "\n",
        "\n",
        "class Sphone(Telephone):\n",
        "  def make_call(self):\n",
        "    print(\"making a call using SPhone\")\n",
        "class Iphone(Telephone):\n",
        "  def make_call(self):\n",
        "    print(\"making a call using IPhone\")"
      ],
      "metadata": {
        "id": "JFxzy0SCRHTz"
      },
      "id": "JFxzy0SCRHTz",
      "execution_count": 89,
      "outputs": []
    },
    {
      "cell_type": "code",
      "source": [
        "ip = Iphone()\n",
        "ip.make_call()"
      ],
      "metadata": {
        "id": "TcxGptQMSxvK",
        "outputId": "2d37c948-989d-4556-ba1c-19d8f68674bb",
        "colab": {
          "base_uri": "https://localhost:8080/"
        }
      },
      "id": "TcxGptQMSxvK",
      "execution_count": 91,
      "outputs": [
        {
          "output_type": "stream",
          "name": "stdout",
          "text": [
            "making a call using IPhone\n"
          ]
        }
      ]
    }
  ],
  "metadata": {
    "language_info": {
      "name": "python"
    },
    "colab": {
      "provenance": []
    },
    "kernelspec": {
      "name": "python3",
      "display_name": "Python 3"
    }
  },
  "nbformat": 4,
  "nbformat_minor": 5
}