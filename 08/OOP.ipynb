{
  "cells": [
    {
      "cell_type": "markdown",
      "id": "e6af6408",
      "metadata": {
        "id": "e6af6408"
      },
      "source": [
        "# 8.0 Module Introduction"
      ]
    },
    {
      "cell_type": "markdown",
      "source": [
        "1. OOP Intro\n",
        "2. Class & Objects\n",
        "3. OOP Pillurs\n",
        "4. Inheritence\n",
        "5. Polymorphism\n",
        "6. Encapsulation\n",
        "7. Abstraction"
      ],
      "metadata": {
        "id": "KlaSedQ-KM0z"
      },
      "id": "KlaSedQ-KM0z"
    },
    {
      "cell_type": "markdown",
      "source": [
        "# 8.1 Introduction to OOP"
      ],
      "metadata": {
        "id": "JML5tjzsKkwp"
      },
      "id": "JML5tjzsKkwp"
    },
    {
      "cell_type": "markdown",
      "source": [
        "# 8.2 Class and Objects Theory"
      ],
      "metadata": {
        "id": "P8Tc1tCmZ5Qd"
      },
      "id": "P8Tc1tCmZ5Qd"
    },
    {
      "cell_type": "markdown",
      "source": [
        "# 8.3 Class and Object implementation"
      ],
      "metadata": {
        "id": "VuYbuJzEiPFZ"
      },
      "id": "VuYbuJzEiPFZ"
    },
    {
      "cell_type": "code",
      "source": [
        "#class attribute\n",
        "class Phone:\n",
        "  category = \"Elcetronics\""
      ],
      "metadata": {
        "id": "8Efe9PCLifIJ"
      },
      "id": "8Efe9PCLifIJ",
      "execution_count": 42,
      "outputs": []
    },
    {
      "cell_type": "code",
      "source": [
        "#Creating Objects\n",
        "apple = Phone()\n",
        "apple.category = \"Super\"\n",
        "blueberry  = Phone()\n",
        "motorola = Phone()\n",
        "print(apple.category)\n",
        "print(blueberry.category)\n",
        "print(motorola.category)"
      ],
      "metadata": {
        "colab": {
          "base_uri": "https://localhost:8080/"
        },
        "id": "uRjEfEbYkZ1r",
        "outputId": "1ad23bf1-3efd-47a6-e8be-b1f673cbe728"
      },
      "id": "uRjEfEbYkZ1r",
      "execution_count": 43,
      "outputs": [
        {
          "output_type": "stream",
          "name": "stdout",
          "text": [
            "Super\n",
            "Elcetronics\n",
            "Elcetronics\n"
          ]
        }
      ]
    },
    {
      "cell_type": "code",
      "source": [
        "#Instance Attribute\n",
        "\n",
        "class Phone:\n",
        "  category = \"Elcetronics\"\n",
        "\n",
        "  #Constructor\n",
        "  def __init__(self, model, battery, camera, battery_percentage=100):\n",
        "    self.model = model\n",
        "    self.battery = battery\n",
        "    self.camera = camera\n",
        "    self.battery_percentage = battery_percentage\n",
        "  #Methods\n",
        "  def charge(self,hour):\n",
        "    self.charge += hour\n",
        "  def capture(self,photo):\n",
        "    if(self.battery_percentage)<=0:\n",
        "      print(\"Battery is dead\")\n",
        "    else:\n",
        "      self.battery_percentage -= photo\n",
        "      print(f\"Photo captured in {self.model}\")\n"
      ],
      "metadata": {
        "id": "rg5eao51lErE"
      },
      "id": "rg5eao51lErE",
      "execution_count": 44,
      "outputs": []
    },
    {
      "cell_type": "code",
      "source": [
        "#Creating Objects\n",
        "apple = Phone(\"Iphone 17\",3000,40)\n",
        "blueberry  = Phone(\"B-17\", 4000, 30)\n",
        "motorola = Phone(\"M-17\", 3500, 35)\n",
        "\n",
        "print(motorola.camera)\n",
        "print(apple.battery_percentage)"
      ],
      "metadata": {
        "colab": {
          "base_uri": "https://localhost:8080/"
        },
        "id": "EYrXTBZ3l33c",
        "outputId": "ae181ea5-d5f5-4887-b7f1-37d8cf7aa55c"
      },
      "id": "EYrXTBZ3l33c",
      "execution_count": 45,
      "outputs": [
        {
          "output_type": "stream",
          "name": "stdout",
          "text": [
            "35\n",
            "100\n"
          ]
        }
      ]
    },
    {
      "cell_type": "code",
      "source": [
        "\n",
        "apple.capture(10)\n",
        "print(apple.battery_percentage)\n",
        "\n"
      ],
      "metadata": {
        "colab": {
          "base_uri": "https://localhost:8080/"
        },
        "id": "0YlMDfkOuiaX",
        "outputId": "5273e8ad-2a47-4aa6-8c49-444a633b8308"
      },
      "id": "0YlMDfkOuiaX",
      "execution_count": 46,
      "outputs": [
        {
          "output_type": "stream",
          "name": "stdout",
          "text": [
            "Photo captured in Iphone 17\n",
            "90\n"
          ]
        }
      ]
    },
    {
      "cell_type": "code",
      "source": [
        "print(motorola.battery_percentage)"
      ],
      "metadata": {
        "id": "_wZ8HCsoyS-T",
        "outputId": "844f56ce-9a37-474f-8763-5d9c31d572f0",
        "colab": {
          "base_uri": "https://localhost:8080/"
        }
      },
      "id": "_wZ8HCsoyS-T",
      "execution_count": 47,
      "outputs": [
        {
          "output_type": "stream",
          "name": "stdout",
          "text": [
            "100\n"
          ]
        }
      ]
    }
  ],
  "metadata": {
    "language_info": {
      "name": "python"
    },
    "colab": {
      "provenance": []
    },
    "kernelspec": {
      "name": "python3",
      "display_name": "Python 3"
    }
  },
  "nbformat": 4,
  "nbformat_minor": 5
}