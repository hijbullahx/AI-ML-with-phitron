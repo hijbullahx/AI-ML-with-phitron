{
 "cells": [
  {
   "cell_type": "markdown",
   "id": "5117bbc8",
   "metadata": {},
   "source": [
    "## Project Name:  Smart Vehicle Classifier\n",
    "Description\n",
    "This project simulates a simple AI-based vehicle classifier using Object-Oriented Programming (OOP).\n",
    "It demonstrates inheritance, protected and private members, method overriding, and encapsulation.\n",
    "\n",
    "The program manages two types of vehicles: Car and Bike. Each class inherits from a base class Vehicle.\n",
    "A simple classifier method predicts the type of vehicle based on its speed threshold.\n",
    "\n",
    "\n",
    "Task Statement\n",
    "Design and implement a simple program that classifies vehicles based on their type and speed using Object-Oriented Programming (OOP) principles.\n",
    "\n",
    "You must:\n",
    "Create a base class Vehicle that stores vehicle type, name, and speed.\n",
    "\n",
    "\n",
    "Use protected and private attributes in the base class to demonstrate encapsulation.\n",
    "\n",
    "\n",
    "Implement a method classify() that categorizes vehicles as High-speed Vehicle if the speed is greater than 100, otherwise Normal Vehicle.\n",
    "\n",
    "\n",
    "Derive two subclasses — Car and Bike — from Vehicle. Each should override the show_info() method to display detailed information.\n",
    "\n",
    "\n",
    "Read multiple inputs representing different vehicles, create corresponding objects, and print their details along with their classification results.\n",
    "\n",
    "Input\n",
    "3\n",
    "Car Toyota 150\n",
    "Bike Yamaha 90\n",
    "Car Honda 120\n",
    "\n",
    "Output\n",
    "Car Added: Toyota\n",
    "Bike Added: Yamaha\n",
    "Car Added: Honda\n",
    "\n",
    "--- Vehicle Details ---\n",
    "Type: Car, Name: Toyota, Speed: 150 km/h, Predicted: High-speed Vehicle\n",
    "Type: Bike, Name: Yamaha, Speed: 90 km/h, Predicted: Normal Vehicle\n",
    "Type: Car, Name: Honda, Speed: 120 km/h, Predicted: High-speed Vehicle\n",
    "\n",
    "\n",
    "Short Hint\n",
    "Use a base class Vehicle with protected and private attributes.\n",
    "Create subclasses Car and Bike that override show_info() and add a simple speed-based classifier.\n",
    "Speed above 100 is considered a \"High-speed Vehicle\".\n",
    "\n",
    "\n"
   ]
  },
  {
   "cell_type": "code",
   "execution_count": null,
   "id": "1cc4fdc6",
   "metadata": {},
   "outputs": [],
   "source": [
    "class Vehicle:\n",
    "  "
   ]
  }
 ],
 "metadata": {
  "kernelspec": {
   "display_name": "Python 3.11 (latest)",
   "language": "python",
   "name": "python-3.11"
  },
  "language_info": {
   "name": "python",
   "version": "3.11.9"
  }
 },
 "nbformat": 4,
 "nbformat_minor": 5
}
