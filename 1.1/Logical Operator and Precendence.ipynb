{
 "cells": [
  {
   "cell_type": "markdown",
   "id": "2e3e6d71",
   "metadata": {},
   "source": [
    "# Logical Operator"
   ]
  },
  {
   "cell_type": "code",
   "execution_count": 3,
   "id": "4e40d89a",
   "metadata": {},
   "outputs": [
    {
     "name": "stdout",
     "output_type": "stream",
     "text": [
      "True\n"
     ]
    }
   ],
   "source": [
    "x = 10; y =5; z=3\n",
    "result = x>y and x>z\n",
    "print(result)"
   ]
  },
  {
   "cell_type": "code",
   "execution_count": 8,
   "id": "e0fa3e9f",
   "metadata": {},
   "outputs": [
    {
     "name": "stdout",
     "output_type": "stream",
     "text": [
      "True\n"
     ]
    }
   ],
   "source": [
    "x = 10; y =5; z=31\n",
    "result = (x>y) or (x>z)\n",
    "print(result)"
   ]
  },
  {
   "cell_type": "markdown",
   "id": "7a1a4219",
   "metadata": {},
   "source": [
    "# Precendence and Associativity"
   ]
  },
  {
   "cell_type": "code",
   "execution_count": null,
   "id": "21107038",
   "metadata": {},
   "outputs": [
    {
     "name": "stdout",
     "output_type": "stream",
     "text": [
      "0.0\n"
     ]
    }
   ],
   "source": [
    "eq = (10+10)/2 - 5*2 #Whatever must do first give a bracket\n",
    "print(eq)"
   ]
  }
 ],
 "metadata": {
  "kernelspec": {
   "display_name": "Python 3.11 (latest)",
   "language": "python",
   "name": "python-3.11"
  },
  "language_info": {
   "codemirror_mode": {
    "name": "ipython",
    "version": 3
   },
   "file_extension": ".py",
   "mimetype": "text/x-python",
   "name": "python",
   "nbconvert_exporter": "python",
   "pygments_lexer": "ipython3",
   "version": "3.11.9"
  }
 },
 "nbformat": 4,
 "nbformat_minor": 5
}
