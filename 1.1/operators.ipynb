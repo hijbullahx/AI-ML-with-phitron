{
 "cells": [
  {
   "cell_type": "code",
   "execution_count": 4,
   "id": "5000c9b5",
   "metadata": {},
   "outputs": [
    {
     "name": "stdout",
     "output_type": "stream",
     "text": [
      "Summation: 13, Subtraction: 7, Multiplication: 30, Division: 3.3333333333333335 Reminder: 1\n"
     ]
    }
   ],
   "source": [
    "x = 10; y = 3\n",
    "sum = x+y #summation\n",
    "sub = x-y #Subtraction\n",
    "mult = x*y #Multicplaction\n",
    "div = x/y # Division\n",
    "\n",
    "rem = x%y #reminder\n",
    "\n",
    "print(f\"Summation: {sum}, Subtraction: {sub}, Multiplication: {mult}, Division: {div} Reminder: {rem}\")"
   ]
  },
  {
   "cell_type": "code",
   "execution_count": 9,
   "id": "898529c0",
   "metadata": {},
   "outputs": [
    {
     "name": "stdout",
     "output_type": "stream",
     "text": [
      "True\n",
      "False\n",
      "False\n",
      "True\n"
     ]
    }
   ],
   "source": [
    "#Comparison Operator(returns boolen)\n",
    "greate_than = x>y\n",
    "greate_than_equal = y>=x\n",
    "equal = x==y\n",
    "not_equal = x!=y\n",
    "\n",
    "print(greate_than)\n",
    "print(greate_than_equal)\n",
    "print(equal)\n",
    "print(not_equal)"
   ]
  }
 ],
 "metadata": {
  "kernelspec": {
   "display_name": "Python 3.11 (latest)",
   "language": "python",
   "name": "python-3.11"
  },
  "language_info": {
   "codemirror_mode": {
    "name": "ipython",
    "version": 3
   },
   "file_extension": ".py",
   "mimetype": "text/x-python",
   "name": "python",
   "nbconvert_exporter": "python",
   "pygments_lexer": "ipython3",
   "version": "3.11.9"
  }
 },
 "nbformat": 4,
 "nbformat_minor": 5
}
