{
 "cells": [
  {
   "cell_type": "code",
   "execution_count": 3,
   "id": "8feeeb29",
   "metadata": {},
   "outputs": [
    {
     "name": "stdout",
     "output_type": "stream",
     "text": [
      "1 is processing\n",
      "1, is added to the to the sum and sum is: 1\n",
      "2 is processing\n",
      "3 is processing\n",
      "3, is added to the to the sum and sum is: 4\n",
      "4 is processing\n",
      "5 is processing\n",
      "5, is added to the to the sum and sum is: 9\n",
      "6 is processing\n",
      "7 is processing\n",
      "7, is added to the to the sum and sum is: 16\n",
      "8 is processing\n",
      "9 is processing\n",
      "9, is added to the to the sum and sum is: 25\n",
      "10 is processing\n",
      "The Final Sum: 25\n"
     ]
    }
   ],
   "source": [
    "sum = 0\n",
    "for i in range(1,11):\n",
    "  print(f\"{i} is processing\")\n",
    "  if i%2 == 0:\n",
    "    continue\n",
    "  sum+=i\n",
    "  print(f\"{i}, is added to the to the sum and sum is: {sum}\")\n",
    "\n",
    "print(f\"The Final Sum: {sum}\")\n"
   ]
  },
  {
   "cell_type": "code",
   "execution_count": 4,
   "id": "57d994bc",
   "metadata": {},
   "outputs": [
    {
     "name": "stdout",
     "output_type": "stream",
     "text": [
      "96\n",
      "97\n",
      "98\n",
      "99\n",
      "100\n"
     ]
    }
   ],
   "source": [
    "accuracy = 95\n",
    "\n",
    "for i in range(20):\n",
    "  accuracy+=1\n",
    "  print(accuracy)\n",
    "  if accuracy == 100:\n",
    "    break"
   ]
  },
  {
   "cell_type": "code",
   "execution_count": 7,
   "id": "fb5e90bd",
   "metadata": {},
   "outputs": [
    {
     "name": "stdout",
     "output_type": "stream",
     "text": [
      "95\n",
      "96\n",
      "97\n",
      "98\n",
      "99\n",
      "100\n"
     ]
    }
   ],
   "source": [
    "accuracy = 95\n",
    "while True:\n",
    "  print(accuracy)\n",
    "  if accuracy == 100:\n",
    "    break\n",
    "  accuracy+=1"
   ]
  }
 ],
 "metadata": {
  "kernelspec": {
   "display_name": "Python 3.11 (latest)",
   "language": "python",
   "name": "python-3.11"
  },
  "language_info": {
   "codemirror_mode": {
    "name": "ipython",
    "version": 3
   },
   "file_extension": ".py",
   "mimetype": "text/x-python",
   "name": "python",
   "nbconvert_exporter": "python",
   "pygments_lexer": "ipython3",
   "version": "3.11.9"
  }
 },
 "nbformat": 4,
 "nbformat_minor": 5
}
