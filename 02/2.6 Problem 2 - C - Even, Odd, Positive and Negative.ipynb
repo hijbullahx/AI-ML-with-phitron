{
 "cells": [
  {
   "cell_type": "markdown",
   "id": "4cf4c4be",
   "metadata": {},
   "source": [
    "# C. Even, Odd, Positive and Negative\n",
    "\n",
    "Given N numbers. Count how many of these values are even, odd, positive and negative.\n",
    "\n",
    "Input\n",
    "First line contains one number N (1 ≤ N ≤ 103) number of values.\n",
    "\n",
    "Second line contains N numbers (-105 ≤ Xi ≤ 105).\n",
    "\n",
    "Output\n",
    "Print four lines with the following format:\n",
    "\n",
    "First Line: \"Even: X\", where X is the number of even numbers in the given input.\n",
    "\n",
    "Second Line: \"Odd: X\", where X is the number of odd numbers in the given input.\n",
    "\n",
    "Third Line: \"Positive: X\", where X is the number of positive numbers in the given input.\n",
    "\n",
    "Fourth Line: \"Negative: X\", where X is the number of negative numbers in the given input.\n",
    "\n",
    "Example\n",
    "InputCopy\n",
    "5\n",
    "-5 0 -3 -4 12\n",
    "OutputCopy\n",
    "Even: 3\n",
    "Odd: 2\n",
    "Positive: 1\n",
    "Negative: 3\n",
    "Note\n",
    "First Example :\n",
    "\n",
    "Even Numbers are : 0, -4 , 12\n",
    "\n",
    "Odd Numbers are : -5 , -3\n",
    "\n",
    "Positive Numbers are : 12\n",
    "\n",
    "Negative Numbers are : -5 , -3 , -4\n",
    "\n",
    "\n"
   ]
  },
  {
   "cell_type": "code",
   "execution_count": 21,
   "id": "48b2ce1e",
   "metadata": {},
   "outputs": [
    {
     "name": "stdout",
     "output_type": "stream",
     "text": [
      "Even: 3\n",
      "Odd: 2\n",
      "Positive: 1\n",
      "Negative: 3\n"
     ]
    }
   ],
   "source": [
    "#My Solution\n",
    "n = int(input())\n",
    "num = list(map(int, input().split()))\n",
    "\n",
    "even_count = 0\n",
    "odd_count = 0\n",
    "po_count = 0\n",
    "ne_count = 0\n",
    "for i in num:\n",
    "  if i%2 == 0:\n",
    "    even_count+=1\n",
    "  elif i%2 != 0:\n",
    "    odd_count+=1\n",
    "  if i>0:\n",
    "    po_count +=1\n",
    "  elif i<0:\n",
    "    ne_count +=1\n",
    "\n",
    "print(f\"Even: {even_count}\")\n",
    "print(f\"Odd: {odd_count}\")\n",
    "print(f\"Positive: {po_count}\")\n",
    "print(f\"Negative: {ne_count}\")"
   ]
  },
  {
   "cell_type": "code",
   "execution_count": 28,
   "id": "4061bf13",
   "metadata": {},
   "outputs": [
    {
     "name": "stdout",
     "output_type": "stream",
     "text": [
      "Even: 3\n",
      "Odd: 2\n",
      "Positive: 1\n",
      "Negative: 3\n"
     ]
    }
   ],
   "source": [
    "#Phitron Solution\n",
    "n = int(input())\n",
    "\n",
    "inp = input()\n",
    "numbers = inp.split()\n",
    "\n",
    "even_count = 0\n",
    "odd_count = 0\n",
    "po_count = 0\n",
    "ne_count = 0\n",
    "\n",
    "for i in range(n):\n",
    "  x = int(numbers[i])\n",
    "  if x>0:\n",
    "    po_count+=1\n",
    "  elif x<0:\n",
    "    ne_count+=1\n",
    "  \n",
    "  if x%2 != 0:\n",
    "    odd_count+=1\n",
    "  elif x%2 == 0:\n",
    "    even_count+=1\n",
    "\n",
    "print(f\"Even: {even_count}\")\n",
    "print(f\"Odd: {odd_count}\")\n",
    "print(f\"Positive: {po_count}\")\n",
    "print(f\"Negative: {ne_count}\")"
   ]
  }
 ],
 "metadata": {
  "kernelspec": {
   "display_name": "Python 3.11 (latest)",
   "language": "python",
   "name": "python-3.11"
  },
  "language_info": {
   "codemirror_mode": {
    "name": "ipython",
    "version": 3
   },
   "file_extension": ".py",
   "mimetype": "text/x-python",
   "name": "python",
   "nbconvert_exporter": "python",
   "pygments_lexer": "ipython3",
   "version": "3.11.9"
  }
 },
 "nbformat": 4,
 "nbformat_minor": 5
}
