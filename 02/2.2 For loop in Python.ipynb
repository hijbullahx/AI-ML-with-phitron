{
 "cells": [
  {
   "cell_type": "code",
   "execution_count": 7,
   "id": "bd5c61c0",
   "metadata": {},
   "outputs": [
    {
     "name": "stdout",
     "output_type": "stream",
     "text": [
      "1 Allahu Akbar\n",
      "3 Allahu Akbar\n",
      "5 Allahu Akbar\n",
      "7 Allahu Akbar\n",
      "9 Allahu Akbar\n"
     ]
    }
   ],
   "source": [
    "for i in range(1,11,2):\n",
    "  print(i, \"Allahu Akbar\")"
   ]
  },
  {
   "cell_type": "code",
   "execution_count": 10,
   "id": "6dbe890f",
   "metadata": {},
   "outputs": [
    {
     "name": "stdout",
     "output_type": "stream",
     "text": [
      "1 1\n",
      "1 2\n",
      "1 3\n",
      "1 4\n",
      "2 1\n",
      "2 2\n",
      "2 3\n",
      "2 4\n",
      "3 1\n",
      "3 2\n",
      "3 3\n",
      "3 4\n",
      "4 1\n",
      "4 2\n",
      "4 3\n",
      "4 4\n",
      "5 1\n",
      "5 2\n",
      "5 3\n",
      "5 4\n",
      "6 1\n",
      "6 2\n",
      "6 3\n",
      "6 4\n",
      "7 1\n",
      "7 2\n",
      "7 3\n",
      "7 4\n",
      "8 1\n",
      "8 2\n",
      "8 3\n",
      "8 4\n",
      "9 1\n",
      "9 2\n",
      "9 3\n",
      "9 4\n",
      "10 1\n",
      "10 2\n",
      "10 3\n",
      "10 4\n"
     ]
    }
   ],
   "source": [
    "for i in range(1,11):\n",
    "  for j in range(1,5):\n",
    "    print(i, j)"
   ]
  }
 ],
 "metadata": {
  "kernelspec": {
   "display_name": "Python 3.11 (latest)",
   "language": "python",
   "name": "python-3.11"
  },
  "language_info": {
   "codemirror_mode": {
    "name": "ipython",
    "version": 3
   },
   "file_extension": ".py",
   "mimetype": "text/x-python",
   "name": "python",
   "nbconvert_exporter": "python",
   "pygments_lexer": "ipython3",
   "version": "3.11.9"
  }
 },
 "nbformat": 4,
 "nbformat_minor": 5
}
