{
 "cells": [
  {
   "cell_type": "markdown",
   "id": "2fc4ca37",
   "metadata": {},
   "source": [
    "K. Max and Min\n",
    "\n",
    "Given 3 numbers A, B and C, Print the minimum and the maximum numbers.\n",
    "\n",
    "Input\n",
    "Only one line containing 3 numbers A, B and C ( - 105 ≤ A, B, C ≤ 105)\n",
    "\n",
    "Output\n",
    "Print the minimum number followed by a single space then print the maximum number.\n",
    "\n",
    "Examples\n",
    "InputCopy\n",
    "1 2 3\n",
    "OutputCopy\n",
    "1 3\n",
    "InputCopy\n",
    "-1 -2 -3\n",
    "OutputCopy\n",
    "-3 -1\n",
    "InputCopy\n",
    "10 20 -5\n",
    "OutputCopy\n",
    "-5 20\n",
    "\n"
   ]
  },
  {
   "cell_type": "code",
   "execution_count": 5,
   "id": "f0f0f34d",
   "metadata": {},
   "outputs": [
    {
     "name": "stdout",
     "output_type": "stream",
     "text": [
      "-5 20\n"
     ]
    }
   ],
   "source": [
    "num = list(map(int, input().split()))\n",
    "\n",
    "print(min(num), max(num))"
   ]
  },
  {
   "cell_type": "code",
   "execution_count": 11,
   "id": "eca236f1",
   "metadata": {},
   "outputs": [
    {
     "name": "stdout",
     "output_type": "stream",
     "text": [
      "-5 20\n"
     ]
    }
   ],
   "source": [
    "inp = input()\n",
    "num = inp.split()\n",
    "\n",
    "x = int(num[0])\n",
    "y = int(num[1])\n",
    "z = int(num[2])\n",
    "\n",
    "min = x\n",
    "max = x\n",
    "\n",
    "if min > y:\n",
    "  min = y \n",
    "if min > z:\n",
    "  min = z\n",
    "if max < y:\n",
    "  max = y\n",
    "if max < z:\n",
    "  max = z\n",
    "\n",
    "print(min, max)"
   ]
  }
 ],
 "metadata": {
  "kernelspec": {
   "display_name": "Python 3.11 (latest)",
   "language": "python",
   "name": "python-3.11"
  },
  "language_info": {
   "codemirror_mode": {
    "name": "ipython",
    "version": 3
   },
   "file_extension": ".py",
   "mimetype": "text/x-python",
   "name": "python",
   "nbconvert_exporter": "python",
   "pygments_lexer": "ipython3",
   "version": "3.11.9"
  }
 },
 "nbformat": 4,
 "nbformat_minor": 5
}
