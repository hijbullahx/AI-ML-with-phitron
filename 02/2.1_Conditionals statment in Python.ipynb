{
 "cells": [
  {
   "cell_type": "code",
   "execution_count": 4,
   "id": "0c62694d",
   "metadata": {},
   "outputs": [
    {
     "name": "stdout",
     "output_type": "stream",
     "text": [
      "Rain coat is neccessary\n",
      "keep Sandal\n"
     ]
    }
   ],
   "source": [
    "raining = True\n",
    "Muddy = True\n",
    "\n",
    "if raining == True:\n",
    "  print(\"Rain coat is neccessary\")\n",
    "  if Muddy == True:\n",
    "    print(\"keep Sandal\")\n",
    "else:\n",
    "  print(\"Not necessary\")"
   ]
  }
 ],
 "metadata": {
  "kernelspec": {
   "display_name": "Python 3.11 (latest)",
   "language": "python",
   "name": "python-3.11"
  },
  "language_info": {
   "codemirror_mode": {
    "name": "ipython",
    "version": 3
   },
   "file_extension": ".py",
   "mimetype": "text/x-python",
   "name": "python",
   "nbconvert_exporter": "python",
   "pygments_lexer": "ipython3",
   "version": "3.11.9"
  }
 },
 "nbformat": 4,
 "nbformat_minor": 5
}
