{
 "cells": [
  {
   "cell_type": "markdown",
   "id": "dc148c84",
   "metadata": {},
   "source": [
    "# Q. Digits\n",
    "Given a number N. Print the digits of that number from right to left separated by space.\n",
    "\n",
    "Input\n",
    "First line contains a number T (1 ≤ T ≤ 10) number of test cases.\n",
    "\n",
    "Next T lines will contain a number N (0 ≤ N ≤ 109)\n",
    "\n",
    "Output\n",
    "For each test case print a single line contains the digits of the number separated by space.\n",
    "\n",
    "Example\n",
    "Input\n",
    "4\n",
    "121\n",
    "39\n",
    "123456\n",
    "1200\n",
    "\n",
    "Output\n",
    "1 2 1\n",
    "9 3\n",
    "6 5 4 3 2 1\n",
    "0 0 2 1\n",
    "\n"
   ]
  },
  {
   "cell_type": "code",
   "execution_count": 18,
   "id": "d250a287",
   "metadata": {},
   "outputs": [
    {
     "name": "stdout",
     "output_type": "stream",
     "text": [
      "3 2 1 \n",
      "9 3 \n",
      "6 5 4 3 2 1 \n",
      "0 0 2 1 \n"
     ]
    }
   ],
   "source": [
    "n = int(input())\n",
    "for i in range(n):\n",
    "  number = int(input())\n",
    "  if number == 0:\n",
    "    print(0)\n",
    "    continue\n",
    "  while number > 0:\n",
    "    print(number%10, end= \" \")\n",
    "    number//=10\n",
    "  print()\n",
    " "
   ]
  }
 ],
 "metadata": {
  "kernelspec": {
   "display_name": "Python 3.11 (latest)",
   "language": "python",
   "name": "python-3.11"
  },
  "language_info": {
   "codemirror_mode": {
    "name": "ipython",
    "version": 3
   },
   "file_extension": ".py",
   "mimetype": "text/x-python",
   "name": "python",
   "nbconvert_exporter": "python",
   "pygments_lexer": "ipython3",
   "version": "3.11.9"
  }
 },
 "nbformat": 4,
 "nbformat_minor": 5
}
