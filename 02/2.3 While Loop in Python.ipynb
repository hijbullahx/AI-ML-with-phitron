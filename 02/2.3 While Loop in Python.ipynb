{
 "cells": [
  {
   "cell_type": "code",
   "execution_count": 5,
   "id": "1fa79b8c",
   "metadata": {},
   "outputs": [
    {
     "name": "stdout",
     "output_type": "stream",
     "text": [
      "1 Hijbullah\n",
      "2 Hijbullah\n",
      "3 Hijbullah\n",
      "4 Hijbullah\n",
      "5 Hijbullah\n",
      "6 Hijbullah\n",
      "7 Hijbullah\n",
      "8 Hijbullah\n",
      "9 Hijbullah\n",
      "10 Hijbullah\n"
     ]
    }
   ],
   "source": [
    "count = 1\n",
    "while count <=10:\n",
    "  print(count, \"Hijbullah\")\n",
    "  count = count+1"
   ]
  }
 ],
 "metadata": {
  "kernelspec": {
   "display_name": "Python 3.11 (latest)",
   "language": "python",
   "name": "python-3.11"
  },
  "language_info": {
   "codemirror_mode": {
    "name": "ipython",
    "version": 3
   },
   "file_extension": ".py",
   "mimetype": "text/x-python",
   "name": "python",
   "nbconvert_exporter": "python",
   "pygments_lexer": "ipython3",
   "version": "3.11.9"
  }
 },
 "nbformat": 4,
 "nbformat_minor": 5
}
