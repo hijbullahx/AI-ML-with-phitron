{
 "cells": [
  {
   "cell_type": "markdown",
   "id": "645a7a29",
   "metadata": {},
   "source": [
    "# 6.1 Intro to Function"
   ]
  },
  {
   "cell_type": "markdown",
   "id": "671e0fca",
   "metadata": {},
   "source": [
    "# 6.2 Function Parameters"
   ]
  },
  {
   "cell_type": "code",
   "execution_count": 1,
   "id": "421d947f",
   "metadata": {},
   "outputs": [
    {
     "name": "stdout",
     "output_type": "stream",
     "text": [
      "hello\n"
     ]
    }
   ],
   "source": [
    "def greet():\n",
    "  print(\"hello\")\n",
    "greet()"
   ]
  },
  {
   "cell_type": "code",
   "execution_count": null,
   "id": "a21308ed",
   "metadata": {},
   "outputs": [
    {
     "name": "stdout",
     "output_type": "stream",
     "text": [
      "hello hijbullah\n",
      "hello Guest\n"
     ]
    }
   ],
   "source": [
    "def greet(name = \"Guest\"): #name is parameters\n",
    "  print(\"hello\" ,name)\n",
    "greet(\"hijbullah\")#hijbullah is argument\n",
    "greet()\n",
    "\n",
    "\n",
    "#non return type"
   ]
  },
  {
   "cell_type": "code",
   "execution_count": null,
   "id": "75ff25c9",
   "metadata": {},
   "outputs": [
    {
     "name": "stdout",
     "output_type": "stream",
     "text": [
      "10 20 30\n",
      "500\n",
      "30 10 20\n",
      "1010\n"
     ]
    }
   ],
   "source": [
    "#Wtith return\n",
    "def sqr_add (a,b,c):\n",
    "  print(a,b,c)\n",
    "  a = a**2\n",
    "  b = b**2\n",
    "  return a+b #return integer type\n",
    "ans = sqr_add(10, 20,30)  # a =10, b = 20 -> positional argument\n",
    "print(ans)\n",
    "k_ans = sqr_add(b = 10, c = 20, a = 30) +10 #use keyword argument\n",
    "print(k_ans)"
   ]
  },
  {
   "cell_type": "code",
   "execution_count": 11,
   "id": "1aa5b994",
   "metadata": {},
   "outputs": [
    {
     "name": "stdout",
     "output_type": "stream",
     "text": [
      "5500\n"
     ]
    }
   ],
   "source": [
    "#variable sized argument\n",
    "def sqr_add (*args):# gives a tuple\n",
    "  summation = 0\n",
    "  for i in args:\n",
    "    i = i**2\n",
    "    summation+=i\n",
    "  return summation\n",
    "ans = sqr_add(10,20,30,40,50)\n",
    "print(ans)"
   ]
  },
  {
   "cell_type": "code",
   "execution_count": 14,
   "id": "65d0d946",
   "metadata": {},
   "outputs": [
    {
     "name": "stdout",
     "output_type": "stream",
     "text": [
      "name : Hijbullah\n",
      "cls : BSC\n",
      "ID : 22303142\n"
     ]
    }
   ],
   "source": [
    "def students(**kwargs):#Creats a dictionary\n",
    "  for key, val in kwargs.items():\n",
    "    print(f\"{key} : {val}\")\n",
    "students(name = \"Hijbullah\", cls = \"BSC\", ID = 22303142)\n"
   ]
  }
 ],
 "metadata": {
  "kernelspec": {
   "display_name": "Python 3.11 (latest)",
   "language": "python",
   "name": "python-3.11"
  },
  "language_info": {
   "codemirror_mode": {
    "name": "ipython",
    "version": 3
   },
   "file_extension": ".py",
   "mimetype": "text/x-python",
   "name": "python",
   "nbconvert_exporter": "python",
   "pygments_lexer": "ipython3",
   "version": "3.11.9"
  }
 },
 "nbformat": 4,
 "nbformat_minor": 5
}
