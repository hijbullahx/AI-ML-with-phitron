{
 "cells": [
  {
   "cell_type": "markdown",
   "id": "645a7a29",
   "metadata": {},
   "source": [
    "# 6.1 Intro to Function"
   ]
  },
  {
   "cell_type": "markdown",
   "id": "671e0fca",
   "metadata": {},
   "source": [
    "# 6.2 Function Parameters"
   ]
  },
  {
   "cell_type": "code",
   "execution_count": 1,
   "id": "421d947f",
   "metadata": {},
   "outputs": [
    {
     "name": "stdout",
     "output_type": "stream",
     "text": [
      "hello\n"
     ]
    }
   ],
   "source": [
    "def greet():\n",
    "  print(\"hello\")\n",
    "greet()"
   ]
  },
  {
   "cell_type": "code",
   "execution_count": null,
   "id": "a21308ed",
   "metadata": {},
   "outputs": [
    {
     "name": "stdout",
     "output_type": "stream",
     "text": [
      "hello hijbullah\n",
      "hello Guest\n"
     ]
    }
   ],
   "source": [
    "def greet(name = \"Guest\"): #name is parameters\n",
    "  print(\"hello\" ,name)\n",
    "greet(\"hijbullah\")#hijbullah is argument\n",
    "greet()\n",
    "\n",
    "\n",
    "#non return type"
   ]
  },
  {
   "cell_type": "code",
   "execution_count": null,
   "id": "75ff25c9",
   "metadata": {},
   "outputs": [
    {
     "name": "stdout",
     "output_type": "stream",
     "text": [
      "10 20 30\n",
      "500\n",
      "30 10 20\n",
      "1010\n"
     ]
    }
   ],
   "source": [
    "#Wtith return\n",
    "def sqr_add (a,b,c):\n",
    "  print(a,b,c)\n",
    "  a = a**2\n",
    "  b = b**2\n",
    "  return a+b #return integer type\n",
    "ans = sqr_add(10, 20,30)  # a =10, b = 20 -> positional argument\n",
    "print(ans)\n",
    "k_ans = sqr_add(b = 10, c = 20, a = 30) +10 #use keyword argument\n",
    "print(k_ans)"
   ]
  },
  {
   "cell_type": "code",
   "execution_count": 11,
   "id": "1aa5b994",
   "metadata": {},
   "outputs": [
    {
     "name": "stdout",
     "output_type": "stream",
     "text": [
      "5500\n"
     ]
    }
   ],
   "source": [
    "#variable sized argument\n",
    "def sqr_add (*args):# gives a tuple\n",
    "  summation = 0\n",
    "  for i in args:\n",
    "    i = i**2\n",
    "    summation+=i\n",
    "  return summation\n",
    "ans = sqr_add(10,20,30,40,50)\n",
    "print(ans)"
   ]
  },
  {
   "cell_type": "code",
   "execution_count": 14,
   "id": "65d0d946",
   "metadata": {},
   "outputs": [
    {
     "name": "stdout",
     "output_type": "stream",
     "text": [
      "name : Hijbullah\n",
      "cls : BSC\n",
      "ID : 22303142\n"
     ]
    }
   ],
   "source": [
    "def students(**kwargs):#Creats a dictionary\n",
    "  for key, val in kwargs.items():\n",
    "    print(f\"{key} : {val}\")\n",
    "students(name = \"Hijbullah\", cls = \"BSC\", ID = 22303142)\n"
   ]
  },
  {
   "cell_type": "markdown",
   "id": "65c3ed33",
   "metadata": {},
   "source": [
    "# Function Return Types"
   ]
  },
  {
   "cell_type": "code",
   "execution_count": null,
   "id": "8c35fbb5",
   "metadata": {},
   "outputs": [
    {
     "data": {
      "text/plain": [
       "float"
      ]
     },
     "execution_count": 3,
     "metadata": {},
     "output_type": "execute_result"
    }
   ],
   "source": [
    "def give_prediction():\n",
    "  return 10.5\n",
    "\n",
    "type(give_prediction())"
   ]
  },
  {
   "cell_type": "code",
   "execution_count": 4,
   "id": "d84df292",
   "metadata": {},
   "outputs": [
    {
     "data": {
      "text/plain": [
       "str"
      ]
     },
     "execution_count": 4,
     "metadata": {},
     "output_type": "execute_result"
    }
   ],
   "source": [
    "def give_prediction():\n",
    "  return \"Hijbullah\"\n",
    "\n",
    "type(give_prediction())"
   ]
  },
  {
   "cell_type": "code",
   "execution_count": 15,
   "id": "5f5a173e",
   "metadata": {},
   "outputs": [
    {
     "name": "stdout",
     "output_type": "stream",
     "text": [
      "<class 'tuple'>\n",
      "(10.5, 10)\n"
     ]
    }
   ],
   "source": [
    "#touple return\n",
    "def give_prediction():\n",
    "  return 10.5, 10\n",
    "\n",
    "print(type(give_prediction()))\n",
    "\n",
    "print(give_prediction())"
   ]
  },
  {
   "cell_type": "code",
   "execution_count": 8,
   "id": "e4f67f5f",
   "metadata": {},
   "outputs": [
    {
     "name": "stdout",
     "output_type": "stream",
     "text": [
      "10.5 10\n"
     ]
    }
   ],
   "source": [
    "#Unpacking\n",
    "x,y = give_prediction()\n",
    "\n",
    "print(x,y)"
   ]
  },
  {
   "cell_type": "code",
   "execution_count": 16,
   "id": "b32147c2",
   "metadata": {},
   "outputs": [
    {
     "name": "stdout",
     "output_type": "stream",
     "text": [
      "<class 'tuple'>\n",
      "([10, 30, 40], [20, 40, 50])\n"
     ]
    }
   ],
   "source": [
    "#List return\n",
    "def give_prediction():\n",
    "  a = [10,30,40]\n",
    "  b = [20,40,50]\n",
    "  return a , b\n",
    "print(type(give_prediction()))\n",
    "print(give_prediction())"
   ]
  },
  {
   "cell_type": "code",
   "execution_count": 20,
   "id": "7e849925",
   "metadata": {},
   "outputs": [
    {
     "name": "stdout",
     "output_type": "stream",
     "text": [
      "[10, 30, 40] [20, 40, 50]\n",
      "<class 'list'>\n"
     ]
    }
   ],
   "source": [
    "#unpacking\n",
    "\n",
    "x, y = give_prediction()\n",
    "print(x , y)\n",
    "print(type(x))"
   ]
  },
  {
   "cell_type": "code",
   "execution_count": 31,
   "id": "5cb2c46d",
   "metadata": {},
   "outputs": [
    {
     "name": "stdout",
     "output_type": "stream",
     "text": [
      "<class 'set'>\n",
      "{40, 10, 50}\n",
      "\n",
      "\n",
      "{40, 10, 50}\n",
      "<class 'set'>\n",
      "\n",
      "\n",
      "<class 'int'> 40\n",
      "<class 'int'> 10\n",
      "<class 'int'> 50\n"
     ]
    }
   ],
   "source": [
    "def give_prediction():\n",
    "  a = {10,40,50}\n",
    "  return a\n",
    "\n",
    "print(type(give_prediction()))\n",
    "print(give_prediction())\n",
    "print(\"\\n\")\n",
    "x = give_prediction()\n",
    "print(x)\n",
    "print(type(x))\n",
    "\n",
    "print(\"\\n\")\n",
    "\n",
    "for item in x:\n",
    "  print(type(item), item)"
   ]
  },
  {
   "cell_type": "code",
   "execution_count": 29,
   "id": "a76bf20e",
   "metadata": {},
   "outputs": [
    {
     "name": "stdout",
     "output_type": "stream",
     "text": [
      "<class 'tuple'>\n",
      "({40, 10, 50}, [20, 30, 30])\n",
      "\n",
      "\n",
      "({40, 10, 50}, [20, 30, 30])\n",
      "<class 'tuple'>\n",
      "\n",
      "\n",
      "<class 'set'> {40, 10, 50}\n",
      "<class 'list'> [20, 30, 30]\n"
     ]
    }
   ],
   "source": [
    "def give_prediction():\n",
    "  a = {10,40,50}\n",
    "  b = [20,30,30]\n",
    "  return a,b\n",
    "\n",
    "print(type(give_prediction()))\n",
    "print(give_prediction())\n",
    "print(\"\\n\")\n",
    "x = give_prediction()\n",
    "print(x)\n",
    "print(type(x))\n",
    "\n",
    "print(\"\\n\")\n",
    "\n",
    "for item in x:\n",
    "  print(type(item), item)"
   ]
  },
  {
   "cell_type": "code",
   "execution_count": 33,
   "id": "c4658edc",
   "metadata": {},
   "outputs": [
    {
     "name": "stdout",
     "output_type": "stream",
     "text": [
      "<class 'dict'>\n",
      "{'name': 'hijbullah', 'age': 25, 'add': 'uttara'}\n",
      "\n",
      "\n",
      "{'name': 'hijbullah', 'age': 25, 'add': 'uttara'}\n",
      "<class 'dict'>\n"
     ]
    }
   ],
   "source": [
    "#Dictionary return\n",
    "def give_prediction():\n",
    "  return {\"name\" : \"hijbullah\", \"age\" : 25, \"add\" : \"uttara\"}\n",
    "\n",
    "print(type(give_prediction()))\n",
    "print(give_prediction())\n",
    "print(\"\\n\")\n",
    "x = give_prediction()\n",
    "print(x)\n",
    "print(type(x))\n",
    "\n"
   ]
  },
  {
   "cell_type": "code",
   "execution_count": 38,
   "id": "812dd07a",
   "metadata": {},
   "outputs": [
    {
     "name": "stdout",
     "output_type": "stream",
     "text": [
      "<class 'tuple'>\n",
      "({'name': 'hijbullah', 'age': 25, 'add': 'uttara'}, {'name': 'Masud', 'age': 25, 'add': 'uttara'})\n",
      "\n",
      "\n",
      "({'name': 'hijbullah', 'age': 25, 'add': 'uttara'}, {'name': 'Masud', 'age': 25, 'add': 'uttara'})\n",
      "<class 'tuple'>\n",
      "<class 'dict'>\n",
      "('name', 'hijbullah')\n",
      "('age', 25)\n",
      "('add', 'uttara')\n"
     ]
    }
   ],
   "source": [
    "#Dictionary return\n",
    "def give_prediction():\n",
    "  return {\"name\" : \"hijbullah\", \"age\" : 25, \"add\" : \"uttara\"}, {\"name\" : \"Masud\", \"age\" : 25, \"add\" : \"uttara\"}\n",
    "\n",
    "print(type(give_prediction()))\n",
    "print(give_prediction())\n",
    "print(\"\\n\")\n",
    "x = give_prediction()\n",
    "print(x)\n",
    "print(type(x))\n",
    "\n",
    "\n",
    "x,y = give_prediction()\n",
    "print(type(x))\n",
    "\n",
    "for item in x.items():\n",
    "  print(item)\n"
   ]
  }
 ],
 "metadata": {
  "kernelspec": {
   "display_name": "Python 3.11 (latest)",
   "language": "python",
   "name": "python-3.11"
  },
  "language_info": {
   "codemirror_mode": {
    "name": "ipython",
    "version": 3
   },
   "file_extension": ".py",
   "mimetype": "text/x-python",
   "name": "python",
   "nbconvert_exporter": "python",
   "pygments_lexer": "ipython3",
   "version": "3.11.9"
  }
 },
 "nbformat": 4,
 "nbformat_minor": 5
}
