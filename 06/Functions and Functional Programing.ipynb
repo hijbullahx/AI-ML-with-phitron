{
 "cells": [
  {
   "cell_type": "markdown",
   "id": "645a7a29",
   "metadata": {},
   "source": [
    "# 6.1 Intro to Function"
   ]
  }
 ],
 "metadata": {
  "language_info": {
   "name": "python"
  }
 },
 "nbformat": 4,
 "nbformat_minor": 5
}
