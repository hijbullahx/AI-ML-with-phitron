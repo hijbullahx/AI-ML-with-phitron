{
 "cells": [
  {
   "cell_type": "code",
   "execution_count": 1,
   "id": "9c9f513c",
   "metadata": {},
   "outputs": [
    {
     "name": "stdout",
     "output_type": "stream",
     "text": [
      "5\n"
     ]
    }
   ],
   "source": [
    "def add(a, b = 2):\n",
    "  return a+b\n",
    "print(add(3))"
   ]
  },
  {
   "cell_type": "code",
   "execution_count": 2,
   "id": "17ecb5cd",
   "metadata": {},
   "outputs": [
    {
     "data": {
      "text/plain": [
       "[2, 4]"
      ]
     },
     "execution_count": 2,
     "metadata": {},
     "output_type": "execute_result"
    }
   ],
   "source": [
    "list(filter(lambda x:x%2 == 0, [1,2,3,4]))"
   ]
  },
  {
   "cell_type": "markdown",
   "id": "2fb17167",
   "metadata": {},
   "source": [
    "# G. Max and MIN\n",
    "https://codeforces.com/group/MWSDmqGsZm/contest/223205/problem/G"
   ]
  },
  {
   "cell_type": "code",
   "execution_count": 25,
   "id": "2d498b81",
   "metadata": {},
   "outputs": [
    {
     "name": "stdout",
     "output_type": "stream",
     "text": [
      "1 95 "
     ]
    }
   ],
   "source": [
    "a = int(input())\n",
    "lst = list(map(int, input().split()))\n",
    "\n",
    "min_max = (lambda lst: (min(lst), max(lst)))\n",
    "ans = min_max(lst)\n",
    "\n",
    "for i in ans:\n",
    "  print(i, end=\" \")\n"
   ]
  },
  {
   "cell_type": "markdown",
   "id": "5720f4b0",
   "metadata": {},
   "source": [
    "# J. Average"
   ]
  },
  {
   "cell_type": "code",
   "execution_count": 31,
   "id": "891eb805",
   "metadata": {},
   "outputs": [
    {
     "name": "stdout",
     "output_type": "stream",
     "text": [
      "5.2500000\n"
     ]
    }
   ],
   "source": [
    "from functools import reduce\n",
    "n = int(input())\n",
    "lst = list(map(float, input().split()))\n",
    "\n",
    "sum_a = reduce(lambda x, y: x+y, lst )\n",
    "\n",
    "avg = sum_a/len(lst)\n",
    "\n",
    "print(f\"{avg:.7f}\")\n"
   ]
  },
  {
   "cell_type": "markdown",
   "id": "316ccfbd",
   "metadata": {},
   "source": [
    "# L. New Array"
   ]
  },
  {
   "cell_type": "code",
   "execution_count": 40,
   "id": "233f54a9",
   "metadata": {},
   "outputs": [
    {
     "name": "stdout",
     "output_type": "stream",
     "text": [
      "3 4 1 2 "
     ]
    }
   ],
   "source": [
    "n = int(input())\n",
    "\n",
    "a1 = list(map(int, input().split()))\n",
    "a2 = list(map(int, input().split()))\n",
    "\n",
    "for i, j in a2 , a1:\n",
    "  print(i, j, end=\" \") \n",
    "\n"
   ]
  },
  {
   "cell_type": "code",
   "execution_count": 41,
   "id": "2e283dad",
   "metadata": {},
   "outputs": [
    {
     "name": "stdout",
     "output_type": "stream",
     "text": [
      "3 1 4 2 "
     ]
    },
    {
     "data": {
      "text/plain": [
       "[None, None]"
      ]
     },
     "execution_count": 41,
     "metadata": {},
     "output_type": "execute_result"
    }
   ],
   "source": [
    "n = int(input())\n",
    "\n",
    "a1 = list(map(int, input().split()))\n",
    "a2 = list(map(int, input().split()))\n",
    "\n",
    "# Use zip to pair elements correctly\n",
    "pair_and_print = lambda x, y: [print(i, j, end=\" \") for i, j in zip(x, y)]\n",
    "\n",
    "pair_and_print(a2, a1)\n"
   ]
  },
  {
   "cell_type": "code",
   "execution_count": 42,
   "id": "940d44b5",
   "metadata": {},
   "outputs": [
    {
     "name": "stdout",
     "output_type": "stream",
     "text": [
      "3 4 1 2 "
     ]
    }
   ],
   "source": [
    "n = int(input())\n",
    "\n",
    "a1 = list(map(int, input().split()))\n",
    "a2 = list(map(int, input().split()))\n",
    "\n",
    "for x in a2:\n",
    "    print(x, end=\" \")\n",
    "for x in a1:\n",
    "    print(x, end=\" \")\n"
   ]
  }
 ],
 "metadata": {
  "kernelspec": {
   "display_name": "Python 3.11 (latest)",
   "language": "python",
   "name": "python-3.11"
  },
  "language_info": {
   "codemirror_mode": {
    "name": "ipython",
    "version": 3
   },
   "file_extension": ".py",
   "mimetype": "text/x-python",
   "name": "python",
   "nbconvert_exporter": "python",
   "pygments_lexer": "ipython3",
   "version": "3.11.9"
  }
 },
 "nbformat": 4,
 "nbformat_minor": 5
}
