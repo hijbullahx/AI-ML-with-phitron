{
 "cells": [
  {
   "cell_type": "markdown",
   "id": "e17973c5",
   "metadata": {},
   "source": [
    "# 5.1 Tuples in Python"
   ]
  },
  {
   "cell_type": "code",
   "execution_count": 1,
   "id": "27aedd00",
   "metadata": {},
   "outputs": [
    {
     "name": "stdout",
     "output_type": "stream",
     "text": [
      "<class 'tuple'> (10, 20, 30, 40)\n"
     ]
    }
   ],
   "source": [
    "# Delcaration\n",
    "\n",
    "tup = (10,20, 30, 40)\n",
    "\n",
    "print(type(tup), tup)"
   ]
  },
  {
   "cell_type": "code",
   "execution_count": 5,
   "id": "f60fc061",
   "metadata": {},
   "outputs": [
    {
     "name": "stdout",
     "output_type": "stream",
     "text": [
      "(10, 10.5, 'str', True)\n"
     ]
    }
   ],
   "source": [
    "#Mixed Tuple\n",
    "mixed_tup = (10, 10.5, \"str\", True)\n",
    "print(mixed_tup)"
   ]
  },
  {
   "cell_type": "code",
   "execution_count": 8,
   "id": "97f549f4",
   "metadata": {},
   "outputs": [
    {
     "name": "stdout",
     "output_type": "stream",
     "text": [
      "<class 'int'> 10\n"
     ]
    }
   ],
   "source": [
    "#If there is only one value in tuple(without comma) it will be act as integer\n",
    "tupl = (10)\n",
    "print(type(tupl), tupl)"
   ]
  },
  {
   "cell_type": "code",
   "execution_count": 12,
   "id": "827b6072",
   "metadata": {},
   "outputs": [
    {
     "name": "stdout",
     "output_type": "stream",
     "text": [
      "10.5\n",
      "(10, 20, 30)\n"
     ]
    }
   ],
   "source": [
    "#Accessing Tuple \n",
    "tt = (10,20,30,10.5, \"str\", False)\n",
    "\n",
    "#By Index:\n",
    "print(tt[3])\n",
    "\n",
    "#Slicing\n",
    "\n",
    "new_tt = tt[:3]\n",
    "print(new_tt)"
   ]
  },
  {
   "cell_type": "code",
   "execution_count": 17,
   "id": "9f3bb6a1",
   "metadata": {},
   "outputs": [
    {
     "name": "stdout",
     "output_type": "stream",
     "text": [
      "3\n",
      "2\n"
     ]
    }
   ],
   "source": [
    "#Tuple methods\n",
    "tup = (10,10,20,10,30)\n",
    "print(tup.count(10))\n",
    "\n",
    "print(tup.index(20))"
   ]
  },
  {
   "cell_type": "markdown",
   "id": "5c449a7d",
   "metadata": {},
   "source": [
    "# 5.2 Sets in Python"
   ]
  },
  {
   "cell_type": "code",
   "execution_count": 19,
   "id": "2a835aad",
   "metadata": {},
   "outputs": [
    {
     "name": "stdout",
     "output_type": "stream",
     "text": [
      "<class 'set'> {1, 2, 3}\n"
     ]
    }
   ],
   "source": [
    "A = {1,2,3}\n",
    "print(type(A), A)"
   ]
  },
  {
   "cell_type": "code",
   "execution_count": 21,
   "id": "3a8870ca",
   "metadata": {},
   "outputs": [
    {
     "name": "stdout",
     "output_type": "stream",
     "text": [
      "<class 'set'>\n"
     ]
    }
   ],
   "source": [
    "#empty set\n",
    "s=set() #s= {} will be count as dictionary\n",
    "print(type(s))"
   ]
  },
  {
   "cell_type": "code",
   "execution_count": 42,
   "id": "e798742e",
   "metadata": {},
   "outputs": [
    {
     "name": "stdout",
     "output_type": "stream",
     "text": [
      "Three is present\n",
      "1\n",
      "2\n",
      "3\n",
      "4\n",
      "5\n",
      "{0, 1, 2, 3, 4, 5, 9, 21}\n"
     ]
    }
   ],
   "source": [
    "#Acceessing, set can not be access directly, No Indexing No Slicing support\n",
    "\n",
    "S = {1,1,2,3,4,5,5,2}\n",
    "\n",
    "if 3 in S:\n",
    "  print(\"Three is present\")\n",
    "else:\n",
    "  print(\"Not present\")\n",
    "\n",
    "for el in S:\n",
    "  print(el)\n",
    "#set is unordered\n",
    "S = {21,1,1,2,3,4,5,5,9,0}\n",
    "print(S)"
   ]
  },
  {
   "cell_type": "code",
   "execution_count": null,
   "id": "a0b953b0",
   "metadata": {},
   "outputs": [
    {
     "name": "stdout",
     "output_type": "stream",
     "text": [
      "{0, 1, 2, 3, 4, 5, 9, 19, 21}\n",
      "{0, 1, 2, 3, 4, 5, 19, 21}\n"
     ]
    }
   ],
   "source": [
    "#Set Methods:\n",
    "#intersection(), union(), isdisjoint(), issubset()\n",
    "#Mutable\n",
    "\n",
    "S.add(19)\n",
    "print(S)\n",
    "\n",
    "#S.pop()\n",
    "#print(S)\n",
    "\n",
    "S.remove(9)\n",
    "print(S)"
   ]
  },
  {
   "cell_type": "code",
   "execution_count": 51,
   "id": "7e4e8437",
   "metadata": {},
   "outputs": [
    {
     "name": "stdout",
     "output_type": "stream",
     "text": [
      "{1, 2, 3, 4, 5}\n",
      "{1, 2, 3, 4}\n",
      "False\n",
      "True\n"
     ]
    }
   ],
   "source": [
    "#Set methematical methods:\n",
    "a= {1,2,3,4}\n",
    "b= {1,2,3,4,5}\n",
    "print(a.union(b))\n",
    "\n",
    "print(a.intersection(b))\n",
    "\n",
    "print(a.isdisjoint(b))\n",
    "\n",
    "print(a.issubset(b))\n",
    "\n"
   ]
  },
  {
   "cell_type": "markdown",
   "id": "137ed087",
   "metadata": {},
   "source": [
    "# 5.3 Dictionary Basics"
   ]
  },
  {
   "cell_type": "code",
   "execution_count": 52,
   "id": "6f639a0c",
   "metadata": {},
   "outputs": [
    {
     "name": "stdout",
     "output_type": "stream",
     "text": [
      "<class 'dict'>\n"
     ]
    }
   ],
   "source": [
    "dic  = {}\n",
    "print(type(dic))"
   ]
  },
  {
   "cell_type": "code",
   "execution_count": 60,
   "id": "5e4dab99",
   "metadata": {},
   "outputs": [
    {
     "name": "stdout",
     "output_type": "stream",
     "text": [
      "<class 'dict'> {'name': 'Hijbulllah', 'age': 25, 'address': 'Dhaka', 'numbers': [1, 2, 3, 4, 5]}\n"
     ]
    }
   ],
   "source": [
    "dic = {\"name\": \"Hijbulllah\",\n",
    "\"age\" : 25,\n",
    "\"address\" : \"Dhaka\",\n",
    "\"numbers\" : [1,2,3,4,5]}\n",
    "print(type(dic), dic)"
   ]
  },
  {
   "cell_type": "code",
   "execution_count": 63,
   "id": "854ce2f8",
   "metadata": {},
   "outputs": [
    {
     "name": "stdout",
     "output_type": "stream",
     "text": [
      "Md. Taher Bin Omar Hijbullah [1, 2, 3, 4, 5]\n",
      "25\n",
      "Md. Taher Bin Omar Hijbullah\n"
     ]
    }
   ],
   "source": [
    "#access-> through key\n",
    "#dic_name[key]\n",
    "print(dic[\"name\"], dic[\"numbers\"])\n",
    "print(dic.get(\"age\"))\n",
    "\n",
    "dic[\"name\"] = \"Md. Taher Bin Omar Hijbullah\"\n",
    "print(dic[\"name\"])\n"
   ]
  },
  {
   "cell_type": "code",
   "execution_count": 65,
   "id": "270296e8",
   "metadata": {},
   "outputs": [
    {
     "name": "stdout",
     "output_type": "stream",
     "text": [
      "{'name': 'Hijbulllah', 'age': 30, 'address': 'Dhaka', 'numbers': [1, 2, 3, 4, 5]}\n"
     ]
    }
   ],
   "source": [
    "dic = {\"name\": \"Hijbulllah\",\n",
    "\"age\" : 25,\n",
    "\"address\" : \"Dhaka\",\n",
    "\"numbers\" : [1,2,3,4,5],\n",
    "\"age\" : 30}\n",
    "print(dic)"
   ]
  },
  {
   "cell_type": "markdown",
   "id": "0398ffae",
   "metadata": {},
   "source": [
    "# 5.4 Dictionary Methods\n"
   ]
  },
  {
   "cell_type": "code",
   "execution_count": 66,
   "id": "a6d00b70",
   "metadata": {},
   "outputs": [
    {
     "name": "stdout",
     "output_type": "stream",
     "text": [
      "{'name': 'Hijbulllah', 'age': 30, 'address': 'Dhaka', 'numbers': [1, 2, 3, 4, 5]}\n"
     ]
    }
   ],
   "source": [
    "print(dic)"
   ]
  },
  {
   "cell_type": "code",
   "execution_count": null,
   "id": "1aa7775c",
   "metadata": {},
   "outputs": [
    {
     "name": "stdout",
     "output_type": "stream",
     "text": [
      "None\n",
      "0\n"
     ]
    }
   ],
   "source": [
    "#Printing default values\n",
    "print(dic.get(\"math\"))\n",
    "print(dic.get(\"math\", 0))"
   ]
  },
  {
   "cell_type": "code",
   "execution_count": 71,
   "id": "1e67e018",
   "metadata": {},
   "outputs": [
    {
     "name": "stdout",
     "output_type": "stream",
     "text": [
      "{'name': 'Hijbulllah', 'age': 30, 'address': 'Dhaka', 'numbers': [1, 2, 3, 4, 5], 'math_marks': 90}\n"
     ]
    }
   ],
   "source": [
    "#Add value\n",
    "dic[\"math_marks\"] = 90\n",
    "print(dic)"
   ]
  },
  {
   "cell_type": "code",
   "execution_count": 74,
   "id": "ea672fdf",
   "metadata": {},
   "outputs": [
    {
     "name": "stdout",
     "output_type": "stream",
     "text": [
      "{'name': 'Hijbulllah', 'age': 30, 'address': 'Dhaka', 'numbers': [1, 2, 3, 4, 5], 'math_marks': 90, 'enlish_marks': 80}\n"
     ]
    }
   ],
   "source": [
    "dic.update({\"enlish_marks\": 80})\n",
    "print(dic)"
   ]
  },
  {
   "cell_type": "code",
   "execution_count": 75,
   "id": "0d6f6a5f",
   "metadata": {},
   "outputs": [
    {
     "name": "stdout",
     "output_type": "stream",
     "text": [
      "{'name': 'Hijbulllah', 'age': 30, 'address': 'Dhaka', 'numbers': [1, 2, 3, 4, 5], 'enlish_marks': 80}\n"
     ]
    }
   ],
   "source": [
    "#Deleting\n",
    "\n",
    "del dic[\"math_marks\"]\n",
    "print(dic)"
   ]
  },
  {
   "cell_type": "code",
   "execution_count": null,
   "id": "8003812e",
   "metadata": {},
   "outputs": [
    {
     "name": "stdout",
     "output_type": "stream",
     "text": [
      "{'name': 'Hijbulllah', 'age': 30, 'address': 'Dhaka', 'numbers': [1, 2, 3, 4, 5], 'enlish_marks': 80}\n"
     ]
    }
   ],
   "source": [
    "#Copy\n",
    "dic_2 = dic.copy()\n",
    "print(dic_2)"
   ]
  },
  {
   "cell_type": "markdown",
   "id": "75d0dcc1",
   "metadata": {},
   "source": [
    "# 5.5 Dictionary View Methods"
   ]
  },
  {
   "cell_type": "code",
   "execution_count": 82,
   "id": "fe84f5eb",
   "metadata": {},
   "outputs": [
    {
     "name": "stdout",
     "output_type": "stream",
     "text": [
      "dict_keys(['name', 'age', 'address', 'numbers', 'enlish_marks', 'math_num'])\n",
      "dict_keys(['name', 'age', 'address', 'numbers', 'enlish_marks', 'math_num'])\n"
     ]
    }
   ],
   "source": [
    "#Three view method, 1.keys(), 2. values(), 3.item()\n",
    "keys = dic.keys()\n",
    "print(keys)\n",
    "\n",
    "dic[\"math_num\"] = 34\n",
    "\n",
    "print(keys)"
   ]
  },
  {
   "cell_type": "code",
   "execution_count": 84,
   "id": "e2060b52",
   "metadata": {},
   "outputs": [
    {
     "name": "stdout",
     "output_type": "stream",
     "text": [
      "dict_values(['Hijbulllah', 30, 'Dhaka', [1, 2, 3, 4, 5], 80, 34])\n"
     ]
    }
   ],
   "source": [
    "values = dic.values()\n",
    "print(values)"
   ]
  },
  {
   "cell_type": "code",
   "execution_count": 87,
   "id": "5dd0073b",
   "metadata": {},
   "outputs": [
    {
     "name": "stdout",
     "output_type": "stream",
     "text": [
      "dict_items([('name', 'Hijbulllah'), ('age', 30), ('address', 'Dhaka'), ('numbers', [1, 2, 3, 4, 5]), ('enlish_marks', 80), ('math_num', 34)])\n"
     ]
    }
   ],
   "source": [
    "items = dic.items() \n",
    "print(items)"
   ]
  },
  {
   "cell_type": "code",
   "execution_count": null,
   "id": "65e46779",
   "metadata": {},
   "outputs": [
    {
     "name": "stdout",
     "output_type": "stream",
     "text": [
      "name Hijbulllah\n",
      "age 30\n",
      "address Dhaka\n",
      "numbers [1, 2, 3, 4, 5]\n",
      "enlish_marks 80\n",
      "math_num 34\n"
     ]
    }
   ],
   "source": [
    "for key, value in dic.items():\n",
    "  print(key, value)"
   ]
  },
  {
   "cell_type": "markdown",
   "id": "5b15183d",
   "metadata": {},
   "source": [
    "# 5.6 Dictionary Comprehension"
   ]
  },
  {
   "cell_type": "code",
   "execution_count": 93,
   "id": "ff7f71af",
   "metadata": {},
   "outputs": [
    {
     "name": "stdout",
     "output_type": "stream",
     "text": [
      "{2: 4, 4: 16, 6: 36, 8: 64, 10: 100}\n"
     ]
    }
   ],
   "source": [
    "square = {x: x**2 for x in range(1,11) if x%2 == 0}\n",
    "print(square)"
   ]
  },
  {
   "cell_type": "code",
   "execution_count": 94,
   "id": "a1ddacb8",
   "metadata": {},
   "outputs": [
    {
     "name": "stdout",
     "output_type": "stream",
     "text": [
      "{(10, 10.5): 'Dhaka', (20.5, 192): 'Chattrogram', (101, 102): 'Sylhet'}\n"
     ]
    }
   ],
   "source": [
    "co_ordinate = [(10,10.5), (20.5,192),(101,102)]\n",
    "locations = [\"Dhaka\", \"Chattrogram\", \"Sylhet\"]\n",
    "\n",
    "ex_loc = {co_or: loc for co_or, loc in zip(co_ordinate, locations)}\n",
    "\n",
    "print(ex_loc)"
   ]
  }
 ],
 "metadata": {
  "kernelspec": {
   "display_name": "Python 3.11 (latest)",
   "language": "python",
   "name": "python-3.11"
  },
  "language_info": {
   "codemirror_mode": {
    "name": "ipython",
    "version": 3
   },
   "file_extension": ".py",
   "mimetype": "text/x-python",
   "name": "python",
   "nbconvert_exporter": "python",
   "pygments_lexer": "ipython3",
   "version": "3.11.9"
  }
 },
 "nbformat": 4,
 "nbformat_minor": 5
}
