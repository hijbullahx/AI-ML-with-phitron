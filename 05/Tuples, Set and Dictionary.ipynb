{
 "cells": [
  {
   "cell_type": "markdown",
   "id": "e17973c5",
   "metadata": {},
   "source": [
    "# 5.1 Tuples in Python"
   ]
  },
  {
   "cell_type": "code",
   "execution_count": 1,
   "id": "27aedd00",
   "metadata": {},
   "outputs": [
    {
     "name": "stdout",
     "output_type": "stream",
     "text": [
      "<class 'tuple'> (10, 20, 30, 40)\n"
     ]
    }
   ],
   "source": [
    "# Delcaration\n",
    "\n",
    "tup = (10,20, 30, 40)\n",
    "\n",
    "print(type(tup), tup)"
   ]
  },
  {
   "cell_type": "code",
   "execution_count": 5,
   "id": "f60fc061",
   "metadata": {},
   "outputs": [
    {
     "name": "stdout",
     "output_type": "stream",
     "text": [
      "(10, 10.5, 'str', True)\n"
     ]
    }
   ],
   "source": [
    "#Mixed Tuple\n",
    "mixed_tup = (10, 10.5, \"str\", True)\n",
    "print(mixed_tup)"
   ]
  },
  {
   "cell_type": "code",
   "execution_count": 8,
   "id": "97f549f4",
   "metadata": {},
   "outputs": [
    {
     "name": "stdout",
     "output_type": "stream",
     "text": [
      "<class 'int'> 10\n"
     ]
    }
   ],
   "source": [
    "#If there is only one value in tuple(without comma) it will be act as integer\n",
    "tupl = (10)\n",
    "print(type(tupl), tupl)"
   ]
  },
  {
   "cell_type": "code",
   "execution_count": 12,
   "id": "827b6072",
   "metadata": {},
   "outputs": [
    {
     "name": "stdout",
     "output_type": "stream",
     "text": [
      "10.5\n",
      "(10, 20, 30)\n"
     ]
    }
   ],
   "source": [
    "#Accessing Tuple \n",
    "tt = (10,20,30,10.5, \"str\", False)\n",
    "\n",
    "#By Index:\n",
    "print(tt[3])\n",
    "\n",
    "#Slicing\n",
    "\n",
    "new_tt = tt[:3]\n",
    "print(new_tt)"
   ]
  },
  {
   "cell_type": "code",
   "execution_count": 17,
   "id": "9f3bb6a1",
   "metadata": {},
   "outputs": [
    {
     "name": "stdout",
     "output_type": "stream",
     "text": [
      "3\n",
      "2\n"
     ]
    }
   ],
   "source": [
    "#Tuple methods\n",
    "tup = (10,10,20,10,30)\n",
    "print(tup.count(10))\n",
    "\n",
    "print(tup.index(20))"
   ]
  }
 ],
 "metadata": {
  "kernelspec": {
   "display_name": "Python 3.11 (latest)",
   "language": "python",
   "name": "python-3.11"
  },
  "language_info": {
   "codemirror_mode": {
    "name": "ipython",
    "version": 3
   },
   "file_extension": ".py",
   "mimetype": "text/x-python",
   "name": "python",
   "nbconvert_exporter": "python",
   "pygments_lexer": "ipython3",
   "version": "3.11.9"
  }
 },
 "nbformat": 4,
 "nbformat_minor": 5
}
