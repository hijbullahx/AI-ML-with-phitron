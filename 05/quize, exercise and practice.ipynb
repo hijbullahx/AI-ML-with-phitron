{
 "cells": [
  {
   "cell_type": "code",
   "execution_count": 15,
   "id": "7983cdca",
   "metadata": {},
   "outputs": [
    {
     "name": "stdout",
     "output_type": "stream",
     "text": [
      "4\n"
     ]
    }
   ],
   "source": [
    "s = {1,2,3}\n",
    "s.add(5)\n",
    "S = len(s)\n",
    "print(S)"
   ]
  },
  {
   "cell_type": "code",
   "execution_count": 16,
   "id": "d7fab31d",
   "metadata": {},
   "outputs": [
    {
     "data": {
      "text/plain": [
       "dict_keys(['a', 'b'])"
      ]
     },
     "execution_count": 16,
     "metadata": {},
     "output_type": "execute_result"
    }
   ],
   "source": [
    "{'a': 1 , 'b' : 2}.keys()\n"
   ]
  },
  {
   "cell_type": "markdown",
   "id": "1086c5c7",
   "metadata": {},
   "source": [
    "## J. Count Letters\n",
    "https://codeforces.com/group/MWSDmqGsZm/contest/219856/problem/J"
   ]
  },
  {
   "cell_type": "code",
   "execution_count": null,
   "id": "8419299b",
   "metadata": {},
   "outputs": [
    {
     "name": "stdout",
     "output_type": "stream",
     "text": [
      "['a', 'a', 'a', 'b', 'b', 'c']\n",
      "a : 3\n",
      "b : 2\n",
      "c : 1\n"
     ]
    }
   ],
   "source": [
    "n = input()\n",
    "s = sorted(list(n))\n",
    "count = {}\n",
    "for w in s:\n",
    "  count[w] = count.get(w, 0)+1\n",
    "for k, v in count.items():\n",
    "  print(f\"{k} : {v}\")"
   ]
  },
  {
   "cell_type": "code",
   "execution_count": 34,
   "id": "a9389db5",
   "metadata": {},
   "outputs": [
    {
     "name": "stdout",
     "output_type": "stream",
     "text": [
      "a : 3\n",
      "b : 1\n"
     ]
    }
   ],
   "source": [
    "from collections import Counter\n",
    "\n",
    "n = input()\n",
    "count = Counter(n)\n",
    "for k in sorted(count):\n",
    "    print(f\"{k} : {count[k]}\")"
   ]
  },
  {
   "cell_type": "markdown",
   "id": "af4639a8",
   "metadata": {},
   "source": [
    "### No Idea!\n",
    "https://www.hackerrank.com/challenges/no-idea/problem"
   ]
  },
  {
   "cell_type": "code",
   "execution_count": 48,
   "id": "e0408143",
   "metadata": {},
   "outputs": [
    {
     "name": "stdout",
     "output_type": "stream",
     "text": [
      "1\n"
     ]
    }
   ],
   "source": [
    "n = list(map(int, input().split()[:2]))\n",
    "\n",
    "m = list(map(int, input().split()[:n[0]]))\n",
    "\n",
    "a = list(map(int, input().split()[:n[1]]))\n",
    "b = list(map(int, input().split()[:n[1]]))\n",
    "\n",
    "a_set = set(a)\n",
    "b_set = set(b)\n",
    "s = 0\n",
    "\n",
    "for i in m:\n",
    "  if i in a_set:\n",
    "    s+=1\n",
    "  elif i in b_set:\n",
    "    s-=1\n",
    "print(s)\n",
    "\n"
   ]
  },
  {
   "cell_type": "markdown",
   "id": "8f034985",
   "metadata": {},
   "source": [
    "### Tuples\n",
    "https://www.hackerrank.com/challenges/python-tuples/problem"
   ]
  },
  {
   "cell_type": "code",
   "execution_count": 65,
   "id": "0b494a23",
   "metadata": {},
   "outputs": [
    {
     "name": "stdout",
     "output_type": "stream",
     "text": [
      "-3550055125485641917\n"
     ]
    }
   ],
   "source": [
    "n = int(input())\n",
    "tpl  = tuple(map(int, input().split()[:n]))\n",
    "print(hash(tpl))"
   ]
  },
  {
   "cell_type": "code",
   "execution_count": 64,
   "id": "2ce6eb00",
   "metadata": {},
   "outputs": [
    {
     "name": "stdout",
     "output_type": "stream",
     "text": [
      "-3550055125485641917\n"
     ]
    }
   ],
   "source": [
    "if __name__ == '__main__':\n",
    "  n = int(input())\n",
    "  lst  = (map(int, input().split()))\n",
    "\n",
    "  print(hash(tuple(lst)))"
   ]
  }
 ],
 "metadata": {
  "kernelspec": {
   "display_name": "Python 3.11 (latest)",
   "language": "python",
   "name": "python-3.11"
  },
  "language_info": {
   "codemirror_mode": {
    "name": "ipython",
    "version": 3
   },
   "file_extension": ".py",
   "mimetype": "text/x-python",
   "name": "python",
   "nbconvert_exporter": "python",
   "pygments_lexer": "ipython3",
   "version": "3.11.9"
  }
 },
 "nbformat": 4,
 "nbformat_minor": 5
}
