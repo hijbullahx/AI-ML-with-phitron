{
 "cells": [
  {
   "cell_type": "markdown",
   "id": "b6d17a2d",
   "metadata": {},
   "source": [
    "# Starts"
   ]
  }
 ],
 "metadata": {
  "kernelspec": {
   "display_name": "Python 3.11 (latest)",
   "language": "python",
   "name": "python-3.11"
  },
  "language_info": {
   "name": "python",
   "version": "3.11.9"
  }
 },
 "nbformat": 4,
 "nbformat_minor": 5
}
