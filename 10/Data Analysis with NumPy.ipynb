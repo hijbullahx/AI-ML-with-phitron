{
  "cells": [
    {
      "cell_type": "markdown",
      "id": "b6d17a2d",
      "metadata": {
        "id": "b6d17a2d"
      },
      "source": [
        "# 10.2 ndarray and its attributes"
      ]
    },
    {
      "cell_type": "code",
      "source": [
        "#Normal Array\n",
        "arr = [1,2,3]\n",
        "print(arr * 5)\n",
        "arr = [x*5 for x in arr]\n",
        "print(arr)"
      ],
      "metadata": {
        "colab": {
          "base_uri": "https://localhost:8080/"
        },
        "id": "CysFsWo_cuWz",
        "outputId": "8334ff27-5129-495a-9635-143ff19a5570"
      },
      "id": "CysFsWo_cuWz",
      "execution_count": 1,
      "outputs": [
        {
          "output_type": "stream",
          "name": "stdout",
          "text": [
            "[1, 2, 3, 1, 2, 3, 1, 2, 3, 1, 2, 3, 1, 2, 3]\n",
            "[5, 10, 15]\n"
          ]
        }
      ]
    },
    {
      "cell_type": "code",
      "source": [
        "# With Numpy NdArray\n",
        "import numpy as np\n",
        "arr1 = np.array([1,2,3])\n",
        "\n",
        "arr1 = arr1 * 5\n",
        "\n",
        "print(arr1)"
      ],
      "metadata": {
        "colab": {
          "base_uri": "https://localhost:8080/"
        },
        "id": "iC-El6qRdM8-",
        "outputId": "92216043-550a-4563-f542-4ee1ca7ac7e9"
      },
      "id": "iC-El6qRdM8-",
      "execution_count": 2,
      "outputs": [
        {
          "output_type": "stream",
          "name": "stdout",
          "text": [
            "[ 5 10 15]\n"
          ]
        }
      ]
    },
    {
      "cell_type": "code",
      "source": [
        "# Declaring nd array\n",
        "import numpy as np\n",
        "\n",
        "#1d array\n",
        "\n",
        "arr1 = np.array([1,2,3,4,5,6])\n",
        "\n",
        "print(type(arr1))\n",
        "\n",
        "#Dimensions\n",
        "print(arr1.ndim)\n",
        "\n",
        "#2d array\n",
        "arr2 = np.array([[1,2,3], # row1\n",
        "                 [4,5,6]]) #row 2\n",
        "\n",
        "print(arr2.ndim)\n",
        "\n",
        "#3d array(Multiple 2d array in a single array)\n",
        "\n",
        "arr3 = np.array([\n",
        "    #1st floor\n",
        "    [ [1,2,3], # row1\n",
        "      [4,5,6] ],#row 2\n",
        "\n",
        "    #2nd floor\n",
        "    [ [1,2,3], # row1\n",
        "      [4,5,6] ]#row 2\n",
        "])\n",
        "\n",
        "print(arr3.ndim)\n"
      ],
      "metadata": {
        "colab": {
          "base_uri": "https://localhost:8080/"
        },
        "id": "aWw0Vv11d5S6",
        "outputId": "d42dd0c1-3e03-43c5-c164-5df4c49c109a"
      },
      "id": "aWw0Vv11d5S6",
      "execution_count": 10,
      "outputs": [
        {
          "output_type": "stream",
          "name": "stdout",
          "text": [
            "<class 'numpy.ndarray'>\n",
            "1\n",
            "2\n",
            "3\n"
          ]
        }
      ]
    },
    {
      "cell_type": "markdown",
      "source": [
        "### Array attributes\n"
      ],
      "metadata": {
        "id": "3bCVWCMrjvA8"
      },
      "id": "3bCVWCMrjvA8"
    },
    {
      "cell_type": "code",
      "source": [
        "#Dimension\n",
        "print(\"Dimensions:\")\n",
        "print(arr1.ndim)\n",
        "print(arr2.ndim)\n",
        "print(arr3.ndim)\n",
        "\n",
        "print(\"Shapes:\")\n",
        "#Shape\n",
        "print(arr1.shape)\n",
        "print(arr2.shape)\n",
        "print(arr3.shape)\n",
        "\n",
        "print(\"Data Types:\")\n",
        "#Data types\n",
        "print(arr1.dtype)\n",
        "print(arr2.dtype)\n",
        "print(arr3.dtype)\n",
        "\n",
        "print(\"Sizes\")\n",
        "#Size\n",
        "print(arr1.size)\n",
        "print(arr2.size)\n",
        "print(arr3.size)"
      ],
      "metadata": {
        "colab": {
          "base_uri": "https://localhost:8080/"
        },
        "id": "FP0cceWij2Fv",
        "outputId": "916900c0-a4e1-4ab0-9f26-dae07f3cbe35"
      },
      "id": "FP0cceWij2Fv",
      "execution_count": 12,
      "outputs": [
        {
          "output_type": "stream",
          "name": "stdout",
          "text": [
            "Dimensions:\n",
            "1\n",
            "2\n",
            "3\n",
            "Shapes:\n",
            "(6,)\n",
            "(2, 3)\n",
            "(2, 2, 3)\n",
            "Data Types:\n",
            "int64\n",
            "int64\n",
            "int64\n",
            "Sizes\n",
            "6\n",
            "6\n",
            "12\n"
          ]
        }
      ]
    },
    {
      "cell_type": "markdown",
      "source": [
        "# 10.3 Ndarray Data Type"
      ],
      "metadata": {
        "id": "FbZVhy2Y6b87"
      },
      "id": "FbZVhy2Y6b87"
    },
    {
      "cell_type": "code",
      "source": [
        "arr = np.array([1,2,3])\n",
        "print(arr.dtype) #By default int64 as 64-bit machine\n",
        "\n",
        "\n",
        "arr = np.array([1,2,3.4,5.6])\n",
        "print(arr.dtype) #By default float64 as 64-bit machine(double precision float value)\n",
        "\n"
      ],
      "metadata": {
        "id": "kXT-M73x6y0I",
        "outputId": "603fed59-ec8b-45d5-b764-d2507045be69",
        "colab": {
          "base_uri": "https://localhost:8080/"
        }
      },
      "id": "kXT-M73x6y0I",
      "execution_count": 14,
      "outputs": [
        {
          "output_type": "stream",
          "name": "stdout",
          "text": [
            "int64\n",
            "float64\n"
          ]
        }
      ]
    },
    {
      "cell_type": "code",
      "source": [
        "arr = np.array([1,2,3.4])\n",
        "#Upcasted to float\n",
        "print(arr.dtype)"
      ],
      "metadata": {
        "id": "3uHcj6ip75Fq",
        "outputId": "1a83e825-94a3-4274-c13e-db3419e0ae00",
        "colab": {
          "base_uri": "https://localhost:8080/"
        }
      },
      "id": "3uHcj6ip75Fq",
      "execution_count": 15,
      "outputs": [
        {
          "output_type": "stream",
          "name": "stdout",
          "text": [
            "float64\n"
          ]
        }
      ]
    },
    {
      "cell_type": "code",
      "source": [
        "arr = np.array([1,2,3.4, 'h'])\n",
        "#Upcasted to string\n",
        "print(arr.dtype)"
      ],
      "metadata": {
        "id": "X1rw2eXy83hW",
        "outputId": "f03e0737-315b-4617-a7d4-2701536439fb",
        "colab": {
          "base_uri": "https://localhost:8080/"
        }
      },
      "id": "X1rw2eXy83hW",
      "execution_count": 17,
      "outputs": [
        {
          "output_type": "stream",
          "name": "stdout",
          "text": [
            "<U32\n"
          ]
        }
      ]
    },
    {
      "cell_type": "code",
      "source": [
        "#Selecting a data type for an array\n",
        "arr = np.array([1,2,3], dtype = np.int8)\n",
        "print(arr.dtype)\n",
        "print(arr)\n",
        "\n",
        "arr = arr.astype(np.int16)\n",
        "print(arr.dtype)\n",
        "print(arr)\n"
      ],
      "metadata": {
        "id": "O99M9BmB9tVe",
        "outputId": "7bbd6eea-e947-4da1-f4b4-8e51ee4c8492",
        "colab": {
          "base_uri": "https://localhost:8080/"
        }
      },
      "id": "O99M9BmB9tVe",
      "execution_count": 24,
      "outputs": [
        {
          "output_type": "stream",
          "name": "stdout",
          "text": [
            "int8\n",
            "[1 2 3]\n",
            "int16\n",
            "[1 2 3]\n"
          ]
        }
      ]
    },
    {
      "cell_type": "code",
      "source": [
        "arr = np.array([1,2,3.4, 'h', True])\n",
        "#Upcasted to string\n",
        "print(arr.dtype)"
      ],
      "metadata": {
        "id": "U6L31Uau_XeE",
        "outputId": "84fc6e47-d0db-41f8-d360-6f2f75ea2bf4",
        "colab": {
          "base_uri": "https://localhost:8080/"
        }
      },
      "id": "U6L31Uau_XeE",
      "execution_count": 26,
      "outputs": [
        {
          "output_type": "stream",
          "name": "stdout",
          "text": [
            "<U32\n"
          ]
        }
      ]
    }
  ],
  "metadata": {
    "kernelspec": {
      "display_name": "Python 3.11 (latest)",
      "language": "python",
      "name": "python-3.11"
    },
    "language_info": {
      "name": "python",
      "version": "3.11.9"
    },
    "colab": {
      "provenance": []
    }
  },
  "nbformat": 4,
  "nbformat_minor": 5
}