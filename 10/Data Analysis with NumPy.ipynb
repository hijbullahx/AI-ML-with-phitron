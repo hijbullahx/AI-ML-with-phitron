{
  "cells": [
    {
      "cell_type": "markdown",
      "id": "b6d17a2d",
      "metadata": {
        "id": "b6d17a2d"
      },
      "source": [
        "# 10.2 ndarray and its attributes"
      ]
    },
    {
      "cell_type": "code",
      "source": [
        "#Normal Array\n",
        "arr = [1,2,3]\n",
        "print(arr * 5)\n",
        "arr = [x*5 for x in arr]\n",
        "print(arr)"
      ],
      "metadata": {
        "colab": {
          "base_uri": "https://localhost:8080/"
        },
        "id": "CysFsWo_cuWz",
        "outputId": "11955402-7733-42a2-e6d9-ba44a74b78d1"
      },
      "id": "CysFsWo_cuWz",
      "execution_count": 48,
      "outputs": [
        {
          "output_type": "stream",
          "name": "stdout",
          "text": [
            "[1, 2, 3, 1, 2, 3, 1, 2, 3, 1, 2, 3, 1, 2, 3]\n",
            "[5, 10, 15]\n"
          ]
        }
      ]
    },
    {
      "cell_type": "code",
      "source": [
        "# With Numpy NdArray\n",
        "import numpy as np\n",
        "arr1 = np.array([1,2,3])\n",
        "\n",
        "arr1 = arr1 * 5\n",
        "\n",
        "print(arr1)"
      ],
      "metadata": {
        "colab": {
          "base_uri": "https://localhost:8080/"
        },
        "id": "iC-El6qRdM8-",
        "outputId": "5fe50230-1413-45e2-b177-2afde16365fd"
      },
      "id": "iC-El6qRdM8-",
      "execution_count": 49,
      "outputs": [
        {
          "output_type": "stream",
          "name": "stdout",
          "text": [
            "[ 5 10 15]\n"
          ]
        }
      ]
    },
    {
      "cell_type": "code",
      "source": [
        "# Declaring nd array\n",
        "import numpy as np\n",
        "\n",
        "#1d array\n",
        "\n",
        "arr1 = np.array([1,2,3,4,5,6])\n",
        "\n",
        "print(type(arr1))\n",
        "\n",
        "#Dimensions\n",
        "print(arr1.ndim)\n",
        "\n",
        "#2d array\n",
        "arr2 = np.array([[1,2,3], # row1\n",
        "                 [4,5,6]]) #row 2\n",
        "\n",
        "print(arr2.ndim)\n",
        "\n",
        "#3d array(Multiple 2d array in a single array)\n",
        "\n",
        "arr3 = np.array([\n",
        "    #1st floor\n",
        "    [ [1,2,3], # row1\n",
        "      [4,5,6] ],#row 2\n",
        "\n",
        "    #2nd floor\n",
        "    [ [1,2,3], # row1\n",
        "      [4,5,6] ]#row 2\n",
        "])\n",
        "\n",
        "print(arr3.ndim)\n"
      ],
      "metadata": {
        "colab": {
          "base_uri": "https://localhost:8080/"
        },
        "id": "aWw0Vv11d5S6",
        "outputId": "c222ef07-6a09-4c85-d0b8-04c7c3389704"
      },
      "id": "aWw0Vv11d5S6",
      "execution_count": 50,
      "outputs": [
        {
          "output_type": "stream",
          "name": "stdout",
          "text": [
            "<class 'numpy.ndarray'>\n",
            "1\n",
            "2\n",
            "3\n"
          ]
        }
      ]
    },
    {
      "cell_type": "markdown",
      "source": [
        "### Array attributes\n"
      ],
      "metadata": {
        "id": "3bCVWCMrjvA8"
      },
      "id": "3bCVWCMrjvA8"
    },
    {
      "cell_type": "code",
      "source": [
        "#Dimension\n",
        "print(\"Dimensions:\")\n",
        "print(arr1.ndim)\n",
        "print(arr2.ndim)\n",
        "print(arr3.ndim)\n",
        "\n",
        "print(\"Shapes:\")\n",
        "#Shape\n",
        "print(arr1.shape)\n",
        "print(arr2.shape)\n",
        "print(arr3.shape)\n",
        "\n",
        "print(\"Data Types:\")\n",
        "#Data types\n",
        "print(arr1.dtype)\n",
        "print(arr2.dtype)\n",
        "print(arr3.dtype)\n",
        "\n",
        "print(\"Sizes\")\n",
        "#Size\n",
        "print(arr1.size)\n",
        "print(arr2.size)\n",
        "print(arr3.size)"
      ],
      "metadata": {
        "colab": {
          "base_uri": "https://localhost:8080/"
        },
        "id": "FP0cceWij2Fv",
        "outputId": "8f9c9c82-2acb-4a14-d1d0-e1545fe93a2b"
      },
      "id": "FP0cceWij2Fv",
      "execution_count": 51,
      "outputs": [
        {
          "output_type": "stream",
          "name": "stdout",
          "text": [
            "Dimensions:\n",
            "1\n",
            "2\n",
            "3\n",
            "Shapes:\n",
            "(6,)\n",
            "(2, 3)\n",
            "(2, 2, 3)\n",
            "Data Types:\n",
            "int64\n",
            "int64\n",
            "int64\n",
            "Sizes\n",
            "6\n",
            "6\n",
            "12\n"
          ]
        }
      ]
    },
    {
      "cell_type": "markdown",
      "source": [
        "# 10.3 Ndarray Data Type"
      ],
      "metadata": {
        "id": "FbZVhy2Y6b87"
      },
      "id": "FbZVhy2Y6b87"
    },
    {
      "cell_type": "code",
      "source": [
        "arr = np.array([1,2,3])\n",
        "print(arr.dtype) #By default int64 as 64-bit machine\n",
        "\n",
        "\n",
        "arr = np.array([1,2,3.4,5.6])\n",
        "print(arr.dtype) #By default float64 as 64-bit machine(double precision float value)\n",
        "\n"
      ],
      "metadata": {
        "id": "kXT-M73x6y0I",
        "outputId": "077ee8db-97e1-4d00-b488-151e9dda6d58",
        "colab": {
          "base_uri": "https://localhost:8080/"
        }
      },
      "id": "kXT-M73x6y0I",
      "execution_count": 52,
      "outputs": [
        {
          "output_type": "stream",
          "name": "stdout",
          "text": [
            "int64\n",
            "float64\n"
          ]
        }
      ]
    },
    {
      "cell_type": "code",
      "source": [
        "arr = np.array([1,2,3.4])\n",
        "#Upcasted to float\n",
        "print(arr.dtype)"
      ],
      "metadata": {
        "id": "3uHcj6ip75Fq",
        "outputId": "ebc63ca8-9201-4b39-d081-011f982e0148",
        "colab": {
          "base_uri": "https://localhost:8080/"
        }
      },
      "id": "3uHcj6ip75Fq",
      "execution_count": 53,
      "outputs": [
        {
          "output_type": "stream",
          "name": "stdout",
          "text": [
            "float64\n"
          ]
        }
      ]
    },
    {
      "cell_type": "code",
      "source": [
        "arr = np.array([1,2,3.4, 'h'])\n",
        "#Upcasted to string\n",
        "print(arr.dtype)"
      ],
      "metadata": {
        "id": "X1rw2eXy83hW",
        "outputId": "9da0ce84-013f-44bb-f7e1-347c02ed4672",
        "colab": {
          "base_uri": "https://localhost:8080/"
        }
      },
      "id": "X1rw2eXy83hW",
      "execution_count": 54,
      "outputs": [
        {
          "output_type": "stream",
          "name": "stdout",
          "text": [
            "<U32\n"
          ]
        }
      ]
    },
    {
      "cell_type": "code",
      "source": [
        "#Selecting a data type for an array\n",
        "arr = np.array([1,2,3], dtype = np.int8)\n",
        "print(arr.dtype)\n",
        "print(arr)\n",
        "\n",
        "arr = arr.astype(np.int16)\n",
        "print(arr.dtype)\n",
        "print(arr)\n"
      ],
      "metadata": {
        "id": "O99M9BmB9tVe",
        "outputId": "8fb6b5c7-7b8f-49f7-f92a-151e36709bf0",
        "colab": {
          "base_uri": "https://localhost:8080/"
        }
      },
      "id": "O99M9BmB9tVe",
      "execution_count": 55,
      "outputs": [
        {
          "output_type": "stream",
          "name": "stdout",
          "text": [
            "int8\n",
            "[1 2 3]\n",
            "int16\n",
            "[1 2 3]\n"
          ]
        }
      ]
    },
    {
      "cell_type": "code",
      "source": [
        "arr = np.array([1,2,3.4, 'h', True])\n",
        "#Upcasted to string\n",
        "print(arr.dtype)"
      ],
      "metadata": {
        "id": "U6L31Uau_XeE",
        "outputId": "8711471d-e686-4709-b6d1-9d67f67cc301",
        "colab": {
          "base_uri": "https://localhost:8080/"
        }
      },
      "id": "U6L31Uau_XeE",
      "execution_count": 56,
      "outputs": [
        {
          "output_type": "stream",
          "name": "stdout",
          "text": [
            "<U32\n"
          ]
        }
      ]
    },
    {
      "cell_type": "markdown",
      "source": [
        "# 10.4 ndarray creation from Existing data"
      ],
      "metadata": {
        "id": "2TbNUG5_Stim"
      },
      "id": "2TbNUG5_Stim"
    },
    {
      "cell_type": "code",
      "source": [
        "#List to ndra\n",
        "import numpy as np\n",
        "\n",
        "lst = [10, 20, 30, 40, 40.5]\n",
        "arr = np.array(lst, dtype=np.int32)\n",
        "print(arr)\n",
        "print(arr.dtype)"
      ],
      "metadata": {
        "colab": {
          "base_uri": "https://localhost:8080/"
        },
        "id": "FK8y6iFeVVph",
        "outputId": "f9b4d50a-b780-46fa-abe0-28d2a1f65f76"
      },
      "id": "FK8y6iFeVVph",
      "execution_count": 57,
      "outputs": [
        {
          "output_type": "stream",
          "name": "stdout",
          "text": [
            "[10 20 30 40 40]\n",
            "int32\n"
          ]
        }
      ]
    },
    {
      "cell_type": "code",
      "source": [
        "#nested list to ndarray\n",
        "matrix = [[1, 2, 3],\n",
        "          [4, 5, 6]]\n",
        "\n",
        "arr = np.array(matrix)\n",
        "print(arr)\n",
        "print(arr.dtype)"
      ],
      "metadata": {
        "colab": {
          "base_uri": "https://localhost:8080/"
        },
        "id": "s808Er0JVhxP",
        "outputId": "6014711e-02af-4fb6-bc00-0eb18aa7b5d0"
      },
      "id": "s808Er0JVhxP",
      "execution_count": 58,
      "outputs": [
        {
          "output_type": "stream",
          "name": "stdout",
          "text": [
            "[[1 2 3]\n",
            " [4 5 6]]\n",
            "int64\n"
          ]
        }
      ]
    },
    {
      "cell_type": "code",
      "source": [
        "#Tuple to ndarray\n",
        "tup = (10, 20, 30)\n",
        "arr = np.array(tup)\n",
        "print(arr)\n",
        "print(arr.dtype)"
      ],
      "metadata": {
        "colab": {
          "base_uri": "https://localhost:8080/"
        },
        "id": "OPK_n8S-VwVo",
        "outputId": "5e654957-b1f0-489e-a16d-643e4b4c8513"
      },
      "id": "OPK_n8S-VwVo",
      "execution_count": 59,
      "outputs": [
        {
          "output_type": "stream",
          "name": "stdout",
          "text": [
            "[10 20 30]\n",
            "int64\n"
          ]
        }
      ]
    },
    {
      "cell_type": "code",
      "source": [
        "#set to ndarray\n",
        "s = {10, 20, 30}\n",
        "arr = np.array(s)\n",
        "print(arr)\n",
        "print(arr.dtype)"
      ],
      "metadata": {
        "colab": {
          "base_uri": "https://localhost:8080/"
        },
        "id": "SrkqQOIUV4dk",
        "outputId": "312d055e-faf3-47cb-fe12-5087e601be72"
      },
      "id": "SrkqQOIUV4dk",
      "execution_count": 60,
      "outputs": [
        {
          "output_type": "stream",
          "name": "stdout",
          "text": [
            "{10, 20, 30}\n",
            "object\n"
          ]
        }
      ]
    },
    {
      "cell_type": "code",
      "source": [
        "#From Dictionary\n",
        "dc = {'a' : 10, 'b' : 20, 'c' : 30}\n",
        "keys = dc.keys()\n",
        "values = dc.values()\n",
        "itm = dc.items()\n",
        "print(keys)\n",
        "print(values)\n",
        "print(itm)"
      ],
      "metadata": {
        "colab": {
          "base_uri": "https://localhost:8080/"
        },
        "id": "OIusmMkvS-eH",
        "outputId": "83c45419-b3fd-4247-aaca-d367bfe94086"
      },
      "id": "OIusmMkvS-eH",
      "execution_count": 61,
      "outputs": [
        {
          "output_type": "stream",
          "name": "stdout",
          "text": [
            "dict_keys(['a', 'b', 'c'])\n",
            "dict_values([10, 20, 30])\n",
            "dict_items([('a', 10), ('b', 20), ('c', 30)])\n"
          ]
        }
      ]
    },
    {
      "cell_type": "code",
      "source": [
        "#Keys to ndarray\n",
        "arr = np.array(list(keys))\n",
        "print(arr)\n",
        "print(type(arr))\n",
        "print(arr.dtype)\n",
        "print(arr.shape)\n",
        "print(arr.ndim)\n",
        "print(arr.size)"
      ],
      "metadata": {
        "colab": {
          "base_uri": "https://localhost:8080/"
        },
        "id": "agI3YqbGTpQh",
        "outputId": "cea6156b-86b8-4ca6-c14c-42c1166de1c9"
      },
      "id": "agI3YqbGTpQh",
      "execution_count": 62,
      "outputs": [
        {
          "output_type": "stream",
          "name": "stdout",
          "text": [
            "['a' 'b' 'c']\n",
            "<class 'numpy.ndarray'>\n",
            "<U1\n",
            "(3,)\n",
            "1\n",
            "3\n"
          ]
        }
      ]
    },
    {
      "cell_type": "code",
      "source": [
        "#Values to ndarray\n",
        "arr = np.array(list(values))\n",
        "print(arr)\n",
        "print(type(arr))\n",
        "print(arr.dtype)\n",
        "arr = arr.astype(np.int16)\n",
        "print(arr.dtype)\n",
        "print(arr.shape)\n",
        "print(arr.ndim)\n",
        "print(arr.size)"
      ],
      "metadata": {
        "colab": {
          "base_uri": "https://localhost:8080/"
        },
        "id": "Cl9oRpEtUTgC",
        "outputId": "b29a57e9-65b7-4a2b-c0eb-1ad786b9336a"
      },
      "id": "Cl9oRpEtUTgC",
      "execution_count": 63,
      "outputs": [
        {
          "output_type": "stream",
          "name": "stdout",
          "text": [
            "[10 20 30]\n",
            "<class 'numpy.ndarray'>\n",
            "int64\n",
            "int16\n",
            "(3,)\n",
            "1\n",
            "3\n"
          ]
        }
      ]
    },
    {
      "cell_type": "code",
      "source": [
        "#Items to ndr\n",
        "arr = np.array(list(itm))\n",
        "print(arr)\n",
        "print(type(arr))\n",
        "print(arr.dtype)\n",
        "print(arr.shape)\n",
        "print(arr.ndim)\n",
        "print(arr.size)"
      ],
      "metadata": {
        "colab": {
          "base_uri": "https://localhost:8080/"
        },
        "id": "cPN_1W4OU1jm",
        "outputId": "71c408b0-70e7-4654-ce06-8ec23682e1a2"
      },
      "id": "cPN_1W4OU1jm",
      "execution_count": 64,
      "outputs": [
        {
          "output_type": "stream",
          "name": "stdout",
          "text": [
            "[['a' '10']\n",
            " ['b' '20']\n",
            " ['c' '30']]\n",
            "<class 'numpy.ndarray'>\n",
            "<U21\n",
            "(3, 2)\n",
            "2\n",
            "6\n"
          ]
        }
      ]
    },
    {
      "cell_type": "markdown",
      "source": [
        "# 10.5 ndarray creation from scratch"
      ],
      "metadata": {
        "id": "xNX7vvPHkBQy"
      },
      "id": "xNX7vvPHkBQy"
    },
    {
      "cell_type": "code",
      "source": [
        "#np,zeros\n",
        "\n",
        "arr = np.zeros((2,3), dtype= np.int8)\n",
        "print(arr)\n",
        "print(type(arr))\n",
        "print(arr.dtype)\n",
        "print(arr.shape)\n",
        "print(arr.ndim)\n",
        "print(arr.size)"
      ],
      "metadata": {
        "id": "hafrO9ESkF2V",
        "outputId": "3c8b867a-b16b-45db-c49d-b8739133e513",
        "colab": {
          "base_uri": "https://localhost:8080/"
        }
      },
      "id": "hafrO9ESkF2V",
      "execution_count": 65,
      "outputs": [
        {
          "output_type": "stream",
          "name": "stdout",
          "text": [
            "[[0 0 0]\n",
            " [0 0 0]]\n",
            "<class 'numpy.ndarray'>\n",
            "int8\n",
            "(2, 3)\n",
            "2\n",
            "6\n"
          ]
        }
      ]
    },
    {
      "cell_type": "code",
      "source": [
        "#From existing shape\n",
        "arr = np.zeros_like(arr3)\n",
        "print(arr)\n",
        "print(type(arr))\n",
        "print(arr.dtype)\n",
        "print(arr.shape)\n",
        "print(arr.ndim)\n",
        "print(arr.size)"
      ],
      "metadata": {
        "id": "XqjLC6psmAtj",
        "outputId": "cc34e09a-ebf6-45f4-f93f-0cdd5700f56f",
        "colab": {
          "base_uri": "https://localhost:8080/"
        }
      },
      "id": "XqjLC6psmAtj",
      "execution_count": 66,
      "outputs": [
        {
          "output_type": "stream",
          "name": "stdout",
          "text": [
            "[[[0 0 0]\n",
            "  [0 0 0]]\n",
            "\n",
            " [[0 0 0]\n",
            "  [0 0 0]]]\n",
            "<class 'numpy.ndarray'>\n",
            "int64\n",
            "(2, 2, 3)\n",
            "3\n",
            "12\n"
          ]
        }
      ]
    },
    {
      "cell_type": "code",
      "source": [
        "#np.one\n",
        "arr = np.ones((3,4,3), dtype= np.int8)\n",
        "print(arr)\n",
        "print(type(arr))\n",
        "print(arr.dtype)\n",
        "print(arr.shape)\n",
        "print(arr.ndim)\n",
        "print(arr.size)"
      ],
      "metadata": {
        "id": "wSdZHN0LmijD",
        "outputId": "9fa24e53-b423-47e7-c24e-f91ccafb0206",
        "colab": {
          "base_uri": "https://localhost:8080/"
        }
      },
      "id": "wSdZHN0LmijD",
      "execution_count": 67,
      "outputs": [
        {
          "output_type": "stream",
          "name": "stdout",
          "text": [
            "[[[1 1 1]\n",
            "  [1 1 1]\n",
            "  [1 1 1]\n",
            "  [1 1 1]]\n",
            "\n",
            " [[1 1 1]\n",
            "  [1 1 1]\n",
            "  [1 1 1]\n",
            "  [1 1 1]]\n",
            "\n",
            " [[1 1 1]\n",
            "  [1 1 1]\n",
            "  [1 1 1]\n",
            "  [1 1 1]]]\n",
            "<class 'numpy.ndarray'>\n",
            "int8\n",
            "(3, 4, 3)\n",
            "3\n",
            "36\n"
          ]
        }
      ]
    },
    {
      "cell_type": "code",
      "source": [
        "#From existing\n",
        "arr = np.ones_like(arr3)\n",
        "print(arr)\n",
        "print(type(arr))\n",
        "print(arr.dtype)\n",
        "print(arr.shape)\n",
        "print(arr.ndim)\n",
        "print(arr.size)"
      ],
      "metadata": {
        "id": "KssfcbqFm6m_",
        "outputId": "236c1a6a-7015-4bd0-e0c1-92f37208175f",
        "colab": {
          "base_uri": "https://localhost:8080/"
        }
      },
      "id": "KssfcbqFm6m_",
      "execution_count": 68,
      "outputs": [
        {
          "output_type": "stream",
          "name": "stdout",
          "text": [
            "[[[1 1 1]\n",
            "  [1 1 1]]\n",
            "\n",
            " [[1 1 1]\n",
            "  [1 1 1]]]\n",
            "<class 'numpy.ndarray'>\n",
            "int64\n",
            "(2, 2, 3)\n",
            "3\n",
            "12\n"
          ]
        }
      ]
    },
    {
      "cell_type": "code",
      "source": [
        "#np.empty\n",
        "\n",
        "arr = np.empty((2,3))\n",
        "print(arr)\n",
        "print(type(arr))\n",
        "print(arr.dtype)\n",
        "print(arr.shape)\n",
        "print(arr.ndim)\n",
        "print(arr.size)"
      ],
      "metadata": {
        "id": "BrBGGPTZnFl1",
        "outputId": "6485a5be-65de-4f24-b955-bcbee17d16de",
        "colab": {
          "base_uri": "https://localhost:8080/"
        }
      },
      "id": "BrBGGPTZnFl1",
      "execution_count": 69,
      "outputs": [
        {
          "output_type": "stream",
          "name": "stdout",
          "text": [
            "[[4.9e-324 9.9e-324 1.5e-323]\n",
            " [2.0e-323 2.5e-323 3.0e-323]]\n",
            "<class 'numpy.ndarray'>\n",
            "float64\n",
            "(2, 3)\n",
            "2\n",
            "6\n"
          ]
        }
      ]
    },
    {
      "cell_type": "code",
      "source": [
        "#From existing\n",
        "arr = np.empty_like(arr3)\n",
        "print(arr)\n",
        "print(type(arr))\n",
        "print(arr.dtype)\n",
        "print(arr.shape)\n",
        "print(arr.ndim)\n",
        "print(arr.size)"
      ],
      "metadata": {
        "id": "iuEFTVWDnx5J",
        "outputId": "a9a8b5d7-5099-44bd-c472-599cebe595a9",
        "colab": {
          "base_uri": "https://localhost:8080/"
        }
      },
      "id": "iuEFTVWDnx5J",
      "execution_count": 70,
      "outputs": [
        {
          "output_type": "stream",
          "name": "stdout",
          "text": [
            "[[[1 1 1]\n",
            "  [1 1 1]]\n",
            "\n",
            " [[1 1 1]\n",
            "  [1 1 1]]]\n",
            "<class 'numpy.ndarray'>\n",
            "int64\n",
            "(2, 2, 3)\n",
            "3\n",
            "12\n"
          ]
        }
      ]
    },
    {
      "cell_type": "code",
      "source": [
        "#np.full\n",
        "arr = np.full((2,3), np.inf)\n",
        "print(arr)\n",
        "print(type(arr))\n",
        "print(arr.dtype)\n",
        "print(arr.shape)\n",
        "print(arr.ndim)\n",
        "print(arr.size)"
      ],
      "metadata": {
        "id": "PS-PD_L8n5w0",
        "outputId": "7bc0a2e0-23e5-40d4-926e-3f2da5811e90",
        "colab": {
          "base_uri": "https://localhost:8080/"
        }
      },
      "id": "PS-PD_L8n5w0",
      "execution_count": 71,
      "outputs": [
        {
          "output_type": "stream",
          "name": "stdout",
          "text": [
            "[[inf inf inf]\n",
            " [inf inf inf]]\n",
            "<class 'numpy.ndarray'>\n",
            "float64\n",
            "(2, 3)\n",
            "2\n",
            "6\n"
          ]
        }
      ]
    },
    {
      "cell_type": "code",
      "source": [
        "#From existing\n",
        "\n",
        "arr = np.full_like(arr3, np.inf, dtype= np.float64)\n",
        "print(arr)\n",
        "print(type(arr))\n",
        "print(arr.dtype)\n",
        "print(arr.shape)\n",
        "print(arr.ndim)\n",
        "print(arr.size)"
      ],
      "metadata": {
        "id": "QEO3DAmyphma",
        "outputId": "84412e56-a053-48f9-f909-bf14ca8de3cc",
        "colab": {
          "base_uri": "https://localhost:8080/"
        }
      },
      "id": "QEO3DAmyphma",
      "execution_count": 72,
      "outputs": [
        {
          "output_type": "stream",
          "name": "stdout",
          "text": [
            "[[[inf inf inf]\n",
            "  [inf inf inf]]\n",
            "\n",
            " [[inf inf inf]\n",
            "  [inf inf inf]]]\n",
            "<class 'numpy.ndarray'>\n",
            "float64\n",
            "(2, 2, 3)\n",
            "3\n",
            "12\n"
          ]
        }
      ]
    },
    {
      "cell_type": "markdown",
      "source": [
        "# 10.6 ndarray generation with random values"
      ],
      "metadata": {
        "id": "C7n_r0Ig-qoe"
      },
      "id": "C7n_r0Ig-qoe"
    },
    {
      "cell_type": "code",
      "source": [
        "# np.random.rand(shape)\n",
        "import numpy as np\n",
        "arr = np.random.rand(2,3)\n",
        "print(arr)\n",
        "print(type(arr))\n",
        "print(arr.dtype)\n",
        "print(arr.shape)\n",
        "print(arr.ndim)\n",
        "print(arr.size)"
      ],
      "metadata": {
        "colab": {
          "base_uri": "https://localhost:8080/"
        },
        "id": "ct7jVFfU-sTF",
        "outputId": "6dd2a591-f45d-4556-f0d8-01b63797806e"
      },
      "id": "ct7jVFfU-sTF",
      "execution_count": 73,
      "outputs": [
        {
          "output_type": "stream",
          "name": "stdout",
          "text": [
            "[[0.55184152 0.35943621 0.61767909]\n",
            " [0.38666842 0.07882971 0.92754606]]\n",
            "<class 'numpy.ndarray'>\n",
            "float64\n",
            "(2, 3)\n",
            "2\n",
            "6\n"
          ]
        }
      ]
    },
    {
      "cell_type": "code",
      "source": [
        "# np.random.randint(shape)->integer\n",
        "\n",
        "arr = np.random.randint(1,10, (2,3))\n",
        "print(arr)\n",
        "print(type(arr))\n",
        "print(arr.dtype)\n",
        "print(arr.shape)\n",
        "print(arr.ndim)\n",
        "print(arr.size)"
      ],
      "metadata": {
        "colab": {
          "base_uri": "https://localhost:8080/"
        },
        "id": "bTvSEjGu_zmg",
        "outputId": "e27ff7ab-0618-4dc4-ff9f-caa56366d388"
      },
      "id": "bTvSEjGu_zmg",
      "execution_count": 74,
      "outputs": [
        {
          "output_type": "stream",
          "name": "stdout",
          "text": [
            "[[5 8 2]\n",
            " [5 3 7]]\n",
            "<class 'numpy.ndarray'>\n",
            "int64\n",
            "(2, 3)\n",
            "2\n",
            "6\n"
          ]
        }
      ]
    },
    {
      "cell_type": "code",
      "source": [
        "# np.random.uniform(shape)->float\n",
        "\n",
        "arr = np.random.uniform(50,100, (3,4))\n",
        "print(arr)\n",
        "print(type(arr))\n",
        "print(arr.dtype)\n",
        "print(arr.shape)\n",
        "print(arr.ndim)\n",
        "print(arr.size)"
      ],
      "metadata": {
        "colab": {
          "base_uri": "https://localhost:8080/"
        },
        "id": "XZeheCPTAntG",
        "outputId": "bd45cdaf-a7d1-4750-ab06-d800318340bc"
      },
      "id": "XZeheCPTAntG",
      "execution_count": 75,
      "outputs": [
        {
          "output_type": "stream",
          "name": "stdout",
          "text": [
            "[[71.0146225  71.8536794  90.29461705 94.48194036]\n",
            " [52.98241322 67.79334479 77.60810656 72.48717861]\n",
            " [75.77022441 74.85171983 70.34726441 80.18479377]]\n",
            "<class 'numpy.ndarray'>\n",
            "float64\n",
            "(3, 4)\n",
            "2\n",
            "12\n"
          ]
        }
      ]
    },
    {
      "cell_type": "markdown",
      "source": [
        "# 10.7 ndarray creation from range"
      ],
      "metadata": {
        "id": "5c0QCEOZB90E"
      },
      "id": "5c0QCEOZB90E"
    },
    {
      "cell_type": "code",
      "source": [
        "#np.arange(first, end, step)->similar to range\n",
        "arr = np.arange(1,10,2)\n",
        "print(arr)\n",
        "print(type(arr))\n",
        "print(arr.dtype)\n",
        "print(arr.shape)\n",
        "print(arr.ndim)\n",
        "print(arr.size)\n"
      ],
      "metadata": {
        "colab": {
          "base_uri": "https://localhost:8080/"
        },
        "id": "Iz-6j7jODT3M",
        "outputId": "55f930a3-dabf-4679-d1fd-371243f13dcb"
      },
      "id": "Iz-6j7jODT3M",
      "execution_count": 76,
      "outputs": [
        {
          "output_type": "stream",
          "name": "stdout",
          "text": [
            "[1 3 5 7 9]\n",
            "<class 'numpy.ndarray'>\n",
            "int64\n",
            "(5,)\n",
            "1\n",
            "5\n"
          ]
        }
      ]
    },
    {
      "cell_type": "code",
      "source": [
        "#Mtarix\n",
        "\n",
        "arr = np.arange(1,10,1).reshape(3,3)\n",
        "print(arr)\n",
        "print(type(arr))\n",
        "print(arr.dtype)\n",
        "print(arr.shape)\n",
        "print(arr.ndim)\n",
        "print(arr.size)\n"
      ],
      "metadata": {
        "colab": {
          "base_uri": "https://localhost:8080/"
        },
        "id": "dFP1viBnD6oc",
        "outputId": "1bf2103b-716c-4c3f-8fbd-f4cad7af247f"
      },
      "id": "dFP1viBnD6oc",
      "execution_count": 77,
      "outputs": [
        {
          "output_type": "stream",
          "name": "stdout",
          "text": [
            "[[1 2 3]\n",
            " [4 5 6]\n",
            " [7 8 9]]\n",
            "<class 'numpy.ndarray'>\n",
            "int64\n",
            "(3, 3)\n",
            "2\n",
            "9\n"
          ]
        }
      ]
    },
    {
      "cell_type": "code",
      "source": [
        "#Linear space\n",
        "arr = np.linspace(1,10,8)\n",
        "print(arr)\n",
        "print(type(arr))\n",
        "print(arr.dtype)\n",
        "print(arr.shape)\n",
        "print(arr.ndim)\n",
        "print(arr.size)\n"
      ],
      "metadata": {
        "colab": {
          "base_uri": "https://localhost:8080/"
        },
        "id": "b1iSKlunEk2l",
        "outputId": "cce1a0c4-a065-4211-b7b6-4f86c9972715"
      },
      "id": "b1iSKlunEk2l",
      "execution_count": 78,
      "outputs": [
        {
          "output_type": "stream",
          "name": "stdout",
          "text": [
            "[ 1.          2.28571429  3.57142857  4.85714286  6.14285714  7.42857143\n",
            "  8.71428571 10.        ]\n",
            "<class 'numpy.ndarray'>\n",
            "float64\n",
            "(8,)\n",
            "1\n",
            "8\n"
          ]
        }
      ]
    },
    {
      "cell_type": "code",
      "source": [
        "# np.logcpace\n",
        "arr = np.logspace(0,4,6, base = 2)\n",
        "print(arr)\n",
        "print(type(arr))\n",
        "print(arr.dtype)\n",
        "print(arr.shape)\n",
        "print(arr.ndim)\n",
        "print(arr.size)\n"
      ],
      "metadata": {
        "colab": {
          "base_uri": "https://localhost:8080/"
        },
        "id": "NjaRGLS4FlXT",
        "outputId": "7306c48b-df24-4754-b3a8-391ef3ab2930"
      },
      "id": "NjaRGLS4FlXT",
      "execution_count": 79,
      "outputs": [
        {
          "output_type": "stream",
          "name": "stdout",
          "text": [
            "[ 1.          1.74110113  3.03143313  5.27803164  9.18958684 16.        ]\n",
            "<class 'numpy.ndarray'>\n",
            "float64\n",
            "(6,)\n",
            "1\n",
            "6\n"
          ]
        }
      ]
    },
    {
      "cell_type": "markdown",
      "source": [
        "# 10.8 creating diagonal and identity matrix"
      ],
      "metadata": {
        "id": "A96pL58AHqT0"
      },
      "id": "A96pL58AHqT0"
    },
    {
      "cell_type": "code",
      "source": [
        "#Diagonal Matrix\n",
        "\n",
        "di_ma= np.diag([1,2,3,4])\n",
        "print(di_ma)\n",
        "print(di_ma.shape)"
      ],
      "metadata": {
        "id": "N5HDot1jIqUh",
        "outputId": "8016c860-e2d3-49b0-912e-f4ca7d54bf29",
        "colab": {
          "base_uri": "https://localhost:8080/"
        }
      },
      "id": "N5HDot1jIqUh",
      "execution_count": 80,
      "outputs": [
        {
          "output_type": "stream",
          "name": "stdout",
          "text": [
            "[[1 0 0 0]\n",
            " [0 2 0 0]\n",
            " [0 0 3 0]\n",
            " [0 0 0 4]]\n",
            "(4, 4)\n"
          ]
        }
      ]
    },
    {
      "cell_type": "code",
      "source": [
        "#Identity  Matrix\n",
        "id_ma = np.eye(4)\n",
        "print(id_ma)\n",
        "print(id_ma.shape)"
      ],
      "metadata": {
        "id": "3_5692PHJLLN",
        "outputId": "6201ad22-792d-4492-fb74-b5673ff685a3",
        "colab": {
          "base_uri": "https://localhost:8080/"
        }
      },
      "id": "3_5692PHJLLN",
      "execution_count": 81,
      "outputs": [
        {
          "output_type": "stream",
          "name": "stdout",
          "text": [
            "[[1. 0. 0. 0.]\n",
            " [0. 1. 0. 0.]\n",
            " [0. 0. 1. 0.]\n",
            " [0. 0. 0. 1.]]\n",
            "(4, 4)\n"
          ]
        }
      ]
    },
    {
      "cell_type": "code",
      "source": [
        "#np.eye(row, column)\n",
        "id_ma = np.eye(3,4)\n",
        "print(id_ma)\n",
        "print(id_ma.shape)"
      ],
      "metadata": {
        "id": "lC3pnp59Jj-s",
        "outputId": "a494f8f0-86cb-4425-8d2b-3d0af6a743c4",
        "colab": {
          "base_uri": "https://localhost:8080/"
        }
      },
      "id": "lC3pnp59Jj-s",
      "execution_count": 82,
      "outputs": [
        {
          "output_type": "stream",
          "name": "stdout",
          "text": [
            "[[1. 0. 0. 0.]\n",
            " [0. 1. 0. 0.]\n",
            " [0. 0. 1. 0.]]\n",
            "(3, 4)\n"
          ]
        }
      ]
    },
    {
      "cell_type": "code",
      "source": [
        "#np.eye(row, column)\n",
        "id_ma = np.eye(3,4,-1)\n",
        "print(id_ma)\n",
        "print(id_ma.shape)"
      ],
      "metadata": {
        "id": "1Riyh54TJ1Q2",
        "outputId": "43a1105e-6522-4bc1-b531-742247a0d076",
        "colab": {
          "base_uri": "https://localhost:8080/"
        }
      },
      "id": "1Riyh54TJ1Q2",
      "execution_count": 83,
      "outputs": [
        {
          "output_type": "stream",
          "name": "stdout",
          "text": [
            "[[0. 0. 0. 0.]\n",
            " [1. 0. 0. 0.]\n",
            " [0. 1. 0. 0.]]\n",
            "(3, 4)\n"
          ]
        }
      ]
    },
    {
      "cell_type": "markdown",
      "source": [
        "# 10.9 ndarray Indexing and Slicing"
      ],
      "metadata": {
        "id": "x5i8v_Pn_GaB"
      },
      "id": "x5i8v_Pn_GaB"
    },
    {
      "cell_type": "code",
      "source": [
        "#indexing\n",
        "\n",
        "print(arr1)\n",
        "print(arr2)\n",
        "\n",
        "print(arr1[2])\n",
        "\n",
        "arr1[2] = 100\n",
        "print(arr1)\n",
        "\n",
        "print(arr2[1][0])"
      ],
      "metadata": {
        "id": "6wM_MY3z_PyG",
        "outputId": "01afcfaf-8d52-4450-dc71-1d45a809717c",
        "colab": {
          "base_uri": "https://localhost:8080/"
        }
      },
      "id": "6wM_MY3z_PyG",
      "execution_count": 84,
      "outputs": [
        {
          "output_type": "stream",
          "name": "stdout",
          "text": [
            "[1 2 3 4 5 6]\n",
            "[[1 2 3]\n",
            " [4 5 6]]\n",
            "3\n",
            "[  1   2 100   4   5   6]\n",
            "4\n"
          ]
        }
      ]
    },
    {
      "cell_type": "code",
      "source": [
        "#slicing\n",
        "#1d = arr[start:end:step]\n",
        "arr1_mod = arr1[1:4].copy()\n",
        "print(arr1_mod)\n",
        "\n"
      ],
      "metadata": {
        "id": "D60ygCEmA3OE",
        "outputId": "26a7c67e-f206-461f-e9e0-8e919db92728",
        "colab": {
          "base_uri": "https://localhost:8080/"
        }
      },
      "id": "D60ygCEmA3OE",
      "execution_count": 85,
      "outputs": [
        {
          "output_type": "stream",
          "name": "stdout",
          "text": [
            "[  2 100   4]\n"
          ]
        }
      ]
    },
    {
      "cell_type": "code",
      "source": [
        "#2d = arr[row start : row end: step , column_start: column_ened : step]\n",
        "#getting a row\n",
        "row_0 = arr2[0:1,]\n",
        "row_1 = arr2[1: ,]\n",
        "print(row_0)\n",
        "print(row_1)"
      ],
      "metadata": {
        "id": "M1xiStKhBWg9",
        "outputId": "c2545906-889f-4043-df72-1d086b1a068c",
        "colab": {
          "base_uri": "https://localhost:8080/"
        }
      },
      "id": "M1xiStKhBWg9",
      "execution_count": 86,
      "outputs": [
        {
          "output_type": "stream",
          "name": "stdout",
          "text": [
            "[[1 2 3]]\n",
            "[[4 5 6]]\n"
          ]
        }
      ]
    },
    {
      "cell_type": "code",
      "source": [
        "#Getting a column\n",
        "col_0 = arr2[::, 0:1]\n",
        "print(col_0)\n",
        "col_1 = arr2[::, 1:2]\n",
        "print(col_1)"
      ],
      "metadata": {
        "id": "tn8JZgRArDVG",
        "outputId": "ce11e0c8-32b1-4d4d-d2e0-50979b5599e6",
        "colab": {
          "base_uri": "https://localhost:8080/"
        }
      },
      "id": "tn8JZgRArDVG",
      "execution_count": 87,
      "outputs": [
        {
          "output_type": "stream",
          "name": "stdout",
          "text": [
            "[[1]\n",
            " [4]]\n",
            "[[2]\n",
            " [5]]\n"
          ]
        }
      ]
    },
    {
      "cell_type": "code",
      "source": [
        "#getting a portion\n",
        "\n",
        "portion = arr2[::, 0:2]\n",
        "print(portion)"
      ],
      "metadata": {
        "id": "x2QK8dqMtSmE",
        "outputId": "32f8dc4e-f75a-46f7-fa8f-b14fe417446a",
        "colab": {
          "base_uri": "https://localhost:8080/"
        }
      },
      "id": "x2QK8dqMtSmE",
      "execution_count": 88,
      "outputs": [
        {
          "output_type": "stream",
          "name": "stdout",
          "text": [
            "[[1 2]\n",
            " [4 5]]\n"
          ]
        }
      ]
    }
  ],
  "metadata": {
    "kernelspec": {
      "display_name": "Python 3.11 (latest)",
      "language": "python",
      "name": "python-3.11"
    },
    "language_info": {
      "name": "python",
      "version": "3.11.9"
    },
    "colab": {
      "provenance": []
    }
  },
  "nbformat": 4,
  "nbformat_minor": 5
}