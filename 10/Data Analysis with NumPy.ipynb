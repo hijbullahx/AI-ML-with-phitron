{
  "cells": [
    {
      "cell_type": "markdown",
      "id": "b6d17a2d",
      "metadata": {
        "id": "b6d17a2d"
      },
      "source": [
        "# 10.2 ndarray and its attributes"
      ]
    },
    {
      "cell_type": "code",
      "source": [
        "#Normal Array\n",
        "arr = [1,2,3]\n",
        "print(arr * 5)\n",
        "arr = [x*5 for x in arr]\n",
        "print(arr)"
      ],
      "metadata": {
        "colab": {
          "base_uri": "https://localhost:8080/"
        },
        "id": "CysFsWo_cuWz",
        "outputId": "b86df5c5-5161-4e8e-d989-1891e7583d64"
      },
      "id": "CysFsWo_cuWz",
      "execution_count": 234,
      "outputs": [
        {
          "output_type": "stream",
          "name": "stdout",
          "text": [
            "[1, 2, 3, 1, 2, 3, 1, 2, 3, 1, 2, 3, 1, 2, 3]\n",
            "[5, 10, 15]\n"
          ]
        }
      ]
    },
    {
      "cell_type": "code",
      "source": [
        "# With Numpy NdArray\n",
        "import numpy as np\n",
        "arr1 = np.array([1,2,3])\n",
        "\n",
        "arr1 = arr1 * 5\n",
        "\n",
        "print(arr1)"
      ],
      "metadata": {
        "colab": {
          "base_uri": "https://localhost:8080/"
        },
        "id": "iC-El6qRdM8-",
        "outputId": "f09c8829-f507-4c54-ca1e-0b9b281b2b45"
      },
      "id": "iC-El6qRdM8-",
      "execution_count": 235,
      "outputs": [
        {
          "output_type": "stream",
          "name": "stdout",
          "text": [
            "[ 5 10 15]\n"
          ]
        }
      ]
    },
    {
      "cell_type": "code",
      "source": [
        "# Declaring nd array\n",
        "import numpy as np\n",
        "\n",
        "#1d array\n",
        "\n",
        "arr1 = np.array([1,2,3,4,5,6])\n",
        "\n",
        "print(type(arr1))\n",
        "\n",
        "#Dimensions\n",
        "print(arr1.ndim)\n",
        "\n",
        "#2d array\n",
        "arr2 = np.array([[1,2,3], # row1\n",
        "                 [4,5,6]]) #row 2\n",
        "\n",
        "print(arr2.ndim)\n",
        "\n",
        "#3d array(Multiple 2d array in a single array)\n",
        "\n",
        "arr3 = np.array([\n",
        "    #1st floor\n",
        "    [ [1,2,3], # row1\n",
        "      [4,5,6] ],#row 2\n",
        "\n",
        "    #2nd floor\n",
        "    [ [1,2,3], # row1\n",
        "      [4,5,6] ]#row 2\n",
        "])\n",
        "\n",
        "print(arr3.ndim)\n"
      ],
      "metadata": {
        "colab": {
          "base_uri": "https://localhost:8080/"
        },
        "id": "aWw0Vv11d5S6",
        "outputId": "2dba3957-0e45-48f6-c8ec-e8a2ad20d00f"
      },
      "id": "aWw0Vv11d5S6",
      "execution_count": 236,
      "outputs": [
        {
          "output_type": "stream",
          "name": "stdout",
          "text": [
            "<class 'numpy.ndarray'>\n",
            "1\n",
            "2\n",
            "3\n"
          ]
        }
      ]
    },
    {
      "cell_type": "markdown",
      "source": [
        "### Array attributes\n"
      ],
      "metadata": {
        "id": "3bCVWCMrjvA8"
      },
      "id": "3bCVWCMrjvA8"
    },
    {
      "cell_type": "code",
      "source": [
        "#Dimension\n",
        "print(\"Dimensions:\")\n",
        "print(arr1.ndim)\n",
        "print(arr2.ndim)\n",
        "print(arr3.ndim)\n",
        "\n",
        "print(\"Shapes:\")\n",
        "#Shape\n",
        "print(arr1.shape)\n",
        "print(arr2.shape)\n",
        "print(arr3.shape)\n",
        "\n",
        "print(\"Data Types:\")\n",
        "#Data types\n",
        "print(arr1.dtype)\n",
        "print(arr2.dtype)\n",
        "print(arr3.dtype)\n",
        "\n",
        "print(\"Sizes\")\n",
        "#Size\n",
        "print(arr1.size)\n",
        "print(arr2.size)\n",
        "print(arr3.size)"
      ],
      "metadata": {
        "colab": {
          "base_uri": "https://localhost:8080/"
        },
        "id": "FP0cceWij2Fv",
        "outputId": "03dc30f6-a80b-4950-bf01-3f6069051bbb"
      },
      "id": "FP0cceWij2Fv",
      "execution_count": 237,
      "outputs": [
        {
          "output_type": "stream",
          "name": "stdout",
          "text": [
            "Dimensions:\n",
            "1\n",
            "2\n",
            "3\n",
            "Shapes:\n",
            "(6,)\n",
            "(2, 3)\n",
            "(2, 2, 3)\n",
            "Data Types:\n",
            "int64\n",
            "int64\n",
            "int64\n",
            "Sizes\n",
            "6\n",
            "6\n",
            "12\n"
          ]
        }
      ]
    },
    {
      "cell_type": "markdown",
      "source": [
        "# 10.3 Ndarray Data Type"
      ],
      "metadata": {
        "id": "FbZVhy2Y6b87"
      },
      "id": "FbZVhy2Y6b87"
    },
    {
      "cell_type": "code",
      "source": [
        "arr = np.array([1,2,3])\n",
        "print(arr.dtype) #By default int64 as 64-bit machine\n",
        "\n",
        "\n",
        "arr = np.array([1,2,3.4,5.6])\n",
        "print(arr.dtype) #By default float64 as 64-bit machine(double precision float value)\n",
        "\n"
      ],
      "metadata": {
        "id": "kXT-M73x6y0I",
        "outputId": "3152cd3e-44a8-4c79-8166-1c5583dd0b7f",
        "colab": {
          "base_uri": "https://localhost:8080/"
        }
      },
      "id": "kXT-M73x6y0I",
      "execution_count": 238,
      "outputs": [
        {
          "output_type": "stream",
          "name": "stdout",
          "text": [
            "int64\n",
            "float64\n"
          ]
        }
      ]
    },
    {
      "cell_type": "code",
      "source": [
        "arr = np.array([1,2,3.4])\n",
        "#Upcasted to float\n",
        "print(arr.dtype)"
      ],
      "metadata": {
        "id": "3uHcj6ip75Fq",
        "outputId": "aeb8461e-8157-4dab-837f-ec2e5d2ffc40",
        "colab": {
          "base_uri": "https://localhost:8080/"
        }
      },
      "id": "3uHcj6ip75Fq",
      "execution_count": 239,
      "outputs": [
        {
          "output_type": "stream",
          "name": "stdout",
          "text": [
            "float64\n"
          ]
        }
      ]
    },
    {
      "cell_type": "code",
      "source": [
        "arr = np.array([1,2,3.4, 'h'])\n",
        "#Upcasted to string\n",
        "print(arr.dtype)"
      ],
      "metadata": {
        "id": "X1rw2eXy83hW",
        "outputId": "288b5bf5-b32d-419b-e03f-cb0511826a95",
        "colab": {
          "base_uri": "https://localhost:8080/"
        }
      },
      "id": "X1rw2eXy83hW",
      "execution_count": 240,
      "outputs": [
        {
          "output_type": "stream",
          "name": "stdout",
          "text": [
            "<U32\n"
          ]
        }
      ]
    },
    {
      "cell_type": "code",
      "source": [
        "#Selecting a data type for an array\n",
        "arr = np.array([1,2,3], dtype = np.int8)\n",
        "print(arr.dtype)\n",
        "print(arr)\n",
        "\n",
        "arr = arr.astype(np.int16)\n",
        "print(arr.dtype)\n",
        "print(arr)\n"
      ],
      "metadata": {
        "id": "O99M9BmB9tVe",
        "outputId": "7d9f9a67-bf82-43da-e6d7-15727f78fbbd",
        "colab": {
          "base_uri": "https://localhost:8080/"
        }
      },
      "id": "O99M9BmB9tVe",
      "execution_count": 241,
      "outputs": [
        {
          "output_type": "stream",
          "name": "stdout",
          "text": [
            "int8\n",
            "[1 2 3]\n",
            "int16\n",
            "[1 2 3]\n"
          ]
        }
      ]
    },
    {
      "cell_type": "code",
      "source": [
        "arr = np.array([1,2,3.4, 'h', True])\n",
        "#Upcasted to string\n",
        "print(arr.dtype)"
      ],
      "metadata": {
        "id": "U6L31Uau_XeE",
        "outputId": "a88af2bb-379d-4915-a7c7-1994b9576a8a",
        "colab": {
          "base_uri": "https://localhost:8080/"
        }
      },
      "id": "U6L31Uau_XeE",
      "execution_count": 242,
      "outputs": [
        {
          "output_type": "stream",
          "name": "stdout",
          "text": [
            "<U32\n"
          ]
        }
      ]
    },
    {
      "cell_type": "markdown",
      "source": [
        "# 10.4 ndarray creation from Existing data"
      ],
      "metadata": {
        "id": "2TbNUG5_Stim"
      },
      "id": "2TbNUG5_Stim"
    },
    {
      "cell_type": "code",
      "source": [
        "#List to ndra\n",
        "import numpy as np\n",
        "\n",
        "lst = [10, 20, 30, 40, 40.5]\n",
        "arr = np.array(lst, dtype=np.int32)\n",
        "print(arr)\n",
        "print(arr.dtype)"
      ],
      "metadata": {
        "colab": {
          "base_uri": "https://localhost:8080/"
        },
        "id": "FK8y6iFeVVph",
        "outputId": "a9783e56-2b76-4020-b49e-fa82398ec1ae"
      },
      "id": "FK8y6iFeVVph",
      "execution_count": 243,
      "outputs": [
        {
          "output_type": "stream",
          "name": "stdout",
          "text": [
            "[10 20 30 40 40]\n",
            "int32\n"
          ]
        }
      ]
    },
    {
      "cell_type": "code",
      "source": [
        "#nested list to ndarray\n",
        "matrix = [[1, 2, 3],\n",
        "          [4, 5, 6]]\n",
        "\n",
        "arr = np.array(matrix)\n",
        "print(arr)\n",
        "print(arr.dtype)"
      ],
      "metadata": {
        "colab": {
          "base_uri": "https://localhost:8080/"
        },
        "id": "s808Er0JVhxP",
        "outputId": "5d5e6a9b-ab2b-4cb5-ea9b-560d8cce19e6"
      },
      "id": "s808Er0JVhxP",
      "execution_count": 244,
      "outputs": [
        {
          "output_type": "stream",
          "name": "stdout",
          "text": [
            "[[1 2 3]\n",
            " [4 5 6]]\n",
            "int64\n"
          ]
        }
      ]
    },
    {
      "cell_type": "code",
      "source": [
        "#Tuple to ndarray\n",
        "tup = (10, 20, 30)\n",
        "arr = np.array(tup)\n",
        "print(arr)\n",
        "print(arr.dtype)"
      ],
      "metadata": {
        "colab": {
          "base_uri": "https://localhost:8080/"
        },
        "id": "OPK_n8S-VwVo",
        "outputId": "9e30484c-a591-4d70-ec2e-8940fec3e08c"
      },
      "id": "OPK_n8S-VwVo",
      "execution_count": 245,
      "outputs": [
        {
          "output_type": "stream",
          "name": "stdout",
          "text": [
            "[10 20 30]\n",
            "int64\n"
          ]
        }
      ]
    },
    {
      "cell_type": "code",
      "source": [
        "#set to ndarray\n",
        "s = {10, 20, 30}\n",
        "arr = np.array(s)\n",
        "print(arr)\n",
        "print(arr.dtype)"
      ],
      "metadata": {
        "colab": {
          "base_uri": "https://localhost:8080/"
        },
        "id": "SrkqQOIUV4dk",
        "outputId": "27c17d29-00b3-4991-bf2f-9653a9dcc854"
      },
      "id": "SrkqQOIUV4dk",
      "execution_count": 246,
      "outputs": [
        {
          "output_type": "stream",
          "name": "stdout",
          "text": [
            "{10, 20, 30}\n",
            "object\n"
          ]
        }
      ]
    },
    {
      "cell_type": "code",
      "source": [
        "#From Dictionary\n",
        "dc = {'a' : 10, 'b' : 20, 'c' : 30}\n",
        "keys = dc.keys()\n",
        "values = dc.values()\n",
        "itm = dc.items()\n",
        "print(keys)\n",
        "print(values)\n",
        "print(itm)"
      ],
      "metadata": {
        "colab": {
          "base_uri": "https://localhost:8080/"
        },
        "id": "OIusmMkvS-eH",
        "outputId": "ee1ee2dc-96ed-4f6a-c286-b500c91f040c"
      },
      "id": "OIusmMkvS-eH",
      "execution_count": 247,
      "outputs": [
        {
          "output_type": "stream",
          "name": "stdout",
          "text": [
            "dict_keys(['a', 'b', 'c'])\n",
            "dict_values([10, 20, 30])\n",
            "dict_items([('a', 10), ('b', 20), ('c', 30)])\n"
          ]
        }
      ]
    },
    {
      "cell_type": "code",
      "source": [
        "#Keys to ndarray\n",
        "arr = np.array(list(keys))\n",
        "print(arr)\n",
        "print(type(arr))\n",
        "print(arr.dtype)\n",
        "print(arr.shape)\n",
        "print(arr.ndim)\n",
        "print(arr.size)"
      ],
      "metadata": {
        "colab": {
          "base_uri": "https://localhost:8080/"
        },
        "id": "agI3YqbGTpQh",
        "outputId": "bfe9e411-62e5-4322-d5d0-105f1817bda2"
      },
      "id": "agI3YqbGTpQh",
      "execution_count": 248,
      "outputs": [
        {
          "output_type": "stream",
          "name": "stdout",
          "text": [
            "['a' 'b' 'c']\n",
            "<class 'numpy.ndarray'>\n",
            "<U1\n",
            "(3,)\n",
            "1\n",
            "3\n"
          ]
        }
      ]
    },
    {
      "cell_type": "code",
      "source": [
        "#Values to ndarray\n",
        "arr = np.array(list(values))\n",
        "print(arr)\n",
        "print(type(arr))\n",
        "print(arr.dtype)\n",
        "arr = arr.astype(np.int16)\n",
        "print(arr.dtype)\n",
        "print(arr.shape)\n",
        "print(arr.ndim)\n",
        "print(arr.size)"
      ],
      "metadata": {
        "colab": {
          "base_uri": "https://localhost:8080/"
        },
        "id": "Cl9oRpEtUTgC",
        "outputId": "99b1f218-9448-4c82-e2d1-a96a6f54cfb3"
      },
      "id": "Cl9oRpEtUTgC",
      "execution_count": 249,
      "outputs": [
        {
          "output_type": "stream",
          "name": "stdout",
          "text": [
            "[10 20 30]\n",
            "<class 'numpy.ndarray'>\n",
            "int64\n",
            "int16\n",
            "(3,)\n",
            "1\n",
            "3\n"
          ]
        }
      ]
    },
    {
      "cell_type": "code",
      "source": [
        "#Items to ndr\n",
        "arr = np.array(list(itm))\n",
        "print(arr)\n",
        "print(type(arr))\n",
        "print(arr.dtype)\n",
        "print(arr.shape)\n",
        "print(arr.ndim)\n",
        "print(arr.size)"
      ],
      "metadata": {
        "colab": {
          "base_uri": "https://localhost:8080/"
        },
        "id": "cPN_1W4OU1jm",
        "outputId": "66113532-25ab-4039-87eb-04be3713793d"
      },
      "id": "cPN_1W4OU1jm",
      "execution_count": 250,
      "outputs": [
        {
          "output_type": "stream",
          "name": "stdout",
          "text": [
            "[['a' '10']\n",
            " ['b' '20']\n",
            " ['c' '30']]\n",
            "<class 'numpy.ndarray'>\n",
            "<U21\n",
            "(3, 2)\n",
            "2\n",
            "6\n"
          ]
        }
      ]
    },
    {
      "cell_type": "markdown",
      "source": [
        "# 10.5 ndarray creation from scratch"
      ],
      "metadata": {
        "id": "xNX7vvPHkBQy"
      },
      "id": "xNX7vvPHkBQy"
    },
    {
      "cell_type": "code",
      "source": [
        "#np,zeros\n",
        "\n",
        "arr = np.zeros((2,3), dtype= np.int8)\n",
        "print(arr)\n",
        "print(type(arr))\n",
        "print(arr.dtype)\n",
        "print(arr.shape)\n",
        "print(arr.ndim)\n",
        "print(arr.size)"
      ],
      "metadata": {
        "id": "hafrO9ESkF2V",
        "outputId": "3d18ae97-7bff-47bf-c2f4-92843fab7600",
        "colab": {
          "base_uri": "https://localhost:8080/"
        }
      },
      "id": "hafrO9ESkF2V",
      "execution_count": 251,
      "outputs": [
        {
          "output_type": "stream",
          "name": "stdout",
          "text": [
            "[[0 0 0]\n",
            " [0 0 0]]\n",
            "<class 'numpy.ndarray'>\n",
            "int8\n",
            "(2, 3)\n",
            "2\n",
            "6\n"
          ]
        }
      ]
    },
    {
      "cell_type": "code",
      "source": [
        "#From existing shape\n",
        "arr = np.zeros_like(arr3)\n",
        "print(arr)\n",
        "print(type(arr))\n",
        "print(arr.dtype)\n",
        "print(arr.shape)\n",
        "print(arr.ndim)\n",
        "print(arr.size)"
      ],
      "metadata": {
        "id": "XqjLC6psmAtj",
        "outputId": "779eba99-e74b-43e9-e580-e6ce2fca414f",
        "colab": {
          "base_uri": "https://localhost:8080/"
        }
      },
      "id": "XqjLC6psmAtj",
      "execution_count": 252,
      "outputs": [
        {
          "output_type": "stream",
          "name": "stdout",
          "text": [
            "[[[0 0 0]\n",
            "  [0 0 0]]\n",
            "\n",
            " [[0 0 0]\n",
            "  [0 0 0]]]\n",
            "<class 'numpy.ndarray'>\n",
            "int64\n",
            "(2, 2, 3)\n",
            "3\n",
            "12\n"
          ]
        }
      ]
    },
    {
      "cell_type": "code",
      "source": [
        "#np.one\n",
        "arr = np.ones((3,4,3), dtype= np.int8)\n",
        "print(arr)\n",
        "print(type(arr))\n",
        "print(arr.dtype)\n",
        "print(arr.shape)\n",
        "print(arr.ndim)\n",
        "print(arr.size)"
      ],
      "metadata": {
        "id": "wSdZHN0LmijD",
        "outputId": "73e15010-0e3c-489f-b1e1-790595167a4c",
        "colab": {
          "base_uri": "https://localhost:8080/"
        }
      },
      "id": "wSdZHN0LmijD",
      "execution_count": 253,
      "outputs": [
        {
          "output_type": "stream",
          "name": "stdout",
          "text": [
            "[[[1 1 1]\n",
            "  [1 1 1]\n",
            "  [1 1 1]\n",
            "  [1 1 1]]\n",
            "\n",
            " [[1 1 1]\n",
            "  [1 1 1]\n",
            "  [1 1 1]\n",
            "  [1 1 1]]\n",
            "\n",
            " [[1 1 1]\n",
            "  [1 1 1]\n",
            "  [1 1 1]\n",
            "  [1 1 1]]]\n",
            "<class 'numpy.ndarray'>\n",
            "int8\n",
            "(3, 4, 3)\n",
            "3\n",
            "36\n"
          ]
        }
      ]
    },
    {
      "cell_type": "code",
      "source": [
        "#From existing\n",
        "arr = np.ones_like(arr3)\n",
        "print(arr)\n",
        "print(type(arr))\n",
        "print(arr.dtype)\n",
        "print(arr.shape)\n",
        "print(arr.ndim)\n",
        "print(arr.size)"
      ],
      "metadata": {
        "id": "KssfcbqFm6m_",
        "outputId": "7ed8ef2b-fbfa-4bb7-fbb8-713235a212e9",
        "colab": {
          "base_uri": "https://localhost:8080/"
        }
      },
      "id": "KssfcbqFm6m_",
      "execution_count": 254,
      "outputs": [
        {
          "output_type": "stream",
          "name": "stdout",
          "text": [
            "[[[1 1 1]\n",
            "  [1 1 1]]\n",
            "\n",
            " [[1 1 1]\n",
            "  [1 1 1]]]\n",
            "<class 'numpy.ndarray'>\n",
            "int64\n",
            "(2, 2, 3)\n",
            "3\n",
            "12\n"
          ]
        }
      ]
    },
    {
      "cell_type": "code",
      "source": [
        "#np.empty\n",
        "\n",
        "arr = np.empty((2,3))\n",
        "print(arr)\n",
        "print(type(arr))\n",
        "print(arr.dtype)\n",
        "print(arr.shape)\n",
        "print(arr.ndim)\n",
        "print(arr.size)"
      ],
      "metadata": {
        "id": "BrBGGPTZnFl1",
        "outputId": "d57fe7d3-0994-411a-d76b-c24fcad1762d",
        "colab": {
          "base_uri": "https://localhost:8080/"
        }
      },
      "id": "BrBGGPTZnFl1",
      "execution_count": 255,
      "outputs": [
        {
          "output_type": "stream",
          "name": "stdout",
          "text": [
            "[[4.9e-324 9.9e-324 1.5e-323]\n",
            " [2.0e-323 2.5e-323 3.0e-323]]\n",
            "<class 'numpy.ndarray'>\n",
            "float64\n",
            "(2, 3)\n",
            "2\n",
            "6\n"
          ]
        }
      ]
    },
    {
      "cell_type": "code",
      "source": [
        "#From existing\n",
        "arr = np.empty_like(arr3)\n",
        "print(arr)\n",
        "print(type(arr))\n",
        "print(arr.dtype)\n",
        "print(arr.shape)\n",
        "print(arr.ndim)\n",
        "print(arr.size)"
      ],
      "metadata": {
        "id": "iuEFTVWDnx5J",
        "outputId": "117c96ea-a168-40d1-cc3b-fb483b19f73a",
        "colab": {
          "base_uri": "https://localhost:8080/"
        }
      },
      "id": "iuEFTVWDnx5J",
      "execution_count": 256,
      "outputs": [
        {
          "output_type": "stream",
          "name": "stdout",
          "text": [
            "[[[1 1 1]\n",
            "  [1 1 1]]\n",
            "\n",
            " [[1 1 1]\n",
            "  [1 1 1]]]\n",
            "<class 'numpy.ndarray'>\n",
            "int64\n",
            "(2, 2, 3)\n",
            "3\n",
            "12\n"
          ]
        }
      ]
    },
    {
      "cell_type": "code",
      "source": [
        "#np.full\n",
        "arr = np.full((2,3), np.inf)\n",
        "print(arr)\n",
        "print(type(arr))\n",
        "print(arr.dtype)\n",
        "print(arr.shape)\n",
        "print(arr.ndim)\n",
        "print(arr.size)"
      ],
      "metadata": {
        "id": "PS-PD_L8n5w0",
        "outputId": "e4ffd3ef-48d3-449f-e64c-239cee3b1132",
        "colab": {
          "base_uri": "https://localhost:8080/"
        }
      },
      "id": "PS-PD_L8n5w0",
      "execution_count": 257,
      "outputs": [
        {
          "output_type": "stream",
          "name": "stdout",
          "text": [
            "[[inf inf inf]\n",
            " [inf inf inf]]\n",
            "<class 'numpy.ndarray'>\n",
            "float64\n",
            "(2, 3)\n",
            "2\n",
            "6\n"
          ]
        }
      ]
    },
    {
      "cell_type": "code",
      "source": [
        "#From existing\n",
        "\n",
        "arr = np.full_like(arr3, np.inf, dtype= np.float64)\n",
        "print(arr)\n",
        "print(type(arr))\n",
        "print(arr.dtype)\n",
        "print(arr.shape)\n",
        "print(arr.ndim)\n",
        "print(arr.size)"
      ],
      "metadata": {
        "id": "QEO3DAmyphma",
        "outputId": "a56f2175-e2a0-4756-9556-58d1c80763cf",
        "colab": {
          "base_uri": "https://localhost:8080/"
        }
      },
      "id": "QEO3DAmyphma",
      "execution_count": 258,
      "outputs": [
        {
          "output_type": "stream",
          "name": "stdout",
          "text": [
            "[[[inf inf inf]\n",
            "  [inf inf inf]]\n",
            "\n",
            " [[inf inf inf]\n",
            "  [inf inf inf]]]\n",
            "<class 'numpy.ndarray'>\n",
            "float64\n",
            "(2, 2, 3)\n",
            "3\n",
            "12\n"
          ]
        }
      ]
    },
    {
      "cell_type": "markdown",
      "source": [
        "# 10.6 ndarray generation with random values"
      ],
      "metadata": {
        "id": "C7n_r0Ig-qoe"
      },
      "id": "C7n_r0Ig-qoe"
    },
    {
      "cell_type": "code",
      "source": [
        "# np.random.rand(shape)\n",
        "import numpy as np\n",
        "arr = np.random.rand(2,3)\n",
        "print(arr)\n",
        "print(type(arr))\n",
        "print(arr.dtype)\n",
        "print(arr.shape)\n",
        "print(arr.ndim)\n",
        "print(arr.size)"
      ],
      "metadata": {
        "colab": {
          "base_uri": "https://localhost:8080/"
        },
        "id": "ct7jVFfU-sTF",
        "outputId": "20258ab7-e223-451e-8dc9-6ce4f0db2dc1"
      },
      "id": "ct7jVFfU-sTF",
      "execution_count": 259,
      "outputs": [
        {
          "output_type": "stream",
          "name": "stdout",
          "text": [
            "[[0.21693927 0.3433806  0.92965847]\n",
            " [0.42187013 0.359181   0.61083011]]\n",
            "<class 'numpy.ndarray'>\n",
            "float64\n",
            "(2, 3)\n",
            "2\n",
            "6\n"
          ]
        }
      ]
    },
    {
      "cell_type": "code",
      "source": [
        "# np.random.randint(shape)->integer\n",
        "\n",
        "arr = np.random.randint(1,10, (2,3))\n",
        "print(arr)\n",
        "print(type(arr))\n",
        "print(arr.dtype)\n",
        "print(arr.shape)\n",
        "print(arr.ndim)\n",
        "print(arr.size)"
      ],
      "metadata": {
        "colab": {
          "base_uri": "https://localhost:8080/"
        },
        "id": "bTvSEjGu_zmg",
        "outputId": "be9b8159-0e6f-43b8-f450-12b273a46795"
      },
      "id": "bTvSEjGu_zmg",
      "execution_count": 260,
      "outputs": [
        {
          "output_type": "stream",
          "name": "stdout",
          "text": [
            "[[2 2 2]\n",
            " [2 8 5]]\n",
            "<class 'numpy.ndarray'>\n",
            "int64\n",
            "(2, 3)\n",
            "2\n",
            "6\n"
          ]
        }
      ]
    },
    {
      "cell_type": "code",
      "source": [
        "# np.random.uniform(shape)->float\n",
        "\n",
        "arr = np.random.uniform(50,100, (3,4))\n",
        "print(arr)\n",
        "print(type(arr))\n",
        "print(arr.dtype)\n",
        "print(arr.shape)\n",
        "print(arr.ndim)\n",
        "print(arr.size)"
      ],
      "metadata": {
        "colab": {
          "base_uri": "https://localhost:8080/"
        },
        "id": "XZeheCPTAntG",
        "outputId": "68cb2495-ac5e-4df5-d97a-c2da95163324"
      },
      "id": "XZeheCPTAntG",
      "execution_count": 261,
      "outputs": [
        {
          "output_type": "stream",
          "name": "stdout",
          "text": [
            "[[87.12351041 61.73470666 74.50293018 58.79871334]\n",
            " [59.46603063 50.87783188 54.42146476 72.89303652]\n",
            " [94.37304815 94.92230241 51.2952919  75.52196274]]\n",
            "<class 'numpy.ndarray'>\n",
            "float64\n",
            "(3, 4)\n",
            "2\n",
            "12\n"
          ]
        }
      ]
    },
    {
      "cell_type": "markdown",
      "source": [
        "# 10.7 ndarray creation from range"
      ],
      "metadata": {
        "id": "5c0QCEOZB90E"
      },
      "id": "5c0QCEOZB90E"
    },
    {
      "cell_type": "code",
      "source": [
        "#np.arange(first, end, step)->similar to range\n",
        "arr = np.arange(1,10,2)\n",
        "print(arr)\n",
        "print(type(arr))\n",
        "print(arr.dtype)\n",
        "print(arr.shape)\n",
        "print(arr.ndim)\n",
        "print(arr.size)\n"
      ],
      "metadata": {
        "colab": {
          "base_uri": "https://localhost:8080/"
        },
        "id": "Iz-6j7jODT3M",
        "outputId": "cccf603d-e706-41a8-e522-cb01a578df52"
      },
      "id": "Iz-6j7jODT3M",
      "execution_count": 262,
      "outputs": [
        {
          "output_type": "stream",
          "name": "stdout",
          "text": [
            "[1 3 5 7 9]\n",
            "<class 'numpy.ndarray'>\n",
            "int64\n",
            "(5,)\n",
            "1\n",
            "5\n"
          ]
        }
      ]
    },
    {
      "cell_type": "code",
      "source": [
        "#Mtarix\n",
        "\n",
        "arr = np.arange(1,10,1).reshape(3,3)\n",
        "print(arr)\n",
        "print(type(arr))\n",
        "print(arr.dtype)\n",
        "print(arr.shape)\n",
        "print(arr.ndim)\n",
        "print(arr.size)\n"
      ],
      "metadata": {
        "colab": {
          "base_uri": "https://localhost:8080/"
        },
        "id": "dFP1viBnD6oc",
        "outputId": "1bad7852-0b81-451e-91bd-ebd0f6c6dc23"
      },
      "id": "dFP1viBnD6oc",
      "execution_count": 263,
      "outputs": [
        {
          "output_type": "stream",
          "name": "stdout",
          "text": [
            "[[1 2 3]\n",
            " [4 5 6]\n",
            " [7 8 9]]\n",
            "<class 'numpy.ndarray'>\n",
            "int64\n",
            "(3, 3)\n",
            "2\n",
            "9\n"
          ]
        }
      ]
    },
    {
      "cell_type": "code",
      "source": [
        "#Linear space\n",
        "arr = np.linspace(1,10,8)\n",
        "print(arr)\n",
        "print(type(arr))\n",
        "print(arr.dtype)\n",
        "print(arr.shape)\n",
        "print(arr.ndim)\n",
        "print(arr.size)\n"
      ],
      "metadata": {
        "colab": {
          "base_uri": "https://localhost:8080/"
        },
        "id": "b1iSKlunEk2l",
        "outputId": "4c665079-5f46-46f1-e3e9-2634c6ffcdb2"
      },
      "id": "b1iSKlunEk2l",
      "execution_count": 264,
      "outputs": [
        {
          "output_type": "stream",
          "name": "stdout",
          "text": [
            "[ 1.          2.28571429  3.57142857  4.85714286  6.14285714  7.42857143\n",
            "  8.71428571 10.        ]\n",
            "<class 'numpy.ndarray'>\n",
            "float64\n",
            "(8,)\n",
            "1\n",
            "8\n"
          ]
        }
      ]
    },
    {
      "cell_type": "code",
      "source": [
        "# np.logcpace\n",
        "arr = np.logspace(0,4,6, base = 2)\n",
        "print(arr)\n",
        "print(type(arr))\n",
        "print(arr.dtype)\n",
        "print(arr.shape)\n",
        "print(arr.ndim)\n",
        "print(arr.size)\n"
      ],
      "metadata": {
        "colab": {
          "base_uri": "https://localhost:8080/"
        },
        "id": "NjaRGLS4FlXT",
        "outputId": "0730452d-335b-44d7-c471-9cde9e6a3d78"
      },
      "id": "NjaRGLS4FlXT",
      "execution_count": 265,
      "outputs": [
        {
          "output_type": "stream",
          "name": "stdout",
          "text": [
            "[ 1.          1.74110113  3.03143313  5.27803164  9.18958684 16.        ]\n",
            "<class 'numpy.ndarray'>\n",
            "float64\n",
            "(6,)\n",
            "1\n",
            "6\n"
          ]
        }
      ]
    },
    {
      "cell_type": "markdown",
      "source": [
        "# 10.8 creating diagonal and identity matrix"
      ],
      "metadata": {
        "id": "A96pL58AHqT0"
      },
      "id": "A96pL58AHqT0"
    },
    {
      "cell_type": "code",
      "source": [
        "#Diagonal Matrix\n",
        "\n",
        "di_ma= np.diag([1,2,3,4])\n",
        "print(di_ma)\n",
        "print(di_ma.shape)"
      ],
      "metadata": {
        "id": "N5HDot1jIqUh",
        "outputId": "e931aec6-3718-4fef-ec35-55df0185fb76",
        "colab": {
          "base_uri": "https://localhost:8080/"
        }
      },
      "id": "N5HDot1jIqUh",
      "execution_count": 266,
      "outputs": [
        {
          "output_type": "stream",
          "name": "stdout",
          "text": [
            "[[1 0 0 0]\n",
            " [0 2 0 0]\n",
            " [0 0 3 0]\n",
            " [0 0 0 4]]\n",
            "(4, 4)\n"
          ]
        }
      ]
    },
    {
      "cell_type": "code",
      "source": [
        "#Identity  Matrix\n",
        "id_ma = np.eye(4)\n",
        "print(id_ma)\n",
        "print(id_ma.shape)"
      ],
      "metadata": {
        "id": "3_5692PHJLLN",
        "outputId": "02bf255b-2e44-4a24-9045-5062e1dc13a4",
        "colab": {
          "base_uri": "https://localhost:8080/"
        }
      },
      "id": "3_5692PHJLLN",
      "execution_count": 267,
      "outputs": [
        {
          "output_type": "stream",
          "name": "stdout",
          "text": [
            "[[1. 0. 0. 0.]\n",
            " [0. 1. 0. 0.]\n",
            " [0. 0. 1. 0.]\n",
            " [0. 0. 0. 1.]]\n",
            "(4, 4)\n"
          ]
        }
      ]
    },
    {
      "cell_type": "code",
      "source": [
        "#np.eye(row, column)\n",
        "id_ma = np.eye(3,4)\n",
        "print(id_ma)\n",
        "print(id_ma.shape)"
      ],
      "metadata": {
        "id": "lC3pnp59Jj-s",
        "outputId": "dbda56d0-f84f-486f-bc3a-2aa2fa15c3f0",
        "colab": {
          "base_uri": "https://localhost:8080/"
        }
      },
      "id": "lC3pnp59Jj-s",
      "execution_count": 268,
      "outputs": [
        {
          "output_type": "stream",
          "name": "stdout",
          "text": [
            "[[1. 0. 0. 0.]\n",
            " [0. 1. 0. 0.]\n",
            " [0. 0. 1. 0.]]\n",
            "(3, 4)\n"
          ]
        }
      ]
    },
    {
      "cell_type": "code",
      "source": [
        "#np.eye(row, column)\n",
        "id_ma = np.eye(3,4,-1)\n",
        "print(id_ma)\n",
        "print(id_ma.shape)"
      ],
      "metadata": {
        "id": "1Riyh54TJ1Q2",
        "outputId": "6a0fc8cf-59f8-4a56-ef7d-90a081bc39d7",
        "colab": {
          "base_uri": "https://localhost:8080/"
        }
      },
      "id": "1Riyh54TJ1Q2",
      "execution_count": 269,
      "outputs": [
        {
          "output_type": "stream",
          "name": "stdout",
          "text": [
            "[[0. 0. 0. 0.]\n",
            " [1. 0. 0. 0.]\n",
            " [0. 1. 0. 0.]]\n",
            "(3, 4)\n"
          ]
        }
      ]
    },
    {
      "cell_type": "markdown",
      "source": [
        "# 10.9 ndarray Indexing and Slicing"
      ],
      "metadata": {
        "id": "x5i8v_Pn_GaB"
      },
      "id": "x5i8v_Pn_GaB"
    },
    {
      "cell_type": "code",
      "source": [
        "#indexing\n",
        "\n",
        "print(arr1)\n",
        "print(arr2)\n",
        "\n",
        "print(arr1[2])\n",
        "\n",
        "arr1[2] = 100\n",
        "print(arr1)\n",
        "\n",
        "print(arr2[1][0])"
      ],
      "metadata": {
        "colab": {
          "base_uri": "https://localhost:8080/"
        },
        "id": "6wM_MY3z_PyG",
        "outputId": "3242c278-fbe0-441a-88de-3f22825a2c6d"
      },
      "id": "6wM_MY3z_PyG",
      "execution_count": 270,
      "outputs": [
        {
          "output_type": "stream",
          "name": "stdout",
          "text": [
            "[1 2 3 4 5 6]\n",
            "[[1 2 3]\n",
            " [4 5 6]]\n",
            "3\n",
            "[  1   2 100   4   5   6]\n",
            "4\n"
          ]
        }
      ]
    },
    {
      "cell_type": "code",
      "source": [
        "#slicing\n",
        "#1d = arr[start:end:step]\n",
        "arr1_mod = arr1[1:4].copy()\n",
        "print(arr1_mod)\n",
        "\n"
      ],
      "metadata": {
        "colab": {
          "base_uri": "https://localhost:8080/"
        },
        "id": "D60ygCEmA3OE",
        "outputId": "913ff123-f028-4c8a-b30f-8a1932a9472b"
      },
      "id": "D60ygCEmA3OE",
      "execution_count": 271,
      "outputs": [
        {
          "output_type": "stream",
          "name": "stdout",
          "text": [
            "[  2 100   4]\n"
          ]
        }
      ]
    },
    {
      "cell_type": "code",
      "source": [
        "#2d = arr[row start : row end: step , column_start: column_ened : step]\n",
        "#getting a row\n",
        "row_0 = arr2[0:1,]\n",
        "row_1 = arr2[1: ,]\n",
        "print(row_0)\n",
        "print(row_1)"
      ],
      "metadata": {
        "colab": {
          "base_uri": "https://localhost:8080/"
        },
        "id": "M1xiStKhBWg9",
        "outputId": "ae5a159f-aede-473f-f327-fee5f3e75fd5"
      },
      "id": "M1xiStKhBWg9",
      "execution_count": 272,
      "outputs": [
        {
          "output_type": "stream",
          "name": "stdout",
          "text": [
            "[[1 2 3]]\n",
            "[[4 5 6]]\n"
          ]
        }
      ]
    },
    {
      "cell_type": "code",
      "source": [
        "#Getting a column\n",
        "col_0 = arr2[::, 0:1]\n",
        "print(col_0)\n",
        "col_1 = arr2[::, 1:2]\n",
        "print(col_1)"
      ],
      "metadata": {
        "colab": {
          "base_uri": "https://localhost:8080/"
        },
        "id": "tn8JZgRArDVG",
        "outputId": "14379325-9a86-4934-e053-b67af79298f4"
      },
      "id": "tn8JZgRArDVG",
      "execution_count": 273,
      "outputs": [
        {
          "output_type": "stream",
          "name": "stdout",
          "text": [
            "[[1]\n",
            " [4]]\n",
            "[[2]\n",
            " [5]]\n"
          ]
        }
      ]
    },
    {
      "cell_type": "code",
      "source": [
        "#getting a portion\n",
        "\n",
        "portion = arr2[::, 0:2]\n",
        "print(portion)"
      ],
      "metadata": {
        "colab": {
          "base_uri": "https://localhost:8080/"
        },
        "id": "x2QK8dqMtSmE",
        "outputId": "5d843e05-84f1-4709-dd95-7d34efa47c3b"
      },
      "id": "x2QK8dqMtSmE",
      "execution_count": 274,
      "outputs": [
        {
          "output_type": "stream",
          "name": "stdout",
          "text": [
            "[[1 2]\n",
            " [4 5]]\n"
          ]
        }
      ]
    },
    {
      "cell_type": "markdown",
      "source": [
        "# 10.10 Ndarray Copy Advanced Indexing and Iteration"
      ],
      "metadata": {
        "id": "NPuXcqLQu54J"
      },
      "id": "NPuXcqLQu54J"
    },
    {
      "cell_type": "code",
      "source": [
        "#Advance Indexing\n",
        "lst = np.array([10,20,30,40])\n",
        "\n",
        "values = lst[[0,3]]\n",
        "print(values)"
      ],
      "metadata": {
        "colab": {
          "base_uri": "https://localhost:8080/"
        },
        "id": "-MBrctzXu7Hq",
        "outputId": "d55b73b4-3947-4ae9-8b49-64dd854ff439"
      },
      "id": "-MBrctzXu7Hq",
      "execution_count": 275,
      "outputs": [
        {
          "output_type": "stream",
          "name": "stdout",
          "text": [
            "[10 40]\n"
          ]
        }
      ]
    },
    {
      "cell_type": "code",
      "source": [
        "#For 2D array\n",
        "print(arr2)\n",
        "values = arr2[[0,1],[1,2]]\n",
        "print(values)\n"
      ],
      "metadata": {
        "colab": {
          "base_uri": "https://localhost:8080/"
        },
        "id": "UxJp7WfZzemv",
        "outputId": "8e77ac67-73b9-4e06-ee86-99a71d406f66"
      },
      "id": "UxJp7WfZzemv",
      "execution_count": 276,
      "outputs": [
        {
          "output_type": "stream",
          "name": "stdout",
          "text": [
            "[[1 2 3]\n",
            " [4 5 6]]\n",
            "[2 6]\n"
          ]
        }
      ]
    },
    {
      "cell_type": "code",
      "source": [
        "#Getting by boolean\n",
        "\n",
        "bol_get = arr2[arr2>2].copy()\n",
        "print(arr2)\n",
        "arr2[arr2>2] = 100\n",
        "print(arr2)\n",
        "print(bol_get)"
      ],
      "metadata": {
        "colab": {
          "base_uri": "https://localhost:8080/"
        },
        "id": "-i1hG1X-0P_W",
        "outputId": "8cfd875c-1b50-4efa-ac87-4cea0343a1ec"
      },
      "id": "-i1hG1X-0P_W",
      "execution_count": 277,
      "outputs": [
        {
          "output_type": "stream",
          "name": "stdout",
          "text": [
            "[[1 2 3]\n",
            " [4 5 6]]\n",
            "[[  1   2 100]\n",
            " [100 100 100]]\n",
            "[3 4 5 6]\n"
          ]
        }
      ]
    },
    {
      "cell_type": "code",
      "source": [
        "#Iteration\n",
        "arr = np.array([[10,20,30],[100,200,300]])\n",
        "print(arr2)\n",
        "\n",
        "for i in np.nditer(arr):\n",
        "  print(i)"
      ],
      "metadata": {
        "colab": {
          "base_uri": "https://localhost:8080/"
        },
        "id": "wegSgFAI1p_t",
        "outputId": "e1a7fdae-2b98-4a7a-d57a-1508df89432e"
      },
      "id": "wegSgFAI1p_t",
      "execution_count": 289,
      "outputs": [
        {
          "output_type": "stream",
          "name": "stdout",
          "text": [
            "[[  1   2 100]\n",
            " [100 100 100]]\n",
            "10\n",
            "20\n",
            "30\n",
            "100\n",
            "200\n",
            "300\n"
          ]
        }
      ]
    },
    {
      "cell_type": "markdown",
      "source": [
        "#Exam and Practice"
      ],
      "metadata": {
        "id": "k2YUeIww66_L"
      },
      "id": "k2YUeIww66_L"
    },
    {
      "cell_type": "code",
      "source": [
        "arr = np.array([1,2,3,4,5])\n",
        "arr[1:4] = 0\n",
        "print(arr)"
      ],
      "metadata": {
        "id": "dqN8vASQ69vO",
        "outputId": "834ee8ca-8663-405d-86b8-da7e378e3454",
        "colab": {
          "base_uri": "https://localhost:8080/"
        }
      },
      "id": "dqN8vASQ69vO",
      "execution_count": 298,
      "outputs": [
        {
          "output_type": "stream",
          "name": "stdout",
          "text": [
            "[1 0 0 0 5]\n"
          ]
        }
      ]
    }
  ],
  "metadata": {
    "kernelspec": {
      "display_name": "Python 3.11 (latest)",
      "language": "python",
      "name": "python-3.11"
    },
    "language_info": {
      "name": "python",
      "version": "3.11.9"
    },
    "colab": {
      "provenance": []
    }
  },
  "nbformat": 4,
  "nbformat_minor": 5
}