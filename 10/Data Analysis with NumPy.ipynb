{
  "cells": [
    {
      "cell_type": "markdown",
      "id": "b6d17a2d",
      "metadata": {
        "id": "b6d17a2d"
      },
      "source": [
        "# 10.2 ndarray and its attributes"
      ]
    },
    {
      "cell_type": "code",
      "source": [
        "#Normal Array\n",
        "arr = [1,2,3]\n",
        "print(arr * 5)\n",
        "arr = [x*5 for x in arr]\n",
        "print(arr)"
      ],
      "metadata": {
        "colab": {
          "base_uri": "https://localhost:8080/"
        },
        "id": "CysFsWo_cuWz",
        "outputId": "4748bc9c-85e1-4c18-f807-1507381d1b02"
      },
      "id": "CysFsWo_cuWz",
      "execution_count": null,
      "outputs": [
        {
          "output_type": "stream",
          "name": "stdout",
          "text": [
            "[1, 2, 3, 1, 2, 3, 1, 2, 3, 1, 2, 3, 1, 2, 3]\n",
            "[5, 10, 15]\n"
          ]
        }
      ]
    },
    {
      "cell_type": "code",
      "source": [
        "# With Numpy NdArray\n",
        "import numpy as np\n",
        "arr1 = np.array([1,2,3])\n",
        "\n",
        "arr1 = arr1 * 5\n",
        "\n",
        "print(arr1)"
      ],
      "metadata": {
        "colab": {
          "base_uri": "https://localhost:8080/"
        },
        "id": "iC-El6qRdM8-",
        "outputId": "6fa99d4a-5309-489a-a965-ba1aa53919d7"
      },
      "id": "iC-El6qRdM8-",
      "execution_count": null,
      "outputs": [
        {
          "output_type": "stream",
          "name": "stdout",
          "text": [
            "[ 5 10 15]\n"
          ]
        }
      ]
    },
    {
      "cell_type": "code",
      "source": [
        "# Declaring nd array\n",
        "import numpy as np\n",
        "\n",
        "#1d array\n",
        "\n",
        "arr1 = np.array([1,2,3,4,5,6])\n",
        "\n",
        "print(type(arr1))\n",
        "\n",
        "#Dimensions\n",
        "print(arr1.ndim)\n",
        "\n",
        "#2d array\n",
        "arr2 = np.array([[1,2,3], # row1\n",
        "                 [4,5,6]]) #row 2\n",
        "\n",
        "print(arr2.ndim)\n",
        "\n",
        "#3d array(Multiple 2d array in a single array)\n",
        "\n",
        "arr3 = np.array([\n",
        "    #1st floor\n",
        "    [ [1,2,3], # row1\n",
        "      [4,5,6] ],#row 2\n",
        "\n",
        "    #2nd floor\n",
        "    [ [1,2,3], # row1\n",
        "      [4,5,6] ]#row 2\n",
        "])\n",
        "\n",
        "print(arr3.ndim)\n"
      ],
      "metadata": {
        "colab": {
          "base_uri": "https://localhost:8080/"
        },
        "id": "aWw0Vv11d5S6",
        "outputId": "cc4fdfe9-6ed4-4a98-c50d-122b882afaaf"
      },
      "id": "aWw0Vv11d5S6",
      "execution_count": null,
      "outputs": [
        {
          "output_type": "stream",
          "name": "stdout",
          "text": [
            "<class 'numpy.ndarray'>\n",
            "1\n",
            "2\n",
            "3\n"
          ]
        }
      ]
    },
    {
      "cell_type": "markdown",
      "source": [
        "### Array attributes\n"
      ],
      "metadata": {
        "id": "3bCVWCMrjvA8"
      },
      "id": "3bCVWCMrjvA8"
    },
    {
      "cell_type": "code",
      "source": [
        "#Dimension\n",
        "print(\"Dimensions:\")\n",
        "print(arr1.ndim)\n",
        "print(arr2.ndim)\n",
        "print(arr3.ndim)\n",
        "\n",
        "print(\"Shapes:\")\n",
        "#Shape\n",
        "print(arr1.shape)\n",
        "print(arr2.shape)\n",
        "print(arr3.shape)\n",
        "\n",
        "print(\"Data Types:\")\n",
        "#Data types\n",
        "print(arr1.dtype)\n",
        "print(arr2.dtype)\n",
        "print(arr3.dtype)\n",
        "\n",
        "print(\"Sizes\")\n",
        "#Size\n",
        "print(arr1.size)\n",
        "print(arr2.size)\n",
        "print(arr3.size)"
      ],
      "metadata": {
        "colab": {
          "base_uri": "https://localhost:8080/"
        },
        "id": "FP0cceWij2Fv",
        "outputId": "0829d710-2c50-4a99-a563-d0919bd735a4"
      },
      "id": "FP0cceWij2Fv",
      "execution_count": null,
      "outputs": [
        {
          "output_type": "stream",
          "name": "stdout",
          "text": [
            "Dimensions:\n",
            "1\n",
            "2\n",
            "3\n",
            "Shapes:\n",
            "(6,)\n",
            "(2, 3)\n",
            "(2, 2, 3)\n",
            "Data Types:\n",
            "int64\n",
            "int64\n",
            "int64\n",
            "Sizes\n",
            "6\n",
            "6\n",
            "12\n"
          ]
        }
      ]
    },
    {
      "cell_type": "markdown",
      "source": [
        "# 10.3 Ndarray Data Type"
      ],
      "metadata": {
        "id": "FbZVhy2Y6b87"
      },
      "id": "FbZVhy2Y6b87"
    },
    {
      "cell_type": "code",
      "source": [
        "arr = np.array([1,2,3])\n",
        "print(arr.dtype) #By default int64 as 64-bit machine\n",
        "\n",
        "\n",
        "arr = np.array([1,2,3.4,5.6])\n",
        "print(arr.dtype) #By default float64 as 64-bit machine(double precision float value)\n",
        "\n"
      ],
      "metadata": {
        "id": "kXT-M73x6y0I",
        "outputId": "209755bb-ecaa-4d25-fab9-d21f3b9495a9",
        "colab": {
          "base_uri": "https://localhost:8080/"
        }
      },
      "id": "kXT-M73x6y0I",
      "execution_count": null,
      "outputs": [
        {
          "output_type": "stream",
          "name": "stdout",
          "text": [
            "int64\n",
            "float64\n"
          ]
        }
      ]
    },
    {
      "cell_type": "code",
      "source": [
        "arr = np.array([1,2,3.4])\n",
        "#Upcasted to float\n",
        "print(arr.dtype)"
      ],
      "metadata": {
        "id": "3uHcj6ip75Fq",
        "outputId": "bee1695c-b185-45ca-c92c-68a39bfc3309",
        "colab": {
          "base_uri": "https://localhost:8080/"
        }
      },
      "id": "3uHcj6ip75Fq",
      "execution_count": null,
      "outputs": [
        {
          "output_type": "stream",
          "name": "stdout",
          "text": [
            "float64\n"
          ]
        }
      ]
    },
    {
      "cell_type": "code",
      "source": [
        "arr = np.array([1,2,3.4, 'h'])\n",
        "#Upcasted to string\n",
        "print(arr.dtype)"
      ],
      "metadata": {
        "id": "X1rw2eXy83hW",
        "outputId": "34ef7d0b-99b4-4645-94a4-bf72cac46cda",
        "colab": {
          "base_uri": "https://localhost:8080/"
        }
      },
      "id": "X1rw2eXy83hW",
      "execution_count": null,
      "outputs": [
        {
          "output_type": "stream",
          "name": "stdout",
          "text": [
            "<U32\n"
          ]
        }
      ]
    },
    {
      "cell_type": "code",
      "source": [
        "#Selecting a data type for an array\n",
        "arr = np.array([1,2,3], dtype = np.int8)\n",
        "print(arr.dtype)\n",
        "print(arr)\n",
        "\n",
        "arr = arr.astype(np.int16)\n",
        "print(arr.dtype)\n",
        "print(arr)\n"
      ],
      "metadata": {
        "id": "O99M9BmB9tVe",
        "outputId": "1a482dd3-04e9-4e68-b9dc-ab48f6c5ab25",
        "colab": {
          "base_uri": "https://localhost:8080/"
        }
      },
      "id": "O99M9BmB9tVe",
      "execution_count": null,
      "outputs": [
        {
          "output_type": "stream",
          "name": "stdout",
          "text": [
            "int8\n",
            "[1 2 3]\n",
            "int16\n",
            "[1 2 3]\n"
          ]
        }
      ]
    },
    {
      "cell_type": "code",
      "source": [
        "arr = np.array([1,2,3.4, 'h', True])\n",
        "#Upcasted to string\n",
        "print(arr.dtype)"
      ],
      "metadata": {
        "id": "U6L31Uau_XeE",
        "outputId": "491cd43f-1729-49fd-e4c7-356bbbb2abb6",
        "colab": {
          "base_uri": "https://localhost:8080/"
        }
      },
      "id": "U6L31Uau_XeE",
      "execution_count": null,
      "outputs": [
        {
          "output_type": "stream",
          "name": "stdout",
          "text": [
            "<U32\n"
          ]
        }
      ]
    },
    {
      "cell_type": "markdown",
      "source": [
        "# 10.4 ndarray creation from Existing data"
      ],
      "metadata": {
        "id": "2TbNUG5_Stim"
      },
      "id": "2TbNUG5_Stim"
    },
    {
      "cell_type": "code",
      "source": [
        "#List to ndra\n",
        "import numpy as np\n",
        "\n",
        "lst = [10, 20, 30, 40, 40.5]\n",
        "arr = np.array(lst, dtype=np.int32)\n",
        "print(arr)\n",
        "print(arr.dtype)"
      ],
      "metadata": {
        "colab": {
          "base_uri": "https://localhost:8080/"
        },
        "id": "FK8y6iFeVVph",
        "outputId": "d9e890f2-ae07-4ecc-a791-7a1929b85633"
      },
      "id": "FK8y6iFeVVph",
      "execution_count": null,
      "outputs": [
        {
          "output_type": "stream",
          "name": "stdout",
          "text": [
            "[10 20 30 40 40]\n",
            "int32\n"
          ]
        }
      ]
    },
    {
      "cell_type": "code",
      "source": [
        "#nested list to ndarray\n",
        "matrix = [[1, 2, 3],\n",
        "          [4, 5, 6]]\n",
        "\n",
        "arr = np.array(matrix)\n",
        "print(arr)\n",
        "print(arr.dtype)"
      ],
      "metadata": {
        "colab": {
          "base_uri": "https://localhost:8080/"
        },
        "id": "s808Er0JVhxP",
        "outputId": "e36e8f14-40f1-4e59-db3b-57cccdb73e88"
      },
      "id": "s808Er0JVhxP",
      "execution_count": null,
      "outputs": [
        {
          "output_type": "stream",
          "name": "stdout",
          "text": [
            "[[1 2 3]\n",
            " [4 5 6]]\n",
            "int64\n"
          ]
        }
      ]
    },
    {
      "cell_type": "code",
      "source": [
        "#Tuple to ndarray\n",
        "tup = (10, 20, 30)\n",
        "arr = np.array(tup)\n",
        "print(arr)\n",
        "print(arr.dtype)"
      ],
      "metadata": {
        "colab": {
          "base_uri": "https://localhost:8080/"
        },
        "id": "OPK_n8S-VwVo",
        "outputId": "83de7400-3d71-44ec-f930-ef0121e3647f"
      },
      "id": "OPK_n8S-VwVo",
      "execution_count": null,
      "outputs": [
        {
          "output_type": "stream",
          "name": "stdout",
          "text": [
            "[10 20 30]\n",
            "int64\n"
          ]
        }
      ]
    },
    {
      "cell_type": "code",
      "source": [
        "#set to ndarray\n",
        "s = {10, 20, 30}\n",
        "arr = np.array(s)\n",
        "print(arr)\n",
        "print(arr.dtype)"
      ],
      "metadata": {
        "colab": {
          "base_uri": "https://localhost:8080/"
        },
        "id": "SrkqQOIUV4dk",
        "outputId": "ba7b2b56-7664-424a-a273-9bb949b404ce"
      },
      "id": "SrkqQOIUV4dk",
      "execution_count": null,
      "outputs": [
        {
          "output_type": "stream",
          "name": "stdout",
          "text": [
            "{10, 20, 30}\n",
            "object\n"
          ]
        }
      ]
    },
    {
      "cell_type": "code",
      "source": [
        "#From Dictionary\n",
        "dc = {'a' : 10, 'b' : 20, 'c' : 30}\n",
        "keys = dc.keys()\n",
        "values = dc.values()\n",
        "itm = dc.items()\n",
        "print(keys)\n",
        "print(values)\n",
        "print(itm)"
      ],
      "metadata": {
        "colab": {
          "base_uri": "https://localhost:8080/"
        },
        "id": "OIusmMkvS-eH",
        "outputId": "78f6a147-fb2c-4ffb-f49d-90bc7a50d11d"
      },
      "id": "OIusmMkvS-eH",
      "execution_count": null,
      "outputs": [
        {
          "output_type": "stream",
          "name": "stdout",
          "text": [
            "dict_keys(['a', 'b', 'c'])\n",
            "dict_values([10, 20, 30])\n",
            "dict_items([('a', 10), ('b', 20), ('c', 30)])\n"
          ]
        }
      ]
    },
    {
      "cell_type": "code",
      "source": [
        "#Keys to ndarray\n",
        "arr = np.array(list(keys))\n",
        "print(arr)\n",
        "print(type(arr))\n",
        "print(arr.dtype)\n",
        "print(arr.shape)\n",
        "print(arr.ndim)\n",
        "print(arr.size)"
      ],
      "metadata": {
        "colab": {
          "base_uri": "https://localhost:8080/"
        },
        "id": "agI3YqbGTpQh",
        "outputId": "99e7944b-1189-440d-8861-3dfe9f21b8a7"
      },
      "id": "agI3YqbGTpQh",
      "execution_count": null,
      "outputs": [
        {
          "output_type": "stream",
          "name": "stdout",
          "text": [
            "['a' 'b' 'c']\n",
            "<class 'numpy.ndarray'>\n",
            "<U1\n",
            "(3,)\n",
            "1\n",
            "3\n"
          ]
        }
      ]
    },
    {
      "cell_type": "code",
      "source": [
        "#Values to ndarray\n",
        "arr = np.array(list(values))\n",
        "print(arr)\n",
        "print(type(arr))\n",
        "print(arr.dtype)\n",
        "arr = arr.astype(np.int16)\n",
        "print(arr.dtype)\n",
        "print(arr.shape)\n",
        "print(arr.ndim)\n",
        "print(arr.size)"
      ],
      "metadata": {
        "colab": {
          "base_uri": "https://localhost:8080/"
        },
        "id": "Cl9oRpEtUTgC",
        "outputId": "e8f1c344-f041-4226-e6b7-34c3e8c13610"
      },
      "id": "Cl9oRpEtUTgC",
      "execution_count": null,
      "outputs": [
        {
          "output_type": "stream",
          "name": "stdout",
          "text": [
            "[10 20 30]\n",
            "<class 'numpy.ndarray'>\n",
            "int64\n",
            "int16\n",
            "(3,)\n",
            "1\n",
            "3\n"
          ]
        }
      ]
    },
    {
      "cell_type": "code",
      "source": [
        "#Items to ndr\n",
        "arr = np.array(list(itm))\n",
        "print(arr)\n",
        "print(type(arr))\n",
        "print(arr.dtype)\n",
        "print(arr.shape)\n",
        "print(arr.ndim)\n",
        "print(arr.size)"
      ],
      "metadata": {
        "colab": {
          "base_uri": "https://localhost:8080/"
        },
        "id": "cPN_1W4OU1jm",
        "outputId": "2c72d429-1086-4b8d-d459-b4622201c367"
      },
      "id": "cPN_1W4OU1jm",
      "execution_count": null,
      "outputs": [
        {
          "output_type": "stream",
          "name": "stdout",
          "text": [
            "[['a' '10']\n",
            " ['b' '20']\n",
            " ['c' '30']]\n",
            "<class 'numpy.ndarray'>\n",
            "<U21\n",
            "(3, 2)\n",
            "2\n",
            "6\n"
          ]
        }
      ]
    },
    {
      "cell_type": "markdown",
      "source": [
        "# 10.5 ndarray creation from scratch"
      ],
      "metadata": {
        "id": "xNX7vvPHkBQy"
      },
      "id": "xNX7vvPHkBQy"
    },
    {
      "cell_type": "code",
      "source": [
        "#np,zeros\n",
        "\n",
        "arr = np.zeros((2,3), dtype= np.int8)\n",
        "print(arr)\n",
        "print(type(arr))\n",
        "print(arr.dtype)\n",
        "print(arr.shape)\n",
        "print(arr.ndim)\n",
        "print(arr.size)"
      ],
      "metadata": {
        "id": "hafrO9ESkF2V",
        "outputId": "6377f42d-6aad-4857-ed51-65a3126ec8a1",
        "colab": {
          "base_uri": "https://localhost:8080/"
        }
      },
      "id": "hafrO9ESkF2V",
      "execution_count": null,
      "outputs": [
        {
          "output_type": "stream",
          "name": "stdout",
          "text": [
            "[[0 0 0]\n",
            " [0 0 0]]\n",
            "<class 'numpy.ndarray'>\n",
            "int8\n",
            "(2, 3)\n",
            "2\n",
            "6\n"
          ]
        }
      ]
    },
    {
      "cell_type": "code",
      "source": [
        "#From existing shape\n",
        "arr = np.zeros_like(arr3)\n",
        "print(arr)\n",
        "print(type(arr))\n",
        "print(arr.dtype)\n",
        "print(arr.shape)\n",
        "print(arr.ndim)\n",
        "print(arr.size)"
      ],
      "metadata": {
        "id": "XqjLC6psmAtj",
        "outputId": "a3234178-ead2-4f1c-f17f-421d47fe2130",
        "colab": {
          "base_uri": "https://localhost:8080/"
        }
      },
      "id": "XqjLC6psmAtj",
      "execution_count": null,
      "outputs": [
        {
          "output_type": "stream",
          "name": "stdout",
          "text": [
            "[[[0 0 0]\n",
            "  [0 0 0]]\n",
            "\n",
            " [[0 0 0]\n",
            "  [0 0 0]]]\n",
            "<class 'numpy.ndarray'>\n",
            "int64\n",
            "(2, 2, 3)\n",
            "3\n",
            "12\n"
          ]
        }
      ]
    },
    {
      "cell_type": "code",
      "source": [
        "#np.one\n",
        "arr = np.ones((3,4,3), dtype= np.int8)\n",
        "print(arr)\n",
        "print(type(arr))\n",
        "print(arr.dtype)\n",
        "print(arr.shape)\n",
        "print(arr.ndim)\n",
        "print(arr.size)"
      ],
      "metadata": {
        "id": "wSdZHN0LmijD",
        "outputId": "6564a1c9-f967-4c7b-c935-6ece9fac22b8",
        "colab": {
          "base_uri": "https://localhost:8080/"
        }
      },
      "id": "wSdZHN0LmijD",
      "execution_count": null,
      "outputs": [
        {
          "output_type": "stream",
          "name": "stdout",
          "text": [
            "[[[1 1 1]\n",
            "  [1 1 1]\n",
            "  [1 1 1]\n",
            "  [1 1 1]]\n",
            "\n",
            " [[1 1 1]\n",
            "  [1 1 1]\n",
            "  [1 1 1]\n",
            "  [1 1 1]]\n",
            "\n",
            " [[1 1 1]\n",
            "  [1 1 1]\n",
            "  [1 1 1]\n",
            "  [1 1 1]]]\n",
            "<class 'numpy.ndarray'>\n",
            "int8\n",
            "(3, 4, 3)\n",
            "3\n",
            "36\n"
          ]
        }
      ]
    },
    {
      "cell_type": "code",
      "source": [
        "#From existing\n",
        "arr = np.ones_like(arr3)\n",
        "print(arr)\n",
        "print(type(arr))\n",
        "print(arr.dtype)\n",
        "print(arr.shape)\n",
        "print(arr.ndim)\n",
        "print(arr.size)"
      ],
      "metadata": {
        "id": "KssfcbqFm6m_",
        "outputId": "38fb4b52-67d9-4831-e432-1c9010cb0711",
        "colab": {
          "base_uri": "https://localhost:8080/"
        }
      },
      "id": "KssfcbqFm6m_",
      "execution_count": null,
      "outputs": [
        {
          "output_type": "stream",
          "name": "stdout",
          "text": [
            "[[[1 1 1]\n",
            "  [1 1 1]]\n",
            "\n",
            " [[1 1 1]\n",
            "  [1 1 1]]]\n",
            "<class 'numpy.ndarray'>\n",
            "int64\n",
            "(2, 2, 3)\n",
            "3\n",
            "12\n"
          ]
        }
      ]
    },
    {
      "cell_type": "code",
      "source": [
        "#np.empty\n",
        "\n",
        "arr = np.empty((2,3))\n",
        "print(arr)\n",
        "print(type(arr))\n",
        "print(arr.dtype)\n",
        "print(arr.shape)\n",
        "print(arr.ndim)\n",
        "print(arr.size)"
      ],
      "metadata": {
        "id": "BrBGGPTZnFl1",
        "outputId": "cd211117-9f7d-4fdb-9993-b39014a96400",
        "colab": {
          "base_uri": "https://localhost:8080/"
        }
      },
      "id": "BrBGGPTZnFl1",
      "execution_count": null,
      "outputs": [
        {
          "output_type": "stream",
          "name": "stdout",
          "text": [
            "[[4.9e-324 9.9e-324 1.5e-323]\n",
            " [2.0e-323 2.5e-323 3.0e-323]]\n",
            "<class 'numpy.ndarray'>\n",
            "float64\n",
            "(2, 3)\n",
            "2\n",
            "6\n"
          ]
        }
      ]
    },
    {
      "cell_type": "code",
      "source": [
        "#From existing\n",
        "arr = np.empty_like(arr3)\n",
        "print(arr)\n",
        "print(type(arr))\n",
        "print(arr.dtype)\n",
        "print(arr.shape)\n",
        "print(arr.ndim)\n",
        "print(arr.size)"
      ],
      "metadata": {
        "id": "iuEFTVWDnx5J",
        "outputId": "ae1d8f4c-6a16-46dc-dd44-85dc76f4b914",
        "colab": {
          "base_uri": "https://localhost:8080/"
        }
      },
      "id": "iuEFTVWDnx5J",
      "execution_count": null,
      "outputs": [
        {
          "output_type": "stream",
          "name": "stdout",
          "text": [
            "[[[1 1 1]\n",
            "  [1 1 1]]\n",
            "\n",
            " [[1 1 1]\n",
            "  [1 1 1]]]\n",
            "<class 'numpy.ndarray'>\n",
            "int64\n",
            "(2, 2, 3)\n",
            "3\n",
            "12\n"
          ]
        }
      ]
    },
    {
      "cell_type": "code",
      "source": [
        "#np.full\n",
        "arr = np.full((2,3), np.inf)\n",
        "print(arr)\n",
        "print(type(arr))\n",
        "print(arr.dtype)\n",
        "print(arr.shape)\n",
        "print(arr.ndim)\n",
        "print(arr.size)"
      ],
      "metadata": {
        "id": "PS-PD_L8n5w0",
        "outputId": "4130a538-eb99-4eeb-a7fd-7fd29b1da72f",
        "colab": {
          "base_uri": "https://localhost:8080/"
        }
      },
      "id": "PS-PD_L8n5w0",
      "execution_count": null,
      "outputs": [
        {
          "output_type": "stream",
          "name": "stdout",
          "text": [
            "[[inf inf inf]\n",
            " [inf inf inf]]\n",
            "<class 'numpy.ndarray'>\n",
            "float64\n",
            "(2, 3)\n",
            "2\n",
            "6\n"
          ]
        }
      ]
    },
    {
      "cell_type": "code",
      "source": [
        "#From existing\n",
        "\n",
        "arr = np.full_like(arr3, np.inf, dtype= np.float64)\n",
        "print(arr)\n",
        "print(type(arr))\n",
        "print(arr.dtype)\n",
        "print(arr.shape)\n",
        "print(arr.ndim)\n",
        "print(arr.size)"
      ],
      "metadata": {
        "id": "QEO3DAmyphma",
        "outputId": "9c0a48c8-4120-4e75-93a2-2f133851b5ea",
        "colab": {
          "base_uri": "https://localhost:8080/"
        }
      },
      "id": "QEO3DAmyphma",
      "execution_count": null,
      "outputs": [
        {
          "output_type": "stream",
          "name": "stdout",
          "text": [
            "[[[inf inf inf]\n",
            "  [inf inf inf]]\n",
            "\n",
            " [[inf inf inf]\n",
            "  [inf inf inf]]]\n",
            "<class 'numpy.ndarray'>\n",
            "float64\n",
            "(2, 2, 3)\n",
            "3\n",
            "12\n"
          ]
        }
      ]
    },
    {
      "cell_type": "markdown",
      "source": [
        "# 10.6 ndarray generation with random values"
      ],
      "metadata": {
        "id": "C7n_r0Ig-qoe"
      },
      "id": "C7n_r0Ig-qoe"
    },
    {
      "cell_type": "code",
      "source": [
        "# np.random.rand(shape)\n",
        "import numpy as np\n",
        "arr = np.random.rand(2,3)\n",
        "print(arr)\n",
        "print(type(arr))\n",
        "print(arr.dtype)\n",
        "print(arr.shape)\n",
        "print(arr.ndim)\n",
        "print(arr.size)"
      ],
      "metadata": {
        "colab": {
          "base_uri": "https://localhost:8080/"
        },
        "id": "ct7jVFfU-sTF",
        "outputId": "ebea899e-0e39-45ae-ae17-427e4ebe0549"
      },
      "id": "ct7jVFfU-sTF",
      "execution_count": 7,
      "outputs": [
        {
          "output_type": "stream",
          "name": "stdout",
          "text": [
            "[[0.08659769 0.79005542 0.51483483]\n",
            " [0.44593594 0.67458678 0.00106515]]\n",
            "<class 'numpy.ndarray'>\n",
            "float64\n",
            "(2, 3)\n",
            "2\n",
            "6\n"
          ]
        }
      ]
    },
    {
      "cell_type": "code",
      "source": [
        "# np.random.randint(shape)->integer\n",
        "\n",
        "arr = np.random.randint(1,10, (2,3))\n",
        "print(arr)\n",
        "print(type(arr))\n",
        "print(arr.dtype)\n",
        "print(arr.shape)\n",
        "print(arr.ndim)\n",
        "print(arr.size)"
      ],
      "metadata": {
        "colab": {
          "base_uri": "https://localhost:8080/"
        },
        "id": "bTvSEjGu_zmg",
        "outputId": "58f0cd9a-f762-4dfe-cfa0-d3ad5bc7e4c8"
      },
      "id": "bTvSEjGu_zmg",
      "execution_count": 14,
      "outputs": [
        {
          "output_type": "stream",
          "name": "stdout",
          "text": [
            "[[3 2 3]\n",
            " [1 5 3]]\n",
            "<class 'numpy.ndarray'>\n",
            "int64\n",
            "(2, 3)\n",
            "2\n",
            "6\n"
          ]
        }
      ]
    },
    {
      "cell_type": "code",
      "source": [
        "# np.random.uniform(shape)->float\n",
        "\n",
        "arr = np.random.uniform(50,100, (3,4))\n",
        "print(arr)\n",
        "print(type(arr))\n",
        "print(arr.dtype)\n",
        "print(arr.shape)\n",
        "print(arr.ndim)\n",
        "print(arr.size)"
      ],
      "metadata": {
        "colab": {
          "base_uri": "https://localhost:8080/"
        },
        "id": "XZeheCPTAntG",
        "outputId": "76ceeaff-eccb-466b-b112-8436398ccb89"
      },
      "id": "XZeheCPTAntG",
      "execution_count": 19,
      "outputs": [
        {
          "output_type": "stream",
          "name": "stdout",
          "text": [
            "[[79.32367663 83.67691872 84.25916994 97.18995478]\n",
            " [89.64545479 64.43875825 58.91620059 59.08293872]\n",
            " [77.71483277 61.62782266 92.2973126  86.27962593]]\n",
            "<class 'numpy.ndarray'>\n",
            "float64\n",
            "(3, 4)\n",
            "2\n",
            "12\n"
          ]
        }
      ]
    },
    {
      "cell_type": "markdown",
      "source": [
        "# 10.7 ndarray creation from range"
      ],
      "metadata": {
        "id": "5c0QCEOZB90E"
      },
      "id": "5c0QCEOZB90E"
    },
    {
      "cell_type": "code",
      "source": [
        "#np.arange(first, end, step)->similar to range\n",
        "arr = np.arange(1,10,2)\n",
        "print(arr)\n",
        "print(type(arr))\n",
        "print(arr.dtype)\n",
        "print(arr.shape)\n",
        "print(arr.ndim)\n",
        "print(arr.size)\n"
      ],
      "metadata": {
        "colab": {
          "base_uri": "https://localhost:8080/"
        },
        "id": "Iz-6j7jODT3M",
        "outputId": "0690c2ed-2583-4fab-e703-a92453cabc95"
      },
      "id": "Iz-6j7jODT3M",
      "execution_count": 22,
      "outputs": [
        {
          "output_type": "stream",
          "name": "stdout",
          "text": [
            "[1 3 5 7 9]\n",
            "<class 'numpy.ndarray'>\n",
            "int64\n",
            "(5,)\n",
            "1\n",
            "5\n"
          ]
        }
      ]
    },
    {
      "cell_type": "code",
      "source": [
        "#Mtarix\n",
        "\n",
        "arr = np.arange(1,10,1).reshape(3,3)\n",
        "print(arr)\n",
        "print(type(arr))\n",
        "print(arr.dtype)\n",
        "print(arr.shape)\n",
        "print(arr.ndim)\n",
        "print(arr.size)\n"
      ],
      "metadata": {
        "colab": {
          "base_uri": "https://localhost:8080/"
        },
        "id": "dFP1viBnD6oc",
        "outputId": "f62fc911-db4a-4c65-b95b-5498476df555"
      },
      "id": "dFP1viBnD6oc",
      "execution_count": 23,
      "outputs": [
        {
          "output_type": "stream",
          "name": "stdout",
          "text": [
            "[[1 2 3]\n",
            " [4 5 6]\n",
            " [7 8 9]]\n",
            "<class 'numpy.ndarray'>\n",
            "int64\n",
            "(3, 3)\n",
            "2\n",
            "9\n"
          ]
        }
      ]
    },
    {
      "cell_type": "code",
      "source": [
        "#Linear space\n",
        "arr = np.linspace(1,10,8)\n",
        "print(arr)\n",
        "print(type(arr))\n",
        "print(arr.dtype)\n",
        "print(arr.shape)\n",
        "print(arr.ndim)\n",
        "print(arr.size)\n"
      ],
      "metadata": {
        "colab": {
          "base_uri": "https://localhost:8080/"
        },
        "id": "b1iSKlunEk2l",
        "outputId": "9ec87295-c571-45eb-a28f-b42d2024c1c7"
      },
      "id": "b1iSKlunEk2l",
      "execution_count": 29,
      "outputs": [
        {
          "output_type": "stream",
          "name": "stdout",
          "text": [
            "[ 1.          2.28571429  3.57142857  4.85714286  6.14285714  7.42857143\n",
            "  8.71428571 10.        ]\n",
            "<class 'numpy.ndarray'>\n",
            "float64\n",
            "(8,)\n",
            "1\n",
            "8\n"
          ]
        }
      ]
    },
    {
      "cell_type": "code",
      "source": [
        "# np.logcpace\n",
        "arr = np.logspace(0,4,6, base = 2)\n",
        "print(arr)\n",
        "print(type(arr))\n",
        "print(arr.dtype)\n",
        "print(arr.shape)\n",
        "print(arr.ndim)\n",
        "print(arr.size)\n"
      ],
      "metadata": {
        "colab": {
          "base_uri": "https://localhost:8080/"
        },
        "id": "NjaRGLS4FlXT",
        "outputId": "0f1faa4e-c66a-4db6-a71a-409f3398c99f"
      },
      "id": "NjaRGLS4FlXT",
      "execution_count": 40,
      "outputs": [
        {
          "output_type": "stream",
          "name": "stdout",
          "text": [
            "[ 1.          1.74110113  3.03143313  5.27803164  9.18958684 16.        ]\n",
            "<class 'numpy.ndarray'>\n",
            "float64\n",
            "(6,)\n",
            "1\n",
            "6\n"
          ]
        }
      ]
    },
    {
      "cell_type": "markdown",
      "source": [
        "# 10.8 creating diagonal and identity matrix"
      ],
      "metadata": {
        "id": "A96pL58AHqT0"
      },
      "id": "A96pL58AHqT0"
    },
    {
      "cell_type": "code",
      "source": [
        "#Diagonal Matrix\n",
        "\n",
        "di_ma= np.diag([1,2,3,4])\n",
        "print(di_ma)\n",
        "print(di_ma.shape)"
      ],
      "metadata": {
        "id": "N5HDot1jIqUh",
        "outputId": "0ece487a-ff30-481c-d6aa-c14e1a52622f",
        "colab": {
          "base_uri": "https://localhost:8080/"
        }
      },
      "id": "N5HDot1jIqUh",
      "execution_count": 44,
      "outputs": [
        {
          "output_type": "stream",
          "name": "stdout",
          "text": [
            "[[1 0 0 0]\n",
            " [0 2 0 0]\n",
            " [0 0 3 0]\n",
            " [0 0 0 4]]\n",
            "(4, 4)\n"
          ]
        }
      ]
    },
    {
      "cell_type": "code",
      "source": [
        "#Identity  Matrix\n",
        "id_ma = np.eye(4)\n",
        "print(id_ma)\n",
        "print(id_ma.shape)"
      ],
      "metadata": {
        "id": "3_5692PHJLLN",
        "outputId": "d77d7185-fcd8-43c0-8676-d16e06d5fa87",
        "colab": {
          "base_uri": "https://localhost:8080/"
        }
      },
      "id": "3_5692PHJLLN",
      "execution_count": 46,
      "outputs": [
        {
          "output_type": "stream",
          "name": "stdout",
          "text": [
            "[[1. 0. 0. 0.]\n",
            " [0. 1. 0. 0.]\n",
            " [0. 0. 1. 0.]\n",
            " [0. 0. 0. 1.]]\n",
            "(4, 4)\n"
          ]
        }
      ]
    },
    {
      "cell_type": "code",
      "source": [
        "#np.eye(row, column)\n",
        "id_ma = np.eye(3,4)\n",
        "print(id_ma)\n",
        "print(id_ma.shape)"
      ],
      "metadata": {
        "id": "lC3pnp59Jj-s",
        "outputId": "963764d3-f5c4-4087-cab7-8279f43ef26b",
        "colab": {
          "base_uri": "https://localhost:8080/"
        }
      },
      "id": "lC3pnp59Jj-s",
      "execution_count": 51,
      "outputs": [
        {
          "output_type": "stream",
          "name": "stdout",
          "text": [
            "[[1. 0. 0. 0.]\n",
            " [0. 1. 0. 0.]\n",
            " [0. 0. 1. 0.]]\n",
            "(3, 4)\n"
          ]
        }
      ]
    },
    {
      "cell_type": "code",
      "source": [
        "#np.eye(row, column)\n",
        "id_ma = np.eye(3,4,-1)\n",
        "print(id_ma)\n",
        "print(id_ma.shape)"
      ],
      "metadata": {
        "id": "1Riyh54TJ1Q2",
        "outputId": "1f5d38f6-2af6-4404-8a72-336a027bccb9",
        "colab": {
          "base_uri": "https://localhost:8080/"
        }
      },
      "id": "1Riyh54TJ1Q2",
      "execution_count": 56,
      "outputs": [
        {
          "output_type": "stream",
          "name": "stdout",
          "text": [
            "[[0. 0. 0. 0.]\n",
            " [1. 0. 0. 0.]\n",
            " [0. 1. 0. 0.]]\n",
            "(3, 4)\n"
          ]
        }
      ]
    }
  ],
  "metadata": {
    "kernelspec": {
      "display_name": "Python 3.11 (latest)",
      "language": "python",
      "name": "python-3.11"
    },
    "language_info": {
      "name": "python",
      "version": "3.11.9"
    },
    "colab": {
      "provenance": []
    }
  },
  "nbformat": 4,
  "nbformat_minor": 5
}