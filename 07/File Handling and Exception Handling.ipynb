{
  "cells": [
    {
      "cell_type": "markdown",
      "metadata": {
        "id": "view-in-github",
        "colab_type": "text"
      },
      "source": [
        "<a href=\"https://colab.research.google.com/github/hijbullahx/AI-ML-with-phitron/blob/main/07/File%20Handling%20and%20Exception%20Handling.ipynb\" target=\"_parent\"><img src=\"https://colab.research.google.com/assets/colab-badge.svg\" alt=\"Open In Colab\"/></a>"
      ]
    },
    {
      "cell_type": "markdown",
      "id": "b3643378",
      "metadata": {
        "id": "b3643378"
      },
      "source": [
        "### 1.File\n",
        "\n",
        "### 2.File read, write and append\n",
        "\n",
        "### 3.File pointer and cursor\n",
        "\n",
        "### 4.Problem Soloving on files\n",
        "\n",
        "### 5.Exception\n",
        "\n",
        "### 6.Excaption handling with block"
      ]
    },
    {
      "cell_type": "markdown",
      "id": "0b366c84",
      "metadata": {
        "id": "0b366c84"
      },
      "source": [
        "# 7.1 File Handling Basics"
      ]
    },
    {
      "cell_type": "markdown",
      "id": "5521fa25",
      "metadata": {
        "id": "5521fa25"
      },
      "source": [
        "# 7.2 File Read"
      ]
    },
    {
      "cell_type": "code",
      "execution_count": null,
      "id": "c77ea944",
      "metadata": {
        "colab": {
          "base_uri": "https://localhost:8080/"
        },
        "id": "c77ea944",
        "outputId": "d2c14b67-b413-4db7-f0a5-19d93db9321a"
      },
      "outputs": [
        {
          "output_type": "stream",
          "name": "stdout",
          "text": [
            "Hello World\n",
            "Welcome \n",
            "Md. Taher Bin Omar Hijbullah\n",
            "<class 'str'>\n"
          ]
        }
      ],
      "source": [
        "file = open(\"./sample_data/sample.txt\", \"r\")\n",
        "content = file.read()\n",
        "print(content)\n",
        "print(type(content))"
      ]
    },
    {
      "cell_type": "code",
      "source": [
        "#Showing the content line by line\n",
        "file = open(\"./sample_data/sample.txt\", \"r\")\n",
        "content = file.readlines()\n",
        "\n",
        "content = list(map(str.strip, content))\n",
        "\n",
        "filter_content = list(filter(lambda x : len(x)>0, content))\n",
        "print(content)\n",
        "print(type(content))\n",
        "print(filter_content)\n",
        "\n"
      ],
      "metadata": {
        "id": "0TLXWHznQEtU",
        "outputId": "bb6ded24-4ab1-46aa-ad5c-448873b4d5fa",
        "colab": {
          "base_uri": "https://localhost:8080/"
        }
      },
      "id": "0TLXWHznQEtU",
      "execution_count": null,
      "outputs": [
        {
          "output_type": "stream",
          "name": "stdout",
          "text": [
            "['Hello World', 'Welcome', 'Md. Taher Bin Omar Hijbullah', '', '']\n",
            "<class 'list'>\n",
            "['Hello World', 'Welcome', 'Md. Taher Bin Omar Hijbullah']\n"
          ]
        }
      ]
    },
    {
      "cell_type": "code",
      "source": [
        "from google.colab import drive\n",
        "drive.mount('/content/drive')"
      ],
      "metadata": {
        "id": "qhdRBAvDPArX"
      },
      "id": "qhdRBAvDPArX",
      "execution_count": null,
      "outputs": []
    },
    {
      "cell_type": "code",
      "source": [
        "#Closing a file\n",
        "print(file.closed)\n",
        "\n",
        "file.close()\n",
        "print(file.closed)"
      ],
      "metadata": {
        "id": "Us0Fk5i2Q6r8",
        "outputId": "b33082d4-4818-4630-a280-f91b2077750b",
        "colab": {
          "base_uri": "https://localhost:8080/"
        }
      },
      "id": "Us0Fk5i2Q6r8",
      "execution_count": null,
      "outputs": [
        {
          "output_type": "stream",
          "name": "stdout",
          "text": [
            "False\n",
            "True\n"
          ]
        }
      ]
    },
    {
      "cell_type": "code",
      "source": [
        "#With key closes the file wfter done it's work\n",
        "with open(\"./sample_data/sample.txt\", \"r\") as file:\n",
        "  content = file.readlines()\n",
        "  print(content)\n",
        "\n",
        "\n",
        "print(file.closed)"
      ],
      "metadata": {
        "id": "zJXk2w1fR2F4",
        "outputId": "14b90c24-d923-4f87-960b-00313f3babae",
        "colab": {
          "base_uri": "https://localhost:8080/"
        }
      },
      "id": "zJXk2w1fR2F4",
      "execution_count": null,
      "outputs": [
        {
          "output_type": "stream",
          "name": "stdout",
          "text": [
            "['Hello World\\n', 'Welcome \\n', 'Md. Taher Bin Omar Hijbullah']\n",
            "True\n"
          ]
        }
      ]
    },
    {
      "cell_type": "code",
      "source": [
        "#display content without list\n",
        "with open(\"./sample_data/sample.txt\", \"r\") as file:\n",
        "  for line in file:\n",
        "    l = line.strip()\n",
        "    print(l)\n"
      ],
      "metadata": {
        "id": "WTqin9uaSiJr",
        "outputId": "ec260447-89aa-4608-dd7c-67272a9089cf",
        "colab": {
          "base_uri": "https://localhost:8080/"
        }
      },
      "id": "WTqin9uaSiJr",
      "execution_count": null,
      "outputs": [
        {
          "output_type": "stream",
          "name": "stdout",
          "text": [
            "Hello World\n",
            "Welcome\n",
            "Md. Taher Bin Omar Hijbullah\n"
          ]
        }
      ]
    },
    {
      "cell_type": "markdown",
      "source": [
        "# 7.3 File Write and Append"
      ],
      "metadata": {
        "id": "tLQfPwkyLCYY"
      },
      "id": "tLQfPwkyLCYY"
    },
    {
      "cell_type": "code",
      "source": [
        "# Creating a new file and writing there\n",
        "with open(\"./sample_data/test.txt\", \"w\") as file:\n",
        "  file.write(\"Hi\\n\")\n",
        "  file.write(\"Md. Taher Bin Omar Hijbullah\")\n"
      ],
      "metadata": {
        "id": "Au-GwY4aLSFK"
      },
      "id": "Au-GwY4aLSFK",
      "execution_count": null,
      "outputs": []
    },
    {
      "cell_type": "code",
      "source": [
        "# Writing on a exisiting file\n",
        "#It overwrites the file.\n",
        "\n",
        "with open(\"./sample_data/test.txt\", \"w\") as file:\n",
        "  file.write(\"Hi\\n\")\n",
        "  file.write(\"Omar Hijbullah\\n\")\n"
      ],
      "metadata": {
        "id": "IfDVmYpgMoH1"
      },
      "id": "IfDVmYpgMoH1",
      "execution_count": null,
      "outputs": []
    },
    {
      "cell_type": "code",
      "source": [
        "#No overwriting, just append\n",
        "\n",
        "# Creating a new file and writing there\n",
        "with open(\"./sample_data/test.txt\", \"a\") as file:\n",
        "  file.write(\"I am Enjoying the calasse,\\n\")\n",
        "  file.write(\"Just kidding\")\n"
      ],
      "metadata": {
        "id": "o5_B6CetM92p"
      },
      "id": "o5_B6CetM92p",
      "execution_count": null,
      "outputs": []
    },
    {
      "cell_type": "code",
      "source": [
        "strings = [\"Hijbullah\", \"Hi\", \"Kemon acho\"]\n",
        "with open(\"./sample_data/test2.txt\", \"a\") as file:\n",
        "  file.writelines(strings)"
      ],
      "metadata": {
        "id": "Nn4LIXEdUC6c"
      },
      "id": "Nn4LIXEdUC6c",
      "execution_count": null,
      "outputs": []
    },
    {
      "cell_type": "markdown",
      "source": [
        "# 7.4 File Pointer"
      ],
      "metadata": {
        "id": "CMacMXzFVH5D"
      },
      "id": "CMacMXzFVH5D"
    },
    {
      "cell_type": "code",
      "source": [
        "with open(\"./sample_data/test.txt\", \"r\") as file:\n",
        "  print(file.tell())\n",
        "  print(file.read())\n",
        "  print(file.tell())\n",
        "  print(file.read()) #Starts read from last index"
      ],
      "metadata": {
        "colab": {
          "base_uri": "https://localhost:8080/"
        },
        "id": "GvFhjgRgoPwx",
        "outputId": "c048b1fc-78f6-45bc-b88b-3f1967d61be7"
      },
      "id": "GvFhjgRgoPwx",
      "execution_count": null,
      "outputs": [
        {
          "output_type": "stream",
          "name": "stdout",
          "text": [
            "0\n",
            "Hi\n",
            "2\n",
            "\n"
          ]
        }
      ]
    },
    {
      "cell_type": "code",
      "source": [
        "with open(\"./sample_data/test.txt\", \"r\") as file:\n",
        "  print(file.tell())\n",
        "  print(file.read(5))\n",
        "  print(file.tell())\n",
        "\n",
        "  print(file.read())\n",
        "  print(file.tell())"
      ],
      "metadata": {
        "colab": {
          "base_uri": "https://localhost:8080/"
        },
        "id": "b1fE9qjoqLCh",
        "outputId": "3cc9cb4b-0b3b-481d-fd8f-55bb6f5a56d9"
      },
      "id": "b1fE9qjoqLCh",
      "execution_count": null,
      "outputs": [
        {
          "output_type": "stream",
          "name": "stdout",
          "text": [
            "0\n",
            "Md. T\n",
            "5\n",
            "aher Bin Omar Hijbullah\n",
            "28\n"
          ]
        }
      ]
    },
    {
      "cell_type": "code",
      "source": [
        "with open(\"./sample_data/test.txt\", \"r\") as file:\n",
        "  print(file.tell())\n",
        "  file.seek(5)\n",
        "  print(file.tell())\n",
        "  print(file.read())\n",
        "  file.seek(0)\n",
        "  print(file.tell())"
      ],
      "metadata": {
        "colab": {
          "base_uri": "https://localhost:8080/"
        },
        "id": "hmoNvPxGrQzi",
        "outputId": "583419b8-5430-4077-a524-59f8679ae8e6"
      },
      "id": "hmoNvPxGrQzi",
      "execution_count": null,
      "outputs": [
        {
          "output_type": "stream",
          "name": "stdout",
          "text": [
            "0\n",
            "5\n",
            "aher Bin Omar Hijbullah\n",
            "0\n"
          ]
        }
      ]
    },
    {
      "cell_type": "markdown",
      "source": [
        "# 7.5 Practice Problems on File"
      ],
      "metadata": {
        "id": "QYhi-wy4sgGR"
      },
      "id": "QYhi-wy4sgGR"
    },
    {
      "cell_type": "markdown",
      "source": [
        "## Pracice 1\n",
        "Get the text from sample.txt , and count the following\n",
        "\n",
        "Number of lines\n",
        "\n",
        "Number of words\n",
        "\n",
        "Number of characters\n",
        "\n",
        "and save it to the counter_of_string.txt file"
      ],
      "metadata": {
        "id": "QP0So2xZs-fx"
      },
      "id": "QP0So2xZs-fx"
    },
    {
      "cell_type": "code",
      "source": [
        "# Number of lines\n",
        "with open(\"./sample_data/sample.txt\", \"r\") as file:\n",
        "  strings = file.readlines()\n",
        "  print(strings)\n",
        "\n",
        "  total_line = len(strings)\n",
        "  print(total_line)"
      ],
      "metadata": {
        "colab": {
          "base_uri": "https://localhost:8080/"
        },
        "id": "uqHANkFEW2cF",
        "outputId": "2e0107cc-f7b1-4e2e-8664-7fa48f8636a1"
      },
      "id": "uqHANkFEW2cF",
      "execution_count": null,
      "outputs": [
        {
          "output_type": "stream",
          "name": "stdout",
          "text": [
            "['Hi\\n', \"I'm Md. Taher Bin Omar Hijbullah\\n\", 'Thank you']\n",
            "3\n"
          ]
        }
      ]
    },
    {
      "cell_type": "code",
      "source": [
        "# Total words\n",
        "from functools import reduce\n",
        "with open(\"./sample_data/sample.txt\", \"r\") as file:\n",
        "  strings = file.readlines()\n",
        "\n",
        "  print(strings)\n",
        "\n",
        "  total_lines = len(strings)\n",
        "  print(total_lines)\n",
        "\n",
        "  # total word\n",
        "  nUmber_words = list(map(lambda x : len(x.split()), strings))\n",
        "  print(nUmber_words)\n",
        "  #Number of words\n",
        "  tota_num_words = reduce(lambda x,y : x+y , nUmber_words)\n",
        "  print(tota_num_words)\n"
      ],
      "metadata": {
        "id": "EnmGTS_rYcAI",
        "colab": {
          "base_uri": "https://localhost:8080/"
        },
        "outputId": "40a73815-4eaf-4151-d8f8-60f9691e5c78"
      },
      "id": "EnmGTS_rYcAI",
      "execution_count": null,
      "outputs": [
        {
          "output_type": "stream",
          "name": "stdout",
          "text": [
            "['Hello\\n', \"I'm Md. Taher Bin Omar Hijbullah\\n\", \"I'm from Narsingdi \"]\n",
            "3\n",
            "[1, 6, 3]\n",
            "10\n"
          ]
        }
      ]
    },
    {
      "cell_type": "code",
      "source": [
        "#Number of characters\n",
        "print(strings)\n",
        "\n",
        "#Cleaning Process/ preprocess\n",
        "#Delete new line\n",
        "strings_list = list(map(str.strip,strings))\n",
        "\n",
        "#Delete space\n",
        "\n",
        "strings_list = list(map(lambda x : x.replace(\" \",\"\"), strings_list))\n",
        "print(strings_list)\n",
        "\n",
        "#How many characters\n",
        "num_ch = list(map(lambda x: len(x), strings_list))\n",
        "print(num_ch)\n",
        "\n",
        "total_num_ch = reduce(lambda x,y :x+y, num_ch)\n",
        "print(total_num_ch)\n",
        "\n"
      ],
      "metadata": {
        "colab": {
          "base_uri": "https://localhost:8080/"
        },
        "id": "yMH4QnqXSgKn",
        "outputId": "a03e5d31-9eb1-4b68-8c27-dd5c6ca690e5"
      },
      "id": "yMH4QnqXSgKn",
      "execution_count": null,
      "outputs": [
        {
          "output_type": "stream",
          "name": "stdout",
          "text": [
            "['Hello\\n', \"I'm Md. Taher Bin Omar Hijbullah\\n\", \"I'm from Narsingdi \"]\n",
            "['Hello', \"I'mMd.TaherBinOmarHijbullah\", \"I'mfromNarsingdi\"]\n",
            "[5, 27, 16]\n",
            "48\n"
          ]
        }
      ]
    },
    {
      "cell_type": "code",
      "source": [
        "# save it to the counter_of_string.txt file\n",
        "with open(\"./sample_data/counter_of_string.txt\", \"w\") as file:\n",
        "  file.write(f\"Total Lines :{total_lines}\\nTotal Number of Words : {tota_num_words}\\nTotal Number of Characters: {total_num_ch}\")"
      ],
      "metadata": {
        "id": "ww2EWUSOWOmY"
      },
      "id": "ww2EWUSOWOmY",
      "execution_count": null,
      "outputs": []
    },
    {
      "cell_type": "markdown",
      "source": [
        "## Write and Read with one open"
      ],
      "metadata": {
        "id": "iPn0Lpd8X_B7"
      },
      "id": "iPn0Lpd8X_B7"
    },
    {
      "cell_type": "code",
      "source": [
        "with open(\"./sample_data/write_read.txt\", \"w+\") as file:\n",
        "  file.write(\"Md. Taher Bin Omar Hijbullah\")\n",
        "\n",
        "  print(file.tell())\n",
        "\n",
        "  file.seek(0)\n",
        "  print(file.tell())\n",
        "\n",
        "  print(file.read())\n",
        "\n",
        "  file.truncate(5)\n",
        "\n",
        "  file.seek(0)\n",
        "\n",
        "  print(file.read())\n"
      ],
      "metadata": {
        "id": "pARmSgouYKmh",
        "outputId": "a4f2feec-fc06-4074-9cd3-3b6cacfcc964",
        "colab": {
          "base_uri": "https://localhost:8080/"
        }
      },
      "id": "pARmSgouYKmh",
      "execution_count": null,
      "outputs": [
        {
          "output_type": "stream",
          "name": "stdout",
          "text": [
            "28\n",
            "0\n",
            "Md. Taher Bin Omar Hijbullah\n",
            "Md. T\n"
          ]
        }
      ]
    },
    {
      "cell_type": "markdown",
      "source": [
        "# 7.6 Exceptions and why handling them\n"
      ],
      "metadata": {
        "id": "VEkNhYZOSgX-"
      },
      "id": "VEkNhYZOSgX-"
    },
    {
      "cell_type": "markdown",
      "source": [
        "# 7.7 Try Except , Else and Finally Block"
      ],
      "metadata": {
        "id": "GrlBdx5mcyB_"
      },
      "id": "GrlBdx5mcyB_"
    },
    {
      "cell_type": "code",
      "source": [
        "#Division by Zero Error\n",
        "n = int(input())\n",
        "\n",
        "try:\n",
        "  a = 10/n\n",
        "  print(a)\n",
        "except ZeroDivisionError:\n",
        "  print(\"You can't divide a number by 0\")\n",
        "\n",
        "print(\"Works Perfect lyrics\")\n"
      ],
      "metadata": {
        "id": "9WHkQjTxc1jJ",
        "outputId": "cde19104-d877-41af-9bad-463f5b392460",
        "colab": {
          "base_uri": "https://localhost:8080/"
        }
      },
      "id": "9WHkQjTxc1jJ",
      "execution_count": 6,
      "outputs": [
        {
          "output_type": "stream",
          "name": "stdout",
          "text": [
            "4\n",
            "2.5\n",
            "Works Perfect lyrics\n"
          ]
        }
      ]
    },
    {
      "cell_type": "code",
      "source": [
        "#NameError\n",
        "try:\n",
        "  x = y\n",
        "except NameError as ne:\n",
        "  print(ne)\n",
        "\n",
        "\n",
        "print(\"HI\")"
      ],
      "metadata": {
        "id": "mVvVil1Nev6x",
        "outputId": "3b092a70-24a2-4642-fffc-629da64c84c3",
        "colab": {
          "base_uri": "https://localhost:8080/"
        }
      },
      "id": "mVvVil1Nev6x",
      "execution_count": 8,
      "outputs": [
        {
          "output_type": "stream",
          "name": "stdout",
          "text": [
            "name 'y' is not defined\n",
            "HI\n"
          ]
        }
      ]
    },
    {
      "cell_type": "code",
      "source": [
        "from logging import exception\n",
        "#Model Train\n",
        "\n",
        "try:\n",
        "  file = open(\"./sample_data/data1.txt\", \"r\")\n",
        "except Exception as e:\n",
        "  print(e)\n",
        "else:\n",
        "  print(file.read())\n",
        "\n",
        "\n",
        "finally:\n",
        "  print(\"Stoped\")\n"
      ],
      "metadata": {
        "id": "0C3SWH2cf7h9",
        "outputId": "91b4f9a6-dc3a-446e-dbb5-3a46b460a80a",
        "colab": {
          "base_uri": "https://localhost:8080/"
        }
      },
      "id": "0C3SWH2cf7h9",
      "execution_count": 17,
      "outputs": [
        {
          "output_type": "stream",
          "name": "stdout",
          "text": [
            "[Errno 2] No such file or directory: './sample_data/data1.txt'\n",
            "Stoped\n"
          ]
        }
      ]
    }
  ],
  "metadata": {
    "kernelspec": {
      "display_name": "Python 3.11 (latest)",
      "language": "python",
      "name": "python-3.11"
    },
    "language_info": {
      "name": "python",
      "version": "3.11.9"
    },
    "colab": {
      "provenance": [],
      "include_colab_link": true
    }
  },
  "nbformat": 4,
  "nbformat_minor": 5
}