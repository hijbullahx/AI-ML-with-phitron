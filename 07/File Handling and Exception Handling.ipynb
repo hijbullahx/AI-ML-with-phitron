{
  "cells": [
    {
      "cell_type": "markdown",
      "id": "b3643378",
      "metadata": {
        "id": "b3643378"
      },
      "source": [
        "### 1.File\n",
        "\n",
        "### 2.File read, write and append\n",
        "\n",
        "### 3.File pointer and cursor\n",
        "\n",
        "### 4.Problem Soloving on files\n",
        "\n",
        "### 5.Exception\n",
        "\n",
        "### 6.Excaption handling with block"
      ]
    },
    {
      "cell_type": "markdown",
      "id": "0b366c84",
      "metadata": {
        "id": "0b366c84"
      },
      "source": [
        "# 7.1 File Handling Basics"
      ]
    },
    {
      "cell_type": "markdown",
      "id": "5521fa25",
      "metadata": {
        "id": "5521fa25"
      },
      "source": [
        "# 7.2 File Read"
      ]
    },
    {
      "cell_type": "code",
      "execution_count": null,
      "id": "c77ea944",
      "metadata": {
        "id": "c77ea944"
      },
      "outputs": [],
      "source": [
        "file = open(\"sample.txt\", \"r\")\n",
        "\n"
      ]
    }
  ],
  "metadata": {
    "kernelspec": {
      "display_name": "Python 3.11 (latest)",
      "language": "python",
      "name": "python-3.11"
    },
    "language_info": {
      "name": "python",
      "version": "3.11.9"
    },
    "colab": {
      "provenance": []
    }
  },
  "nbformat": 4,
  "nbformat_minor": 5
}