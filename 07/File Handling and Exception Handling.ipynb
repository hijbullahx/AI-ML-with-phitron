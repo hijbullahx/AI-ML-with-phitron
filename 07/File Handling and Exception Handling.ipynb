{
  "cells": [
    {
      "cell_type": "markdown",
      "metadata": {
        "id": "view-in-github",
        "colab_type": "text"
      },
      "source": [
        "<a href=\"https://colab.research.google.com/github/hijbullahx/AI-ML-with-phitron/blob/main/07/File%20Handling%20and%20Exception%20Handling.ipynb\" target=\"_parent\"><img src=\"https://colab.research.google.com/assets/colab-badge.svg\" alt=\"Open In Colab\"/></a>"
      ]
    },
    {
      "cell_type": "markdown",
      "id": "b3643378",
      "metadata": {
        "id": "b3643378"
      },
      "source": [
        "### 1.File\n",
        "\n",
        "### 2.File read, write and append\n",
        "\n",
        "### 3.File pointer and cursor\n",
        "\n",
        "### 4.Problem Soloving on files\n",
        "\n",
        "### 5.Exception\n",
        "\n",
        "### 6.Excaption handling with block"
      ]
    },
    {
      "cell_type": "markdown",
      "id": "0b366c84",
      "metadata": {
        "id": "0b366c84"
      },
      "source": [
        "# 7.1 File Handling Basics"
      ]
    },
    {
      "cell_type": "markdown",
      "id": "5521fa25",
      "metadata": {
        "id": "5521fa25"
      },
      "source": [
        "# 7.2 File Read"
      ]
    },
    {
      "cell_type": "code",
      "execution_count": 4,
      "id": "c77ea944",
      "metadata": {
        "colab": {
          "base_uri": "https://localhost:8080/"
        },
        "id": "c77ea944",
        "outputId": "d2c14b67-b413-4db7-f0a5-19d93db9321a"
      },
      "outputs": [
        {
          "output_type": "stream",
          "name": "stdout",
          "text": [
            "Hello World\n",
            "Welcome \n",
            "Md. Taher Bin Omar Hijbullah\n",
            "<class 'str'>\n"
          ]
        }
      ],
      "source": [
        "file = open(\"./sample_data/sample.txt\", \"r\")\n",
        "content = file.read()\n",
        "print(content)\n",
        "print(type(content))"
      ]
    },
    {
      "cell_type": "code",
      "source": [
        "#Showing the content line by line\n",
        "file = open(\"./sample_data/sample.txt\", \"r\")\n",
        "content = file.readlines()\n",
        "print(content)\n",
        "print(type(content))\n",
        "\n"
      ],
      "metadata": {
        "id": "0TLXWHznQEtU",
        "outputId": "12cc0b3d-8c24-4007-b05a-d6024bd0c216",
        "colab": {
          "base_uri": "https://localhost:8080/"
        }
      },
      "id": "0TLXWHznQEtU",
      "execution_count": 6,
      "outputs": [
        {
          "output_type": "stream",
          "name": "stdout",
          "text": [
            "['Hello World\\n', 'Welcome \\n', 'Md. Taher Bin Omar Hijbullah']\n",
            "<class 'list'>\n"
          ]
        }
      ]
    },
    {
      "cell_type": "code",
      "source": [
        "#Closing a file\n",
        "print(file.closed)\n",
        "\n",
        "file.close()\n",
        "print(file.closed)"
      ],
      "metadata": {
        "id": "Us0Fk5i2Q6r8",
        "outputId": "b33082d4-4818-4630-a280-f91b2077750b",
        "colab": {
          "base_uri": "https://localhost:8080/"
        }
      },
      "id": "Us0Fk5i2Q6r8",
      "execution_count": 8,
      "outputs": [
        {
          "output_type": "stream",
          "name": "stdout",
          "text": [
            "False\n",
            "True\n"
          ]
        }
      ]
    },
    {
      "cell_type": "code",
      "source": [
        "#With key closes the file wfter done it's work\n",
        "with open(\"./sample_data/sample.txt\", \"r\") as file:\n",
        "  content = file.readlines()\n",
        "  print(content)\n",
        "\n",
        "\n",
        "print(file.closed)"
      ],
      "metadata": {
        "id": "zJXk2w1fR2F4",
        "outputId": "14b90c24-d923-4f87-960b-00313f3babae",
        "colab": {
          "base_uri": "https://localhost:8080/"
        }
      },
      "id": "zJXk2w1fR2F4",
      "execution_count": 9,
      "outputs": [
        {
          "output_type": "stream",
          "name": "stdout",
          "text": [
            "['Hello World\\n', 'Welcome \\n', 'Md. Taher Bin Omar Hijbullah']\n",
            "True\n"
          ]
        }
      ]
    },
    {
      "cell_type": "code",
      "source": [
        "#display content without list\n",
        "with open(\"./sample_data/sample.txt\", \"r\") as file:\n",
        "  for line in file:\n",
        "    l = line.strip()\n",
        "    print(l)\n"
      ],
      "metadata": {
        "id": "WTqin9uaSiJr",
        "outputId": "ec260447-89aa-4608-dd7c-67272a9089cf",
        "colab": {
          "base_uri": "https://localhost:8080/"
        }
      },
      "id": "WTqin9uaSiJr",
      "execution_count": 14,
      "outputs": [
        {
          "output_type": "stream",
          "name": "stdout",
          "text": [
            "Hello World\n",
            "Welcome\n",
            "Md. Taher Bin Omar Hijbullah\n"
          ]
        }
      ]
    }
  ],
  "metadata": {
    "kernelspec": {
      "display_name": "Python 3.11 (latest)",
      "language": "python",
      "name": "python-3.11"
    },
    "language_info": {
      "name": "python",
      "version": "3.11.9"
    },
    "colab": {
      "provenance": [],
      "include_colab_link": true
    }
  },
  "nbformat": 4,
  "nbformat_minor": 5
}