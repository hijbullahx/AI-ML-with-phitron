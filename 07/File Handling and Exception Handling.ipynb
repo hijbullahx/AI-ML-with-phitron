{
  "cells": [
    {
      "cell_type": "markdown",
      "id": "b3643378",
      "metadata": {
        "id": "b3643378"
      },
      "source": [
        "### 1.File\n",
        "\n",
        "### 2.File read, write and append\n",
        "\n",
        "### 3.File pointer and cursor\n",
        "\n",
        "### 4.Problem Soloving on files\n",
        "\n",
        "### 5.Exception\n",
        "\n",
        "### 6.Excaption handling with block"
      ]
    },
    {
      "cell_type": "markdown",
      "id": "0b366c84",
      "metadata": {
        "id": "0b366c84"
      },
      "source": [
        "# 7.1 File Handling Basics"
      ]
    },
    {
      "cell_type": "markdown",
      "id": "5521fa25",
      "metadata": {
        "id": "5521fa25"
      },
      "source": [
        "# 7.2 File Read"
      ]
    },
    {
      "cell_type": "code",
      "execution_count": null,
      "id": "c77ea944",
      "metadata": {
        "colab": {
          "base_uri": "https://localhost:8080/"
        },
        "id": "c77ea944",
        "outputId": "d2c14b67-b413-4db7-f0a5-19d93db9321a"
      },
      "outputs": [
        {
          "output_type": "stream",
          "name": "stdout",
          "text": [
            "Hello World\n",
            "Welcome \n",
            "Md. Taher Bin Omar Hijbullah\n",
            "<class 'str'>\n"
          ]
        }
      ],
      "source": [
        "file = open(\"./sample_data/sample.txt\", \"r\")\n",
        "content = file.read()\n",
        "print(content)\n",
        "print(type(content))"
      ]
    },
    {
      "cell_type": "code",
      "source": [
        "#Showing the content line by line\n",
        "file = open(\"./sample_data/sample.txt\", \"r\")\n",
        "content = file.readlines()\n",
        "\n",
        "content = list(map(str.strip, content))\n",
        "\n",
        "filter_content = list(filter(lambda x : len(x)>0, content))\n",
        "print(content)\n",
        "print(type(content))\n",
        "print(filter_content)\n",
        "\n"
      ],
      "metadata": {
        "id": "0TLXWHznQEtU",
        "outputId": "bb6ded24-4ab1-46aa-ad5c-448873b4d5fa",
        "colab": {
          "base_uri": "https://localhost:8080/"
        }
      },
      "id": "0TLXWHznQEtU",
      "execution_count": 11,
      "outputs": [
        {
          "output_type": "stream",
          "name": "stdout",
          "text": [
            "['Hello World', 'Welcome', 'Md. Taher Bin Omar Hijbullah', '', '']\n",
            "<class 'list'>\n",
            "['Hello World', 'Welcome', 'Md. Taher Bin Omar Hijbullah']\n"
          ]
        }
      ]
    },
    {
      "cell_type": "code",
      "source": [
        "#Closing a file\n",
        "print(file.closed)\n",
        "\n",
        "file.close()\n",
        "print(file.closed)"
      ],
      "metadata": {
        "id": "Us0Fk5i2Q6r8",
        "outputId": "b33082d4-4818-4630-a280-f91b2077750b",
        "colab": {
          "base_uri": "https://localhost:8080/"
        }
      },
      "id": "Us0Fk5i2Q6r8",
      "execution_count": null,
      "outputs": [
        {
          "output_type": "stream",
          "name": "stdout",
          "text": [
            "False\n",
            "True\n"
          ]
        }
      ]
    },
    {
      "cell_type": "code",
      "source": [
        "#With key closes the file wfter done it's work\n",
        "with open(\"./sample_data/sample.txt\", \"r\") as file:\n",
        "  content = file.readlines()\n",
        "  print(content)\n",
        "\n",
        "\n",
        "print(file.closed)"
      ],
      "metadata": {
        "id": "zJXk2w1fR2F4",
        "outputId": "14b90c24-d923-4f87-960b-00313f3babae",
        "colab": {
          "base_uri": "https://localhost:8080/"
        }
      },
      "id": "zJXk2w1fR2F4",
      "execution_count": null,
      "outputs": [
        {
          "output_type": "stream",
          "name": "stdout",
          "text": [
            "['Hello World\\n', 'Welcome \\n', 'Md. Taher Bin Omar Hijbullah']\n",
            "True\n"
          ]
        }
      ]
    },
    {
      "cell_type": "code",
      "source": [
        "#display content without list\n",
        "with open(\"./sample_data/sample.txt\", \"r\") as file:\n",
        "  for line in file:\n",
        "    l = line.strip()\n",
        "    print(l)\n"
      ],
      "metadata": {
        "id": "WTqin9uaSiJr",
        "outputId": "ec260447-89aa-4608-dd7c-67272a9089cf",
        "colab": {
          "base_uri": "https://localhost:8080/"
        }
      },
      "id": "WTqin9uaSiJr",
      "execution_count": null,
      "outputs": [
        {
          "output_type": "stream",
          "name": "stdout",
          "text": [
            "Hello World\n",
            "Welcome\n",
            "Md. Taher Bin Omar Hijbullah\n"
          ]
        }
      ]
    },
    {
      "cell_type": "markdown",
      "source": [
        "# 7.3 File Write and Append"
      ],
      "metadata": {
        "id": "tLQfPwkyLCYY"
      },
      "id": "tLQfPwkyLCYY"
    },
    {
      "cell_type": "code",
      "source": [
        "# Creating a new file and writing there\n",
        "with open(\"./sample_data/test.txt\", \"w\") as file:\n",
        "  file.write(\"Hi\\n\")\n",
        "  file.write(\"Md. Taher Bin Omar Hijbullah\")\n"
      ],
      "metadata": {
        "id": "Au-GwY4aLSFK"
      },
      "id": "Au-GwY4aLSFK",
      "execution_count": 2,
      "outputs": []
    },
    {
      "cell_type": "code",
      "source": [
        "# Writing on a exisiting file\n",
        "#It overwrites the file.\n",
        "\n",
        "with open(\"./sample_data/test.txt\", \"w\") as file:\n",
        "  file.write(\"Hi\\n\")\n",
        "  file.write(\"Omar Hijbullah\\n\")\n"
      ],
      "metadata": {
        "id": "IfDVmYpgMoH1"
      },
      "id": "IfDVmYpgMoH1",
      "execution_count": 5,
      "outputs": []
    },
    {
      "cell_type": "code",
      "source": [
        "#No overwriting, just append\n",
        "\n",
        "# Creating a new file and writing there\n",
        "with open(\"./sample_data/test.txt\", \"a\") as file:\n",
        "  file.write(\"I am Enjoying the calasse,\\n\")\n",
        "  file.write(\"Just kidding\")\n"
      ],
      "metadata": {
        "id": "o5_B6CetM92p"
      },
      "id": "o5_B6CetM92p",
      "execution_count": 6,
      "outputs": []
    },
    {
      "cell_type": "code",
      "source": [
        "strings = [\"Hijbullah\", \"Hi\", \"Kemon acho\"]\n",
        "with open(\"./sample_data/test2.txt\", \"a\") as file:\n",
        "  file.writelines(strings)"
      ],
      "metadata": {
        "id": "Nn4LIXEdUC6c"
      },
      "id": "Nn4LIXEdUC6c",
      "execution_count": 15,
      "outputs": []
    },
    {
      "cell_type": "markdown",
      "source": [
        "# 7.4 File Pointer"
      ],
      "metadata": {
        "id": "CMacMXzFVH5D"
      },
      "id": "CMacMXzFVH5D"
    },
    {
      "cell_type": "code",
      "source": [
        "with open(\"./sample_data/test.txt\", \"r\") as file:\n",
        "  print(file.tell())\n",
        "  print(file.read())\n",
        "  print(file.tell())\n",
        "  print(file.read()) #Starts read from last index"
      ],
      "metadata": {
        "colab": {
          "base_uri": "https://localhost:8080/"
        },
        "id": "GvFhjgRgoPwx",
        "outputId": "c048b1fc-78f6-45bc-b88b-3f1967d61be7"
      },
      "id": "GvFhjgRgoPwx",
      "execution_count": 5,
      "outputs": [
        {
          "output_type": "stream",
          "name": "stdout",
          "text": [
            "0\n",
            "Hi\n",
            "2\n",
            "\n"
          ]
        }
      ]
    },
    {
      "cell_type": "code",
      "source": [
        "with open(\"./sample_data/test.txt\", \"r\") as file:\n",
        "  print(file.tell())\n",
        "  print(file.read(5))\n",
        "  print(file.tell())\n",
        "\n",
        "  print(file.read())\n",
        "  print(file.tell())"
      ],
      "metadata": {
        "id": "b1fE9qjoqLCh",
        "outputId": "3cc9cb4b-0b3b-481d-fd8f-55bb6f5a56d9",
        "colab": {
          "base_uri": "https://localhost:8080/"
        }
      },
      "id": "b1fE9qjoqLCh",
      "execution_count": 8,
      "outputs": [
        {
          "output_type": "stream",
          "name": "stdout",
          "text": [
            "0\n",
            "Md. T\n",
            "5\n",
            "aher Bin Omar Hijbullah\n",
            "28\n"
          ]
        }
      ]
    },
    {
      "cell_type": "code",
      "source": [
        "with open(\"./sample_data/test.txt\", \"r\") as file:\n",
        "  print(file.tell())\n",
        "  file.seek(5)\n",
        "  print(file.tell())\n",
        "  print(file.read())\n",
        "  file.seek(0)\n",
        "  print(file.tell())"
      ],
      "metadata": {
        "id": "hmoNvPxGrQzi",
        "outputId": "583419b8-5430-4077-a524-59f8679ae8e6",
        "colab": {
          "base_uri": "https://localhost:8080/"
        }
      },
      "id": "hmoNvPxGrQzi",
      "execution_count": 12,
      "outputs": [
        {
          "output_type": "stream",
          "name": "stdout",
          "text": [
            "0\n",
            "5\n",
            "aher Bin Omar Hijbullah\n",
            "0\n"
          ]
        }
      ]
    }
  ],
  "metadata": {
    "kernelspec": {
      "display_name": "Python 3.11 (latest)",
      "language": "python",
      "name": "python-3.11"
    },
    "language_info": {
      "name": "python",
      "version": "3.11.9"
    },
    "colab": {
      "provenance": []
    }
  },
  "nbformat": 4,
  "nbformat_minor": 5
}