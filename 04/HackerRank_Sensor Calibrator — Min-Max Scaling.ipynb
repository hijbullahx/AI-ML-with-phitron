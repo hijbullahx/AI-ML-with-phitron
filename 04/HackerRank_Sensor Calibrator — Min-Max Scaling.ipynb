{
 "cells": [
  {
   "cell_type": "markdown",
   "id": "25fa99e7",
   "metadata": {},
   "source": [
    "# Sensor Calibrator — Min-Max Scaling\n",
    "https://www.hackerrank.com/contests/ai-ml-module-4-practice-day-1/challenges/b3-sensor-calibrator-min-max-scaling"
   ]
  },
  {
   "cell_type": "code",
   "execution_count": 3,
   "id": "6a8eb3cf",
   "metadata": {},
   "outputs": [
    {
     "name": "stdout",
     "output_type": "stream",
     "text": [
      "0.25\n"
     ]
    }
   ],
   "source": [
    "val = list(map(float, input().split()))\n",
    "\n",
    "x = val[0]\n",
    "min_v = val[1]\n",
    "max_v = val[2]\n",
    "\n",
    "norm = (x-min_v)/(max_v-min_v)\n",
    "\n",
    "print(f\"{norm:.2f}\")"
   ]
  }
 ],
 "metadata": {
  "kernelspec": {
   "display_name": "Python 3.11 (latest)",
   "language": "python",
   "name": "python-3.11"
  },
  "language_info": {
   "codemirror_mode": {
    "name": "ipython",
    "version": 3
   },
   "file_extension": ".py",
   "mimetype": "text/x-python",
   "name": "python",
   "nbconvert_exporter": "python",
   "pygments_lexer": "ipython3",
   "version": "3.11.9"
  }
 },
 "nbformat": 4,
 "nbformat_minor": 5
}
