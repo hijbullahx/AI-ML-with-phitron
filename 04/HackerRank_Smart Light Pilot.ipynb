{
 "cells": [
  {
   "cell_type": "markdown",
   "id": "18fe10e3",
   "metadata": {},
   "source": [
    "Your lab is prototyping a Smart Light that turns on only when the room is bright enough. You are given two real numbers: the current brightness and a threshold. If brightness ≥ threshold, print ON; otherwise print OFF.\n",
    "\n",
    "Input Format\n",
    "\n",
    "One line with two real numbers:\n",
    "\n",
    "brightness threshold\n",
    "Constraints\n",
    "\n",
    "Use only input/output, arithmetic, and a single if/else\n",
    "No loops, no lists/arrays, no functions required\n",
    "Values fit within standard double precision\n",
    "Output Format\n",
    "\n",
    "Print exactly one word:\n",
    "\n",
    "ON\n",
    "if brightness ≥ threshold, else\n",
    "\n",
    "OFF\n",
    "Sample Input 0\n",
    "\n",
    "60 50\n",
    "Sample Output 0\n",
    "\n",
    "ON\n",
    "Sample Input 1\n",
    "\n",
    "40 50\n",
    "Sample Output 1\n",
    "\n",
    "OFF\n",
    "Submissions: 216\n",
    "Max Score: 1\n",
    "Difficulty: Medium\n",
    "Rate This Challenge:\n",
    "\n",
    "    \n",
    "More\n"
   ]
  },
  {
   "cell_type": "code",
   "execution_count": null,
   "id": "2698301d",
   "metadata": {},
   "outputs": [
    {
     "name": "stdout",
     "output_type": "stream",
     "text": [
      "OFF\n"
     ]
    }
   ],
   "source": [
    "light = input()\n",
    "b = light.split()\n",
    "brightness = float(b[0])\n",
    "threshold = float(b[1])\n",
    "if brightness >= threshold:\n",
    "  print(\"ON\")\n",
    "else:\n",
    "  print(\"OFF\")"
   ]
  },
  {
   "cell_type": "code",
   "execution_count": null,
   "id": "578a855c",
   "metadata": {},
   "outputs": [
    {
     "name": "stdout",
     "output_type": "stream",
     "text": [
      "OFF\n"
     ]
    }
   ],
   "source": []
  }
 ],
 "metadata": {
  "kernelspec": {
   "display_name": "Python 3.11 (latest)",
   "language": "python",
   "name": "python-3.11"
  },
  "language_info": {
   "codemirror_mode": {
    "name": "ipython",
    "version": 3
   },
   "file_extension": ".py",
   "mimetype": "text/x-python",
   "name": "python",
   "nbconvert_exporter": "python",
   "pygments_lexer": "ipython3",
   "version": "3.11.9"
  }
 },
 "nbformat": 4,
 "nbformat_minor": 5
}
