{
 "cells": [
  {
   "cell_type": "markdown",
   "id": "34eb6fc3",
   "metadata": {},
   "source": [
    "# Mini Loss Tracker\n",
    "\n",
    "https://www.hackerrank.com/contests/ai-ml-module-4-practice-day-1/challenges/b4-mini-loss-tracker-average-monitor"
   ]
  },
  {
   "cell_type": "code",
   "execution_count": 2,
   "id": "ed4fc1a8",
   "metadata": {},
   "outputs": [
    {
     "name": "stdout",
     "output_type": "stream",
     "text": [
      "RETRY\n"
     ]
    }
   ],
   "source": [
    "N = int(input())\n",
    "target = float(input())\n",
    "s= 0\n",
    "for i in range(N):\n",
    "  loss_i = float(input())\n",
    "  s = loss_i + s\n",
    "avg_loss = s/N\n",
    "if avg_loss <= target:\n",
    "  print(\"PASS\")\n",
    "else:\n",
    "  print(\"RETRY\") "
   ]
  }
 ],
 "metadata": {
  "kernelspec": {
   "display_name": "Python 3.11 (latest)",
   "language": "python",
   "name": "python-3.11"
  },
  "language_info": {
   "codemirror_mode": {
    "name": "ipython",
    "version": 3
   },
   "file_extension": ".py",
   "mimetype": "text/x-python",
   "name": "python",
   "nbconvert_exporter": "python",
   "pygments_lexer": "ipython3",
   "version": "3.11.9"
  }
 },
 "nbformat": 4,
 "nbformat_minor": 5
}
