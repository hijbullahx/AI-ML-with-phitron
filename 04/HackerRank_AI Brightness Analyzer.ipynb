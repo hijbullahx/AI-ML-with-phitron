{
 "cells": [
  {
   "cell_type": "markdown",
   "id": "56b9e941",
   "metadata": {},
   "source": [
    "# AI Brightness Analyzer\n",
    "https://www.hackerrank.com/contests/ai-ml-module-4-practice-day-1/challenges/p2-a2-ai-brightness-analyzer"
   ]
  },
  {
   "cell_type": "code",
   "execution_count": 7,
   "id": "ba2dc850",
   "metadata": {},
   "outputs": [
    {
     "name": "stdout",
     "output_type": "stream",
     "text": [
      "Bright Image\n"
     ]
    }
   ],
   "source": [
    "pix = list(map(int, input().split()))\n",
    "s = 0\n",
    "\n",
    "for p in pix:\n",
    "  s = s+p\n",
    "avg_pix = s/len(pix)\n",
    "if avg_pix < 85:\n",
    "  print(\"Dark Image\")\n",
    "elif avg_pix >= 85 and avg_pix <= 170:\n",
    "  print(\"Normal Image\")\n",
    "else:\n",
    "  print(\"Bright Image\")"
   ]
  }
 ],
 "metadata": {
  "kernelspec": {
   "display_name": "Python 3.11 (latest)",
   "language": "python",
   "name": "python-3.11"
  },
  "language_info": {
   "codemirror_mode": {
    "name": "ipython",
    "version": 3
   },
   "file_extension": ".py",
   "mimetype": "text/x-python",
   "name": "python",
   "nbconvert_exporter": "python",
   "pygments_lexer": "ipython3",
   "version": "3.11.9"
  }
 },
 "nbformat": 4,
 "nbformat_minor": 5
}
