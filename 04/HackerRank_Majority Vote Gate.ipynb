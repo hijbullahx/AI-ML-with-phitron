{
 "cells": [
  {
   "cell_type": "markdown",
   "id": "92919047",
   "metadata": {},
   "source": [
    "# Majority Vote Gate\n",
    "https://www.hackerrank.com/contests/ai-ml-module-4-practice-day-1/challenges/b5-majority-vote-gate-simple-ensemble"
   ]
  },
  {
   "cell_type": "code",
   "execution_count": null,
   "id": "66b825c2",
   "metadata": {},
   "outputs": [
    {
     "name": "stdout",
     "output_type": "stream",
     "text": [
      "REJECT\n"
     ]
    }
   ],
   "source": [
    "N = int(input())\n",
    "y_vote = 0\n",
    "n_vote = 0\n",
    "for i in range(N):\n",
    "  vote = input()\n",
    "  u_vote = vote.upper()\n",
    "  if u_vote == \"YES\":\n",
    "    y_vote+=1\n",
    "  else:\n",
    "    n_vote+=1\n",
    "\n",
    "if y_vote >= n_vote:\n",
    "  print(\"ACCEPT\")\n",
    "else:\n",
    "  print(\"REJECT\")\n",
    "\n"
   ]
  }
 ],
 "metadata": {
  "kernelspec": {
   "display_name": "Python 3.11 (latest)",
   "language": "python",
   "name": "python-3.11"
  },
  "language_info": {
   "codemirror_mode": {
    "name": "ipython",
    "version": 3
   },
   "file_extension": ".py",
   "mimetype": "text/x-python",
   "name": "python",
   "nbconvert_exporter": "python",
   "pygments_lexer": "ipython3",
   "version": "3.11.9"
  }
 },
 "nbformat": 4,
 "nbformat_minor": 5
}
