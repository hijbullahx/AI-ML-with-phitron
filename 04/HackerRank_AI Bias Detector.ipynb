{
 "cells": [
  {
   "cell_type": "markdown",
   "id": "2f5cd7aa",
   "metadata": {},
   "source": [
    "# AI Bias Detector\n",
    "https://www.hackerrank.com/contests/ai-ml-module-4-practice-day-1/challenges/p2-a3-ai-bias-detector"
   ]
  },
  {
   "cell_type": "code",
   "execution_count": 15,
   "id": "6893ca1f",
   "metadata": {},
   "outputs": [
    {
     "name": "stdout",
     "output_type": "stream",
     "text": [
      "Fair Model\n"
     ]
    }
   ],
   "source": [
    "inp = input()\n",
    "lst = inp.split()\n",
    "c_A = 0\n",
    "c_B = 0\n",
    "\n",
    "for l in lst:\n",
    "  if l == 'A':\n",
    "    c_A+=1\n",
    "  elif l == 'B':\n",
    "    c_B+=1\n",
    "par_A = (100*c_A)/len(lst)\n",
    "par_B = (100*c_B)/len(lst)\n",
    "\n",
    "if par_A > 70:\n",
    "  print(\"Biased Model\")\n",
    "elif par_B > 70:\n",
    "  print(\"Biased Model\")\n",
    "else:\n",
    "  print(\"Fair Model\")"
   ]
  }
 ],
 "metadata": {
  "kernelspec": {
   "display_name": "Python 3.11 (latest)",
   "language": "python",
   "name": "python-3.11"
  },
  "language_info": {
   "codemirror_mode": {
    "name": "ipython",
    "version": 3
   },
   "file_extension": ".py",
   "mimetype": "text/x-python",
   "name": "python",
   "nbconvert_exporter": "python",
   "pygments_lexer": "ipython3",
   "version": "3.11.9"
  }
 },
 "nbformat": 4,
 "nbformat_minor": 5
}
