{
 "cells": [
  {
   "cell_type": "markdown",
   "id": "24da44f5",
   "metadata": {},
   "source": [
    "# AI Keyword Counter\n",
    "https://www.hackerrank.com/contests/ai-ml-module-4-practice-day-1/challenges/p2-a4-ai-keyword-counter"
   ]
  },
  {
   "cell_type": "code",
   "execution_count": 16,
   "id": "59da7704",
   "metadata": {},
   "outputs": [
    {
     "name": "stdout",
     "output_type": "stream",
     "text": [
      "Not AI Related\n"
     ]
    }
   ],
   "source": [
    "inp = input()\n",
    "lst = inp.split()\n",
    "\n",
    "\n",
    "ai_lst = ['ai', 'data', 'model', 'learn', 'train', 'neural']\n",
    "\n",
    "c_ai = 0\n",
    "for l in lst:\n",
    "  if l in ai_lst:\n",
    "    c_ai+=1\n",
    "if c_ai >=2:\n",
    "  print(\"AI Detected\")\n",
    "else:\n",
    "  print(\"Not AI Related\")\n"
   ]
  }
 ],
 "metadata": {
  "kernelspec": {
   "display_name": "Python 3.11 (latest)",
   "language": "python",
   "name": "python-3.11"
  },
  "language_info": {
   "codemirror_mode": {
    "name": "ipython",
    "version": 3
   },
   "file_extension": ".py",
   "mimetype": "text/x-python",
   "name": "python",
   "nbconvert_exporter": "python",
   "pygments_lexer": "ipython3",
   "version": "3.11.9"
  }
 },
 "nbformat": 4,
 "nbformat_minor": 5
}
