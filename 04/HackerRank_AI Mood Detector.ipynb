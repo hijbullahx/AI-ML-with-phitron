{
 "cells": [
  {
   "cell_type": "markdown",
   "id": "01f22663",
   "metadata": {},
   "source": [
    "# AI Mood Detector"
   ]
  },
  {
   "cell_type": "code",
   "execution_count": 30,
   "id": "0fcfd174",
   "metadata": {},
   "outputs": [
    {
     "name": "stdout",
     "output_type": "stream",
     "text": [
      "Neutral Mood\n"
     ]
    }
   ],
   "source": [
    "message = input()\n",
    "l_msg = message.lower()\n",
    "sp_msg = l_msg.split()\n",
    "\n",
    "happy = [ 'happy', 'joy','smile']\n",
    "sad = [ 'sad', 'cry', 'angry']\n",
    "\n",
    "mood = \"Neutral Mood\"\n",
    "\n",
    "for ss in sp_msg:\n",
    "  if ss in happy:\n",
    "    mood = \"Happy Mood\"\n",
    "    break\n",
    "  elif ss in sad:\n",
    "    mood = \"Sad Mood\"\n",
    "    break\n",
    "\n",
    "print(mood)\n",
    "\n",
    "\n"
   ]
  }
 ],
 "metadata": {
  "kernelspec": {
   "display_name": "Python 3.11 (latest)",
   "language": "python",
   "name": "python-3.11"
  },
  "language_info": {
   "codemirror_mode": {
    "name": "ipython",
    "version": 3
   },
   "file_extension": ".py",
   "mimetype": "text/x-python",
   "name": "python",
   "nbconvert_exporter": "python",
   "pygments_lexer": "ipython3",
   "version": "3.11.9"
  }
 },
 "nbformat": 4,
 "nbformat_minor": 5
}
