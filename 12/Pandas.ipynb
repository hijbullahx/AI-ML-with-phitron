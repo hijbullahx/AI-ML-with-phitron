{
 "cells": [
  {
   "cell_type": "markdown",
   "id": "c03fd040",
   "metadata": {},
   "source": [
    "# 12.2 Pandas Dataframe and Series\n"
   ]
  },
  {
   "cell_type": "code",
   "execution_count": 7,
   "id": "c00cb87f",
   "metadata": {},
   "outputs": [],
   "source": [
    "import pandas as pd"
   ]
  },
  {
   "cell_type": "code",
   "execution_count": 8,
   "id": "c12517d5",
   "metadata": {},
   "outputs": [
    {
     "name": "stdout",
     "output_type": "stream",
     "text": [
      "   StudentID          FullName  Data Structure Marks  Algorithm Marks  \\\n",
      "0     PH1001       Alif Rahman                  85.0             85.0   \n",
      "1     PH1002     Fatima Akhter                  92.0             92.0   \n",
      "2     PH1003     Imran Hossain                  88.0             88.0   \n",
      "3     PH1004  Jannatul Ferdous                  78.0             78.0   \n",
      "4     PH1005       Kamal Uddin                   NaN              NaN   \n",
      "5     PH1006       Laila Begum                  75.0             75.0   \n",
      "6     PH1007    Mahmudul Hasan                  80.0             80.0   \n",
      "7     PH1008       Nadia Islam                  81.0             81.0   \n",
      "8     PH1009        Omar Faruq                  72.0             72.0   \n",
      "9     PH1010      Priya Sharma                  89.0             89.0   \n",
      "10    PH1011      Rahim Sheikh                   NaN              NaN   \n",
      "11    PH1012   Sadia Chowdhury                  85.0             85.0   \n",
      "12    PH1013      Tanvir Ahmed                  75.0             75.0   \n",
      "13    PH1014        Urmi Akter                   NaN              NaN   \n",
      "14    PH1015      Wahiduzzaman                  86.0             86.0   \n",
      "15    PH1016      Ziaur Rahman                  94.0             94.0   \n",
      "16    PH1017       Afsana Mimi                  90.0             90.0   \n",
      "17    PH1018       Babul Ahmed                  88.0             88.0   \n",
      "18    PH1019      Faria Rahman                   NaN              NaN   \n",
      "19    PH1020        Nasir Khan                  86.0             86.0   \n",
      "\n",
      "    Python Marks CompletionStatus EnrollmentDate Instructor    Location  \n",
      "0           88.0        Completed     2024-01-15  Mr. Karim       Dhaka  \n",
      "1            NaN      In Progress     2024-01-20  Ms. Salma  Chattogram  \n",
      "2           85.0        Completed     2024-02-10  Mr. Karim       Dhaka  \n",
      "3           82.0        Completed     2024-02-12  Ms. Salma      Sylhet  \n",
      "4           95.0      In Progress     2024-03-05  Mr. Karim  Chattogram  \n",
      "5           78.0        Completed     2024-03-08  Ms. Salma    Rajshahi  \n",
      "6            NaN      In Progress     2024-04-01  Mr. Karim       Dhaka  \n",
      "7           85.0        Completed     2024-04-22  Ms. Salma  Chattogram  \n",
      "8           76.0        Completed     2024-05-16  Mr. David       Dhaka  \n",
      "9           88.0        Completed     2024-05-20  Ms. Salma      Sylhet  \n",
      "10          91.0      In Progress     2024-06-11  Mr. Karim      Khulna  \n",
      "11          87.0        Completed     2024-06-14  Ms. Salma  Chattogram  \n",
      "12          79.0        Completed     2024-07-02  Mr. David       Dhaka  \n",
      "13           NaN      Not Started     2024-07-09  Ms. Salma    Rajshahi  \n",
      "14          84.0        Completed     2024-08-18  Mr. Karim       Dhaka  \n",
      "15           NaN      In Progress     2024-08-21  Ms. Salma  Chattogram  \n",
      "16          93.0        Completed     2025-09-01  Mr. Karim       Dhaka  \n",
      "17          85.0        Completed     2025-09-05  Ms. Salma      Sylhet  \n",
      "18           NaN      Not Started     2025-09-15  Mr. David  Chattogram  \n",
      "19          89.0        Completed     2025-10-02  Ms. Salma       Dhaka  \n"
     ]
    }
   ],
   "source": [
    "#File import\n",
    "df = pd.read_csv('phitron_student_marks.xlsx - Sheet1.csv')\n",
    "print(df)"
   ]
  },
  {
   "cell_type": "code",
   "execution_count": 9,
   "id": "501cde19",
   "metadata": {},
   "outputs": [
    {
     "name": "stdout",
     "output_type": "stream",
     "text": [
      "<class 'pandas.core.frame.DataFrame'>\n"
     ]
    }
   ],
   "source": [
    "print(type(df))"
   ]
  },
  {
   "cell_type": "code",
   "execution_count": 10,
   "id": "1d537a53",
   "metadata": {},
   "outputs": [
    {
     "name": "stdout",
     "output_type": "stream",
     "text": [
      "0     PH1001\n",
      "1     PH1002\n",
      "2     PH1003\n",
      "3     PH1004\n",
      "4     PH1005\n",
      "5     PH1006\n",
      "6     PH1007\n",
      "7     PH1008\n",
      "8     PH1009\n",
      "9     PH1010\n",
      "10    PH1011\n",
      "11    PH1012\n",
      "12    PH1013\n",
      "13    PH1014\n",
      "14    PH1015\n",
      "15    PH1016\n",
      "16    PH1017\n",
      "17    PH1018\n",
      "18    PH1019\n",
      "19    PH1020\n",
      "Name: StudentID, dtype: object\n"
     ]
    }
   ],
   "source": [
    "student_id = df['StudentID']\n",
    "print(student_id)"
   ]
  },
  {
   "cell_type": "markdown",
   "id": "fbe6de42",
   "metadata": {},
   "source": [
    "# 12.3 Working with Different file types in Pandas"
   ]
  },
  {
   "cell_type": "code",
   "execution_count": 11,
   "id": "024e8a62",
   "metadata": {},
   "outputs": [],
   "source": [
    "import pandas as pd"
   ]
  },
  {
   "cell_type": "code",
   "execution_count": 12,
   "id": "4d7825d9",
   "metadata": {},
   "outputs": [
    {
     "name": "stdout",
     "output_type": "stream",
     "text": [
      "   StudentID          FullName  Data Structure Marks  Algorithm Marks  \\\n",
      "0     PH1001       Alif Rahman                  85.0             85.0   \n",
      "1     PH1002     Fatima Akhter                  92.0             92.0   \n",
      "2     PH1003     Imran Hossain                  88.0             88.0   \n",
      "3     PH1004  Jannatul Ferdous                  78.0             78.0   \n",
      "4     PH1005       Kamal Uddin                   NaN              NaN   \n",
      "5     PH1006       Laila Begum                  75.0             75.0   \n",
      "6     PH1007    Mahmudul Hasan                  80.0             80.0   \n",
      "7     PH1008       Nadia Islam                  81.0             81.0   \n",
      "8     PH1009        Omar Faruq                  72.0             72.0   \n",
      "9     PH1010      Priya Sharma                  89.0             89.0   \n",
      "10    PH1011      Rahim Sheikh                   NaN              NaN   \n",
      "11    PH1012   Sadia Chowdhury                  85.0             85.0   \n",
      "12    PH1013      Tanvir Ahmed                  75.0             75.0   \n",
      "13    PH1014        Urmi Akter                   NaN              NaN   \n",
      "14    PH1015      Wahiduzzaman                  86.0             86.0   \n",
      "15    PH1016      Ziaur Rahman                  94.0             94.0   \n",
      "16    PH1017       Afsana Mimi                  90.0             90.0   \n",
      "17    PH1018       Babul Ahmed                  88.0             88.0   \n",
      "18    PH1019      Faria Rahman                   NaN              NaN   \n",
      "19    PH1020        Nasir Khan                  86.0             86.0   \n",
      "\n",
      "    Python Marks CompletionStatus EnrollmentDate Instructor    Location  \n",
      "0           88.0        Completed     2024-01-15  Mr. Karim       Dhaka  \n",
      "1            NaN      In Progress     2024-01-20  Ms. Salma  Chattogram  \n",
      "2           85.0        Completed     2024-02-10  Mr. Karim       Dhaka  \n",
      "3           82.0        Completed     2024-02-12  Ms. Salma      Sylhet  \n",
      "4           95.0      In Progress     2024-03-05  Mr. Karim  Chattogram  \n",
      "5           78.0        Completed     2024-03-08  Ms. Salma    Rajshahi  \n",
      "6            NaN      In Progress     2024-04-01  Mr. Karim       Dhaka  \n",
      "7           85.0        Completed     2024-04-22  Ms. Salma  Chattogram  \n",
      "8           76.0        Completed     2024-05-16  Mr. David       Dhaka  \n",
      "9           88.0        Completed     2024-05-20  Ms. Salma      Sylhet  \n",
      "10          91.0      In Progress     2024-06-11  Mr. Karim      Khulna  \n",
      "11          87.0        Completed     2024-06-14  Ms. Salma  Chattogram  \n",
      "12          79.0        Completed     2024-07-02  Mr. David       Dhaka  \n",
      "13           NaN      Not Started     2024-07-09  Ms. Salma    Rajshahi  \n",
      "14          84.0        Completed     2024-08-18  Mr. Karim       Dhaka  \n",
      "15           NaN      In Progress     2024-08-21  Ms. Salma  Chattogram  \n",
      "16          93.0        Completed     2025-09-01  Mr. Karim       Dhaka  \n",
      "17          85.0        Completed     2025-09-05  Ms. Salma      Sylhet  \n",
      "18           NaN      Not Started     2025-09-15  Mr. David  Chattogram  \n",
      "19          89.0        Completed     2025-10-02  Ms. Salma       Dhaka  \n",
      "<class 'pandas.core.frame.DataFrame'>\n"
     ]
    }
   ],
   "source": [
    "#Different file loading in pandas\n",
    "\n",
    "#CSV file\n",
    "csv_data = pd.read_csv('phitron_student_marks.xlsx - Sheet1.csv')\n",
    "print(csv_data)\n",
    "print(type(csv_data))\n"
   ]
  },
  {
   "cell_type": "code",
   "execution_count": 24,
   "id": "4e934290",
   "metadata": {},
   "outputs": [
    {
     "name": "stdout",
     "output_type": "stream",
     "text": [
      "   StudentID          FullName  Data Structure Marks  Algorithm Marks  \\\n",
      "0     PH1001       Alif Rahman                  85.0             85.0   \n",
      "1     PH1002     Fatima Akhter                  92.0             92.0   \n",
      "2     PH1003     Imran Hossain                  88.0             88.0   \n",
      "3     PH1004  Jannatul Ferdous                  78.0             78.0   \n",
      "4     PH1005       Kamal Uddin                   NaN              NaN   \n",
      "5     PH1006       Laila Begum                  75.0             75.0   \n",
      "6     PH1007    Mahmudul Hasan                  80.0             80.0   \n",
      "7     PH1008       Nadia Islam                  81.0             81.0   \n",
      "8     PH1009        Omar Faruq                  72.0             72.0   \n",
      "9     PH1010      Priya Sharma                  89.0             89.0   \n",
      "10    PH1011      Rahim Sheikh                   NaN              NaN   \n",
      "11    PH1012   Sadia Chowdhury                  85.0             85.0   \n",
      "12    PH1013      Tanvir Ahmed                  75.0             75.0   \n",
      "13    PH1014        Urmi Akter                   NaN              NaN   \n",
      "14    PH1015      Wahiduzzaman                  86.0             86.0   \n",
      "15    PH1016      Ziaur Rahman                  94.0             94.0   \n",
      "16    PH1017       Afsana Mimi                  90.0             90.0   \n",
      "17    PH1018       Babul Ahmed                  88.0             88.0   \n",
      "18    PH1019      Faria Rahman                   NaN              NaN   \n",
      "19    PH1020        Nasir Khan                  86.0             86.0   \n",
      "\n",
      "    Python Marks CompletionStatus EnrollmentDate Instructor    Location  \n",
      "0           88.0        Completed     2024-01-15  Mr. Karim       Dhaka  \n",
      "1            NaN      In Progress     2024-01-20  Ms. Salma  Chattogram  \n",
      "2           85.0        Completed     2024-02-10  Mr. Karim       Dhaka  \n",
      "3           82.0        Completed     2024-02-12  Ms. Salma      Sylhet  \n",
      "4           95.0      In Progress     2024-03-05  Mr. Karim  Chattogram  \n",
      "5           78.0        Completed     2024-03-08  Ms. Salma    Rajshahi  \n",
      "6            NaN      In Progress     2024-04-01  Mr. Karim       Dhaka  \n",
      "7           85.0        Completed     2024-04-22  Ms. Salma  Chattogram  \n",
      "8           76.0        Completed     2024-05-16  Mr. David       Dhaka  \n",
      "9           88.0        Completed     2024-05-20  Ms. Salma      Sylhet  \n",
      "10          91.0      In Progress     2024-06-11  Mr. Karim      Khulna  \n",
      "11          87.0        Completed     2024-06-14  Ms. Salma  Chattogram  \n",
      "12          79.0        Completed     2024-07-02  Mr. David       Dhaka  \n",
      "13           NaN      Not Started     2024-07-09  Ms. Salma    Rajshahi  \n",
      "14          84.0        Completed     2024-08-18  Mr. Karim       Dhaka  \n",
      "15           NaN      In Progress     2024-08-21  Ms. Salma  Chattogram  \n",
      "16          93.0        Completed     2025-09-01  Mr. Karim       Dhaka  \n",
      "17          85.0        Completed     2025-09-05  Ms. Salma      Sylhet  \n",
      "18           NaN      Not Started     2025-09-15  Mr. David  Chattogram  \n",
      "19          89.0        Completed     2025-10-02  Ms. Salma       Dhaka  \n"
     ]
    }
   ],
   "source": [
    "#Excel file\n",
    "excel_file = pd.read_excel('phitron_student_marks.xlsx')\n",
    "print(excel_file)"
   ]
  },
  {
   "cell_type": "code",
   "execution_count": 27,
   "id": "71ca8cb5",
   "metadata": {},
   "outputs": [
    {
     "name": "stdout",
     "output_type": "stream",
     "text": [
      "Collecting fastparquet\n",
      "  Downloading fastparquet-2024.11.0-cp311-cp311-win_amd64.whl.metadata (4.3 kB)\n",
      "Requirement already satisfied: pandas>=1.5.0 in c:\\users\\user\\appdata\\local\\programs\\python\\python311\\lib\\site-packages (from fastparquet) (2.3.3)\n",
      "Requirement already satisfied: numpy in c:\\users\\user\\appdata\\local\\programs\\python\\python311\\lib\\site-packages (from fastparquet) (2.3.4)\n",
      "Collecting cramjam>=2.3 (from fastparquet)\n",
      "  Downloading cramjam-2.11.0-cp311-cp311-win_amd64.whl.metadata (681 bytes)\n",
      "Collecting fsspec (from fastparquet)\n",
      "  Downloading fsspec-2025.9.0-py3-none-any.whl.metadata (10 kB)\n",
      "Requirement already satisfied: packaging in c:\\users\\user\\appdata\\roaming\\python\\python311\\site-packages (from fastparquet) (25.0)\n",
      "Requirement already satisfied: python-dateutil>=2.8.2 in c:\\users\\user\\appdata\\roaming\\python\\python311\\site-packages (from pandas>=1.5.0->fastparquet) (2.9.0.post0)\n",
      "Requirement already satisfied: pytz>=2020.1 in c:\\users\\user\\appdata\\local\\programs\\python\\python311\\lib\\site-packages (from pandas>=1.5.0->fastparquet) (2025.2)\n",
      "Requirement already satisfied: tzdata>=2022.7 in c:\\users\\user\\appdata\\local\\programs\\python\\python311\\lib\\site-packages (from pandas>=1.5.0->fastparquet) (2025.2)\n",
      "Requirement already satisfied: six>=1.5 in c:\\users\\user\\appdata\\roaming\\python\\python311\\site-packages (from python-dateutil>=2.8.2->pandas>=1.5.0->fastparquet) (1.17.0)\n",
      "Downloading fastparquet-2024.11.0-cp311-cp311-win_amd64.whl (671 kB)\n",
      "   ---------------------------------------- 0.0/671.0 kB ? eta -:--:--\n",
      "   ---- ----------------------------------- 81.9/671.0 kB 1.5 MB/s eta 0:00:01\n",
      "   -------------------------------- ------- 542.7/671.0 kB 5.7 MB/s eta 0:00:01\n",
      "   ---------------------------------------- 671.0/671.0 kB 6.1 MB/s eta 0:00:00\n",
      "Downloading cramjam-2.11.0-cp311-cp311-win_amd64.whl (1.7 MB)\n",
      "   ---------------------------------------- 0.0/1.7 MB ? eta -:--:--\n",
      "   ---------- ----------------------------- 0.5/1.7 MB 14.5 MB/s eta 0:00:01\n",
      "   ---------------------- ----------------- 1.0/1.7 MB 12.3 MB/s eta 0:00:01\n",
      "   ---------------------------------- ----- 1.5/1.7 MB 11.9 MB/s eta 0:00:01\n",
      "   ---------------------------------------- 1.7/1.7 MB 10.9 MB/s eta 0:00:00\n",
      "Downloading fsspec-2025.9.0-py3-none-any.whl (199 kB)\n",
      "   ---------------------------------------- 0.0/199.3 kB ? eta -:--:--\n",
      "   ---------------------------------------- 199.3/199.3 kB 4.1 MB/s eta 0:00:00\n",
      "Installing collected packages: fsspec, cramjam, fastparquet\n",
      "Successfully installed cramjam-2.11.0 fastparquet-2024.11.0 fsspec-2025.9.0\n",
      "Note: you may need to restart the kernel to use updated packages.\n"
     ]
    },
    {
     "name": "stderr",
     "output_type": "stream",
     "text": [
      "\n",
      "[notice] A new release of pip is available: 24.0 -> 25.3\n",
      "[notice] To update, run: python.exe -m pip install --upgrade pip\n"
     ]
    }
   ],
   "source": [
    "%pip install fastparquet"
   ]
  },
  {
   "cell_type": "code",
   "execution_count": 32,
   "id": "2fc517bb",
   "metadata": {},
   "outputs": [
    {
     "name": "stdout",
     "output_type": "stream",
     "text": [
      "   StudentID          FullName  Data Structure Marks  Algorithm Marks  \\\n",
      "0     PH1001       Alif Rahman                  85.0             85.0   \n",
      "1     PH1002     Fatima Akhter                  92.0             92.0   \n",
      "2     PH1003     Imran Hossain                  88.0             88.0   \n",
      "3     PH1004  Jannatul Ferdous                  78.0             78.0   \n",
      "4     PH1005       Kamal Uddin                   NaN              NaN   \n",
      "5     PH1006       Laila Begum                  75.0             75.0   \n",
      "6     PH1007    Mahmudul Hasan                  80.0             80.0   \n",
      "7     PH1008       Nadia Islam                  81.0             81.0   \n",
      "8     PH1009        Omar Faruq                  72.0             72.0   \n",
      "9     PH1010      Priya Sharma                  89.0             89.0   \n",
      "10    PH1011      Rahim Sheikh                   NaN              NaN   \n",
      "11    PH1012   Sadia Chowdhury                  85.0             85.0   \n",
      "12    PH1013      Tanvir Ahmed                  75.0             75.0   \n",
      "13    PH1014        Urmi Akter                   NaN              NaN   \n",
      "14    PH1015      Wahiduzzaman                  86.0             86.0   \n",
      "15    PH1016      Ziaur Rahman                  94.0             94.0   \n",
      "16    PH1017       Afsana Mimi                  90.0             90.0   \n",
      "17    PH1018       Babul Ahmed                  88.0             88.0   \n",
      "18    PH1019      Faria Rahman                   NaN              NaN   \n",
      "19    PH1020        Nasir Khan                  86.0             86.0   \n",
      "\n",
      "    Python Marks CompletionStatus EnrollmentDate Instructor    Location  \n",
      "0           88.0        Completed     2024-01-15  Mr. Karim       Dhaka  \n",
      "1            NaN      In Progress     2024-01-20  Ms. Salma  Chattogram  \n",
      "2           85.0        Completed     2024-02-10  Mr. Karim       Dhaka  \n",
      "3           82.0        Completed     2024-02-12  Ms. Salma      Sylhet  \n",
      "4           95.0      In Progress     2024-03-05  Mr. Karim  Chattogram  \n",
      "5           78.0        Completed     2024-03-08  Ms. Salma    Rajshahi  \n",
      "6            NaN      In Progress     2024-04-01  Mr. Karim       Dhaka  \n",
      "7           85.0        Completed     2024-04-22  Ms. Salma  Chattogram  \n",
      "8           76.0        Completed     2024-05-16  Mr. David       Dhaka  \n",
      "9           88.0        Completed     2024-05-20  Ms. Salma      Sylhet  \n",
      "10          91.0      In Progress     2024-06-11  Mr. Karim      Khulna  \n",
      "11          87.0        Completed     2024-06-14  Ms. Salma  Chattogram  \n",
      "12          79.0        Completed     2024-07-02  Mr. David       Dhaka  \n",
      "13           NaN      Not Started     2024-07-09  Ms. Salma    Rajshahi  \n",
      "14          84.0        Completed     2024-08-18  Mr. Karim       Dhaka  \n",
      "15           NaN      In Progress     2024-08-21  Ms. Salma  Chattogram  \n",
      "16          93.0        Completed     2025-09-01  Mr. Karim       Dhaka  \n",
      "17          85.0        Completed     2025-09-05  Ms. Salma      Sylhet  \n",
      "18           NaN      Not Started     2025-09-15  Mr. David  Chattogram  \n",
      "19          89.0        Completed     2025-10-02  Ms. Salma       Dhaka  \n",
      "<class 'pandas.core.frame.DataFrame'>\n"
     ]
    }
   ],
   "source": [
    "#parquet file\n",
    "parquet_file = pd.read_parquet('students.parquet')\n",
    "print(parquet_file)\n",
    "print(type(parquet_file))"
   ]
  },
  {
   "cell_type": "code",
   "execution_count": 34,
   "id": "4ca6a84e",
   "metadata": {},
   "outputs": [
    {
     "name": "stdout",
     "output_type": "stream",
     "text": [
      "  StudentID          FullName  Data Structure Marks  Algorithm Marks  \\\n",
      "0    PH1001       Alif Rahman                    85               85   \n",
      "1    PH1002     Fatima Akhter                    92               92   \n",
      "2    PH1004  Jannatul Ferdous                    78               78   \n",
      "\n",
      "   Python Marks  \n",
      "0            88  \n",
      "1            90  \n",
      "2            82  \n",
      "<class 'pandas.core.frame.DataFrame'>\n"
     ]
    }
   ],
   "source": [
    "#Json File\n",
    "json_file = pd.read_json('data.json')\n",
    "print(json_file)\n",
    "print(type(json_file))"
   ]
  },
  {
   "cell_type": "markdown",
   "id": "ad8c3c24",
   "metadata": {},
   "source": []
  }
 ],
 "metadata": {
  "kernelspec": {
   "display_name": "Python 3.11 (latest)",
   "language": "python",
   "name": "python-3.11"
  },
  "language_info": {
   "codemirror_mode": {
    "name": "ipython",
    "version": 3
   },
   "file_extension": ".py",
   "mimetype": "text/x-python",
   "name": "python",
   "nbconvert_exporter": "python",
   "pygments_lexer": "ipython3",
   "version": "3.11.9"
  }
 },
 "nbformat": 4,
 "nbformat_minor": 5
}
